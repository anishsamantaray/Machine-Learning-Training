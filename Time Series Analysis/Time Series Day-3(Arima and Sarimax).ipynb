{
 "cells": [
  {
   "cell_type": "code",
   "execution_count": 1,
   "id": "f78d3c60",
   "metadata": {},
   "outputs": [],
   "source": [
    "import numpy as np\n",
    "import matplotlib.pyplot as plt\n",
    "import statsmodels.api as sms\n",
    "import pandas as pd\n",
    "\n",
    "%matplotlib inline"
   ]
  },
  {
   "cell_type": "code",
   "execution_count": 2,
   "id": "3a8caad6",
   "metadata": {},
   "outputs": [
    {
     "data": {
      "text/html": [
       "<div>\n",
       "<style scoped>\n",
       "    .dataframe tbody tr th:only-of-type {\n",
       "        vertical-align: middle;\n",
       "    }\n",
       "\n",
       "    .dataframe tbody tr th {\n",
       "        vertical-align: top;\n",
       "    }\n",
       "\n",
       "    .dataframe thead th {\n",
       "        text-align: right;\n",
       "    }\n",
       "</style>\n",
       "<table border=\"1\" class=\"dataframe\">\n",
       "  <thead>\n",
       "    <tr style=\"text-align: right;\">\n",
       "      <th></th>\n",
       "      <th>Month</th>\n",
       "      <th>Thousands of Passengers</th>\n",
       "    </tr>\n",
       "  </thead>\n",
       "  <tbody>\n",
       "    <tr>\n",
       "      <th>0</th>\n",
       "      <td>1949-01</td>\n",
       "      <td>112.0</td>\n",
       "    </tr>\n",
       "    <tr>\n",
       "      <th>1</th>\n",
       "      <td>1949-02</td>\n",
       "      <td>118.0</td>\n",
       "    </tr>\n",
       "    <tr>\n",
       "      <th>2</th>\n",
       "      <td>1949-03</td>\n",
       "      <td>132.0</td>\n",
       "    </tr>\n",
       "    <tr>\n",
       "      <th>3</th>\n",
       "      <td>1949-04</td>\n",
       "      <td>129.0</td>\n",
       "    </tr>\n",
       "    <tr>\n",
       "      <th>4</th>\n",
       "      <td>1949-05</td>\n",
       "      <td>121.0</td>\n",
       "    </tr>\n",
       "  </tbody>\n",
       "</table>\n",
       "</div>"
      ],
      "text/plain": [
       "     Month  Thousands of Passengers\n",
       "0  1949-01                    112.0\n",
       "1  1949-02                    118.0\n",
       "2  1949-03                    132.0\n",
       "3  1949-04                    129.0\n",
       "4  1949-05                    121.0"
      ]
     },
     "execution_count": 2,
     "metadata": {},
     "output_type": "execute_result"
    }
   ],
   "source": [
    "df_airline=pd.read_csv(\"C:/Users/lenovo/Downloads/Live-Time-Series-main/Live-Time-Series-main/airline_passengers.csv\")\n",
    "df_airline.head()"
   ]
  },
  {
   "cell_type": "code",
   "execution_count": 3,
   "id": "90a8d200",
   "metadata": {},
   "outputs": [
    {
     "data": {
      "text/plain": [
       "Month                      0\n",
       "Thousands of Passengers    1\n",
       "dtype: int64"
      ]
     },
     "execution_count": 3,
     "metadata": {},
     "output_type": "execute_result"
    }
   ],
   "source": [
    "df_airline.isnull().sum()"
   ]
  },
  {
   "cell_type": "code",
   "execution_count": 4,
   "id": "e62272be",
   "metadata": {},
   "outputs": [],
   "source": [
    "df_airline.dropna(axis=0,inplace=True)"
   ]
  },
  {
   "cell_type": "code",
   "execution_count": 5,
   "id": "382be5ef",
   "metadata": {},
   "outputs": [
    {
     "data": {
      "text/plain": [
       "Month                      0\n",
       "Thousands of Passengers    0\n",
       "dtype: int64"
      ]
     },
     "execution_count": 5,
     "metadata": {},
     "output_type": "execute_result"
    }
   ],
   "source": [
    "df_airline.isnull().sum()"
   ]
  },
  {
   "cell_type": "code",
   "execution_count": 6,
   "id": "9dccb5c5",
   "metadata": {},
   "outputs": [
    {
     "name": "stdout",
     "output_type": "stream",
     "text": [
      "<class 'pandas.core.frame.DataFrame'>\n",
      "Int64Index: 144 entries, 0 to 143\n",
      "Data columns (total 2 columns):\n",
      " #   Column                   Non-Null Count  Dtype  \n",
      "---  ------                   --------------  -----  \n",
      " 0   Month                    144 non-null    object \n",
      " 1   Thousands of Passengers  144 non-null    float64\n",
      "dtypes: float64(1), object(1)\n",
      "memory usage: 3.4+ KB\n"
     ]
    }
   ],
   "source": [
    "df_airline.info()"
   ]
  },
  {
   "cell_type": "code",
   "execution_count": 7,
   "id": "aad2f273",
   "metadata": {},
   "outputs": [],
   "source": [
    "df_airline['Month']=pd.to_datetime(df_airline['Month'])"
   ]
  },
  {
   "cell_type": "code",
   "execution_count": 8,
   "id": "efdc2638",
   "metadata": {},
   "outputs": [
    {
     "name": "stdout",
     "output_type": "stream",
     "text": [
      "<class 'pandas.core.frame.DataFrame'>\n",
      "Int64Index: 144 entries, 0 to 143\n",
      "Data columns (total 2 columns):\n",
      " #   Column                   Non-Null Count  Dtype         \n",
      "---  ------                   --------------  -----         \n",
      " 0   Month                    144 non-null    datetime64[ns]\n",
      " 1   Thousands of Passengers  144 non-null    float64       \n",
      "dtypes: datetime64[ns](1), float64(1)\n",
      "memory usage: 3.4 KB\n"
     ]
    }
   ],
   "source": [
    "df_airline.info()"
   ]
  },
  {
   "cell_type": "code",
   "execution_count": 9,
   "id": "ef3566f0",
   "metadata": {},
   "outputs": [],
   "source": [
    "df_airline.set_index('Month',inplace=True)"
   ]
  },
  {
   "cell_type": "code",
   "execution_count": 10,
   "id": "6095388d",
   "metadata": {},
   "outputs": [
    {
     "data": {
      "text/html": [
       "<div>\n",
       "<style scoped>\n",
       "    .dataframe tbody tr th:only-of-type {\n",
       "        vertical-align: middle;\n",
       "    }\n",
       "\n",
       "    .dataframe tbody tr th {\n",
       "        vertical-align: top;\n",
       "    }\n",
       "\n",
       "    .dataframe thead th {\n",
       "        text-align: right;\n",
       "    }\n",
       "</style>\n",
       "<table border=\"1\" class=\"dataframe\">\n",
       "  <thead>\n",
       "    <tr style=\"text-align: right;\">\n",
       "      <th></th>\n",
       "      <th>Thousands of Passengers</th>\n",
       "    </tr>\n",
       "    <tr>\n",
       "      <th>Month</th>\n",
       "      <th></th>\n",
       "    </tr>\n",
       "  </thead>\n",
       "  <tbody>\n",
       "    <tr>\n",
       "      <th>1949-01-01</th>\n",
       "      <td>112.0</td>\n",
       "    </tr>\n",
       "    <tr>\n",
       "      <th>1949-02-01</th>\n",
       "      <td>118.0</td>\n",
       "    </tr>\n",
       "    <tr>\n",
       "      <th>1949-03-01</th>\n",
       "      <td>132.0</td>\n",
       "    </tr>\n",
       "    <tr>\n",
       "      <th>1949-04-01</th>\n",
       "      <td>129.0</td>\n",
       "    </tr>\n",
       "    <tr>\n",
       "      <th>1949-05-01</th>\n",
       "      <td>121.0</td>\n",
       "    </tr>\n",
       "  </tbody>\n",
       "</table>\n",
       "</div>"
      ],
      "text/plain": [
       "            Thousands of Passengers\n",
       "Month                              \n",
       "1949-01-01                    112.0\n",
       "1949-02-01                    118.0\n",
       "1949-03-01                    132.0\n",
       "1949-04-01                    129.0\n",
       "1949-05-01                    121.0"
      ]
     },
     "execution_count": 10,
     "metadata": {},
     "output_type": "execute_result"
    }
   ],
   "source": [
    "df_airline.head()"
   ]
  },
  {
   "cell_type": "code",
   "execution_count": 11,
   "id": "f1a5e81f",
   "metadata": {},
   "outputs": [
    {
     "data": {
      "text/plain": [
       "<AxesSubplot:xlabel='Month'>"
      ]
     },
     "execution_count": 11,
     "metadata": {},
     "output_type": "execute_result"
    },
    {
     "data": {
      "image/png": "[encoded data removed]",
      "text/plain": [
       "<Figure size 640x480 with 1 Axes>"
      ]
     },
     "metadata": {},
     "output_type": "display_data"
    }
   ],
   "source": [
    "df_airline.plot()"
   ]
  },
  {
   "cell_type": "code",
   "execution_count": 12,
   "id": "306da409",
   "metadata": {},
   "outputs": [],
   "source": [
    "## Inference: seasonal upward trend"
   ]
  },
  {
   "cell_type": "code",
   "execution_count": 13,
   "id": "ef75171b",
   "metadata": {},
   "outputs": [],
   "source": [
    "from statsmodels.tsa.stattools import adfuller"
   ]
  },
  {
   "cell_type": "code",
   "execution_count": 16,
   "id": "9a891e52",
   "metadata": {},
   "outputs": [],
   "source": [
    "def adf_test(series):\n",
    "    result=adfuller(series)\n",
    "    print('ADF Statistics: {}'.format(result[0]))\n",
    "    print('p- value: {}'.format(result[1]))\n",
    "    if result[1] <= 0.05:\n",
    "        print(\"strong evidence against the null hypothesis, reject the null hypothesis. Data has no unit root and is stationary\")\n",
    "    else:\n",
    "        print(\"weak evidence against null hypothesis, time series has a unit root\")"
   ]
  },
  {
   "cell_type": "code",
   "execution_count": 23,
   "id": "594113b8",
   "metadata": {},
   "outputs": [
    {
     "name": "stdout",
     "output_type": "stream",
     "text": [
      "ADF Statistics: 0.8153688792060587\n",
      "p- value: 0.9918802434376411\n",
      "weak evidence against null hypothesis, time series has a unit root\n"
     ]
    }
   ],
   "source": [
    "adf_test(df_airline['Thousands of Passengers'])"
   ]
  },
  {
   "cell_type": "code",
   "execution_count": 24,
   "id": "7b9de898",
   "metadata": {},
   "outputs": [],
   "source": [
    "## Use Techniques Differencing\n",
    "df_airline['Passengers First Difference']=df_airline['Thousands of Passengers']-df_airline['Thousands of Passengers'].shift(1)\n"
   ]
  },
  {
   "cell_type": "code",
   "execution_count": 25,
   "id": "f0e87aa9",
   "metadata": {},
   "outputs": [
    {
     "name": "stdout",
     "output_type": "stream",
     "text": [
      "ADF Statistics: -2.8292668241699848\n",
      "p- value: 0.054213290283827514\n",
      "weak evidence against null hypothesis, time series has a unit root\n"
     ]
    }
   ],
   "source": [
    "adf_test(df_airline['Passengers First Difference'].dropna())"
   ]
  },
  {
   "cell_type": "code",
   "execution_count": 26,
   "id": "20b20460",
   "metadata": {},
   "outputs": [],
   "source": [
    "## Use Techniques Differencing\n",
    "df_airline['Passengers Second Difference']=df_airline['Passengers First Difference']-df_airline['Passengers First Difference'].shift(1)"
   ]
  },
  {
   "cell_type": "code",
   "execution_count": 27,
   "id": "b7dc70f6",
   "metadata": {},
   "outputs": [
    {
     "name": "stdout",
     "output_type": "stream",
     "text": [
      "ADF Statistics: -16.38423154246848\n",
      "p- value: 2.732891850014359e-29\n",
      "strong evidence against the null hypothesis, reject the null hypothesis. Data has no unit root and is stationary\n"
     ]
    }
   ],
   "source": [
    "adf_test(df_airline['Passengers Second Difference'].dropna())"
   ]
  },
  {
   "cell_type": "code",
   "execution_count": 28,
   "id": "ea88a388",
   "metadata": {},
   "outputs": [],
   "source": [
    "### 12 months \n",
    "## Use Techniques Differencing\n",
    "df_airline['Passengers 12 Difference']=df_airline['Thousands of Passengers']-df_airline['Thousands of Passengers'].shift(12)"
   ]
  },
  {
   "cell_type": "code",
   "execution_count": 29,
   "id": "7df6fd4d",
   "metadata": {},
   "outputs": [
    {
     "name": "stdout",
     "output_type": "stream",
     "text": [
      "ADF Statistics: -3.383020726492481\n",
      "p- value: 0.011551493085514952\n",
      "strong evidence against the null hypothesis, reject the null hypothesis. Data has no unit root and is stationary\n"
     ]
    }
   ],
   "source": [
    "adf_test(df_airline['Passengers 12 Difference'].dropna())"
   ]
  },
  {
   "cell_type": "code",
   "execution_count": 30,
   "id": "07833cfb",
   "metadata": {},
   "outputs": [],
   "source": [
    "from statsmodels.graphics.tsaplots import plot_acf,plot_pacf"
   ]
  },
  {
   "cell_type": "code",
   "execution_count": 31,
   "id": "fc332047",
   "metadata": {},
   "outputs": [
    {
     "data": {
      "image/png": "[encoded data removed]",
      "text/plain": [
       "<Figure size 640x480 with 1 Axes>"
      ]
     },
     "metadata": {},
     "output_type": "display_data"
    }
   ],
   "source": [
    "acf = plot_acf(df_airline[\"Passengers Second Difference\"].dropna())"
   ]
  },
  {
   "cell_type": "code",
   "execution_count": 32,
   "id": "1ee37587",
   "metadata": {},
   "outputs": [
    {
     "name": "stderr",
     "output_type": "stream",
     "text": [
      "C:\\Users\\lenovo\\anaconda3\\lib\\site-packages\\statsmodels\\graphics\\tsaplots.py:348: FutureWarning: The default method 'yw' can produce PACF values outside of the [-1,1] interval. After 0.13, the default will change tounadjusted Yule-Walker ('ywm'). You can use this method now by setting method='ywm'.\n",
      "  warnings.warn(\n"
     ]
    },
    {
     "data": {
      "image/png": "[encoded data removed]",
      "text/plain": [
       "<Figure size 640x480 with 1 Axes>"
      ]
     },
     "metadata": {},
     "output_type": "display_data"
    },
    {
     "data": {
      "image/png": "[encoded data removed]",
      "text/plain": [
       "<Figure size 640x480 with 1 Axes>"
      ]
     },
     "metadata": {},
     "output_type": "display_data"
    }
   ],
   "source": [
    "acf12 = plot_acf(df_airline[\"Passengers 12 Difference\"].dropna())#qvalue\n",
    "pacf12 = plot_pacf(df_airline[\"Passengers 12 Difference\"].dropna())#pvalue"
   ]
  },
  {
   "cell_type": "code",
   "execution_count": 33,
   "id": "1f481abd",
   "metadata": {},
   "outputs": [
    {
     "data": {
      "image/png": "[encoded data removed]",
      "text/plain": [
       "<Figure size 640x480 with 1 Axes>"
      ]
     },
     "metadata": {},
     "output_type": "display_data"
    }
   ],
   "source": [
    "result = plot_pacf(df_airline[\"Passengers Second Difference\"].dropna())"
   ]
  },
  {
   "cell_type": "code",
   "execution_count": 34,
   "id": "ac6e70fa",
   "metadata": {},
   "outputs": [
    {
     "data": {
      "image/png": "[encoded data removed]",
      "text/plain": [
       "<Figure size 640x480 with 1 Axes>"
      ]
     },
     "metadata": {},
     "output_type": "display_data"
    }
   ],
   "source": [
    "pacf12 = plot_pacf(df_airline[\"Passengers 12 Difference\"].dropna())"
   ]
  },
  {
   "cell_type": "code",
   "execution_count": 35,
   "id": "83aa824b",
   "metadata": {},
   "outputs": [
    {
     "data": {
      "text/html": [
       "<div>\n",
       "<style scoped>\n",
       "    .dataframe tbody tr th:only-of-type {\n",
       "        vertical-align: middle;\n",
       "    }\n",
       "\n",
       "    .dataframe tbody tr th {\n",
       "        vertical-align: top;\n",
       "    }\n",
       "\n",
       "    .dataframe thead th {\n",
       "        text-align: right;\n",
       "    }\n",
       "</style>\n",
       "<table border=\"1\" class=\"dataframe\">\n",
       "  <thead>\n",
       "    <tr style=\"text-align: right;\">\n",
       "      <th></th>\n",
       "      <th>Thousands of Passengers</th>\n",
       "      <th>Passengers First Difference</th>\n",
       "      <th>Passengers Second Difference</th>\n",
       "      <th>Passengers 12 Difference</th>\n",
       "    </tr>\n",
       "    <tr>\n",
       "      <th>Month</th>\n",
       "      <th></th>\n",
       "      <th></th>\n",
       "      <th></th>\n",
       "      <th></th>\n",
       "    </tr>\n",
       "  </thead>\n",
       "  <tbody>\n",
       "    <tr>\n",
       "      <th>1949-01-01</th>\n",
       "      <td>112.0</td>\n",
       "      <td>NaN</td>\n",
       "      <td>NaN</td>\n",
       "      <td>NaN</td>\n",
       "    </tr>\n",
       "    <tr>\n",
       "      <th>1949-02-01</th>\n",
       "      <td>118.0</td>\n",
       "      <td>6.0</td>\n",
       "      <td>NaN</td>\n",
       "      <td>NaN</td>\n",
       "    </tr>\n",
       "    <tr>\n",
       "      <th>1949-03-01</th>\n",
       "      <td>132.0</td>\n",
       "      <td>14.0</td>\n",
       "      <td>8.0</td>\n",
       "      <td>NaN</td>\n",
       "    </tr>\n",
       "    <tr>\n",
       "      <th>1949-04-01</th>\n",
       "      <td>129.0</td>\n",
       "      <td>-3.0</td>\n",
       "      <td>-17.0</td>\n",
       "      <td>NaN</td>\n",
       "    </tr>\n",
       "    <tr>\n",
       "      <th>1949-05-01</th>\n",
       "      <td>121.0</td>\n",
       "      <td>-8.0</td>\n",
       "      <td>-5.0</td>\n",
       "      <td>NaN</td>\n",
       "    </tr>\n",
       "    <tr>\n",
       "      <th>...</th>\n",
       "      <td>...</td>\n",
       "      <td>...</td>\n",
       "      <td>...</td>\n",
       "      <td>...</td>\n",
       "    </tr>\n",
       "    <tr>\n",
       "      <th>1960-08-01</th>\n",
       "      <td>606.0</td>\n",
       "      <td>-16.0</td>\n",
       "      <td>-103.0</td>\n",
       "      <td>47.0</td>\n",
       "    </tr>\n",
       "    <tr>\n",
       "      <th>1960-09-01</th>\n",
       "      <td>508.0</td>\n",
       "      <td>-98.0</td>\n",
       "      <td>-82.0</td>\n",
       "      <td>45.0</td>\n",
       "    </tr>\n",
       "    <tr>\n",
       "      <th>1960-10-01</th>\n",
       "      <td>461.0</td>\n",
       "      <td>-47.0</td>\n",
       "      <td>51.0</td>\n",
       "      <td>54.0</td>\n",
       "    </tr>\n",
       "    <tr>\n",
       "      <th>1960-11-01</th>\n",
       "      <td>390.0</td>\n",
       "      <td>-71.0</td>\n",
       "      <td>-24.0</td>\n",
       "      <td>28.0</td>\n",
       "    </tr>\n",
       "    <tr>\n",
       "      <th>1960-12-01</th>\n",
       "      <td>432.0</td>\n",
       "      <td>42.0</td>\n",
       "      <td>113.0</td>\n",
       "      <td>27.0</td>\n",
       "    </tr>\n",
       "  </tbody>\n",
       "</table>\n",
       "<p>144 rows × 4 columns</p>\n",
       "</div>"
      ],
      "text/plain": [
       "            Thousands of Passengers  Passengers First Difference  \\\n",
       "Month                                                              \n",
       "1949-01-01                    112.0                          NaN   \n",
       "1949-02-01                    118.0                          6.0   \n",
       "1949-03-01                    132.0                         14.0   \n",
       "1949-04-01                    129.0                         -3.0   \n",
       "1949-05-01                    121.0                         -8.0   \n",
       "...                             ...                          ...   \n",
       "1960-08-01                    606.0                        -16.0   \n",
       "1960-09-01                    508.0                        -98.0   \n",
       "1960-10-01                    461.0                        -47.0   \n",
       "1960-11-01                    390.0                        -71.0   \n",
       "1960-12-01                    432.0                         42.0   \n",
       "\n",
       "            Passengers Second Difference  Passengers 12 Difference  \n",
       "Month                                                               \n",
       "1949-01-01                           NaN                       NaN  \n",
       "1949-02-01                           NaN                       NaN  \n",
       "1949-03-01                           8.0                       NaN  \n",
       "1949-04-01                         -17.0                       NaN  \n",
       "1949-05-01                          -5.0                       NaN  \n",
       "...                                  ...                       ...  \n",
       "1960-08-01                        -103.0                      47.0  \n",
       "1960-09-01                         -82.0                      45.0  \n",
       "1960-10-01                          51.0                      54.0  \n",
       "1960-11-01                         -24.0                      28.0  \n",
       "1960-12-01                         113.0                      27.0  \n",
       "\n",
       "[144 rows x 4 columns]"
      ]
     },
     "execution_count": 35,
     "metadata": {},
     "output_type": "execute_result"
    }
   ],
   "source": [
    "### split train and test data\n",
    "df_airline"
   ]
  },
  {
   "cell_type": "code",
   "execution_count": 54,
   "id": "cea42582",
   "metadata": {},
   "outputs": [],
   "source": [
    "from datetime import datetime,timedelta\n",
    "train_dataset_end=datetime(1955,12,1)\n",
    "test_dataset_end=datetime(1960,12,1)"
   ]
  },
  {
   "cell_type": "code",
   "execution_count": 55,
   "id": "56746e59",
   "metadata": {},
   "outputs": [],
   "source": [
    "train_data=df_airline[:train_dataset_end]\n",
    "test_data=df_airline[train_dataset_end+timedelta(days=1):test_dataset_end]"
   ]
  },
  {
   "cell_type": "code",
   "execution_count": 56,
   "id": "379dfd30",
   "metadata": {},
   "outputs": [],
   "source": [
    "##prediction\n",
    "pred_start_date=test_data.index[0]\n",
    "pred_end_date=test_data.index[-1]"
   ]
  },
  {
   "cell_type": "code",
   "execution_count": 57,
   "id": "7e8cb247",
   "metadata": {},
   "outputs": [],
   "source": [
    "## create a ARIMA model\n",
    "from statsmodels.tsa.arima_model import ARIMA"
   ]
  },
  {
   "cell_type": "code",
   "execution_count": 58,
   "id": "3800085a",
   "metadata": {},
   "outputs": [
    {
     "data": {
      "text/html": [
       "<div>\n",
       "<style scoped>\n",
       "    .dataframe tbody tr th:only-of-type {\n",
       "        vertical-align: middle;\n",
       "    }\n",
       "\n",
       "    .dataframe tbody tr th {\n",
       "        vertical-align: top;\n",
       "    }\n",
       "\n",
       "    .dataframe thead th {\n",
       "        text-align: right;\n",
       "    }\n",
       "</style>\n",
       "<table border=\"1\" class=\"dataframe\">\n",
       "  <thead>\n",
       "    <tr style=\"text-align: right;\">\n",
       "      <th></th>\n",
       "      <th>Thousands of Passengers</th>\n",
       "      <th>Passengers First Difference</th>\n",
       "      <th>Passengers Second Difference</th>\n",
       "      <th>Passengers 12 Difference</th>\n",
       "    </tr>\n",
       "    <tr>\n",
       "      <th>Month</th>\n",
       "      <th></th>\n",
       "      <th></th>\n",
       "      <th></th>\n",
       "      <th></th>\n",
       "    </tr>\n",
       "  </thead>\n",
       "  <tbody>\n",
       "    <tr>\n",
       "      <th>1949-01-01</th>\n",
       "      <td>112.0</td>\n",
       "      <td>NaN</td>\n",
       "      <td>NaN</td>\n",
       "      <td>NaN</td>\n",
       "    </tr>\n",
       "    <tr>\n",
       "      <th>1949-02-01</th>\n",
       "      <td>118.0</td>\n",
       "      <td>6.0</td>\n",
       "      <td>NaN</td>\n",
       "      <td>NaN</td>\n",
       "    </tr>\n",
       "    <tr>\n",
       "      <th>1949-03-01</th>\n",
       "      <td>132.0</td>\n",
       "      <td>14.0</td>\n",
       "      <td>8.0</td>\n",
       "      <td>NaN</td>\n",
       "    </tr>\n",
       "    <tr>\n",
       "      <th>1949-04-01</th>\n",
       "      <td>129.0</td>\n",
       "      <td>-3.0</td>\n",
       "      <td>-17.0</td>\n",
       "      <td>NaN</td>\n",
       "    </tr>\n",
       "    <tr>\n",
       "      <th>1949-05-01</th>\n",
       "      <td>121.0</td>\n",
       "      <td>-8.0</td>\n",
       "      <td>-5.0</td>\n",
       "      <td>NaN</td>\n",
       "    </tr>\n",
       "    <tr>\n",
       "      <th>...</th>\n",
       "      <td>...</td>\n",
       "      <td>...</td>\n",
       "      <td>...</td>\n",
       "      <td>...</td>\n",
       "    </tr>\n",
       "    <tr>\n",
       "      <th>1955-08-01</th>\n",
       "      <td>347.0</td>\n",
       "      <td>-17.0</td>\n",
       "      <td>-66.0</td>\n",
       "      <td>54.0</td>\n",
       "    </tr>\n",
       "    <tr>\n",
       "      <th>1955-09-01</th>\n",
       "      <td>312.0</td>\n",
       "      <td>-35.0</td>\n",
       "      <td>-18.0</td>\n",
       "      <td>53.0</td>\n",
       "    </tr>\n",
       "    <tr>\n",
       "      <th>1955-10-01</th>\n",
       "      <td>274.0</td>\n",
       "      <td>-38.0</td>\n",
       "      <td>-3.0</td>\n",
       "      <td>45.0</td>\n",
       "    </tr>\n",
       "    <tr>\n",
       "      <th>1955-11-01</th>\n",
       "      <td>237.0</td>\n",
       "      <td>-37.0</td>\n",
       "      <td>1.0</td>\n",
       "      <td>34.0</td>\n",
       "    </tr>\n",
       "    <tr>\n",
       "      <th>1955-12-01</th>\n",
       "      <td>278.0</td>\n",
       "      <td>41.0</td>\n",
       "      <td>78.0</td>\n",
       "      <td>49.0</td>\n",
       "    </tr>\n",
       "  </tbody>\n",
       "</table>\n",
       "<p>84 rows × 4 columns</p>\n",
       "</div>"
      ],
      "text/plain": [
       "            Thousands of Passengers  Passengers First Difference  \\\n",
       "Month                                                              \n",
       "1949-01-01                    112.0                          NaN   \n",
       "1949-02-01                    118.0                          6.0   \n",
       "1949-03-01                    132.0                         14.0   \n",
       "1949-04-01                    129.0                         -3.0   \n",
       "1949-05-01                    121.0                         -8.0   \n",
       "...                             ...                          ...   \n",
       "1955-08-01                    347.0                        -17.0   \n",
       "1955-09-01                    312.0                        -35.0   \n",
       "1955-10-01                    274.0                        -38.0   \n",
       "1955-11-01                    237.0                        -37.0   \n",
       "1955-12-01                    278.0                         41.0   \n",
       "\n",
       "            Passengers Second Difference  Passengers 12 Difference  \n",
       "Month                                                               \n",
       "1949-01-01                           NaN                       NaN  \n",
       "1949-02-01                           NaN                       NaN  \n",
       "1949-03-01                           8.0                       NaN  \n",
       "1949-04-01                         -17.0                       NaN  \n",
       "1949-05-01                          -5.0                       NaN  \n",
       "...                                  ...                       ...  \n",
       "1955-08-01                         -66.0                      54.0  \n",
       "1955-09-01                         -18.0                      53.0  \n",
       "1955-10-01                          -3.0                      45.0  \n",
       "1955-11-01                           1.0                      34.0  \n",
       "1955-12-01                          78.0                      49.0  \n",
       "\n",
       "[84 rows x 4 columns]"
      ]
     },
     "execution_count": 58,
     "metadata": {},
     "output_type": "execute_result"
    }
   ],
   "source": [
    "train_data"
   ]
  },
  {
   "cell_type": "code",
   "execution_count": 69,
   "id": "953199df",
   "metadata": {},
   "outputs": [
    {
     "name": "stderr",
     "output_type": "stream",
     "text": [
      "C:\\Users\\lenovo\\anaconda3\\lib\\site-packages\\statsmodels\\tsa\\base\\tsa_model.py:471: ValueWarning: No frequency information was provided, so inferred frequency MS will be used.\n",
      "  self._init_dates(dates, freq)\n",
      "C:\\Users\\lenovo\\anaconda3\\lib\\site-packages\\statsmodels\\tsa\\base\\tsa_model.py:471: ValueWarning: No frequency information was provided, so inferred frequency MS will be used.\n",
      "  self._init_dates(dates, freq)\n",
      "C:\\Users\\lenovo\\anaconda3\\lib\\site-packages\\statsmodels\\tsa\\base\\tsa_model.py:471: ValueWarning: No frequency information was provided, so inferred frequency MS will be used.\n",
      "  self._init_dates(dates, freq)\n"
     ]
    }
   ],
   "source": [
    "from statsmodels.tsa.arima.model import ARIMA\n",
    "model_ARIMA=ARIMA(train_data['Thousands of Passengers'],order=(14,2,12))"
   ]
  },
  {
   "cell_type": "code",
   "execution_count": 71,
   "id": "ad4e06da",
   "metadata": {},
   "outputs": [
    {
     "name": "stderr",
     "output_type": "stream",
     "text": [
      "C:\\Users\\lenovo\\anaconda3\\lib\\site-packages\\statsmodels\\tsa\\statespace\\sarimax.py:966: UserWarning: Non-stationary starting autoregressive parameters found. Using zeros as starting parameters.\n",
      "  warn('Non-stationary starting autoregressive parameters'\n",
      "C:\\Users\\lenovo\\anaconda3\\lib\\site-packages\\statsmodels\\tsa\\statespace\\sarimax.py:978: UserWarning: Non-invertible starting MA parameters found. Using zeros as starting parameters.\n",
      "  warn('Non-invertible starting MA parameters found.'\n",
      "C:\\Users\\lenovo\\anaconda3\\lib\\site-packages\\statsmodels\\base\\model.py:604: ConvergenceWarning: Maximum Likelihood optimization failed to converge. Check mle_retvals\n",
      "  warnings.warn(\"Maximum Likelihood optimization failed to \"\n"
     ]
    }
   ],
   "source": [
    "model_Arima_fit=model_ARIMA.fit()"
   ]
  },
  {
   "cell_type": "code",
   "execution_count": 72,
   "id": "4a8489f3",
   "metadata": {},
   "outputs": [
    {
     "data": {
      "text/html": [
       "<table class=\"simpletable\">\n",
       "<caption>SARIMAX Results</caption>\n",
       "<tr>\n",
       "  <th>Dep. Variable:</th>   <td>Thousands of Passengers</td> <th>  No. Observations:  </th>    <td>84</td>   \n",
       "</tr>\n",
       "<tr>\n",
       "  <th>Model:</th>              <td>ARIMA(14, 2, 12)</td>     <th>  Log Likelihood     </th> <td>-306.049</td>\n",
       "</tr>\n",
       "<tr>\n",
       "  <th>Date:</th>               <td>Mon, 16 Jan 2023</td>     <th>  AIC                </th>  <td>666.097</td>\n",
       "</tr>\n",
       "<tr>\n",
       "  <th>Time:</th>                   <td>21:25:18</td>         <th>  BIC                </th>  <td>731.079</td>\n",
       "</tr>\n",
       "<tr>\n",
       "  <th>Sample:</th>                <td>01-01-1949</td>        <th>  HQIC               </th>  <td>692.186</td>\n",
       "</tr>\n",
       "<tr>\n",
       "  <th></th>                      <td>- 12-01-1955</td>       <th>                     </th>     <td> </td>   \n",
       "</tr>\n",
       "<tr>\n",
       "  <th>Covariance Type:</th>           <td>opg</td>           <th>                     </th>     <td> </td>   \n",
       "</tr>\n",
       "</table>\n",
       "<table class=\"simpletable\">\n",
       "<tr>\n",
       "     <td></td>       <th>coef</th>     <th>std err</th>      <th>z</th>      <th>P>|z|</th>  <th>[0.025</th>    <th>0.975]</th>  \n",
       "</tr>\n",
       "<tr>\n",
       "  <th>ar.L1</th>  <td>   -0.7417</td> <td>    5.580</td> <td>   -0.133</td> <td> 0.894</td> <td>  -11.679</td> <td>   10.196</td>\n",
       "</tr>\n",
       "<tr>\n",
       "  <th>ar.L2</th>  <td>   -0.2026</td> <td>    9.035</td> <td>   -0.022</td> <td> 0.982</td> <td>  -17.911</td> <td>   17.506</td>\n",
       "</tr>\n",
       "<tr>\n",
       "  <th>ar.L3</th>  <td>   -0.2549</td> <td>    9.058</td> <td>   -0.028</td> <td> 0.978</td> <td>  -18.008</td> <td>   17.498</td>\n",
       "</tr>\n",
       "<tr>\n",
       "  <th>ar.L4</th>  <td>   -0.2469</td> <td>    8.970</td> <td>   -0.028</td> <td> 0.978</td> <td>  -17.827</td> <td>   17.334</td>\n",
       "</tr>\n",
       "<tr>\n",
       "  <th>ar.L5</th>  <td>   -0.2915</td> <td>    8.844</td> <td>   -0.033</td> <td> 0.974</td> <td>  -17.626</td> <td>   17.043</td>\n",
       "</tr>\n",
       "<tr>\n",
       "  <th>ar.L6</th>  <td>   -0.1971</td> <td>    8.952</td> <td>   -0.022</td> <td> 0.982</td> <td>  -17.743</td> <td>   17.349</td>\n",
       "</tr>\n",
       "<tr>\n",
       "  <th>ar.L7</th>  <td>   -0.2634</td> <td>    8.540</td> <td>   -0.031</td> <td> 0.975</td> <td>  -17.001</td> <td>   16.474</td>\n",
       "</tr>\n",
       "<tr>\n",
       "  <th>ar.L8</th>  <td>   -0.3338</td> <td>    8.546</td> <td>   -0.039</td> <td> 0.969</td> <td>  -17.083</td> <td>   16.416</td>\n",
       "</tr>\n",
       "<tr>\n",
       "  <th>ar.L9</th>  <td>   -0.2617</td> <td>    8.967</td> <td>   -0.029</td> <td> 0.977</td> <td>  -17.837</td> <td>   17.313</td>\n",
       "</tr>\n",
       "<tr>\n",
       "  <th>ar.L10</th> <td>   -0.2968</td> <td>    8.931</td> <td>   -0.033</td> <td> 0.973</td> <td>  -17.802</td> <td>   17.209</td>\n",
       "</tr>\n",
       "<tr>\n",
       "  <th>ar.L11</th> <td>   -0.1215</td> <td>    9.069</td> <td>   -0.013</td> <td> 0.989</td> <td>  -17.896</td> <td>   17.653</td>\n",
       "</tr>\n",
       "<tr>\n",
       "  <th>ar.L12</th> <td>    0.5781</td> <td>    8.256</td> <td>    0.070</td> <td> 0.944</td> <td>  -15.603</td> <td>   16.759</td>\n",
       "</tr>\n",
       "<tr>\n",
       "  <th>ar.L13</th> <td>    0.5039</td> <td>    3.773</td> <td>    0.134</td> <td> 0.894</td> <td>   -6.891</td> <td>    7.899</td>\n",
       "</tr>\n",
       "<tr>\n",
       "  <th>ar.L14</th> <td>   -0.0673</td> <td>    0.489</td> <td>   -0.138</td> <td> 0.890</td> <td>   -1.025</td> <td>    0.891</td>\n",
       "</tr>\n",
       "<tr>\n",
       "  <th>ma.L1</th>  <td>   -0.4302</td> <td>    5.609</td> <td>   -0.077</td> <td> 0.939</td> <td>  -11.424</td> <td>   10.564</td>\n",
       "</tr>\n",
       "<tr>\n",
       "  <th>ma.L2</th>  <td>   -0.5972</td> <td>    2.734</td> <td>   -0.218</td> <td> 0.827</td> <td>   -5.955</td> <td>    4.761</td>\n",
       "</tr>\n",
       "<tr>\n",
       "  <th>ma.L3</th>  <td>   -0.0807</td> <td>    1.328</td> <td>   -0.061</td> <td> 0.952</td> <td>   -2.684</td> <td>    2.523</td>\n",
       "</tr>\n",
       "<tr>\n",
       "  <th>ma.L4</th>  <td>    0.1334</td> <td>    1.991</td> <td>    0.067</td> <td> 0.947</td> <td>   -3.769</td> <td>    4.036</td>\n",
       "</tr>\n",
       "<tr>\n",
       "  <th>ma.L5</th>  <td>    0.2006</td> <td>    1.060</td> <td>    0.189</td> <td> 0.850</td> <td>   -1.878</td> <td>    2.279</td>\n",
       "</tr>\n",
       "<tr>\n",
       "  <th>ma.L6</th>  <td>   -0.2718</td> <td>    0.558</td> <td>   -0.487</td> <td> 0.626</td> <td>   -1.366</td> <td>    0.822</td>\n",
       "</tr>\n",
       "<tr>\n",
       "  <th>ma.L7</th>  <td>    0.2251</td> <td>    1.145</td> <td>    0.197</td> <td> 0.844</td> <td>   -2.018</td> <td>    2.468</td>\n",
       "</tr>\n",
       "<tr>\n",
       "  <th>ma.L8</th>  <td>   -0.2830</td> <td>    0.539</td> <td>   -0.525</td> <td> 0.599</td> <td>   -1.339</td> <td>    0.773</td>\n",
       "</tr>\n",
       "<tr>\n",
       "  <th>ma.L9</th>  <td>    0.2499</td> <td>    1.407</td> <td>    0.178</td> <td> 0.859</td> <td>   -2.508</td> <td>    3.008</td>\n",
       "</tr>\n",
       "<tr>\n",
       "  <th>ma.L10</th> <td>   -0.1054</td> <td>    0.709</td> <td>   -0.149</td> <td> 0.882</td> <td>   -1.496</td> <td>    1.285</td>\n",
       "</tr>\n",
       "<tr>\n",
       "  <th>ma.L11</th> <td>   -0.3110</td> <td>    0.749</td> <td>   -0.416</td> <td> 0.678</td> <td>   -1.778</td> <td>    1.156</td>\n",
       "</tr>\n",
       "<tr>\n",
       "  <th>ma.L12</th> <td>    0.2992</td> <td>    1.863</td> <td>    0.161</td> <td> 0.872</td> <td>   -3.352</td> <td>    3.951</td>\n",
       "</tr>\n",
       "<tr>\n",
       "  <th>sigma2</th> <td>   73.4677</td> <td>   28.063</td> <td>    2.618</td> <td> 0.009</td> <td>   18.465</td> <td>  128.470</td>\n",
       "</tr>\n",
       "</table>\n",
       "<table class=\"simpletable\">\n",
       "<tr>\n",
       "  <th>Ljung-Box (L1) (Q):</th>     <td>0.06</td> <th>  Jarque-Bera (JB):  </th> <td>3.46</td>\n",
       "</tr>\n",
       "<tr>\n",
       "  <th>Prob(Q):</th>                <td>0.80</td> <th>  Prob(JB):          </th> <td>0.18</td>\n",
       "</tr>\n",
       "<tr>\n",
       "  <th>Heteroskedasticity (H):</th> <td>2.14</td> <th>  Skew:              </th> <td>0.50</td>\n",
       "</tr>\n",
       "<tr>\n",
       "  <th>Prob(H) (two-sided):</th>    <td>0.05</td> <th>  Kurtosis:          </th> <td>2.96</td>\n",
       "</tr>\n",
       "</table><br/><br/>Warnings:<br/>[1] Covariance matrix calculated using the outer product of gradients (complex-step)."
      ],
      "text/plain": [
       "<class 'statsmodels.iolib.summary.Summary'>\n",
       "\"\"\"\n",
       "                                  SARIMAX Results                                  \n",
       "===================================================================================\n",
       "Dep. Variable:     Thousands of Passengers   No. Observations:                   84\n",
       "Model:                    ARIMA(14, 2, 12)   Log Likelihood                -306.049\n",
       "Date:                     Mon, 16 Jan 2023   AIC                            666.097\n",
       "Time:                             21:25:18   BIC                            731.079\n",
       "Sample:                         01-01-1949   HQIC                           692.186\n",
       "                              - 12-01-1955                                         \n",
       "Covariance Type:                       opg                                         \n",
       "==============================================================================\n",
       "                 coef    std err          z      P>|z|      [0.025      0.975]\n",
       "------------------------------------------------------------------------------\n",
       "ar.L1         -0.7417      5.580     -0.133      0.894     -11.679      10.196\n",
       "ar.L2         -0.2026      9.035     -0.022      0.982     -17.911      17.506\n",
       "ar.L3         -0.2549      9.058     -0.028      0.978     -18.008      17.498\n",
       "ar.L4         -0.2469      8.970     -0.028      0.978     -17.827      17.334\n",
       "ar.L5         -0.2915      8.844     -0.033      0.974     -17.626      17.043\n",
       "ar.L6         -0.1971      8.952     -0.022      0.982     -17.743      17.349\n",
       "ar.L7         -0.2634      8.540     -0.031      0.975     -17.001      16.474\n",
       "ar.L8         -0.3338      8.546     -0.039      0.969     -17.083      16.416\n",
       "ar.L9         -0.2617      8.967     -0.029      0.977     -17.837      17.313\n",
       "ar.L10        -0.2968      8.931     -0.033      0.973     -17.802      17.209\n",
       "ar.L11        -0.1215      9.069     -0.013      0.989     -17.896      17.653\n",
       "ar.L12         0.5781      8.256      0.070      0.944     -15.603      16.759\n",
       "ar.L13         0.5039      3.773      0.134      0.894      -6.891       7.899\n",
       "ar.L14        -0.0673      0.489     -0.138      0.890      -1.025       0.891\n",
       "ma.L1         -0.4302      5.609     -0.077      0.939     -11.424      10.564\n",
       "ma.L2         -0.5972      2.734     -0.218      0.827      -5.955       4.761\n",
       "ma.L3         -0.0807      1.328     -0.061      0.952      -2.684       2.523\n",
       "ma.L4          0.1334      1.991      0.067      0.947      -3.769       4.036\n",
       "ma.L5          0.2006      1.060      0.189      0.850      -1.878       2.279\n",
       "ma.L6         -0.2718      0.558     -0.487      0.626      -1.366       0.822\n",
       "ma.L7          0.2251      1.145      0.197      0.844      -2.018       2.468\n",
       "ma.L8         -0.2830      0.539     -0.525      0.599      -1.339       0.773\n",
       "ma.L9          0.2499      1.407      0.178      0.859      -2.508       3.008\n",
       "ma.L10        -0.1054      0.709     -0.149      0.882      -1.496       1.285\n",
       "ma.L11        -0.3110      0.749     -0.416      0.678      -1.778       1.156\n",
       "ma.L12         0.2992      1.863      0.161      0.872      -3.352       3.951\n",
       "sigma2        73.4677     28.063      2.618      0.009      18.465     128.470\n",
       "===================================================================================\n",
       "Ljung-Box (L1) (Q):                   0.06   Jarque-Bera (JB):                 3.46\n",
       "Prob(Q):                              0.80   Prob(JB):                         0.18\n",
       "Heteroskedasticity (H):               2.14   Skew:                             0.50\n",
       "Prob(H) (two-sided):                  0.05   Kurtosis:                         2.96\n",
       "===================================================================================\n",
       "\n",
       "Warnings:\n",
       "[1] Covariance matrix calculated using the outer product of gradients (complex-step).\n",
       "\"\"\""
      ]
     },
     "execution_count": 72,
     "metadata": {},
     "output_type": "execute_result"
    }
   ],
   "source": [
    "model_Arima_fit.summary()"
   ]
  },
  {
   "cell_type": "code",
   "execution_count": 73,
   "id": "019f5c99",
   "metadata": {},
   "outputs": [
    {
     "name": "stdout",
     "output_type": "stream",
     "text": [
      "1956-01-01 00:00:00\n",
      "1960-12-01 00:00:00\n"
     ]
    }
   ],
   "source": [
    "pred_start_date=test_data.index[0]\n",
    "pred_end_date=test_data.index[-1]\n",
    "print(pred_start_date)\n",
    "print(pred_end_date)"
   ]
  },
  {
   "cell_type": "code",
   "execution_count": 74,
   "id": "915f30ce",
   "metadata": {},
   "outputs": [],
   "source": [
    "pred=model_Arima_fit.predict(start=pred_start_date,end=pred_end_date)\n",
    "residuals=test_data['Thousands of Passengers']-pred"
   ]
  },
  {
   "cell_type": "code",
   "execution_count": 75,
   "id": "9f0d1d3d",
   "metadata": {},
   "outputs": [
    {
     "data": {
      "text/plain": [
       "1956-01-01    283.902188\n",
       "1956-02-01    280.434904\n",
       "1956-03-01    291.166860\n",
       "1956-04-01    303.329699\n",
       "1956-05-01    301.676917\n",
       "1956-06-01    344.713009\n",
       "1956-07-01    394.056487\n",
       "1956-08-01    369.479375\n",
       "1956-09-01    343.818185\n",
       "1956-10-01    304.883511\n",
       "1956-11-01    272.433170\n",
       "1956-12-01    303.272140\n",
       "1957-01-01    318.154425\n",
       "1957-02-01    305.091351\n",
       "1957-03-01    317.782487\n",
       "1957-04-01    326.541230\n",
       "1957-05-01    332.011744\n",
       "1957-06-01    376.188201\n",
       "1957-07-01    419.295372\n",
       "1957-08-01    398.050836\n",
       "1957-09-01    369.280808\n",
       "1957-10-01    335.483581\n",
       "1957-11-01    306.902315\n",
       "1957-12-01    332.380218\n",
       "1958-01-01    348.731663\n",
       "1958-02-01    333.492086\n",
       "1958-03-01    341.924035\n",
       "1958-04-01    352.890725\n",
       "1958-05-01    361.374912\n",
       "1958-06-01    407.445731\n",
       "1958-07-01    445.155240\n",
       "1958-08-01    425.837780\n",
       "1958-09-01    395.715855\n",
       "1958-10-01    365.889510\n",
       "1958-11-01    340.991990\n",
       "1958-12-01    362.558300\n",
       "1959-01-01    378.221381\n",
       "1959-02-01    362.085410\n",
       "1959-03-01    366.496294\n",
       "1959-04-01    379.384939\n",
       "1959-05-01    391.485668\n",
       "1959-06-01    437.309423\n",
       "1959-07-01    471.929362\n",
       "1959-08-01    452.681323\n",
       "1959-09-01    423.002576\n",
       "1959-10-01    395.985462\n",
       "1959-11-01    374.990635\n",
       "1959-12-01    393.048130\n",
       "1960-01-01    407.326383\n",
       "1960-02-01    390.363224\n",
       "1960-03-01    391.733739\n",
       "1960-04-01    406.020489\n",
       "1960-05-01    421.877533\n",
       "1960-06-01    466.529828\n",
       "1960-07-01    498.758221\n",
       "1960-08-01    479.395072\n",
       "1960-09-01    450.446804\n",
       "1960-10-01    426.288738\n",
       "1960-11-01    408.588762\n",
       "1960-12-01    423.896030\n",
       "Freq: MS, Name: predicted_mean, dtype: float64"
      ]
     },
     "execution_count": 75,
     "metadata": {},
     "output_type": "execute_result"
    }
   ],
   "source": [
    "pred"
   ]
  },
  {
   "cell_type": "code",
   "execution_count": 76,
   "id": "2df54b5a",
   "metadata": {},
   "outputs": [
    {
     "data": {
      "text/plain": [
       "Month\n",
       "1956-01-01      0.097812\n",
       "1956-02-01     -3.434904\n",
       "1956-03-01     25.833140\n",
       "1956-04-01      9.670301\n",
       "1956-05-01     16.323083\n",
       "1956-06-01     29.286991\n",
       "1956-07-01     18.943513\n",
       "1956-08-01     35.520625\n",
       "1956-09-01     11.181815\n",
       "1956-10-01      1.116489\n",
       "1956-11-01     -1.433170\n",
       "1956-12-01      2.727860\n",
       "1957-01-01     -3.154425\n",
       "1957-02-01     -4.091351\n",
       "1957-03-01     38.217513\n",
       "1957-04-01     21.458770\n",
       "1957-05-01     22.988256\n",
       "1957-06-01     45.811799\n",
       "1957-07-01     45.704628\n",
       "1957-08-01     68.949164\n",
       "1957-09-01     34.719192\n",
       "1957-10-01     11.516419\n",
       "1957-11-01     -1.902315\n",
       "1957-12-01      3.619782\n",
       "1958-01-01     -8.731663\n",
       "1958-02-01    -15.492086\n",
       "1958-03-01     20.075965\n",
       "1958-04-01     -4.890725\n",
       "1958-05-01      1.625088\n",
       "1958-06-01     27.554269\n",
       "1958-07-01     45.844760\n",
       "1958-08-01     79.162220\n",
       "1958-09-01      8.284145\n",
       "1958-10-01     -6.889510\n",
       "1958-11-01    -30.991990\n",
       "1958-12-01    -25.558300\n",
       "1959-01-01    -18.221381\n",
       "1959-02-01    -20.085410\n",
       "1959-03-01     39.503706\n",
       "1959-04-01     16.615061\n",
       "1959-05-01     28.514332\n",
       "1959-06-01     34.690577\n",
       "1959-07-01     76.070638\n",
       "1959-08-01    106.318677\n",
       "1959-09-01     39.997424\n",
       "1959-10-01     11.014538\n",
       "1959-11-01    -12.990635\n",
       "1959-12-01     11.951870\n",
       "1960-01-01      9.673617\n",
       "1960-02-01      0.636776\n",
       "1960-03-01     27.266261\n",
       "1960-04-01     54.979511\n",
       "1960-05-01     50.122467\n",
       "1960-06-01     68.470172\n",
       "1960-07-01    123.241779\n",
       "1960-08-01    126.604928\n",
       "1960-09-01     57.553196\n",
       "1960-10-01     34.711262\n",
       "1960-11-01    -18.588762\n",
       "1960-12-01      8.103970\n",
       "dtype: float64"
      ]
     },
     "execution_count": 76,
     "metadata": {},
     "output_type": "execute_result"
    }
   ],
   "source": [
    "\n",
    "residuals"
   ]
  },
  {
   "cell_type": "code",
   "execution_count": 77,
   "id": "53f72e9c",
   "metadata": {},
   "outputs": [
    {
     "data": {
      "text/plain": [
       "<AxesSubplot:ylabel='Density'>"
      ]
     },
     "execution_count": 77,
     "metadata": {},
     "output_type": "execute_result"
    },
    {
     "data": {
      "image/png": "[encoded data removed]",
      "text/plain": [
       "<Figure size 640x480 with 1 Axes>"
      ]
     },
     "metadata": {},
     "output_type": "display_data"
    }
   ],
   "source": [
    "model_Arima_fit.resid.plot(kind='kde')"
   ]
  },
  {
   "cell_type": "code",
   "execution_count": 78,
   "id": "73de7b00",
   "metadata": {},
   "outputs": [
    {
     "name": "stderr",
     "output_type": "stream",
     "text": [
      "C:\\Users\\lenovo\\AppData\\Local\\Temp\\ipykernel_17756\\95659616.py:1: SettingWithCopyWarning: \n",
      "A value is trying to be set on a copy of a slice from a DataFrame.\n",
      "Try using .loc[row_indexer,col_indexer] = value instead\n",
      "\n",
      "See the caveats in the documentation: https://pandas.pydata.org/pandas-docs/stable/user_guide/indexing.html#returning-a-view-versus-a-copy\n",
      "  test_data['Predicted_ARIMA']=pred\n"
     ]
    }
   ],
   "source": [
    "test_data['Predicted_ARIMA']=pred"
   ]
  },
  {
   "cell_type": "code",
   "execution_count": 79,
   "id": "285b0c8b",
   "metadata": {},
   "outputs": [
    {
     "data": {
      "text/plain": [
       "<AxesSubplot:xlabel='Month'>"
      ]
     },
     "execution_count": 79,
     "metadata": {},
     "output_type": "execute_result"
    },
    {
     "data": {
      "image/png": "[encoded data removed]",
      "text/plain": [
       "<Figure size 640x480 with 1 Axes>"
      ]
     },
     "metadata": {},
     "output_type": "display_data"
    }
   ],
   "source": [
    "test_data[['Thousands of Passengers','Predicted_ARIMA']].plot()"
   ]
  },
  {
   "cell_type": "code",
   "execution_count": 80,
   "id": "0ea52f85",
   "metadata": {},
   "outputs": [],
   "source": [
    "## create a SARIMA model\n",
    "from statsmodels.tsa.statespace.sarimax import SARIMAX"
   ]
  },
  {
   "cell_type": "code",
   "execution_count": 85,
   "id": "126f25ac",
   "metadata": {},
   "outputs": [
    {
     "name": "stderr",
     "output_type": "stream",
     "text": [
      "C:\\Users\\lenovo\\anaconda3\\lib\\site-packages\\statsmodels\\tsa\\base\\tsa_model.py:471: ValueWarning: No frequency information was provided, so inferred frequency MS will be used.\n",
      "  self._init_dates(dates, freq)\n",
      "C:\\Users\\lenovo\\anaconda3\\lib\\site-packages\\statsmodels\\tsa\\base\\tsa_model.py:471: ValueWarning: No frequency information was provided, so inferred frequency MS will be used.\n",
      "  self._init_dates(dates, freq)\n"
     ]
    }
   ],
   "source": [
    "model_SARIMA=SARIMAX(train_data['Thousands of Passengers'],order=(3,0,5),seasonal_order=(0,1,0,12))"
   ]
  },
  {
   "cell_type": "code",
   "execution_count": 86,
   "id": "d7271bd8",
   "metadata": {},
   "outputs": [
    {
     "name": "stderr",
     "output_type": "stream",
     "text": [
      "C:\\Users\\lenovo\\anaconda3\\lib\\site-packages\\statsmodels\\base\\model.py:604: ConvergenceWarning: Maximum Likelihood optimization failed to converge. Check mle_retvals\n",
      "  warnings.warn(\"Maximum Likelihood optimization failed to \"\n"
     ]
    }
   ],
   "source": [
    "model_SARIMA_fit=model_SARIMA.fit()"
   ]
  },
  {
   "cell_type": "code",
   "execution_count": 87,
   "id": "80b1301b",
   "metadata": {},
   "outputs": [
    {
     "data": {
      "text/html": [
       "<table class=\"simpletable\">\n",
       "<caption>SARIMAX Results</caption>\n",
       "<tr>\n",
       "  <th>Dep. Variable:</th>       <td>Thousands of Passengers</td>     <th>  No. Observations:  </th>    <td>84</td>   \n",
       "</tr>\n",
       "<tr>\n",
       "  <th>Model:</th>           <td>SARIMAX(3, 0, 5)x(0, 1, [], 12)</td> <th>  Log Likelihood     </th> <td>-265.239</td>\n",
       "</tr>\n",
       "<tr>\n",
       "  <th>Date:</th>                   <td>Mon, 16 Jan 2023</td>         <th>  AIC                </th>  <td>548.479</td>\n",
       "</tr>\n",
       "<tr>\n",
       "  <th>Time:</th>                       <td>21:42:02</td>             <th>  BIC                </th>  <td>568.969</td>\n",
       "</tr>\n",
       "<tr>\n",
       "  <th>Sample:</th>                    <td>01-01-1949</td>            <th>  HQIC               </th>  <td>556.636</td>\n",
       "</tr>\n",
       "<tr>\n",
       "  <th></th>                          <td>- 12-01-1955</td>           <th>                     </th>     <td> </td>   \n",
       "</tr>\n",
       "<tr>\n",
       "  <th>Covariance Type:</th>               <td>opg</td>               <th>                     </th>     <td> </td>   \n",
       "</tr>\n",
       "</table>\n",
       "<table class=\"simpletable\">\n",
       "<tr>\n",
       "     <td></td>       <th>coef</th>     <th>std err</th>      <th>z</th>      <th>P>|z|</th>  <th>[0.025</th>    <th>0.975]</th>  \n",
       "</tr>\n",
       "<tr>\n",
       "  <th>ar.L1</th>  <td>    0.5915</td> <td>    0.948</td> <td>    0.624</td> <td> 0.532</td> <td>   -1.266</td> <td>    2.449</td>\n",
       "</tr>\n",
       "<tr>\n",
       "  <th>ar.L2</th>  <td>    0.8321</td> <td>    0.231</td> <td>    3.597</td> <td> 0.000</td> <td>    0.379</td> <td>    1.286</td>\n",
       "</tr>\n",
       "<tr>\n",
       "  <th>ar.L3</th>  <td>   -0.4467</td> <td>    0.903</td> <td>   -0.495</td> <td> 0.621</td> <td>   -2.216</td> <td>    1.322</td>\n",
       "</tr>\n",
       "<tr>\n",
       "  <th>ma.L1</th>  <td>    0.1908</td> <td>    1.222</td> <td>    0.156</td> <td> 0.876</td> <td>   -2.204</td> <td>    2.585</td>\n",
       "</tr>\n",
       "<tr>\n",
       "  <th>ma.L2</th>  <td>   -0.5297</td> <td>    1.317</td> <td>   -0.402</td> <td> 0.688</td> <td>   -3.111</td> <td>    2.052</td>\n",
       "</tr>\n",
       "<tr>\n",
       "  <th>ma.L3</th>  <td>   -0.1001</td> <td>    0.403</td> <td>   -0.249</td> <td> 0.804</td> <td>   -0.889</td> <td>    0.689</td>\n",
       "</tr>\n",
       "<tr>\n",
       "  <th>ma.L4</th>  <td>   -0.1285</td> <td>    0.363</td> <td>   -0.354</td> <td> 0.724</td> <td>   -0.841</td> <td>    0.584</td>\n",
       "</tr>\n",
       "<tr>\n",
       "  <th>ma.L5</th>  <td>    0.2453</td> <td>    0.373</td> <td>    0.658</td> <td> 0.511</td> <td>   -0.485</td> <td>    0.976</td>\n",
       "</tr>\n",
       "<tr>\n",
       "  <th>sigma2</th> <td>   87.7132</td> <td>   88.019</td> <td>    0.997</td> <td> 0.319</td> <td>  -84.800</td> <td>  260.227</td>\n",
       "</tr>\n",
       "</table>\n",
       "<table class=\"simpletable\">\n",
       "<tr>\n",
       "  <th>Ljung-Box (L1) (Q):</th>     <td>0.02</td> <th>  Jarque-Bera (JB):  </th> <td>2.67</td>\n",
       "</tr>\n",
       "<tr>\n",
       "  <th>Prob(Q):</th>                <td>0.88</td> <th>  Prob(JB):          </th> <td>0.26</td>\n",
       "</tr>\n",
       "<tr>\n",
       "  <th>Heteroskedasticity (H):</th> <td>2.04</td> <th>  Skew:              </th> <td>0.46</td>\n",
       "</tr>\n",
       "<tr>\n",
       "  <th>Prob(H) (two-sided):</th>    <td>0.09</td> <th>  Kurtosis:          </th> <td>2.77</td>\n",
       "</tr>\n",
       "</table><br/><br/>Warnings:<br/>[1] Covariance matrix calculated using the outer product of gradients (complex-step)."
      ],
      "text/plain": [
       "<class 'statsmodels.iolib.summary.Summary'>\n",
       "\"\"\"\n",
       "                                      SARIMAX Results                                      \n",
       "===========================================================================================\n",
       "Dep. Variable:             Thousands of Passengers   No. Observations:                   84\n",
       "Model:             SARIMAX(3, 0, 5)x(0, 1, [], 12)   Log Likelihood                -265.239\n",
       "Date:                             Mon, 16 Jan 2023   AIC                            548.479\n",
       "Time:                                     21:42:02   BIC                            568.969\n",
       "Sample:                                 01-01-1949   HQIC                           556.636\n",
       "                                      - 12-01-1955                                         \n",
       "Covariance Type:                               opg                                         \n",
       "==============================================================================\n",
       "                 coef    std err          z      P>|z|      [0.025      0.975]\n",
       "------------------------------------------------------------------------------\n",
       "ar.L1          0.5915      0.948      0.624      0.532      -1.266       2.449\n",
       "ar.L2          0.8321      0.231      3.597      0.000       0.379       1.286\n",
       "ar.L3         -0.4467      0.903     -0.495      0.621      -2.216       1.322\n",
       "ma.L1          0.1908      1.222      0.156      0.876      -2.204       2.585\n",
       "ma.L2         -0.5297      1.317     -0.402      0.688      -3.111       2.052\n",
       "ma.L3         -0.1001      0.403     -0.249      0.804      -0.889       0.689\n",
       "ma.L4         -0.1285      0.363     -0.354      0.724      -0.841       0.584\n",
       "ma.L5          0.2453      0.373      0.658      0.511      -0.485       0.976\n",
       "sigma2        87.7132     88.019      0.997      0.319     -84.800     260.227\n",
       "===================================================================================\n",
       "Ljung-Box (L1) (Q):                   0.02   Jarque-Bera (JB):                 2.67\n",
       "Prob(Q):                              0.88   Prob(JB):                         0.26\n",
       "Heteroskedasticity (H):               2.04   Skew:                             0.46\n",
       "Prob(H) (two-sided):                  0.09   Kurtosis:                         2.77\n",
       "===================================================================================\n",
       "\n",
       "Warnings:\n",
       "[1] Covariance matrix calculated using the outer product of gradients (complex-step).\n",
       "\"\"\""
      ]
     },
     "execution_count": 87,
     "metadata": {},
     "output_type": "execute_result"
    }
   ],
   "source": [
    "model_SARIMA_fit.summary()"
   ]
  },
  {
   "cell_type": "code",
   "execution_count": 88,
   "id": "cf499d1a",
   "metadata": {},
   "outputs": [
    {
     "name": "stdout",
     "output_type": "stream",
     "text": [
      "1956-01-01 00:00:00\n",
      "1960-12-01 00:00:00\n"
     ]
    }
   ],
   "source": [
    "pred_start_date=test_data.index[0]\n",
    "pred_end_date=test_data.index[-1]\n",
    "print(pred_start_date)\n",
    "print(pred_end_date)"
   ]
  },
  {
   "cell_type": "code",
   "execution_count": 89,
   "id": "e78923c4",
   "metadata": {},
   "outputs": [],
   "source": [
    "pred_Sarima=model_SARIMA_fit.predict(start=datetime(1956,6,6),end=datetime(1960,12,1))\n",
    "residuals=test_data['Thousands of Passengers']-pred_Sarima"
   ]
  },
  {
   "cell_type": "code",
   "execution_count": 90,
   "id": "c5f47d5b",
   "metadata": {},
   "outputs": [
    {
     "data": {
      "text/plain": [
       "<AxesSubplot:xlabel='Month'>"
      ]
     },
     "execution_count": 90,
     "metadata": {},
     "output_type": "execute_result"
    },
    {
     "data": {
      "image/png": "[encoded data removed]",
      "text/plain": [
       "<Figure size 640x480 with 1 Axes>"
      ]
     },
     "metadata": {},
     "output_type": "display_data"
    }
   ],
   "source": [
    "model_SARIMA_fit.resid.plot()"
   ]
  },
  {
   "cell_type": "code",
   "execution_count": 91,
   "id": "f4c75add",
   "metadata": {},
   "outputs": [
    {
     "data": {
      "text/plain": [
       "<AxesSubplot:ylabel='Density'>"
      ]
     },
     "execution_count": 91,
     "metadata": {},
     "output_type": "execute_result"
    },
    {
     "data": {
      "image/png": "[encoded data removed]",
      "text/plain": [
       "<Figure size 640x480 with 1 Axes>"
      ]
     },
     "metadata": {},
     "output_type": "display_data"
    }
   ],
   "source": [
    "model_SARIMA_fit.resid.plot(kind='kde')"
   ]
  },
  {
   "cell_type": "code",
   "execution_count": 92,
   "id": "884f2582",
   "metadata": {},
   "outputs": [
    {
     "name": "stderr",
     "output_type": "stream",
     "text": [
      "C:\\Users\\lenovo\\AppData\\Local\\Temp\\ipykernel_17756\\1367177785.py:1: SettingWithCopyWarning: \n",
      "A value is trying to be set on a copy of a slice from a DataFrame.\n",
      "Try using .loc[row_indexer,col_indexer] = value instead\n",
      "\n",
      "See the caveats in the documentation: https://pandas.pydata.org/pandas-docs/stable/user_guide/indexing.html#returning-a-view-versus-a-copy\n",
      "  test_data['Predicted_SARIMA']=pred_Sarima\n"
     ]
    }
   ],
   "source": [
    "test_data['Predicted_SARIMA']=pred_Sarima"
   ]
  },
  {
   "cell_type": "code",
   "execution_count": 93,
   "id": "1deff868",
   "metadata": {},
   "outputs": [
    {
     "data": {
      "text/html": [
       "<div>\n",
       "<style scoped>\n",
       "    .dataframe tbody tr th:only-of-type {\n",
       "        vertical-align: middle;\n",
       "    }\n",
       "\n",
       "    .dataframe tbody tr th {\n",
       "        vertical-align: top;\n",
       "    }\n",
       "\n",
       "    .dataframe thead th {\n",
       "        text-align: right;\n",
       "    }\n",
       "</style>\n",
       "<table border=\"1\" class=\"dataframe\">\n",
       "  <thead>\n",
       "    <tr style=\"text-align: right;\">\n",
       "      <th></th>\n",
       "      <th>Thousands of Passengers</th>\n",
       "      <th>Passengers First Difference</th>\n",
       "      <th>Passengers Second Difference</th>\n",
       "      <th>Passengers 12 Difference</th>\n",
       "      <th>Predicted_ARIMA</th>\n",
       "      <th>Predicted_SARIMA</th>\n",
       "    </tr>\n",
       "    <tr>\n",
       "      <th>Month</th>\n",
       "      <th></th>\n",
       "      <th></th>\n",
       "      <th></th>\n",
       "      <th></th>\n",
       "      <th></th>\n",
       "      <th></th>\n",
       "    </tr>\n",
       "  </thead>\n",
       "  <tbody>\n",
       "    <tr>\n",
       "      <th>1956-01-01</th>\n",
       "      <td>284.0</td>\n",
       "      <td>6.0</td>\n",
       "      <td>-35.0</td>\n",
       "      <td>42.0</td>\n",
       "      <td>283.902188</td>\n",
       "      <td>NaN</td>\n",
       "    </tr>\n",
       "    <tr>\n",
       "      <th>1956-02-01</th>\n",
       "      <td>277.0</td>\n",
       "      <td>-7.0</td>\n",
       "      <td>-13.0</td>\n",
       "      <td>44.0</td>\n",
       "      <td>280.434904</td>\n",
       "      <td>NaN</td>\n",
       "    </tr>\n",
       "    <tr>\n",
       "      <th>1956-03-01</th>\n",
       "      <td>317.0</td>\n",
       "      <td>40.0</td>\n",
       "      <td>47.0</td>\n",
       "      <td>50.0</td>\n",
       "      <td>291.166860</td>\n",
       "      <td>NaN</td>\n",
       "    </tr>\n",
       "    <tr>\n",
       "      <th>1956-04-01</th>\n",
       "      <td>313.0</td>\n",
       "      <td>-4.0</td>\n",
       "      <td>-44.0</td>\n",
       "      <td>44.0</td>\n",
       "      <td>303.329699</td>\n",
       "      <td>NaN</td>\n",
       "    </tr>\n",
       "    <tr>\n",
       "      <th>1956-05-01</th>\n",
       "      <td>318.0</td>\n",
       "      <td>5.0</td>\n",
       "      <td>9.0</td>\n",
       "      <td>48.0</td>\n",
       "      <td>301.676917</td>\n",
       "      <td>NaN</td>\n",
       "    </tr>\n",
       "    <tr>\n",
       "      <th>1956-06-01</th>\n",
       "      <td>374.0</td>\n",
       "      <td>56.0</td>\n",
       "      <td>51.0</td>\n",
       "      <td>59.0</td>\n",
       "      <td>344.713009</td>\n",
       "      <td>NaN</td>\n",
       "    </tr>\n",
       "    <tr>\n",
       "      <th>1956-07-01</th>\n",
       "      <td>413.0</td>\n",
       "      <td>39.0</td>\n",
       "      <td>-17.0</td>\n",
       "      <td>49.0</td>\n",
       "      <td>394.056487</td>\n",
       "      <td>403.487149</td>\n",
       "    </tr>\n",
       "    <tr>\n",
       "      <th>1956-08-01</th>\n",
       "      <td>405.0</td>\n",
       "      <td>-8.0</td>\n",
       "      <td>-47.0</td>\n",
       "      <td>58.0</td>\n",
       "      <td>369.479375</td>\n",
       "      <td>385.174031</td>\n",
       "    </tr>\n",
       "    <tr>\n",
       "      <th>1956-09-01</th>\n",
       "      <td>355.0</td>\n",
       "      <td>-50.0</td>\n",
       "      <td>-42.0</td>\n",
       "      <td>43.0</td>\n",
       "      <td>343.818185</td>\n",
       "      <td>349.561117</td>\n",
       "    </tr>\n",
       "    <tr>\n",
       "      <th>1956-10-01</th>\n",
       "      <td>306.0</td>\n",
       "      <td>-49.0</td>\n",
       "      <td>1.0</td>\n",
       "      <td>32.0</td>\n",
       "      <td>304.883511</td>\n",
       "      <td>310.346498</td>\n",
       "    </tr>\n",
       "    <tr>\n",
       "      <th>1956-11-01</th>\n",
       "      <td>271.0</td>\n",
       "      <td>-35.0</td>\n",
       "      <td>14.0</td>\n",
       "      <td>34.0</td>\n",
       "      <td>272.433170</td>\n",
       "      <td>272.704526</td>\n",
       "    </tr>\n",
       "    <tr>\n",
       "      <th>1956-12-01</th>\n",
       "      <td>306.0</td>\n",
       "      <td>35.0</td>\n",
       "      <td>70.0</td>\n",
       "      <td>28.0</td>\n",
       "      <td>303.272140</td>\n",
       "      <td>312.587827</td>\n",
       "    </tr>\n",
       "    <tr>\n",
       "      <th>1957-01-01</th>\n",
       "      <td>315.0</td>\n",
       "      <td>9.0</td>\n",
       "      <td>-26.0</td>\n",
       "      <td>31.0</td>\n",
       "      <td>318.154425</td>\n",
       "      <td>320.126320</td>\n",
       "    </tr>\n",
       "    <tr>\n",
       "      <th>1957-02-01</th>\n",
       "      <td>301.0</td>\n",
       "      <td>-14.0</td>\n",
       "      <td>-23.0</td>\n",
       "      <td>24.0</td>\n",
       "      <td>305.091351</td>\n",
       "      <td>314.202480</td>\n",
       "    </tr>\n",
       "    <tr>\n",
       "      <th>1957-03-01</th>\n",
       "      <td>356.0</td>\n",
       "      <td>55.0</td>\n",
       "      <td>69.0</td>\n",
       "      <td>39.0</td>\n",
       "      <td>317.782487</td>\n",
       "      <td>342.195179</td>\n",
       "    </tr>\n",
       "    <tr>\n",
       "      <th>1957-04-01</th>\n",
       "      <td>348.0</td>\n",
       "      <td>-8.0</td>\n",
       "      <td>-63.0</td>\n",
       "      <td>35.0</td>\n",
       "      <td>326.541230</td>\n",
       "      <td>342.027807</td>\n",
       "    </tr>\n",
       "    <tr>\n",
       "      <th>1957-05-01</th>\n",
       "      <td>355.0</td>\n",
       "      <td>7.0</td>\n",
       "      <td>15.0</td>\n",
       "      <td>37.0</td>\n",
       "      <td>332.011744</td>\n",
       "      <td>342.055734</td>\n",
       "    </tr>\n",
       "    <tr>\n",
       "      <th>1957-06-01</th>\n",
       "      <td>422.0</td>\n",
       "      <td>67.0</td>\n",
       "      <td>60.0</td>\n",
       "      <td>48.0</td>\n",
       "      <td>376.188201</td>\n",
       "      <td>384.804217</td>\n",
       "    </tr>\n",
       "    <tr>\n",
       "      <th>1957-07-01</th>\n",
       "      <td>465.0</td>\n",
       "      <td>43.0</td>\n",
       "      <td>-24.0</td>\n",
       "      <td>52.0</td>\n",
       "      <td>419.295372</td>\n",
       "      <td>432.631594</td>\n",
       "    </tr>\n",
       "    <tr>\n",
       "      <th>1957-08-01</th>\n",
       "      <td>467.0</td>\n",
       "      <td>2.0</td>\n",
       "      <td>-41.0</td>\n",
       "      <td>62.0</td>\n",
       "      <td>398.050836</td>\n",
       "      <td>413.498585</td>\n",
       "    </tr>\n",
       "    <tr>\n",
       "      <th>1957-09-01</th>\n",
       "      <td>404.0</td>\n",
       "      <td>-63.0</td>\n",
       "      <td>-65.0</td>\n",
       "      <td>49.0</td>\n",
       "      <td>369.280808</td>\n",
       "      <td>377.266766</td>\n",
       "    </tr>\n",
       "    <tr>\n",
       "      <th>1957-10-01</th>\n",
       "      <td>347.0</td>\n",
       "      <td>-57.0</td>\n",
       "      <td>6.0</td>\n",
       "      <td>41.0</td>\n",
       "      <td>335.483581</td>\n",
       "      <td>337.286938</td>\n",
       "    </tr>\n",
       "    <tr>\n",
       "      <th>1957-11-01</th>\n",
       "      <td>305.0</td>\n",
       "      <td>-42.0</td>\n",
       "      <td>15.0</td>\n",
       "      <td>34.0</td>\n",
       "      <td>306.902315</td>\n",
       "      <td>299.043536</td>\n",
       "    </tr>\n",
       "    <tr>\n",
       "      <th>1957-12-01</th>\n",
       "      <td>336.0</td>\n",
       "      <td>31.0</td>\n",
       "      <td>73.0</td>\n",
       "      <td>30.0</td>\n",
       "      <td>332.380218</td>\n",
       "      <td>338.210766</td>\n",
       "    </tr>\n",
       "    <tr>\n",
       "      <th>1958-01-01</th>\n",
       "      <td>340.0</td>\n",
       "      <td>4.0</td>\n",
       "      <td>-27.0</td>\n",
       "      <td>25.0</td>\n",
       "      <td>348.731663</td>\n",
       "      <td>345.167011</td>\n",
       "    </tr>\n",
       "    <tr>\n",
       "      <th>1958-02-01</th>\n",
       "      <td>318.0</td>\n",
       "      <td>-22.0</td>\n",
       "      <td>-26.0</td>\n",
       "      <td>17.0</td>\n",
       "      <td>333.492086</td>\n",
       "      <td>338.571530</td>\n",
       "    </tr>\n",
       "    <tr>\n",
       "      <th>1958-03-01</th>\n",
       "      <td>362.0</td>\n",
       "      <td>44.0</td>\n",
       "      <td>66.0</td>\n",
       "      <td>6.0</td>\n",
       "      <td>341.924035</td>\n",
       "      <td>366.002277</td>\n",
       "    </tr>\n",
       "    <tr>\n",
       "      <th>1958-04-01</th>\n",
       "      <td>348.0</td>\n",
       "      <td>-14.0</td>\n",
       "      <td>-58.0</td>\n",
       "      <td>0.0</td>\n",
       "      <td>352.890725</td>\n",
       "      <td>365.203674</td>\n",
       "    </tr>\n",
       "    <tr>\n",
       "      <th>1958-05-01</th>\n",
       "      <td>363.0</td>\n",
       "      <td>15.0</td>\n",
       "      <td>29.0</td>\n",
       "      <td>8.0</td>\n",
       "      <td>361.374912</td>\n",
       "      <td>364.690595</td>\n",
       "    </tr>\n",
       "    <tr>\n",
       "      <th>1958-06-01</th>\n",
       "      <td>435.0</td>\n",
       "      <td>72.0</td>\n",
       "      <td>57.0</td>\n",
       "      <td>13.0</td>\n",
       "      <td>407.445731</td>\n",
       "      <td>406.844798</td>\n",
       "    </tr>\n",
       "    <tr>\n",
       "      <th>1958-07-01</th>\n",
       "      <td>491.0</td>\n",
       "      <td>56.0</td>\n",
       "      <td>-16.0</td>\n",
       "      <td>26.0</td>\n",
       "      <td>445.155240</td>\n",
       "      <td>454.152406</td>\n",
       "    </tr>\n",
       "    <tr>\n",
       "      <th>1958-08-01</th>\n",
       "      <td>505.0</td>\n",
       "      <td>14.0</td>\n",
       "      <td>-42.0</td>\n",
       "      <td>38.0</td>\n",
       "      <td>425.837780</td>\n",
       "      <td>434.459072</td>\n",
       "    </tr>\n",
       "    <tr>\n",
       "      <th>1958-09-01</th>\n",
       "      <td>404.0</td>\n",
       "      <td>-101.0</td>\n",
       "      <td>-115.0</td>\n",
       "      <td>0.0</td>\n",
       "      <td>395.715855</td>\n",
       "      <td>397.728737</td>\n",
       "    </tr>\n",
       "    <tr>\n",
       "      <th>1958-10-01</th>\n",
       "      <td>359.0</td>\n",
       "      <td>-45.0</td>\n",
       "      <td>56.0</td>\n",
       "      <td>12.0</td>\n",
       "      <td>365.889510</td>\n",
       "      <td>357.219924</td>\n",
       "    </tr>\n",
       "    <tr>\n",
       "      <th>1958-11-01</th>\n",
       "      <td>310.0</td>\n",
       "      <td>-49.0</td>\n",
       "      <td>-4.0</td>\n",
       "      <td>5.0</td>\n",
       "      <td>340.991990</td>\n",
       "      <td>318.499063</td>\n",
       "    </tr>\n",
       "    <tr>\n",
       "      <th>1958-12-01</th>\n",
       "      <td>337.0</td>\n",
       "      <td>27.0</td>\n",
       "      <td>76.0</td>\n",
       "      <td>1.0</td>\n",
       "      <td>362.558300</td>\n",
       "      <td>357.166349</td>\n",
       "    </tr>\n",
       "    <tr>\n",
       "      <th>1959-01-01</th>\n",
       "      <td>360.0</td>\n",
       "      <td>23.0</td>\n",
       "      <td>-4.0</td>\n",
       "      <td>20.0</td>\n",
       "      <td>378.221381</td>\n",
       "      <td>363.665839</td>\n",
       "    </tr>\n",
       "    <tr>\n",
       "      <th>1959-02-01</th>\n",
       "      <td>342.0</td>\n",
       "      <td>-18.0</td>\n",
       "      <td>-41.0</td>\n",
       "      <td>24.0</td>\n",
       "      <td>362.085410</td>\n",
       "      <td>356.597422</td>\n",
       "    </tr>\n",
       "    <tr>\n",
       "      <th>1959-03-01</th>\n",
       "      <td>406.0</td>\n",
       "      <td>64.0</td>\n",
       "      <td>82.0</td>\n",
       "      <td>44.0</td>\n",
       "      <td>366.496294</td>\n",
       "      <td>383.591643</td>\n",
       "    </tr>\n",
       "    <tr>\n",
       "      <th>1959-04-01</th>\n",
       "      <td>396.0</td>\n",
       "      <td>-10.0</td>\n",
       "      <td>-74.0</td>\n",
       "      <td>48.0</td>\n",
       "      <td>379.384939</td>\n",
       "      <td>382.345297</td>\n",
       "    </tr>\n",
       "    <tr>\n",
       "      <th>1959-05-01</th>\n",
       "      <td>420.0</td>\n",
       "      <td>24.0</td>\n",
       "      <td>34.0</td>\n",
       "      <td>57.0</td>\n",
       "      <td>391.485668</td>\n",
       "      <td>381.415366</td>\n",
       "    </tr>\n",
       "    <tr>\n",
       "      <th>1959-06-01</th>\n",
       "      <td>472.0</td>\n",
       "      <td>52.0</td>\n",
       "      <td>28.0</td>\n",
       "      <td>37.0</td>\n",
       "      <td>437.309423</td>\n",
       "      <td>423.145392</td>\n",
       "    </tr>\n",
       "    <tr>\n",
       "      <th>1959-07-01</th>\n",
       "      <td>548.0</td>\n",
       "      <td>76.0</td>\n",
       "      <td>24.0</td>\n",
       "      <td>57.0</td>\n",
       "      <td>471.929362</td>\n",
       "      <td>470.055207</td>\n",
       "    </tr>\n",
       "    <tr>\n",
       "      <th>1959-08-01</th>\n",
       "      <td>559.0</td>\n",
       "      <td>11.0</td>\n",
       "      <td>-65.0</td>\n",
       "      <td>54.0</td>\n",
       "      <td>452.681323</td>\n",
       "      <td>449.959790</td>\n",
       "    </tr>\n",
       "    <tr>\n",
       "      <th>1959-09-01</th>\n",
       "      <td>463.0</td>\n",
       "      <td>-96.0</td>\n",
       "      <td>-107.0</td>\n",
       "      <td>59.0</td>\n",
       "      <td>423.002576</td>\n",
       "      <td>412.850063</td>\n",
       "    </tr>\n",
       "    <tr>\n",
       "      <th>1959-10-01</th>\n",
       "      <td>407.0</td>\n",
       "      <td>-56.0</td>\n",
       "      <td>40.0</td>\n",
       "      <td>48.0</td>\n",
       "      <td>395.985462</td>\n",
       "      <td>371.959927</td>\n",
       "    </tr>\n",
       "    <tr>\n",
       "      <th>1959-11-01</th>\n",
       "      <td>362.0</td>\n",
       "      <td>-45.0</td>\n",
       "      <td>11.0</td>\n",
       "      <td>52.0</td>\n",
       "      <td>374.990635</td>\n",
       "      <td>332.877397</td>\n",
       "    </tr>\n",
       "    <tr>\n",
       "      <th>1959-12-01</th>\n",
       "      <td>405.0</td>\n",
       "      <td>43.0</td>\n",
       "      <td>88.0</td>\n",
       "      <td>68.0</td>\n",
       "      <td>393.048130</td>\n",
       "      <td>371.182898</td>\n",
       "    </tr>\n",
       "    <tr>\n",
       "      <th>1960-01-01</th>\n",
       "      <td>417.0</td>\n",
       "      <td>12.0</td>\n",
       "      <td>-31.0</td>\n",
       "      <td>57.0</td>\n",
       "      <td>407.326383</td>\n",
       "      <td>377.337751</td>\n",
       "    </tr>\n",
       "    <tr>\n",
       "      <th>1960-02-01</th>\n",
       "      <td>391.0</td>\n",
       "      <td>-26.0</td>\n",
       "      <td>-38.0</td>\n",
       "      <td>49.0</td>\n",
       "      <td>390.363224</td>\n",
       "      <td>369.925967</td>\n",
       "    </tr>\n",
       "    <tr>\n",
       "      <th>1960-03-01</th>\n",
       "      <td>419.0</td>\n",
       "      <td>28.0</td>\n",
       "      <td>54.0</td>\n",
       "      <td>13.0</td>\n",
       "      <td>391.733739</td>\n",
       "      <td>396.591893</td>\n",
       "    </tr>\n",
       "    <tr>\n",
       "      <th>1960-04-01</th>\n",
       "      <td>461.0</td>\n",
       "      <td>42.0</td>\n",
       "      <td>14.0</td>\n",
       "      <td>65.0</td>\n",
       "      <td>406.020489</td>\n",
       "      <td>395.019564</td>\n",
       "    </tr>\n",
       "    <tr>\n",
       "      <th>1960-05-01</th>\n",
       "      <td>472.0</td>\n",
       "      <td>11.0</td>\n",
       "      <td>-31.0</td>\n",
       "      <td>52.0</td>\n",
       "      <td>421.877533</td>\n",
       "      <td>393.776992</td>\n",
       "    </tr>\n",
       "    <tr>\n",
       "      <th>1960-06-01</th>\n",
       "      <td>535.0</td>\n",
       "      <td>63.0</td>\n",
       "      <td>52.0</td>\n",
       "      <td>63.0</td>\n",
       "      <td>466.529828</td>\n",
       "      <td>435.197461</td>\n",
       "    </tr>\n",
       "    <tr>\n",
       "      <th>1960-07-01</th>\n",
       "      <td>622.0</td>\n",
       "      <td>87.0</td>\n",
       "      <td>24.0</td>\n",
       "      <td>74.0</td>\n",
       "      <td>498.758221</td>\n",
       "      <td>481.809612</td>\n",
       "    </tr>\n",
       "    <tr>\n",
       "      <th>1960-08-01</th>\n",
       "      <td>606.0</td>\n",
       "      <td>-16.0</td>\n",
       "      <td>-103.0</td>\n",
       "      <td>47.0</td>\n",
       "      <td>479.395072</td>\n",
       "      <td>461.420176</td>\n",
       "    </tr>\n",
       "    <tr>\n",
       "      <th>1960-09-01</th>\n",
       "      <td>508.0</td>\n",
       "      <td>-98.0</td>\n",
       "      <td>-82.0</td>\n",
       "      <td>45.0</td>\n",
       "      <td>450.446804</td>\n",
       "      <td>424.027103</td>\n",
       "    </tr>\n",
       "    <tr>\n",
       "      <th>1960-10-01</th>\n",
       "      <td>461.0</td>\n",
       "      <td>-47.0</td>\n",
       "      <td>51.0</td>\n",
       "      <td>54.0</td>\n",
       "      <td>426.288738</td>\n",
       "      <td>382.857653</td>\n",
       "    </tr>\n",
       "    <tr>\n",
       "      <th>1960-11-01</th>\n",
       "      <td>390.0</td>\n",
       "      <td>-71.0</td>\n",
       "      <td>-24.0</td>\n",
       "      <td>28.0</td>\n",
       "      <td>408.588762</td>\n",
       "      <td>343.505452</td>\n",
       "    </tr>\n",
       "    <tr>\n",
       "      <th>1960-12-01</th>\n",
       "      <td>432.0</td>\n",
       "      <td>42.0</td>\n",
       "      <td>113.0</td>\n",
       "      <td>27.0</td>\n",
       "      <td>423.896030</td>\n",
       "      <td>381.545572</td>\n",
       "    </tr>\n",
       "  </tbody>\n",
       "</table>\n",
       "</div>"
      ],
      "text/plain": [
       "            Thousands of Passengers  Passengers First Difference  \\\n",
       "Month                                                              \n",
       "1956-01-01                    284.0                          6.0   \n",
       "1956-02-01                    277.0                         -7.0   \n",
       "1956-03-01                    317.0                         40.0   \n",
       "1956-04-01                    313.0                         -4.0   \n",
       "1956-05-01                    318.0                          5.0   \n",
       "1956-06-01                    374.0                         56.0   \n",
       "1956-07-01                    413.0                         39.0   \n",
       "1956-08-01                    405.0                         -8.0   \n",
       "1956-09-01                    355.0                        -50.0   \n",
       "1956-10-01                    306.0                        -49.0   \n",
       "1956-11-01                    271.0                        -35.0   \n",
       "1956-12-01                    306.0                         35.0   \n",
       "1957-01-01                    315.0                          9.0   \n",
       "1957-02-01                    301.0                        -14.0   \n",
       "1957-03-01                    356.0                         55.0   \n",
       "1957-04-01                    348.0                         -8.0   \n",
       "1957-05-01                    355.0                          7.0   \n",
       "1957-06-01                    422.0                         67.0   \n",
       "1957-07-01                    465.0                         43.0   \n",
       "1957-08-01                    467.0                          2.0   \n",
       "1957-09-01                    404.0                        -63.0   \n",
       "1957-10-01                    347.0                        -57.0   \n",
       "1957-11-01                    305.0                        -42.0   \n",
       "1957-12-01                    336.0                         31.0   \n",
       "1958-01-01                    340.0                          4.0   \n",
       "1958-02-01                    318.0                        -22.0   \n",
       "1958-03-01                    362.0                         44.0   \n",
       "1958-04-01                    348.0                        -14.0   \n",
       "1958-05-01                    363.0                         15.0   \n",
       "1958-06-01                    435.0                         72.0   \n",
       "1958-07-01                    491.0                         56.0   \n",
       "1958-08-01                    505.0                         14.0   \n",
       "1958-09-01                    404.0                       -101.0   \n",
       "1958-10-01                    359.0                        -45.0   \n",
       "1958-11-01                    310.0                        -49.0   \n",
       "1958-12-01                    337.0                         27.0   \n",
       "1959-01-01                    360.0                         23.0   \n",
       "1959-02-01                    342.0                        -18.0   \n",
       "1959-03-01                    406.0                         64.0   \n",
       "1959-04-01                    396.0                        -10.0   \n",
       "1959-05-01                    420.0                         24.0   \n",
       "1959-06-01                    472.0                         52.0   \n",
       "1959-07-01                    548.0                         76.0   \n",
       "1959-08-01                    559.0                         11.0   \n",
       "1959-09-01                    463.0                        -96.0   \n",
       "1959-10-01                    407.0                        -56.0   \n",
       "1959-11-01                    362.0                        -45.0   \n",
       "1959-12-01                    405.0                         43.0   \n",
       "1960-01-01                    417.0                         12.0   \n",
       "1960-02-01                    391.0                        -26.0   \n",
       "1960-03-01                    419.0                         28.0   \n",
       "1960-04-01                    461.0                         42.0   \n",
       "1960-05-01                    472.0                         11.0   \n",
       "1960-06-01                    535.0                         63.0   \n",
       "1960-07-01                    622.0                         87.0   \n",
       "1960-08-01                    606.0                        -16.0   \n",
       "1960-09-01                    508.0                        -98.0   \n",
       "1960-10-01                    461.0                        -47.0   \n",
       "1960-11-01                    390.0                        -71.0   \n",
       "1960-12-01                    432.0                         42.0   \n",
       "\n",
       "            Passengers Second Difference  Passengers 12 Difference  \\\n",
       "Month                                                                \n",
       "1956-01-01                         -35.0                      42.0   \n",
       "1956-02-01                         -13.0                      44.0   \n",
       "1956-03-01                          47.0                      50.0   \n",
       "1956-04-01                         -44.0                      44.0   \n",
       "1956-05-01                           9.0                      48.0   \n",
       "1956-06-01                          51.0                      59.0   \n",
       "1956-07-01                         -17.0                      49.0   \n",
       "1956-08-01                         -47.0                      58.0   \n",
       "1956-09-01                         -42.0                      43.0   \n",
       "1956-10-01                           1.0                      32.0   \n",
       "1956-11-01                          14.0                      34.0   \n",
       "1956-12-01                          70.0                      28.0   \n",
       "1957-01-01                         -26.0                      31.0   \n",
       "1957-02-01                         -23.0                      24.0   \n",
       "1957-03-01                          69.0                      39.0   \n",
       "1957-04-01                         -63.0                      35.0   \n",
       "1957-05-01                          15.0                      37.0   \n",
       "1957-06-01                          60.0                      48.0   \n",
       "1957-07-01                         -24.0                      52.0   \n",
       "1957-08-01                         -41.0                      62.0   \n",
       "1957-09-01                         -65.0                      49.0   \n",
       "1957-10-01                           6.0                      41.0   \n",
       "1957-11-01                          15.0                      34.0   \n",
       "1957-12-01                          73.0                      30.0   \n",
       "1958-01-01                         -27.0                      25.0   \n",
       "1958-02-01                         -26.0                      17.0   \n",
       "1958-03-01                          66.0                       6.0   \n",
       "1958-04-01                         -58.0                       0.0   \n",
       "1958-05-01                          29.0                       8.0   \n",
       "1958-06-01                          57.0                      13.0   \n",
       "1958-07-01                         -16.0                      26.0   \n",
       "1958-08-01                         -42.0                      38.0   \n",
       "1958-09-01                        -115.0                       0.0   \n",
       "1958-10-01                          56.0                      12.0   \n",
       "1958-11-01                          -4.0                       5.0   \n",
       "1958-12-01                          76.0                       1.0   \n",
       "1959-01-01                          -4.0                      20.0   \n",
       "1959-02-01                         -41.0                      24.0   \n",
       "1959-03-01                          82.0                      44.0   \n",
       "1959-04-01                         -74.0                      48.0   \n",
       "1959-05-01                          34.0                      57.0   \n",
       "1959-06-01                          28.0                      37.0   \n",
       "1959-07-01                          24.0                      57.0   \n",
       "1959-08-01                         -65.0                      54.0   \n",
       "1959-09-01                        -107.0                      59.0   \n",
       "1959-10-01                          40.0                      48.0   \n",
       "1959-11-01                          11.0                      52.0   \n",
       "1959-12-01                          88.0                      68.0   \n",
       "1960-01-01                         -31.0                      57.0   \n",
       "1960-02-01                         -38.0                      49.0   \n",
       "1960-03-01                          54.0                      13.0   \n",
       "1960-04-01                          14.0                      65.0   \n",
       "1960-05-01                         -31.0                      52.0   \n",
       "1960-06-01                          52.0                      63.0   \n",
       "1960-07-01                          24.0                      74.0   \n",
       "1960-08-01                        -103.0                      47.0   \n",
       "1960-09-01                         -82.0                      45.0   \n",
       "1960-10-01                          51.0                      54.0   \n",
       "1960-11-01                         -24.0                      28.0   \n",
       "1960-12-01                         113.0                      27.0   \n",
       "\n",
       "            Predicted_ARIMA  Predicted_SARIMA  \n",
       "Month                                          \n",
       "1956-01-01       283.902188               NaN  \n",
       "1956-02-01       280.434904               NaN  \n",
       "1956-03-01       291.166860               NaN  \n",
       "1956-04-01       303.329699               NaN  \n",
       "1956-05-01       301.676917               NaN  \n",
       "1956-06-01       344.713009               NaN  \n",
       "1956-07-01       394.056487        403.487149  \n",
       "1956-08-01       369.479375        385.174031  \n",
       "1956-09-01       343.818185        349.561117  \n",
       "1956-10-01       304.883511        310.346498  \n",
       "1956-11-01       272.433170        272.704526  \n",
       "1956-12-01       303.272140        312.587827  \n",
       "1957-01-01       318.154425        320.126320  \n",
       "1957-02-01       305.091351        314.202480  \n",
       "1957-03-01       317.782487        342.195179  \n",
       "1957-04-01       326.541230        342.027807  \n",
       "1957-05-01       332.011744        342.055734  \n",
       "1957-06-01       376.188201        384.804217  \n",
       "1957-07-01       419.295372        432.631594  \n",
       "1957-08-01       398.050836        413.498585  \n",
       "1957-09-01       369.280808        377.266766  \n",
       "1957-10-01       335.483581        337.286938  \n",
       "1957-11-01       306.902315        299.043536  \n",
       "1957-12-01       332.380218        338.210766  \n",
       "1958-01-01       348.731663        345.167011  \n",
       "1958-02-01       333.492086        338.571530  \n",
       "1958-03-01       341.924035        366.002277  \n",
       "1958-04-01       352.890725        365.203674  \n",
       "1958-05-01       361.374912        364.690595  \n",
       "1958-06-01       407.445731        406.844798  \n",
       "1958-07-01       445.155240        454.152406  \n",
       "1958-08-01       425.837780        434.459072  \n",
       "1958-09-01       395.715855        397.728737  \n",
       "1958-10-01       365.889510        357.219924  \n",
       "1958-11-01       340.991990        318.499063  \n",
       "1958-12-01       362.558300        357.166349  \n",
       "1959-01-01       378.221381        363.665839  \n",
       "1959-02-01       362.085410        356.597422  \n",
       "1959-03-01       366.496294        383.591643  \n",
       "1959-04-01       379.384939        382.345297  \n",
       "1959-05-01       391.485668        381.415366  \n",
       "1959-06-01       437.309423        423.145392  \n",
       "1959-07-01       471.929362        470.055207  \n",
       "1959-08-01       452.681323        449.959790  \n",
       "1959-09-01       423.002576        412.850063  \n",
       "1959-10-01       395.985462        371.959927  \n",
       "1959-11-01       374.990635        332.877397  \n",
       "1959-12-01       393.048130        371.182898  \n",
       "1960-01-01       407.326383        377.337751  \n",
       "1960-02-01       390.363224        369.925967  \n",
       "1960-03-01       391.733739        396.591893  \n",
       "1960-04-01       406.020489        395.019564  \n",
       "1960-05-01       421.877533        393.776992  \n",
       "1960-06-01       466.529828        435.197461  \n",
       "1960-07-01       498.758221        481.809612  \n",
       "1960-08-01       479.395072        461.420176  \n",
       "1960-09-01       450.446804        424.027103  \n",
       "1960-10-01       426.288738        382.857653  \n",
       "1960-11-01       408.588762        343.505452  \n",
       "1960-12-01       423.896030        381.545572  "
      ]
     },
     "execution_count": 93,
     "metadata": {},
     "output_type": "execute_result"
    }
   ],
   "source": [
    "test_data"
   ]
  },
  {
   "cell_type": "code",
   "execution_count": 94,
   "id": "43665e5d",
   "metadata": {},
   "outputs": [
    {
     "data": {
      "text/plain": [
       "<AxesSubplot:xlabel='Month'>"
      ]
     },
     "execution_count": 94,
     "metadata": {},
     "output_type": "execute_result"
    },
    {
     "data": {
      "image/png": "[encoded data removed]",
      "text/plain": [
       "<Figure size 640x480 with 1 Axes>"
      ]
     },
     "metadata": {},
     "output_type": "display_data"
    }
   ],
   "source": [
    "test_data[['Thousands of Passengers','Predicted_SARIMA','Predicted_ARIMA']].plot()"
   ]
  },
  {
   "cell_type": "code",
   "execution_count": null,
   "id": "0d626220",
   "metadata": {},
   "outputs": [],
   "source": []
  }
 ],
 "metadata": {
  "kernelspec": {
   "display_name": "Python 3 (ipykernel)",
   "language": "python",
   "name": "python3"
  },
  "language_info": {
   "codemirror_mode": {
    "name": "ipython",
    "version": 3
   },
   "file_extension": ".py",
   "mimetype": "text/x-python",
   "name": "python",
   "nbconvert_exporter": "python",
   "pygments_lexer": "ipython3",
   "version": "3.9.13"
  }
 },
 "nbformat": 4,
 "nbformat_minor": 5
}
