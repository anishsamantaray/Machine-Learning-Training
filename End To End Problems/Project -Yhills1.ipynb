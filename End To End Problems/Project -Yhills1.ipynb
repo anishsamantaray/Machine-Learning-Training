{
 "cells": [
  {
   "cell_type": "markdown",
   "id": "c1c00613",
   "metadata": {},
   "source": [
    "## Prediction of taxi fare using the attributes"
   ]
  },
  {
   "cell_type": "code",
   "execution_count": 1,
   "id": "7553d717",
   "metadata": {},
   "outputs": [],
   "source": [
    "## importing the libraries\n",
    "import pandas as pd\n",
    "import numpy as np\n",
    "import matplotlib.pyplot as plt\n",
    "import seaborn as sns\n",
    "%matplotlib inline"
   ]
  },
  {
   "cell_type": "code",
   "execution_count": 2,
   "id": "73ad121d",
   "metadata": {},
   "outputs": [],
   "source": [
    "df=pd.read_csv(\"https://raw.githubusercontent.com/Premalatha-success/Datasets/main/TaxiFare.csv\")#importing the datasets"
   ]
  },
  {
   "cell_type": "code",
   "execution_count": 3,
   "id": "dcf96691",
   "metadata": {},
   "outputs": [
    {
     "data": {
      "text/html": [
       "<div>\n",
       "<style scoped>\n",
       "    .dataframe tbody tr th:only-of-type {\n",
       "        vertical-align: middle;\n",
       "    }\n",
       "\n",
       "    .dataframe tbody tr th {\n",
       "        vertical-align: top;\n",
       "    }\n",
       "\n",
       "    .dataframe thead th {\n",
       "        text-align: right;\n",
       "    }\n",
       "</style>\n",
       "<table border=\"1\" class=\"dataframe\">\n",
       "  <thead>\n",
       "    <tr style=\"text-align: right;\">\n",
       "      <th></th>\n",
       "      <th>unique_id</th>\n",
       "      <th>amount</th>\n",
       "      <th>date_time_of_pickup</th>\n",
       "      <th>longitude_of_pickup</th>\n",
       "      <th>latitude_of_pickup</th>\n",
       "      <th>longitude_of_dropoff</th>\n",
       "      <th>latitude_of_dropoff</th>\n",
       "      <th>no_of_passenger</th>\n",
       "    </tr>\n",
       "  </thead>\n",
       "  <tbody>\n",
       "    <tr>\n",
       "      <th>0</th>\n",
       "      <td>26:21.0</td>\n",
       "      <td>4.5</td>\n",
       "      <td>2009-06-15 17:26:21 UTC</td>\n",
       "      <td>-73.844311</td>\n",
       "      <td>40.721319</td>\n",
       "      <td>-73.841610</td>\n",
       "      <td>40.712278</td>\n",
       "      <td>1</td>\n",
       "    </tr>\n",
       "    <tr>\n",
       "      <th>1</th>\n",
       "      <td>52:16.0</td>\n",
       "      <td>16.9</td>\n",
       "      <td>2010-01-05 16:52:16 UTC</td>\n",
       "      <td>-74.016048</td>\n",
       "      <td>40.711303</td>\n",
       "      <td>-73.979268</td>\n",
       "      <td>40.782004</td>\n",
       "      <td>1</td>\n",
       "    </tr>\n",
       "    <tr>\n",
       "      <th>2</th>\n",
       "      <td>35:00.0</td>\n",
       "      <td>5.7</td>\n",
       "      <td>2011-08-18 00:35:00 UTC</td>\n",
       "      <td>-73.982738</td>\n",
       "      <td>40.761270</td>\n",
       "      <td>-73.991242</td>\n",
       "      <td>40.750562</td>\n",
       "      <td>2</td>\n",
       "    </tr>\n",
       "    <tr>\n",
       "      <th>3</th>\n",
       "      <td>30:42.0</td>\n",
       "      <td>7.7</td>\n",
       "      <td>2012-04-21 04:30:42 UTC</td>\n",
       "      <td>-73.987130</td>\n",
       "      <td>40.733143</td>\n",
       "      <td>-73.991567</td>\n",
       "      <td>40.758092</td>\n",
       "      <td>1</td>\n",
       "    </tr>\n",
       "    <tr>\n",
       "      <th>4</th>\n",
       "      <td>51:00.0</td>\n",
       "      <td>5.3</td>\n",
       "      <td>2010-03-09 07:51:00 UTC</td>\n",
       "      <td>-73.968095</td>\n",
       "      <td>40.768008</td>\n",
       "      <td>-73.956655</td>\n",
       "      <td>40.783762</td>\n",
       "      <td>1</td>\n",
       "    </tr>\n",
       "    <tr>\n",
       "      <th>5</th>\n",
       "      <td>50:45.0</td>\n",
       "      <td>12.1</td>\n",
       "      <td>2011-01-06 09:50:45 UTC</td>\n",
       "      <td>-74.000964</td>\n",
       "      <td>40.731630</td>\n",
       "      <td>-73.972892</td>\n",
       "      <td>40.758233</td>\n",
       "      <td>1</td>\n",
       "    </tr>\n",
       "    <tr>\n",
       "      <th>6</th>\n",
       "      <td>35:00.0</td>\n",
       "      <td>7.5</td>\n",
       "      <td>2012-11-20 20:35:00 UTC</td>\n",
       "      <td>-73.980002</td>\n",
       "      <td>40.751662</td>\n",
       "      <td>-73.973802</td>\n",
       "      <td>40.764842</td>\n",
       "      <td>1</td>\n",
       "    </tr>\n",
       "    <tr>\n",
       "      <th>7</th>\n",
       "      <td>22:00.0</td>\n",
       "      <td>16.5</td>\n",
       "      <td>2012-01-04 17:22:00 UTC</td>\n",
       "      <td>-73.951300</td>\n",
       "      <td>40.774138</td>\n",
       "      <td>-73.990095</td>\n",
       "      <td>40.751048</td>\n",
       "      <td>1</td>\n",
       "    </tr>\n",
       "    <tr>\n",
       "      <th>8</th>\n",
       "      <td>10:00.0</td>\n",
       "      <td>9.0</td>\n",
       "      <td>2012-12-03 13:10:00 UTC</td>\n",
       "      <td>-74.006462</td>\n",
       "      <td>40.726713</td>\n",
       "      <td>-73.993078</td>\n",
       "      <td>40.731628</td>\n",
       "      <td>1</td>\n",
       "    </tr>\n",
       "    <tr>\n",
       "      <th>9</th>\n",
       "      <td>11:00.0</td>\n",
       "      <td>8.9</td>\n",
       "      <td>2009-09-02 01:11:00 UTC</td>\n",
       "      <td>-73.980658</td>\n",
       "      <td>40.733873</td>\n",
       "      <td>-73.991540</td>\n",
       "      <td>40.758138</td>\n",
       "      <td>2</td>\n",
       "    </tr>\n",
       "  </tbody>\n",
       "</table>\n",
       "</div>"
      ],
      "text/plain": [
       "  unique_id  amount      date_time_of_pickup  longitude_of_pickup  \\\n",
       "0   26:21.0     4.5  2009-06-15 17:26:21 UTC           -73.844311   \n",
       "1   52:16.0    16.9  2010-01-05 16:52:16 UTC           -74.016048   \n",
       "2   35:00.0     5.7  2011-08-18 00:35:00 UTC           -73.982738   \n",
       "3   30:42.0     7.7  2012-04-21 04:30:42 UTC           -73.987130   \n",
       "4   51:00.0     5.3  2010-03-09 07:51:00 UTC           -73.968095   \n",
       "5   50:45.0    12.1  2011-01-06 09:50:45 UTC           -74.000964   \n",
       "6   35:00.0     7.5  2012-11-20 20:35:00 UTC           -73.980002   \n",
       "7   22:00.0    16.5  2012-01-04 17:22:00 UTC           -73.951300   \n",
       "8   10:00.0     9.0  2012-12-03 13:10:00 UTC           -74.006462   \n",
       "9   11:00.0     8.9  2009-09-02 01:11:00 UTC           -73.980658   \n",
       "\n",
       "   latitude_of_pickup  longitude_of_dropoff  latitude_of_dropoff  \\\n",
       "0           40.721319            -73.841610            40.712278   \n",
       "1           40.711303            -73.979268            40.782004   \n",
       "2           40.761270            -73.991242            40.750562   \n",
       "3           40.733143            -73.991567            40.758092   \n",
       "4           40.768008            -73.956655            40.783762   \n",
       "5           40.731630            -73.972892            40.758233   \n",
       "6           40.751662            -73.973802            40.764842   \n",
       "7           40.774138            -73.990095            40.751048   \n",
       "8           40.726713            -73.993078            40.731628   \n",
       "9           40.733873            -73.991540            40.758138   \n",
       "\n",
       "   no_of_passenger  \n",
       "0                1  \n",
       "1                1  \n",
       "2                2  \n",
       "3                1  \n",
       "4                1  \n",
       "5                1  \n",
       "6                1  \n",
       "7                1  \n",
       "8                1  \n",
       "9                2  "
      ]
     },
     "execution_count": 3,
     "metadata": {},
     "output_type": "execute_result"
    }
   ],
   "source": [
    "df.head(10)"
   ]
  },
  {
   "cell_type": "code",
   "execution_count": 4,
   "id": "b6ef070d",
   "metadata": {},
   "outputs": [
    {
     "name": "stdout",
     "output_type": "stream",
     "text": [
      "<class 'pandas.core.frame.DataFrame'>\n",
      "RangeIndex: 50000 entries, 0 to 49999\n",
      "Data columns (total 8 columns):\n",
      " #   Column                Non-Null Count  Dtype  \n",
      "---  ------                --------------  -----  \n",
      " 0   unique_id             50000 non-null  object \n",
      " 1   amount                50000 non-null  float64\n",
      " 2   date_time_of_pickup   50000 non-null  object \n",
      " 3   longitude_of_pickup   50000 non-null  float64\n",
      " 4   latitude_of_pickup    50000 non-null  float64\n",
      " 5   longitude_of_dropoff  50000 non-null  float64\n",
      " 6   latitude_of_dropoff   50000 non-null  float64\n",
      " 7   no_of_passenger       50000 non-null  int64  \n",
      "dtypes: float64(5), int64(1), object(2)\n",
      "memory usage: 3.1+ MB\n"
     ]
    }
   ],
   "source": [
    "df.info()"
   ]
  },
  {
   "cell_type": "code",
   "execution_count": 5,
   "id": "560fcf25",
   "metadata": {},
   "outputs": [
    {
     "data": {
      "text/plain": [
       "unique_id               0\n",
       "amount                  0\n",
       "date_time_of_pickup     0\n",
       "longitude_of_pickup     0\n",
       "latitude_of_pickup      0\n",
       "longitude_of_dropoff    0\n",
       "latitude_of_dropoff     0\n",
       "no_of_passenger         0\n",
       "dtype: int64"
      ]
     },
     "execution_count": 5,
     "metadata": {},
     "output_type": "execute_result"
    }
   ],
   "source": [
    "df.isnull().sum()"
   ]
  },
  {
   "cell_type": "markdown",
   "id": "60664633",
   "metadata": {},
   "source": [
    "## Observation : There are no null values"
   ]
  },
  {
   "cell_type": "code",
   "execution_count": 6,
   "id": "18343afc",
   "metadata": {},
   "outputs": [],
   "source": [
    "## decoding the unique_id and if it affects the output\n",
    "df['unique_id1']=df['unique_id'].str.split(':').str[0]"
   ]
  },
  {
   "cell_type": "code",
   "execution_count": 7,
   "id": "1dde786a",
   "metadata": {},
   "outputs": [
    {
     "data": {
      "text/html": [
       "<div>\n",
       "<style scoped>\n",
       "    .dataframe tbody tr th:only-of-type {\n",
       "        vertical-align: middle;\n",
       "    }\n",
       "\n",
       "    .dataframe tbody tr th {\n",
       "        vertical-align: top;\n",
       "    }\n",
       "\n",
       "    .dataframe thead th {\n",
       "        text-align: right;\n",
       "    }\n",
       "</style>\n",
       "<table border=\"1\" class=\"dataframe\">\n",
       "  <thead>\n",
       "    <tr style=\"text-align: right;\">\n",
       "      <th></th>\n",
       "      <th>unique_id</th>\n",
       "      <th>amount</th>\n",
       "      <th>date_time_of_pickup</th>\n",
       "      <th>longitude_of_pickup</th>\n",
       "      <th>latitude_of_pickup</th>\n",
       "      <th>longitude_of_dropoff</th>\n",
       "      <th>latitude_of_dropoff</th>\n",
       "      <th>no_of_passenger</th>\n",
       "      <th>unique_id1</th>\n",
       "    </tr>\n",
       "  </thead>\n",
       "  <tbody>\n",
       "    <tr>\n",
       "      <th>0</th>\n",
       "      <td>26:21.0</td>\n",
       "      <td>4.5</td>\n",
       "      <td>2009-06-15 17:26:21 UTC</td>\n",
       "      <td>-73.844311</td>\n",
       "      <td>40.721319</td>\n",
       "      <td>-73.841610</td>\n",
       "      <td>40.712278</td>\n",
       "      <td>1</td>\n",
       "      <td>26</td>\n",
       "    </tr>\n",
       "    <tr>\n",
       "      <th>1</th>\n",
       "      <td>52:16.0</td>\n",
       "      <td>16.9</td>\n",
       "      <td>2010-01-05 16:52:16 UTC</td>\n",
       "      <td>-74.016048</td>\n",
       "      <td>40.711303</td>\n",
       "      <td>-73.979268</td>\n",
       "      <td>40.782004</td>\n",
       "      <td>1</td>\n",
       "      <td>52</td>\n",
       "    </tr>\n",
       "  </tbody>\n",
       "</table>\n",
       "</div>"
      ],
      "text/plain": [
       "  unique_id  amount      date_time_of_pickup  longitude_of_pickup  \\\n",
       "0   26:21.0     4.5  2009-06-15 17:26:21 UTC           -73.844311   \n",
       "1   52:16.0    16.9  2010-01-05 16:52:16 UTC           -74.016048   \n",
       "\n",
       "   latitude_of_pickup  longitude_of_dropoff  latitude_of_dropoff  \\\n",
       "0           40.721319            -73.841610            40.712278   \n",
       "1           40.711303            -73.979268            40.782004   \n",
       "\n",
       "   no_of_passenger unique_id1  \n",
       "0                1         26  \n",
       "1                1         52  "
      ]
     },
     "execution_count": 7,
     "metadata": {},
     "output_type": "execute_result"
    }
   ],
   "source": [
    "df.head(2)"
   ]
  },
  {
   "cell_type": "code",
   "execution_count": 8,
   "id": "14ba3e0d",
   "metadata": {},
   "outputs": [],
   "source": [
    "df['unique_id2']=df['unique_id'].str.split(':').str[1]\n",
    "df['unique_id2']=df['unique_id2'].str.split('.').str[0]"
   ]
  },
  {
   "cell_type": "code",
   "execution_count": 9,
   "id": "b5657ce9",
   "metadata": {},
   "outputs": [
    {
     "data": {
      "text/html": [
       "<div>\n",
       "<style scoped>\n",
       "    .dataframe tbody tr th:only-of-type {\n",
       "        vertical-align: middle;\n",
       "    }\n",
       "\n",
       "    .dataframe tbody tr th {\n",
       "        vertical-align: top;\n",
       "    }\n",
       "\n",
       "    .dataframe thead th {\n",
       "        text-align: right;\n",
       "    }\n",
       "</style>\n",
       "<table border=\"1\" class=\"dataframe\">\n",
       "  <thead>\n",
       "    <tr style=\"text-align: right;\">\n",
       "      <th></th>\n",
       "      <th>unique_id</th>\n",
       "      <th>amount</th>\n",
       "      <th>date_time_of_pickup</th>\n",
       "      <th>longitude_of_pickup</th>\n",
       "      <th>latitude_of_pickup</th>\n",
       "      <th>longitude_of_dropoff</th>\n",
       "      <th>latitude_of_dropoff</th>\n",
       "      <th>no_of_passenger</th>\n",
       "      <th>unique_id1</th>\n",
       "      <th>unique_id2</th>\n",
       "    </tr>\n",
       "  </thead>\n",
       "  <tbody>\n",
       "    <tr>\n",
       "      <th>0</th>\n",
       "      <td>26:21.0</td>\n",
       "      <td>4.5</td>\n",
       "      <td>2009-06-15 17:26:21 UTC</td>\n",
       "      <td>-73.844311</td>\n",
       "      <td>40.721319</td>\n",
       "      <td>-73.841610</td>\n",
       "      <td>40.712278</td>\n",
       "      <td>1</td>\n",
       "      <td>26</td>\n",
       "      <td>21</td>\n",
       "    </tr>\n",
       "    <tr>\n",
       "      <th>1</th>\n",
       "      <td>52:16.0</td>\n",
       "      <td>16.9</td>\n",
       "      <td>2010-01-05 16:52:16 UTC</td>\n",
       "      <td>-74.016048</td>\n",
       "      <td>40.711303</td>\n",
       "      <td>-73.979268</td>\n",
       "      <td>40.782004</td>\n",
       "      <td>1</td>\n",
       "      <td>52</td>\n",
       "      <td>16</td>\n",
       "    </tr>\n",
       "  </tbody>\n",
       "</table>\n",
       "</div>"
      ],
      "text/plain": [
       "  unique_id  amount      date_time_of_pickup  longitude_of_pickup  \\\n",
       "0   26:21.0     4.5  2009-06-15 17:26:21 UTC           -73.844311   \n",
       "1   52:16.0    16.9  2010-01-05 16:52:16 UTC           -74.016048   \n",
       "\n",
       "   latitude_of_pickup  longitude_of_dropoff  latitude_of_dropoff  \\\n",
       "0           40.721319            -73.841610            40.712278   \n",
       "1           40.711303            -73.979268            40.782004   \n",
       "\n",
       "   no_of_passenger unique_id1 unique_id2  \n",
       "0                1         26         21  \n",
       "1                1         52         16  "
      ]
     },
     "execution_count": 9,
     "metadata": {},
     "output_type": "execute_result"
    }
   ],
   "source": [
    "df.head(2)"
   ]
  },
  {
   "cell_type": "code",
   "execution_count": 10,
   "id": "bfccc84b",
   "metadata": {},
   "outputs": [],
   "source": [
    "df['unique_id1']=df['unique_id1'].astype(int)"
   ]
  },
  {
   "cell_type": "code",
   "execution_count": 11,
   "id": "b491a55d",
   "metadata": {},
   "outputs": [
    {
     "data": {
      "text/html": [
       "<div>\n",
       "<style scoped>\n",
       "    .dataframe tbody tr th:only-of-type {\n",
       "        vertical-align: middle;\n",
       "    }\n",
       "\n",
       "    .dataframe tbody tr th {\n",
       "        vertical-align: top;\n",
       "    }\n",
       "\n",
       "    .dataframe thead th {\n",
       "        text-align: right;\n",
       "    }\n",
       "</style>\n",
       "<table border=\"1\" class=\"dataframe\">\n",
       "  <thead>\n",
       "    <tr style=\"text-align: right;\">\n",
       "      <th></th>\n",
       "      <th>unique_id</th>\n",
       "      <th>amount</th>\n",
       "      <th>date_time_of_pickup</th>\n",
       "      <th>longitude_of_pickup</th>\n",
       "      <th>latitude_of_pickup</th>\n",
       "      <th>longitude_of_dropoff</th>\n",
       "      <th>latitude_of_dropoff</th>\n",
       "      <th>no_of_passenger</th>\n",
       "      <th>unique_id1</th>\n",
       "      <th>unique_id2</th>\n",
       "    </tr>\n",
       "  </thead>\n",
       "  <tbody>\n",
       "    <tr>\n",
       "      <th>0</th>\n",
       "      <td>26:21.0</td>\n",
       "      <td>4.5</td>\n",
       "      <td>2009-06-15 17:26:21 UTC</td>\n",
       "      <td>-73.844311</td>\n",
       "      <td>40.721319</td>\n",
       "      <td>-73.841610</td>\n",
       "      <td>40.712278</td>\n",
       "      <td>1</td>\n",
       "      <td>26</td>\n",
       "      <td>21</td>\n",
       "    </tr>\n",
       "    <tr>\n",
       "      <th>49</th>\n",
       "      <td>26:00.0</td>\n",
       "      <td>9.0</td>\n",
       "      <td>2013-01-29 12:26:00 UTC</td>\n",
       "      <td>-73.992253</td>\n",
       "      <td>40.742657</td>\n",
       "      <td>-73.983597</td>\n",
       "      <td>40.755947</td>\n",
       "      <td>1</td>\n",
       "      <td>26</td>\n",
       "      <td>00</td>\n",
       "    </tr>\n",
       "    <tr>\n",
       "      <th>76</th>\n",
       "      <td>26:13.0</td>\n",
       "      <td>7.7</td>\n",
       "      <td>2010-12-04 14:26:13 UTC</td>\n",
       "      <td>-73.996601</td>\n",
       "      <td>40.736569</td>\n",
       "      <td>-73.982152</td>\n",
       "      <td>40.744322</td>\n",
       "      <td>1</td>\n",
       "      <td>26</td>\n",
       "      <td>13</td>\n",
       "    </tr>\n",
       "    <tr>\n",
       "      <th>87</th>\n",
       "      <td>26:00.0</td>\n",
       "      <td>7.5</td>\n",
       "      <td>2014-05-19 06:26:00 UTC</td>\n",
       "      <td>-73.990815</td>\n",
       "      <td>40.730495</td>\n",
       "      <td>-73.978337</td>\n",
       "      <td>40.751085</td>\n",
       "      <td>1</td>\n",
       "      <td>26</td>\n",
       "      <td>00</td>\n",
       "    </tr>\n",
       "    <tr>\n",
       "      <th>97</th>\n",
       "      <td>26:00.0</td>\n",
       "      <td>9.0</td>\n",
       "      <td>2014-12-07 12:26:00 UTC</td>\n",
       "      <td>-73.984977</td>\n",
       "      <td>40.752122</td>\n",
       "      <td>-74.000925</td>\n",
       "      <td>40.757982</td>\n",
       "      <td>1</td>\n",
       "      <td>26</td>\n",
       "      <td>00</td>\n",
       "    </tr>\n",
       "    <tr>\n",
       "      <th>...</th>\n",
       "      <td>...</td>\n",
       "      <td>...</td>\n",
       "      <td>...</td>\n",
       "      <td>...</td>\n",
       "      <td>...</td>\n",
       "      <td>...</td>\n",
       "      <td>...</td>\n",
       "      <td>...</td>\n",
       "      <td>...</td>\n",
       "      <td>...</td>\n",
       "    </tr>\n",
       "    <tr>\n",
       "      <th>49569</th>\n",
       "      <td>26:00.0</td>\n",
       "      <td>13.0</td>\n",
       "      <td>2014-04-02 07:26:00 UTC</td>\n",
       "      <td>-73.978942</td>\n",
       "      <td>40.719362</td>\n",
       "      <td>-74.001645</td>\n",
       "      <td>40.746670</td>\n",
       "      <td>6</td>\n",
       "      <td>26</td>\n",
       "      <td>00</td>\n",
       "    </tr>\n",
       "    <tr>\n",
       "      <th>49592</th>\n",
       "      <td>26:34.0</td>\n",
       "      <td>14.1</td>\n",
       "      <td>2011-09-26 00:26:34 UTC</td>\n",
       "      <td>-73.986775</td>\n",
       "      <td>40.742534</td>\n",
       "      <td>-73.967743</td>\n",
       "      <td>40.802079</td>\n",
       "      <td>1</td>\n",
       "      <td>26</td>\n",
       "      <td>34</td>\n",
       "    </tr>\n",
       "    <tr>\n",
       "      <th>49711</th>\n",
       "      <td>26:07.0</td>\n",
       "      <td>8.0</td>\n",
       "      <td>2014-09-25 23:26:07 UTC</td>\n",
       "      <td>-73.993245</td>\n",
       "      <td>40.753296</td>\n",
       "      <td>-73.983932</td>\n",
       "      <td>40.769287</td>\n",
       "      <td>1</td>\n",
       "      <td>26</td>\n",
       "      <td>07</td>\n",
       "    </tr>\n",
       "    <tr>\n",
       "      <th>49797</th>\n",
       "      <td>26:00.0</td>\n",
       "      <td>10.9</td>\n",
       "      <td>2009-03-11 20:26:00 UTC</td>\n",
       "      <td>-73.994265</td>\n",
       "      <td>40.745958</td>\n",
       "      <td>-73.962852</td>\n",
       "      <td>40.763208</td>\n",
       "      <td>5</td>\n",
       "      <td>26</td>\n",
       "      <td>00</td>\n",
       "    </tr>\n",
       "    <tr>\n",
       "      <th>49830</th>\n",
       "      <td>26:13.0</td>\n",
       "      <td>7.5</td>\n",
       "      <td>2013-11-19 21:26:13 UTC</td>\n",
       "      <td>-73.988423</td>\n",
       "      <td>40.748615</td>\n",
       "      <td>-73.991512</td>\n",
       "      <td>40.730393</td>\n",
       "      <td>1</td>\n",
       "      <td>26</td>\n",
       "      <td>13</td>\n",
       "    </tr>\n",
       "  </tbody>\n",
       "</table>\n",
       "<p>865 rows × 10 columns</p>\n",
       "</div>"
      ],
      "text/plain": [
       "      unique_id  amount      date_time_of_pickup  longitude_of_pickup  \\\n",
       "0       26:21.0     4.5  2009-06-15 17:26:21 UTC           -73.844311   \n",
       "49      26:00.0     9.0  2013-01-29 12:26:00 UTC           -73.992253   \n",
       "76      26:13.0     7.7  2010-12-04 14:26:13 UTC           -73.996601   \n",
       "87      26:00.0     7.5  2014-05-19 06:26:00 UTC           -73.990815   \n",
       "97      26:00.0     9.0  2014-12-07 12:26:00 UTC           -73.984977   \n",
       "...         ...     ...                      ...                  ...   \n",
       "49569   26:00.0    13.0  2014-04-02 07:26:00 UTC           -73.978942   \n",
       "49592   26:34.0    14.1  2011-09-26 00:26:34 UTC           -73.986775   \n",
       "49711   26:07.0     8.0  2014-09-25 23:26:07 UTC           -73.993245   \n",
       "49797   26:00.0    10.9  2009-03-11 20:26:00 UTC           -73.994265   \n",
       "49830   26:13.0     7.5  2013-11-19 21:26:13 UTC           -73.988423   \n",
       "\n",
       "       latitude_of_pickup  longitude_of_dropoff  latitude_of_dropoff  \\\n",
       "0               40.721319            -73.841610            40.712278   \n",
       "49              40.742657            -73.983597            40.755947   \n",
       "76              40.736569            -73.982152            40.744322   \n",
       "87              40.730495            -73.978337            40.751085   \n",
       "97              40.752122            -74.000925            40.757982   \n",
       "...                   ...                   ...                  ...   \n",
       "49569           40.719362            -74.001645            40.746670   \n",
       "49592           40.742534            -73.967743            40.802079   \n",
       "49711           40.753296            -73.983932            40.769287   \n",
       "49797           40.745958            -73.962852            40.763208   \n",
       "49830           40.748615            -73.991512            40.730393   \n",
       "\n",
       "       no_of_passenger  unique_id1 unique_id2  \n",
       "0                    1          26         21  \n",
       "49                   1          26         00  \n",
       "76                   1          26         13  \n",
       "87                   1          26         00  \n",
       "97                   1          26         00  \n",
       "...                ...         ...        ...  \n",
       "49569                6          26         00  \n",
       "49592                1          26         34  \n",
       "49711                1          26         07  \n",
       "49797                5          26         00  \n",
       "49830                1          26         13  \n",
       "\n",
       "[865 rows x 10 columns]"
      ]
     },
     "execution_count": 11,
     "metadata": {},
     "output_type": "execute_result"
    }
   ],
   "source": [
    "df[df['unique_id1']==26]\n"
   ]
  },
  {
   "cell_type": "markdown",
   "id": "25acb8ea",
   "metadata": {},
   "source": [
    "## By this we can conclude that unique-id1 is the same as minute_of_pickup and unique_id2 is same as second_of_pickup"
   ]
  },
  {
   "cell_type": "code",
   "execution_count": 12,
   "id": "68b5d447",
   "metadata": {},
   "outputs": [],
   "source": [
    "df.drop(\"unique_id\",axis=1,inplace=True)\n",
    "df.drop(\"unique_id1\",axis=1,inplace=True)\n",
    "df.drop(\"unique_id2\",axis=1,inplace=True)"
   ]
  },
  {
   "cell_type": "code",
   "execution_count": 13,
   "id": "1f89a577",
   "metadata": {},
   "outputs": [
    {
     "data": {
      "text/html": [
       "<div>\n",
       "<style scoped>\n",
       "    .dataframe tbody tr th:only-of-type {\n",
       "        vertical-align: middle;\n",
       "    }\n",
       "\n",
       "    .dataframe tbody tr th {\n",
       "        vertical-align: top;\n",
       "    }\n",
       "\n",
       "    .dataframe thead th {\n",
       "        text-align: right;\n",
       "    }\n",
       "</style>\n",
       "<table border=\"1\" class=\"dataframe\">\n",
       "  <thead>\n",
       "    <tr style=\"text-align: right;\">\n",
       "      <th></th>\n",
       "      <th>amount</th>\n",
       "      <th>date_time_of_pickup</th>\n",
       "      <th>longitude_of_pickup</th>\n",
       "      <th>latitude_of_pickup</th>\n",
       "      <th>longitude_of_dropoff</th>\n",
       "      <th>latitude_of_dropoff</th>\n",
       "      <th>no_of_passenger</th>\n",
       "    </tr>\n",
       "  </thead>\n",
       "  <tbody>\n",
       "    <tr>\n",
       "      <th>0</th>\n",
       "      <td>4.5</td>\n",
       "      <td>2009-06-15 17:26:21 UTC</td>\n",
       "      <td>-73.844311</td>\n",
       "      <td>40.721319</td>\n",
       "      <td>-73.841610</td>\n",
       "      <td>40.712278</td>\n",
       "      <td>1</td>\n",
       "    </tr>\n",
       "    <tr>\n",
       "      <th>1</th>\n",
       "      <td>16.9</td>\n",
       "      <td>2010-01-05 16:52:16 UTC</td>\n",
       "      <td>-74.016048</td>\n",
       "      <td>40.711303</td>\n",
       "      <td>-73.979268</td>\n",
       "      <td>40.782004</td>\n",
       "      <td>1</td>\n",
       "    </tr>\n",
       "    <tr>\n",
       "      <th>2</th>\n",
       "      <td>5.7</td>\n",
       "      <td>2011-08-18 00:35:00 UTC</td>\n",
       "      <td>-73.982738</td>\n",
       "      <td>40.761270</td>\n",
       "      <td>-73.991242</td>\n",
       "      <td>40.750562</td>\n",
       "      <td>2</td>\n",
       "    </tr>\n",
       "    <tr>\n",
       "      <th>3</th>\n",
       "      <td>7.7</td>\n",
       "      <td>2012-04-21 04:30:42 UTC</td>\n",
       "      <td>-73.987130</td>\n",
       "      <td>40.733143</td>\n",
       "      <td>-73.991567</td>\n",
       "      <td>40.758092</td>\n",
       "      <td>1</td>\n",
       "    </tr>\n",
       "    <tr>\n",
       "      <th>4</th>\n",
       "      <td>5.3</td>\n",
       "      <td>2010-03-09 07:51:00 UTC</td>\n",
       "      <td>-73.968095</td>\n",
       "      <td>40.768008</td>\n",
       "      <td>-73.956655</td>\n",
       "      <td>40.783762</td>\n",
       "      <td>1</td>\n",
       "    </tr>\n",
       "  </tbody>\n",
       "</table>\n",
       "</div>"
      ],
      "text/plain": [
       "   amount      date_time_of_pickup  longitude_of_pickup  latitude_of_pickup  \\\n",
       "0     4.5  2009-06-15 17:26:21 UTC           -73.844311           40.721319   \n",
       "1    16.9  2010-01-05 16:52:16 UTC           -74.016048           40.711303   \n",
       "2     5.7  2011-08-18 00:35:00 UTC           -73.982738           40.761270   \n",
       "3     7.7  2012-04-21 04:30:42 UTC           -73.987130           40.733143   \n",
       "4     5.3  2010-03-09 07:51:00 UTC           -73.968095           40.768008   \n",
       "\n",
       "   longitude_of_dropoff  latitude_of_dropoff  no_of_passenger  \n",
       "0            -73.841610            40.712278                1  \n",
       "1            -73.979268            40.782004                1  \n",
       "2            -73.991242            40.750562                2  \n",
       "3            -73.991567            40.758092                1  \n",
       "4            -73.956655            40.783762                1  "
      ]
     },
     "execution_count": 13,
     "metadata": {},
     "output_type": "execute_result"
    }
   ],
   "source": [
    "df.head(5)"
   ]
  },
  {
   "cell_type": "markdown",
   "id": "dbbeb140",
   "metadata": {},
   "source": [
    "## The value of lattitudes should be within -90 to 90 and longitudes within -180 to +180"
   ]
  },
  {
   "cell_type": "code",
   "execution_count": 14,
   "id": "82167062",
   "metadata": {},
   "outputs": [
    {
     "data": {
      "text/html": [
       "<div>\n",
       "<style scoped>\n",
       "    .dataframe tbody tr th:only-of-type {\n",
       "        vertical-align: middle;\n",
       "    }\n",
       "\n",
       "    .dataframe tbody tr th {\n",
       "        vertical-align: top;\n",
       "    }\n",
       "\n",
       "    .dataframe thead th {\n",
       "        text-align: right;\n",
       "    }\n",
       "</style>\n",
       "<table border=\"1\" class=\"dataframe\">\n",
       "  <thead>\n",
       "    <tr style=\"text-align: right;\">\n",
       "      <th></th>\n",
       "      <th>amount</th>\n",
       "      <th>date_time_of_pickup</th>\n",
       "      <th>longitude_of_pickup</th>\n",
       "      <th>latitude_of_pickup</th>\n",
       "      <th>longitude_of_dropoff</th>\n",
       "      <th>latitude_of_dropoff</th>\n",
       "      <th>no_of_passenger</th>\n",
       "    </tr>\n",
       "  </thead>\n",
       "  <tbody>\n",
       "    <tr>\n",
       "      <th>5686</th>\n",
       "      <td>3.3</td>\n",
       "      <td>2011-07-30 11:15:00 UTC</td>\n",
       "      <td>-73.947235</td>\n",
       "      <td>401.083332</td>\n",
       "      <td>-73.951392</td>\n",
       "      <td>40.778927</td>\n",
       "      <td>1</td>\n",
       "    </tr>\n",
       "  </tbody>\n",
       "</table>\n",
       "</div>"
      ],
      "text/plain": [
       "      amount      date_time_of_pickup  longitude_of_pickup  \\\n",
       "5686     3.3  2011-07-30 11:15:00 UTC           -73.947235   \n",
       "\n",
       "      latitude_of_pickup  longitude_of_dropoff  latitude_of_dropoff  \\\n",
       "5686          401.083332            -73.951392            40.778927   \n",
       "\n",
       "      no_of_passenger  \n",
       "5686                1  "
      ]
     },
     "execution_count": 14,
     "metadata": {},
     "output_type": "execute_result"
    }
   ],
   "source": [
    "df[df['latitude_of_pickup']<-90]\n",
    "df[df['latitude_of_pickup']>90]"
   ]
  },
  {
   "cell_type": "code",
   "execution_count": 15,
   "id": "5849bb96",
   "metadata": {},
   "outputs": [
    {
     "data": {
      "text/html": [
       "<div>\n",
       "<style scoped>\n",
       "    .dataframe tbody tr th:only-of-type {\n",
       "        vertical-align: middle;\n",
       "    }\n",
       "\n",
       "    .dataframe tbody tr th {\n",
       "        vertical-align: top;\n",
       "    }\n",
       "\n",
       "    .dataframe thead th {\n",
       "        text-align: right;\n",
       "    }\n",
       "</style>\n",
       "<table border=\"1\" class=\"dataframe\">\n",
       "  <thead>\n",
       "    <tr style=\"text-align: right;\">\n",
       "      <th></th>\n",
       "      <th>amount</th>\n",
       "      <th>date_time_of_pickup</th>\n",
       "      <th>longitude_of_pickup</th>\n",
       "      <th>latitude_of_pickup</th>\n",
       "      <th>longitude_of_dropoff</th>\n",
       "      <th>latitude_of_dropoff</th>\n",
       "      <th>no_of_passenger</th>\n",
       "    </tr>\n",
       "  </thead>\n",
       "  <tbody>\n",
       "  </tbody>\n",
       "</table>\n",
       "</div>"
      ],
      "text/plain": [
       "Empty DataFrame\n",
       "Columns: [amount, date_time_of_pickup, longitude_of_pickup, latitude_of_pickup, longitude_of_dropoff, latitude_of_dropoff, no_of_passenger]\n",
       "Index: []"
      ]
     },
     "execution_count": 15,
     "metadata": {},
     "output_type": "execute_result"
    }
   ],
   "source": [
    "df[df['latitude_of_dropoff']<-90]\n",
    "df[df['latitude_of_dropoff']>90]"
   ]
  },
  {
   "cell_type": "code",
   "execution_count": 16,
   "id": "5360975f",
   "metadata": {},
   "outputs": [
    {
     "data": {
      "text/html": [
       "<div>\n",
       "<style scoped>\n",
       "    .dataframe tbody tr th:only-of-type {\n",
       "        vertical-align: middle;\n",
       "    }\n",
       "\n",
       "    .dataframe tbody tr th {\n",
       "        vertical-align: top;\n",
       "    }\n",
       "\n",
       "    .dataframe thead th {\n",
       "        text-align: right;\n",
       "    }\n",
       "</style>\n",
       "<table border=\"1\" class=\"dataframe\">\n",
       "  <thead>\n",
       "    <tr style=\"text-align: right;\">\n",
       "      <th></th>\n",
       "      <th>amount</th>\n",
       "      <th>date_time_of_pickup</th>\n",
       "      <th>longitude_of_pickup</th>\n",
       "      <th>latitude_of_pickup</th>\n",
       "      <th>longitude_of_dropoff</th>\n",
       "      <th>latitude_of_dropoff</th>\n",
       "      <th>no_of_passenger</th>\n",
       "    </tr>\n",
       "  </thead>\n",
       "  <tbody>\n",
       "  </tbody>\n",
       "</table>\n",
       "</div>"
      ],
      "text/plain": [
       "Empty DataFrame\n",
       "Columns: [amount, date_time_of_pickup, longitude_of_pickup, latitude_of_pickup, longitude_of_dropoff, latitude_of_dropoff, no_of_passenger]\n",
       "Index: []"
      ]
     },
     "execution_count": 16,
     "metadata": {},
     "output_type": "execute_result"
    }
   ],
   "source": [
    "df[df['longitude_of_pickup']<-180]\n",
    "df[df['longitude_of_pickup']>180]"
   ]
  },
  {
   "cell_type": "code",
   "execution_count": 17,
   "id": "ffb1f033",
   "metadata": {},
   "outputs": [
    {
     "data": {
      "text/html": [
       "<div>\n",
       "<style scoped>\n",
       "    .dataframe tbody tr th:only-of-type {\n",
       "        vertical-align: middle;\n",
       "    }\n",
       "\n",
       "    .dataframe tbody tr th {\n",
       "        vertical-align: top;\n",
       "    }\n",
       "\n",
       "    .dataframe thead th {\n",
       "        text-align: right;\n",
       "    }\n",
       "</style>\n",
       "<table border=\"1\" class=\"dataframe\">\n",
       "  <thead>\n",
       "    <tr style=\"text-align: right;\">\n",
       "      <th></th>\n",
       "      <th>amount</th>\n",
       "      <th>date_time_of_pickup</th>\n",
       "      <th>longitude_of_pickup</th>\n",
       "      <th>latitude_of_pickup</th>\n",
       "      <th>longitude_of_dropoff</th>\n",
       "      <th>latitude_of_dropoff</th>\n",
       "      <th>no_of_passenger</th>\n",
       "    </tr>\n",
       "  </thead>\n",
       "  <tbody>\n",
       "  </tbody>\n",
       "</table>\n",
       "</div>"
      ],
      "text/plain": [
       "Empty DataFrame\n",
       "Columns: [amount, date_time_of_pickup, longitude_of_pickup, latitude_of_pickup, longitude_of_dropoff, latitude_of_dropoff, no_of_passenger]\n",
       "Index: []"
      ]
     },
     "execution_count": 17,
     "metadata": {},
     "output_type": "execute_result"
    }
   ],
   "source": [
    "df[df['longitude_of_dropoff']<-180]\n",
    "df[df['longitude_of_dropoff']>180]"
   ]
  },
  {
   "cell_type": "code",
   "execution_count": 18,
   "id": "6452a71c",
   "metadata": {},
   "outputs": [],
   "source": [
    "from math import radians, cos,sin, asin,sqrt\n",
    "\n",
    "def distance(lon1, lon2, lat1 , lat2):\n",
    "    \n",
    "    \n",
    "    lon1 =radians(lon1)\n",
    "    lon2 =radians(lon2)\n",
    "    lat1 =radians(lat1)\n",
    "    lat2 =radians(lat2)\n",
    "    \n",
    "    dlon = lon2 - lon1\n",
    "    dlat = lat2 - lat1\n",
    "    a = sin(dlat/2)**2 + cos(lat1) * cos(lat2) * sin(dlon/2)**2\n",
    "    c = 2 * asin(sqrt(a))\n",
    "    \n",
    "    r = 6371\n",
    "    return(round (c * r, 2))\n",
    "    \n",
    "    \n",
    "d = []\n",
    "for i in range(df.shape[0]):\n",
    "    d.append(distance(df[\"latitude_of_pickup\"][i],\n",
    "                      df[\"latitude_of_dropoff\"][i],\n",
    "                      df[\"longitude_of_pickup\"][i],\n",
    "                      df[\"longitude_of_dropoff\"][i]))## To find the distance, this code is written"
   ]
  },
  {
   "cell_type": "code",
   "execution_count": 19,
   "id": "59e70337",
   "metadata": {},
   "outputs": [],
   "source": [
    "df['distance']= d"
   ]
  },
  {
   "cell_type": "code",
   "execution_count": 20,
   "id": "988fb4ab",
   "metadata": {},
   "outputs": [],
   "source": [
    "df = df.drop(df[df[\"latitude_of_pickup\"] >90 ].index, axis=0)## Dropping that record"
   ]
  },
  {
   "cell_type": "markdown",
   "id": "f76e52f1",
   "metadata": {},
   "source": [
    "## Now since we know the distane the lattitudes and longitudes can be dropped"
   ]
  },
  {
   "cell_type": "code",
   "execution_count": 21,
   "id": "a4844eb6",
   "metadata": {},
   "outputs": [],
   "source": [
    "df.drop(\"longitude_of_pickup\",axis=1,inplace=True)\n",
    "df.drop(\"latitude_of_pickup\",axis=1,inplace=True)\n",
    "df.drop(\"longitude_of_dropoff\",axis=1,inplace=True)\n",
    "df.drop(\"latitude_of_dropoff\",axis=1,inplace=True)"
   ]
  },
  {
   "cell_type": "code",
   "execution_count": 22,
   "id": "fe04b2ba",
   "metadata": {},
   "outputs": [
    {
     "data": {
      "text/html": [
       "<div>\n",
       "<style scoped>\n",
       "    .dataframe tbody tr th:only-of-type {\n",
       "        vertical-align: middle;\n",
       "    }\n",
       "\n",
       "    .dataframe tbody tr th {\n",
       "        vertical-align: top;\n",
       "    }\n",
       "\n",
       "    .dataframe thead th {\n",
       "        text-align: right;\n",
       "    }\n",
       "</style>\n",
       "<table border=\"1\" class=\"dataframe\">\n",
       "  <thead>\n",
       "    <tr style=\"text-align: right;\">\n",
       "      <th></th>\n",
       "      <th>amount</th>\n",
       "      <th>date_time_of_pickup</th>\n",
       "      <th>no_of_passenger</th>\n",
       "      <th>distance</th>\n",
       "    </tr>\n",
       "  </thead>\n",
       "  <tbody>\n",
       "    <tr>\n",
       "      <th>0</th>\n",
       "      <td>4.5</td>\n",
       "      <td>2009-06-15 17:26:21 UTC</td>\n",
       "      <td>1</td>\n",
       "      <td>0.41</td>\n",
       "    </tr>\n",
       "    <tr>\n",
       "      <th>1</th>\n",
       "      <td>16.9</td>\n",
       "      <td>2010-01-05 16:52:16 UTC</td>\n",
       "      <td>1</td>\n",
       "      <td>4.63</td>\n",
       "    </tr>\n",
       "    <tr>\n",
       "      <th>2</th>\n",
       "      <td>5.7</td>\n",
       "      <td>2011-08-18 00:35:00 UTC</td>\n",
       "      <td>2</td>\n",
       "      <td>1.00</td>\n",
       "    </tr>\n",
       "  </tbody>\n",
       "</table>\n",
       "</div>"
      ],
      "text/plain": [
       "   amount      date_time_of_pickup  no_of_passenger  distance\n",
       "0     4.5  2009-06-15 17:26:21 UTC                1      0.41\n",
       "1    16.9  2010-01-05 16:52:16 UTC                1      4.63\n",
       "2     5.7  2011-08-18 00:35:00 UTC                2      1.00"
      ]
     },
     "execution_count": 22,
     "metadata": {},
     "output_type": "execute_result"
    }
   ],
   "source": [
    "df.head(3)"
   ]
  },
  {
   "cell_type": "markdown",
   "id": "7f488179",
   "metadata": {},
   "source": [
    "## Now we have to split the date and time of pickup"
   ]
  },
  {
   "cell_type": "code",
   "execution_count": 23,
   "id": "d920053b",
   "metadata": {},
   "outputs": [],
   "source": [
    "df['date_of_pickup']=df['date_time_of_pickup'].str.split(' ').str[0]\n",
    "df['time_of_pickup']=df['date_time_of_pickup'].str.split(' ').str[1]"
   ]
  },
  {
   "cell_type": "code",
   "execution_count": 24,
   "id": "8c758e12",
   "metadata": {},
   "outputs": [],
   "source": [
    "df['hour_of_pickup']=df['time_of_pickup'].str.split(':').str[0]\n",
    "df['minute_of_pickup']=df['time_of_pickup'].str.split(':').str[1]\n",
    "df['second_of_pickup']=df['time_of_pickup'].str.split(':').str[2]"
   ]
  },
  {
   "cell_type": "code",
   "execution_count": 25,
   "id": "cf3a891d",
   "metadata": {},
   "outputs": [],
   "source": [
    "df['year_of_pickup']=df['date_of_pickup'].str.split('-').str[0]\n",
    "df['month_of_pickup']=df['date_of_pickup'].str.split('-').str[1]\n",
    "df['day_of_pickup']=df['date_of_pickup'].str.split('-').str[2]"
   ]
  },
  {
   "cell_type": "code",
   "execution_count": 26,
   "id": "9a543576",
   "metadata": {},
   "outputs": [
    {
     "data": {
      "text/html": [
       "<div>\n",
       "<style scoped>\n",
       "    .dataframe tbody tr th:only-of-type {\n",
       "        vertical-align: middle;\n",
       "    }\n",
       "\n",
       "    .dataframe tbody tr th {\n",
       "        vertical-align: top;\n",
       "    }\n",
       "\n",
       "    .dataframe thead th {\n",
       "        text-align: right;\n",
       "    }\n",
       "</style>\n",
       "<table border=\"1\" class=\"dataframe\">\n",
       "  <thead>\n",
       "    <tr style=\"text-align: right;\">\n",
       "      <th></th>\n",
       "      <th>amount</th>\n",
       "      <th>date_time_of_pickup</th>\n",
       "      <th>no_of_passenger</th>\n",
       "      <th>distance</th>\n",
       "      <th>date_of_pickup</th>\n",
       "      <th>time_of_pickup</th>\n",
       "      <th>hour_of_pickup</th>\n",
       "      <th>minute_of_pickup</th>\n",
       "      <th>second_of_pickup</th>\n",
       "      <th>year_of_pickup</th>\n",
       "      <th>month_of_pickup</th>\n",
       "      <th>day_of_pickup</th>\n",
       "    </tr>\n",
       "  </thead>\n",
       "  <tbody>\n",
       "    <tr>\n",
       "      <th>0</th>\n",
       "      <td>4.5</td>\n",
       "      <td>2009-06-15 17:26:21 UTC</td>\n",
       "      <td>1</td>\n",
       "      <td>0.41</td>\n",
       "      <td>2009-06-15</td>\n",
       "      <td>17:26:21</td>\n",
       "      <td>17</td>\n",
       "      <td>26</td>\n",
       "      <td>21</td>\n",
       "      <td>2009</td>\n",
       "      <td>06</td>\n",
       "      <td>15</td>\n",
       "    </tr>\n",
       "    <tr>\n",
       "      <th>1</th>\n",
       "      <td>16.9</td>\n",
       "      <td>2010-01-05 16:52:16 UTC</td>\n",
       "      <td>1</td>\n",
       "      <td>4.63</td>\n",
       "      <td>2010-01-05</td>\n",
       "      <td>16:52:16</td>\n",
       "      <td>16</td>\n",
       "      <td>52</td>\n",
       "      <td>16</td>\n",
       "      <td>2010</td>\n",
       "      <td>01</td>\n",
       "      <td>05</td>\n",
       "    </tr>\n",
       "  </tbody>\n",
       "</table>\n",
       "</div>"
      ],
      "text/plain": [
       "   amount      date_time_of_pickup  no_of_passenger  distance date_of_pickup  \\\n",
       "0     4.5  2009-06-15 17:26:21 UTC                1      0.41     2009-06-15   \n",
       "1    16.9  2010-01-05 16:52:16 UTC                1      4.63     2010-01-05   \n",
       "\n",
       "  time_of_pickup hour_of_pickup minute_of_pickup second_of_pickup  \\\n",
       "0       17:26:21             17               26               21   \n",
       "1       16:52:16             16               52               16   \n",
       "\n",
       "  year_of_pickup month_of_pickup day_of_pickup  \n",
       "0           2009              06            15  \n",
       "1           2010              01            05  "
      ]
     },
     "execution_count": 26,
     "metadata": {},
     "output_type": "execute_result"
    }
   ],
   "source": [
    "df.head(2)"
   ]
  },
  {
   "cell_type": "code",
   "execution_count": 27,
   "id": "9af7db5e",
   "metadata": {},
   "outputs": [],
   "source": [
    "df.drop(\"date_time_of_pickup\",axis=1,inplace=True)\n",
    "df.drop(\"date_of_pickup\",axis=1,inplace=True)\n",
    "df.drop(\"time_of_pickup\",axis=1,inplace=True)"
   ]
  },
  {
   "cell_type": "code",
   "execution_count": 28,
   "id": "3b4e12a1",
   "metadata": {},
   "outputs": [
    {
     "data": {
      "text/html": [
       "<div>\n",
       "<style scoped>\n",
       "    .dataframe tbody tr th:only-of-type {\n",
       "        vertical-align: middle;\n",
       "    }\n",
       "\n",
       "    .dataframe tbody tr th {\n",
       "        vertical-align: top;\n",
       "    }\n",
       "\n",
       "    .dataframe thead th {\n",
       "        text-align: right;\n",
       "    }\n",
       "</style>\n",
       "<table border=\"1\" class=\"dataframe\">\n",
       "  <thead>\n",
       "    <tr style=\"text-align: right;\">\n",
       "      <th></th>\n",
       "      <th>amount</th>\n",
       "      <th>no_of_passenger</th>\n",
       "      <th>distance</th>\n",
       "      <th>hour_of_pickup</th>\n",
       "      <th>minute_of_pickup</th>\n",
       "      <th>second_of_pickup</th>\n",
       "      <th>year_of_pickup</th>\n",
       "      <th>month_of_pickup</th>\n",
       "      <th>day_of_pickup</th>\n",
       "    </tr>\n",
       "  </thead>\n",
       "  <tbody>\n",
       "    <tr>\n",
       "      <th>0</th>\n",
       "      <td>4.5</td>\n",
       "      <td>1</td>\n",
       "      <td>0.41</td>\n",
       "      <td>17</td>\n",
       "      <td>26</td>\n",
       "      <td>21</td>\n",
       "      <td>2009</td>\n",
       "      <td>06</td>\n",
       "      <td>15</td>\n",
       "    </tr>\n",
       "    <tr>\n",
       "      <th>1</th>\n",
       "      <td>16.9</td>\n",
       "      <td>1</td>\n",
       "      <td>4.63</td>\n",
       "      <td>16</td>\n",
       "      <td>52</td>\n",
       "      <td>16</td>\n",
       "      <td>2010</td>\n",
       "      <td>01</td>\n",
       "      <td>05</td>\n",
       "    </tr>\n",
       "    <tr>\n",
       "      <th>2</th>\n",
       "      <td>5.7</td>\n",
       "      <td>2</td>\n",
       "      <td>1.00</td>\n",
       "      <td>00</td>\n",
       "      <td>35</td>\n",
       "      <td>00</td>\n",
       "      <td>2011</td>\n",
       "      <td>08</td>\n",
       "      <td>18</td>\n",
       "    </tr>\n",
       "  </tbody>\n",
       "</table>\n",
       "</div>"
      ],
      "text/plain": [
       "   amount  no_of_passenger  distance hour_of_pickup minute_of_pickup  \\\n",
       "0     4.5                1      0.41             17               26   \n",
       "1    16.9                1      4.63             16               52   \n",
       "2     5.7                2      1.00             00               35   \n",
       "\n",
       "  second_of_pickup year_of_pickup month_of_pickup day_of_pickup  \n",
       "0               21           2009              06            15  \n",
       "1               16           2010              01            05  \n",
       "2               00           2011              08            18  "
      ]
     },
     "execution_count": 28,
     "metadata": {},
     "output_type": "execute_result"
    }
   ],
   "source": [
    "df.head(3)"
   ]
  },
  {
   "cell_type": "markdown",
   "id": "3ab1107c",
   "metadata": {},
   "source": [
    "## Amount , No_of_passenger and distance values cant be 0s"
   ]
  },
  {
   "cell_type": "code",
   "execution_count": 29,
   "id": "3998bf78",
   "metadata": {},
   "outputs": [],
   "source": [
    "df[df['amount']<1]\n",
    "df = df.drop(df[df['amount']<1].index, axis=0)"
   ]
  },
  {
   "cell_type": "code",
   "execution_count": 30,
   "id": "020716bb",
   "metadata": {},
   "outputs": [],
   "source": [
    "df[df['no_of_passenger']<1]\n",
    "df = df.drop(df[df['no_of_passenger']<1].index, axis=0)"
   ]
  },
  {
   "cell_type": "code",
   "execution_count": 31,
   "id": "59dd1354",
   "metadata": {},
   "outputs": [],
   "source": [
    "df = df.drop(df[df[\"distance\"] ==0 ].index, axis=0)"
   ]
  },
  {
   "cell_type": "code",
   "execution_count": 32,
   "id": "11a50fd1",
   "metadata": {},
   "outputs": [
    {
     "name": "stdout",
     "output_type": "stream",
     "text": [
      "<class 'pandas.core.frame.DataFrame'>\n",
      "Int64Index: 48269 entries, 0 to 49998\n",
      "Data columns (total 9 columns):\n",
      " #   Column            Non-Null Count  Dtype  \n",
      "---  ------            --------------  -----  \n",
      " 0   amount            48269 non-null  float64\n",
      " 1   no_of_passenger   48269 non-null  int64  \n",
      " 2   distance          48269 non-null  float64\n",
      " 3   hour_of_pickup    48269 non-null  object \n",
      " 4   minute_of_pickup  48269 non-null  object \n",
      " 5   second_of_pickup  48269 non-null  object \n",
      " 6   year_of_pickup    48269 non-null  object \n",
      " 7   month_of_pickup   48269 non-null  object \n",
      " 8   day_of_pickup     48269 non-null  object \n",
      "dtypes: float64(2), int64(1), object(6)\n",
      "memory usage: 3.7+ MB\n"
     ]
    }
   ],
   "source": [
    "df.info()"
   ]
  },
  {
   "cell_type": "markdown",
   "id": "79894544",
   "metadata": {},
   "source": [
    "## To Find if there are any Outliers"
   ]
  },
  {
   "cell_type": "code",
   "execution_count": 33,
   "id": "9a2a43df",
   "metadata": {},
   "outputs": [
    {
     "data": {
      "text/plain": [
       "count    48269.000000\n",
       "mean         1.676542\n",
       "std          1.290755\n",
       "min          1.000000\n",
       "25%          1.000000\n",
       "50%          1.000000\n",
       "75%          2.000000\n",
       "max          6.000000\n",
       "Name: no_of_passenger, dtype: float64"
      ]
     },
     "execution_count": 33,
     "metadata": {},
     "output_type": "execute_result"
    }
   ],
   "source": [
    "df[\"no_of_passenger\"].describe()"
   ]
  },
  {
   "cell_type": "code",
   "execution_count": 34,
   "id": "f082db7d",
   "metadata": {},
   "outputs": [
    {
     "data": {
      "text/plain": [
       "count    48269.000000\n",
       "mean        11.338844\n",
       "std          9.432448\n",
       "min          2.500000\n",
       "25%          6.000000\n",
       "50%          8.500000\n",
       "75%         12.500000\n",
       "max        165.000000\n",
       "Name: amount, dtype: float64"
      ]
     },
     "execution_count": 34,
     "metadata": {},
     "output_type": "execute_result"
    }
   ],
   "source": [
    "df[\"amount\"].describe()"
   ]
  },
  {
   "cell_type": "code",
   "execution_count": 35,
   "id": "43d19ff2",
   "metadata": {},
   "outputs": [],
   "source": [
    "df = df.drop(df[df[\"amount\"] >100 ].index, axis=0)"
   ]
  },
  {
   "cell_type": "code",
   "execution_count": 36,
   "id": "cdbdb5b3",
   "metadata": {},
   "outputs": [],
   "source": [
    "df = df.drop(df[df[\"distance\"] >600 ].index, axis=0)"
   ]
  },
  {
   "cell_type": "code",
   "execution_count": 37,
   "id": "f6959582",
   "metadata": {},
   "outputs": [],
   "source": [
    "df = df.drop(df[df[\"distance\"] >30].index, axis=0)"
   ]
  },
  {
   "cell_type": "markdown",
   "id": "c01aee1f",
   "metadata": {},
   "source": [
    "## Converting all fields to integer"
   ]
  },
  {
   "cell_type": "code",
   "execution_count": 38,
   "id": "67a6d360",
   "metadata": {},
   "outputs": [],
   "source": [
    "df['day_of_pickup']=df['day_of_pickup'].astype(int)\n",
    "df['hour_of_pickup']=df['hour_of_pickup'].astype(int)\n",
    "df['minute_of_pickup']=df['minute_of_pickup'].astype(int)\n",
    "df['second_of_pickup']=df['second_of_pickup'].astype(int)\n",
    "df['amount']=df['amount'].astype(int)"
   ]
  },
  {
   "cell_type": "code",
   "execution_count": 39,
   "id": "da2089f9",
   "metadata": {},
   "outputs": [],
   "source": [
    "df['month_of_pickup']=df['month_of_pickup'].astype(int)"
   ]
  },
  {
   "cell_type": "code",
   "execution_count": 40,
   "id": "dc2f82a4",
   "metadata": {},
   "outputs": [
    {
     "data": {
      "text/plain": [
       "count    48140.000000\n",
       "mean         2.741602\n",
       "std          3.769293\n",
       "min          0.010000\n",
       "25%          0.880000\n",
       "50%          1.580000\n",
       "75%          2.880000\n",
       "max         29.780000\n",
       "Name: distance, dtype: float64"
      ]
     },
     "execution_count": 40,
     "metadata": {},
     "output_type": "execute_result"
    }
   ],
   "source": [
    "df['distance'].describe()"
   ]
  },
  {
   "cell_type": "code",
   "execution_count": 41,
   "id": "f0c5d9f2",
   "metadata": {},
   "outputs": [
    {
     "data": {
      "text/plain": [
       "count    48140.000000\n",
       "mean        10.909161\n",
       "std          9.261640\n",
       "min          2.000000\n",
       "25%          6.000000\n",
       "50%          8.000000\n",
       "75%         12.000000\n",
       "max        100.000000\n",
       "Name: amount, dtype: float64"
      ]
     },
     "execution_count": 41,
     "metadata": {},
     "output_type": "execute_result"
    }
   ],
   "source": [
    "df['amount'].describe()"
   ]
  },
  {
   "cell_type": "code",
   "execution_count": 42,
   "id": "8c3dbdfa",
   "metadata": {},
   "outputs": [
    {
     "name": "stdout",
     "output_type": "stream",
     "text": [
      "<class 'pandas.core.frame.DataFrame'>\n",
      "Int64Index: 48140 entries, 0 to 49998\n",
      "Data columns (total 9 columns):\n",
      " #   Column            Non-Null Count  Dtype  \n",
      "---  ------            --------------  -----  \n",
      " 0   amount            48140 non-null  int32  \n",
      " 1   no_of_passenger   48140 non-null  int64  \n",
      " 2   distance          48140 non-null  float64\n",
      " 3   hour_of_pickup    48140 non-null  int32  \n",
      " 4   minute_of_pickup  48140 non-null  int32  \n",
      " 5   second_of_pickup  48140 non-null  int32  \n",
      " 6   year_of_pickup    48140 non-null  object \n",
      " 7   month_of_pickup   48140 non-null  int32  \n",
      " 8   day_of_pickup     48140 non-null  int32  \n",
      "dtypes: float64(1), int32(6), int64(1), object(1)\n",
      "memory usage: 2.6+ MB\n"
     ]
    }
   ],
   "source": [
    "df.info()"
   ]
  },
  {
   "cell_type": "code",
   "execution_count": 43,
   "id": "7a620299",
   "metadata": {},
   "outputs": [
    {
     "data": {
      "text/html": [
       "<div>\n",
       "<style scoped>\n",
       "    .dataframe tbody tr th:only-of-type {\n",
       "        vertical-align: middle;\n",
       "    }\n",
       "\n",
       "    .dataframe tbody tr th {\n",
       "        vertical-align: top;\n",
       "    }\n",
       "\n",
       "    .dataframe thead th {\n",
       "        text-align: right;\n",
       "    }\n",
       "</style>\n",
       "<table border=\"1\" class=\"dataframe\">\n",
       "  <thead>\n",
       "    <tr style=\"text-align: right;\">\n",
       "      <th></th>\n",
       "      <th>amount</th>\n",
       "      <th>no_of_passenger</th>\n",
       "      <th>distance</th>\n",
       "      <th>hour_of_pickup</th>\n",
       "      <th>minute_of_pickup</th>\n",
       "      <th>second_of_pickup</th>\n",
       "      <th>year_of_pickup</th>\n",
       "      <th>month_of_pickup</th>\n",
       "      <th>day_of_pickup</th>\n",
       "    </tr>\n",
       "  </thead>\n",
       "  <tbody>\n",
       "    <tr>\n",
       "      <th>0</th>\n",
       "      <td>4</td>\n",
       "      <td>1</td>\n",
       "      <td>0.41</td>\n",
       "      <td>17</td>\n",
       "      <td>26</td>\n",
       "      <td>21</td>\n",
       "      <td>0</td>\n",
       "      <td>6</td>\n",
       "      <td>15</td>\n",
       "    </tr>\n",
       "    <tr>\n",
       "      <th>1</th>\n",
       "      <td>16</td>\n",
       "      <td>1</td>\n",
       "      <td>4.63</td>\n",
       "      <td>16</td>\n",
       "      <td>52</td>\n",
       "      <td>16</td>\n",
       "      <td>1</td>\n",
       "      <td>1</td>\n",
       "      <td>5</td>\n",
       "    </tr>\n",
       "    <tr>\n",
       "      <th>2</th>\n",
       "      <td>5</td>\n",
       "      <td>2</td>\n",
       "      <td>1.00</td>\n",
       "      <td>0</td>\n",
       "      <td>35</td>\n",
       "      <td>0</td>\n",
       "      <td>2</td>\n",
       "      <td>8</td>\n",
       "      <td>18</td>\n",
       "    </tr>\n",
       "    <tr>\n",
       "      <th>3</th>\n",
       "      <td>7</td>\n",
       "      <td>1</td>\n",
       "      <td>0.91</td>\n",
       "      <td>4</td>\n",
       "      <td>30</td>\n",
       "      <td>42</td>\n",
       "      <td>3</td>\n",
       "      <td>4</td>\n",
       "      <td>21</td>\n",
       "    </tr>\n",
       "    <tr>\n",
       "      <th>4</th>\n",
       "      <td>5</td>\n",
       "      <td>1</td>\n",
       "      <td>1.36</td>\n",
       "      <td>7</td>\n",
       "      <td>51</td>\n",
       "      <td>0</td>\n",
       "      <td>1</td>\n",
       "      <td>3</td>\n",
       "      <td>9</td>\n",
       "    </tr>\n",
       "  </tbody>\n",
       "</table>\n",
       "</div>"
      ],
      "text/plain": [
       "   amount  no_of_passenger  distance  hour_of_pickup  minute_of_pickup  \\\n",
       "0       4                1      0.41              17                26   \n",
       "1      16                1      4.63              16                52   \n",
       "2       5                2      1.00               0                35   \n",
       "3       7                1      0.91               4                30   \n",
       "4       5                1      1.36               7                51   \n",
       "\n",
       "   second_of_pickup  year_of_pickup  month_of_pickup  day_of_pickup  \n",
       "0                21               0                6             15  \n",
       "1                16               1                1              5  \n",
       "2                 0               2                8             18  \n",
       "3                42               3                4             21  \n",
       "4                 0               1                3              9  "
      ]
     },
     "execution_count": 43,
     "metadata": {},
     "output_type": "execute_result"
    }
   ],
   "source": [
    "from sklearn import preprocessing\n",
    "# label_encoder object knows how to understand word labels.\n",
    "label_encoder = preprocessing.LabelEncoder()\n",
    "\n",
    "# Encode labels in column 'species'.\n",
    "df['year_of_pickup']= label_encoder.fit_transform(df['year_of_pickup'])\n",
    "\n",
    "df['year_of_pickup'].unique()\n",
    "df['year_of_pickup']=df['year_of_pickup'].astype(int)\n",
    "df.head()"
   ]
  },
  {
   "cell_type": "markdown",
   "id": "3ce182fb",
   "metadata": {},
   "source": [
    "## Data Visualisation"
   ]
  },
  {
   "cell_type": "code",
   "execution_count": 44,
   "id": "a9de549d",
   "metadata": {},
   "outputs": [
    {
     "data": {
      "text/plain": [
       "<seaborn.axisgrid.FacetGrid at 0x1d2ca21ffd0>"
      ]
     },
     "execution_count": 44,
     "metadata": {},
     "output_type": "execute_result"
    },
    {
     "data": {
      "image/png": "[encoded data removed]",
      "text/plain": [
       "<Figure size 360x360 with 1 Axes>"
      ]
     },
     "metadata": {},
     "output_type": "display_data"
    }
   ],
   "source": [
    "sns.set_style('whitegrid')\n",
    "sns.lmplot(x ='distance', y ='amount', data = df,  markers =['o'])"
   ]
  },
  {
   "cell_type": "code",
   "execution_count": 45,
   "id": "946b10b2",
   "metadata": {},
   "outputs": [
    {
     "data": {
      "text/plain": [
       "<seaborn.axisgrid.FacetGrid at 0x1d2cb64cf40>"
      ]
     },
     "execution_count": 45,
     "metadata": {},
     "output_type": "execute_result"
    },
    {
     "data": {
      "image/png": "[encoded data removed]",
      "text/plain": [
       "<Figure size 360x360 with 1 Axes>"
      ]
     },
     "metadata": {},
     "output_type": "display_data"
    }
   ],
   "source": [
    "sns.set_style('whitegrid')\n",
    "sns.lmplot(x ='no_of_passenger', y ='amount', data = df,  markers =['o'])"
   ]
  },
  {
   "cell_type": "code",
   "execution_count": 46,
   "id": "06ed6aa9",
   "metadata": {},
   "outputs": [
    {
     "data": {
      "text/plain": [
       "<seaborn.axisgrid.FacetGrid at 0x1d2c527f460>"
      ]
     },
     "execution_count": 46,
     "metadata": {},
     "output_type": "execute_result"
    },
    {
     "data": {
      "image/png": "[encoded data removed]",
      "text/plain": [
       "<Figure size 360x360 with 1 Axes>"
      ]
     },
     "metadata": {},
     "output_type": "display_data"
    }
   ],
   "source": [
    "sns.set_style('whitegrid')\n",
    "sns.lmplot(x ='hour_of_pickup', y ='amount', data = df,  markers =['o'])"
   ]
  },
  {
   "cell_type": "code",
   "execution_count": 47,
   "id": "fb8d704e",
   "metadata": {},
   "outputs": [
    {
     "data": {
      "text/plain": [
       "<seaborn.axisgrid.FacetGrid at 0x1d2ce898820>"
      ]
     },
     "execution_count": 47,
     "metadata": {},
     "output_type": "execute_result"
    },
    {
     "data": {
      "image/png": "[encoded data removed]",
      "text/plain": [
       "<Figure size 360x360 with 1 Axes>"
      ]
     },
     "metadata": {},
     "output_type": "display_data"
    }
   ],
   "source": [
    "sns.set_style('whitegrid')\n",
    "sns.lmplot(x ='hour_of_pickup', y ='amount', data = df,  markers =['o'])"
   ]
  },
  {
   "cell_type": "code",
   "execution_count": 48,
   "id": "270e29a3",
   "metadata": {},
   "outputs": [
    {
     "data": {
      "text/html": [
       "<div>\n",
       "<style scoped>\n",
       "    .dataframe tbody tr th:only-of-type {\n",
       "        vertical-align: middle;\n",
       "    }\n",
       "\n",
       "    .dataframe tbody tr th {\n",
       "        vertical-align: top;\n",
       "    }\n",
       "\n",
       "    .dataframe thead th {\n",
       "        text-align: right;\n",
       "    }\n",
       "</style>\n",
       "<table border=\"1\" class=\"dataframe\">\n",
       "  <thead>\n",
       "    <tr style=\"text-align: right;\">\n",
       "      <th></th>\n",
       "      <th>no_of_passenger</th>\n",
       "      <th>distance</th>\n",
       "      <th>hour_of_pickup</th>\n",
       "      <th>minute_of_pickup</th>\n",
       "      <th>second_of_pickup</th>\n",
       "      <th>year_of_pickup</th>\n",
       "      <th>month_of_pickup</th>\n",
       "      <th>day_of_pickup</th>\n",
       "    </tr>\n",
       "  </thead>\n",
       "  <tbody>\n",
       "    <tr>\n",
       "      <th>0</th>\n",
       "      <td>1</td>\n",
       "      <td>0.41</td>\n",
       "      <td>17</td>\n",
       "      <td>26</td>\n",
       "      <td>21</td>\n",
       "      <td>0</td>\n",
       "      <td>6</td>\n",
       "      <td>15</td>\n",
       "    </tr>\n",
       "    <tr>\n",
       "      <th>1</th>\n",
       "      <td>1</td>\n",
       "      <td>4.63</td>\n",
       "      <td>16</td>\n",
       "      <td>52</td>\n",
       "      <td>16</td>\n",
       "      <td>1</td>\n",
       "      <td>1</td>\n",
       "      <td>5</td>\n",
       "    </tr>\n",
       "    <tr>\n",
       "      <th>2</th>\n",
       "      <td>2</td>\n",
       "      <td>1.00</td>\n",
       "      <td>0</td>\n",
       "      <td>35</td>\n",
       "      <td>0</td>\n",
       "      <td>2</td>\n",
       "      <td>8</td>\n",
       "      <td>18</td>\n",
       "    </tr>\n",
       "    <tr>\n",
       "      <th>3</th>\n",
       "      <td>1</td>\n",
       "      <td>0.91</td>\n",
       "      <td>4</td>\n",
       "      <td>30</td>\n",
       "      <td>42</td>\n",
       "      <td>3</td>\n",
       "      <td>4</td>\n",
       "      <td>21</td>\n",
       "    </tr>\n",
       "    <tr>\n",
       "      <th>4</th>\n",
       "      <td>1</td>\n",
       "      <td>1.36</td>\n",
       "      <td>7</td>\n",
       "      <td>51</td>\n",
       "      <td>0</td>\n",
       "      <td>1</td>\n",
       "      <td>3</td>\n",
       "      <td>9</td>\n",
       "    </tr>\n",
       "    <tr>\n",
       "      <th>...</th>\n",
       "      <td>...</td>\n",
       "      <td>...</td>\n",
       "      <td>...</td>\n",
       "      <td>...</td>\n",
       "      <td>...</td>\n",
       "      <td>...</td>\n",
       "      <td>...</td>\n",
       "      <td>...</td>\n",
       "    </tr>\n",
       "    <tr>\n",
       "      <th>49994</th>\n",
       "      <td>1</td>\n",
       "      <td>0.86</td>\n",
       "      <td>19</td>\n",
       "      <td>57</td>\n",
       "      <td>0</td>\n",
       "      <td>3</td>\n",
       "      <td>10</td>\n",
       "      <td>13</td>\n",
       "    </tr>\n",
       "    <tr>\n",
       "      <th>49995</th>\n",
       "      <td>1</td>\n",
       "      <td>2.29</td>\n",
       "      <td>23</td>\n",
       "      <td>25</td>\n",
       "      <td>15</td>\n",
       "      <td>4</td>\n",
       "      <td>6</td>\n",
       "      <td>12</td>\n",
       "    </tr>\n",
       "    <tr>\n",
       "      <th>49996</th>\n",
       "      <td>1</td>\n",
       "      <td>0.37</td>\n",
       "      <td>17</td>\n",
       "      <td>19</td>\n",
       "      <td>18</td>\n",
       "      <td>6</td>\n",
       "      <td>6</td>\n",
       "      <td>22</td>\n",
       "    </tr>\n",
       "    <tr>\n",
       "      <th>49997</th>\n",
       "      <td>1</td>\n",
       "      <td>0.80</td>\n",
       "      <td>4</td>\n",
       "      <td>53</td>\n",
       "      <td>0</td>\n",
       "      <td>2</td>\n",
       "      <td>1</td>\n",
       "      <td>30</td>\n",
       "    </tr>\n",
       "    <tr>\n",
       "      <th>49998</th>\n",
       "      <td>2</td>\n",
       "      <td>0.82</td>\n",
       "      <td>7</td>\n",
       "      <td>9</td>\n",
       "      <td>0</td>\n",
       "      <td>3</td>\n",
       "      <td>11</td>\n",
       "      <td>6</td>\n",
       "    </tr>\n",
       "  </tbody>\n",
       "</table>\n",
       "<p>48140 rows × 8 columns</p>\n",
       "</div>"
      ],
      "text/plain": [
       "       no_of_passenger  distance  hour_of_pickup  minute_of_pickup  \\\n",
       "0                    1      0.41              17                26   \n",
       "1                    1      4.63              16                52   \n",
       "2                    2      1.00               0                35   \n",
       "3                    1      0.91               4                30   \n",
       "4                    1      1.36               7                51   \n",
       "...                ...       ...             ...               ...   \n",
       "49994                1      0.86              19                57   \n",
       "49995                1      2.29              23                25   \n",
       "49996                1      0.37              17                19   \n",
       "49997                1      0.80               4                53   \n",
       "49998                2      0.82               7                 9   \n",
       "\n",
       "       second_of_pickup  year_of_pickup  month_of_pickup  day_of_pickup  \n",
       "0                    21               0                6             15  \n",
       "1                    16               1                1              5  \n",
       "2                     0               2                8             18  \n",
       "3                    42               3                4             21  \n",
       "4                     0               1                3              9  \n",
       "...                 ...             ...              ...            ...  \n",
       "49994                 0               3               10             13  \n",
       "49995                15               4                6             12  \n",
       "49996                18               6                6             22  \n",
       "49997                 0               2                1             30  \n",
       "49998                 0               3               11              6  \n",
       "\n",
       "[48140 rows x 8 columns]"
      ]
     },
     "execution_count": 48,
     "metadata": {},
     "output_type": "execute_result"
    }
   ],
   "source": [
    "X=df.iloc[:,1:9]\n",
    "X"
   ]
  },
  {
   "cell_type": "code",
   "execution_count": 49,
   "id": "9ac953fa",
   "metadata": {},
   "outputs": [
    {
     "data": {
      "text/html": [
       "<div>\n",
       "<style scoped>\n",
       "    .dataframe tbody tr th:only-of-type {\n",
       "        vertical-align: middle;\n",
       "    }\n",
       "\n",
       "    .dataframe tbody tr th {\n",
       "        vertical-align: top;\n",
       "    }\n",
       "\n",
       "    .dataframe thead th {\n",
       "        text-align: right;\n",
       "    }\n",
       "</style>\n",
       "<table border=\"1\" class=\"dataframe\">\n",
       "  <thead>\n",
       "    <tr style=\"text-align: right;\">\n",
       "      <th></th>\n",
       "      <th>amount</th>\n",
       "    </tr>\n",
       "  </thead>\n",
       "  <tbody>\n",
       "    <tr>\n",
       "      <th>0</th>\n",
       "      <td>4</td>\n",
       "    </tr>\n",
       "    <tr>\n",
       "      <th>1</th>\n",
       "      <td>16</td>\n",
       "    </tr>\n",
       "    <tr>\n",
       "      <th>2</th>\n",
       "      <td>5</td>\n",
       "    </tr>\n",
       "    <tr>\n",
       "      <th>3</th>\n",
       "      <td>7</td>\n",
       "    </tr>\n",
       "    <tr>\n",
       "      <th>4</th>\n",
       "      <td>5</td>\n",
       "    </tr>\n",
       "    <tr>\n",
       "      <th>...</th>\n",
       "      <td>...</td>\n",
       "    </tr>\n",
       "    <tr>\n",
       "      <th>49994</th>\n",
       "      <td>8</td>\n",
       "    </tr>\n",
       "    <tr>\n",
       "      <th>49995</th>\n",
       "      <td>15</td>\n",
       "    </tr>\n",
       "    <tr>\n",
       "      <th>49996</th>\n",
       "      <td>7</td>\n",
       "    </tr>\n",
       "    <tr>\n",
       "      <th>49997</th>\n",
       "      <td>6</td>\n",
       "    </tr>\n",
       "    <tr>\n",
       "      <th>49998</th>\n",
       "      <td>4</td>\n",
       "    </tr>\n",
       "  </tbody>\n",
       "</table>\n",
       "<p>48140 rows × 1 columns</p>\n",
       "</div>"
      ],
      "text/plain": [
       "       amount\n",
       "0           4\n",
       "1          16\n",
       "2           5\n",
       "3           7\n",
       "4           5\n",
       "...       ...\n",
       "49994       8\n",
       "49995      15\n",
       "49996       7\n",
       "49997       6\n",
       "49998       4\n",
       "\n",
       "[48140 rows x 1 columns]"
      ]
     },
     "execution_count": 49,
     "metadata": {},
     "output_type": "execute_result"
    }
   ],
   "source": [
    "y=df.iloc[:,0:1]\n",
    "y"
   ]
  },
  {
   "cell_type": "code",
   "execution_count": 50,
   "id": "6c69fed4",
   "metadata": {},
   "outputs": [],
   "source": [
    "from sklearn.model_selection import train_test_split\n",
    "X_train,X_test,y_train,y_test = train_test_split(X, y, test_size=0.33)"
   ]
  },
  {
   "cell_type": "code",
   "execution_count": 51,
   "id": "5d82f6a2",
   "metadata": {},
   "outputs": [],
   "source": [
    "from sklearn.preprocessing import StandardScaler\n",
    "sc=StandardScaler()\n",
    "X_train=sc.fit_transform(X_train)\n",
    "X_test=sc.fit_transform(X_test)"
   ]
  },
  {
   "cell_type": "markdown",
   "id": "3cc42143",
   "metadata": {},
   "source": [
    "## Linear Regrssion"
   ]
  },
  {
   "cell_type": "code",
   "execution_count": 52,
   "id": "7cf36669",
   "metadata": {},
   "outputs": [
    {
     "name": "stderr",
     "output_type": "stream",
     "text": [
      "C:\\Users\\anish\\anaconda\\lib\\site-packages\\sklearn\\linear_model\\_base.py:141: FutureWarning: 'normalize' was deprecated in version 1.0 and will be removed in 1.2.\n",
      "If you wish to scale the data, use Pipeline with a StandardScaler in a preprocessing stage. To reproduce the previous behavior:\n",
      "\n",
      "from sklearn.pipeline import make_pipeline\n",
      "\n",
      "model = make_pipeline(StandardScaler(with_mean=False), LinearRegression())\n",
      "\n",
      "If you wish to pass a sample_weight parameter, you need to pass it as a fit parameter to each step of the pipeline as follows:\n",
      "\n",
      "kwargs = {s[0] + '__sample_weight': sample_weight for s in model.steps}\n",
      "model.fit(X, y, **kwargs)\n",
      "\n",
      "\n",
      "  warnings.warn(\n"
     ]
    }
   ],
   "source": [
    "from sklearn.linear_model import LinearRegression\n",
    "from sklearn.metrics import mean_squared_error\n",
    "linreg = LinearRegression(fit_intercept= True, normalize =True)\n",
    "linreg.fit(X_train , y_train)\n",
    "LinearRegression(normalize=True)\n",
    "y_pred = linreg.predict(X_test)"
   ]
  },
  {
   "cell_type": "code",
   "execution_count": 53,
   "id": "9c39d448",
   "metadata": {},
   "outputs": [
    {
     "data": {
      "text/plain": [
       "76.29497422000098"
      ]
     },
     "execution_count": 53,
     "metadata": {},
     "output_type": "execute_result"
    }
   ],
   "source": [
    "from sklearn.metrics import r2_score\n",
    "r2_score(y_test , y_pred)*100"
   ]
  },
  {
   "cell_type": "markdown",
   "id": "dffb9701",
   "metadata": {},
   "source": [
    "## Random Forest Regression"
   ]
  },
  {
   "cell_type": "code",
   "execution_count": 54,
   "id": "2fb5a221",
   "metadata": {},
   "outputs": [
    {
     "name": "stderr",
     "output_type": "stream",
     "text": [
      "C:\\Users\\anish\\AppData\\Local\\Temp\\ipykernel_22088\\2411780474.py:3: DataConversionWarning: A column-vector y was passed when a 1d array was expected. Please change the shape of y to (n_samples,), for example using ravel().\n",
      "  rfreg.fit(X_train,y_train)\n"
     ]
    },
    {
     "data": {
      "text/plain": [
       "RandomForestRegressor(n_estimators=15)"
      ]
     },
     "execution_count": 54,
     "metadata": {},
     "output_type": "execute_result"
    }
   ],
   "source": [
    "from sklearn.ensemble import RandomForestRegressor\n",
    "rfreg = RandomForestRegressor(n_estimators = 15)\n",
    "rfreg.fit(X_train,y_train)\n"
   ]
  },
  {
   "cell_type": "code",
   "execution_count": 55,
   "id": "2ab9fb6e",
   "metadata": {},
   "outputs": [],
   "source": [
    "predict = rfreg.predict(X_test)\n"
   ]
  },
  {
   "cell_type": "code",
   "execution_count": 56,
   "id": "a86d61da",
   "metadata": {},
   "outputs": [
    {
     "data": {
      "text/plain": [
       "74.49952901622439"
      ]
     },
     "execution_count": 56,
     "metadata": {},
     "output_type": "execute_result"
    }
   ],
   "source": [
    "r2_score(y_test, predict)*100"
   ]
  },
  {
   "cell_type": "markdown",
   "id": "a9b27cda",
   "metadata": {},
   "source": [
    "## XGBoost Regression"
   ]
  },
  {
   "cell_type": "code",
   "execution_count": 57,
   "id": "8f58aa74",
   "metadata": {},
   "outputs": [
    {
     "name": "stdout",
     "output_type": "stream",
     "text": [
      "Requirement already satisfied: xgboost in c:\\users\\anish\\anaconda\\lib\\site-packages (1.6.1)\n",
      "Requirement already satisfied: scipy in c:\\users\\anish\\anaconda\\lib\\site-packages (from xgboost) (1.7.3)\n",
      "Requirement already satisfied: numpy in c:\\users\\anish\\anaconda\\lib\\site-packages (from xgboost) (1.21.5)\n"
     ]
    }
   ],
   "source": [
    "!pip install xgboost"
   ]
  },
  {
   "cell_type": "code",
   "execution_count": 58,
   "id": "fdc70f04",
   "metadata": {},
   "outputs": [
    {
     "name": "stdout",
     "output_type": "stream",
     "text": [
      "[23:27:38] WARNING: C:/Users/Administrator/workspace/xgboost-win64_release_1.6.0/src/objective/regression_obj.cu:203: reg:linear is now deprecated in favor of reg:squarederror.\n"
     ]
    }
   ],
   "source": [
    "import xgboost as xg\n",
    "xgb_r = xg.XGBRegressor(objective ='reg:linear',\n",
    "                  n_estimators = 10, seed = 123)\n",
    "xgb_r.fit(X_train,y_train)\n",
    " \n",
    "# Predict the model\n",
    "pred = xgb_r.predict(X_test)\n",
    " "
   ]
  },
  {
   "cell_type": "code",
   "execution_count": 59,
   "id": "bea9c262",
   "metadata": {},
   "outputs": [
    {
     "data": {
      "text/plain": [
       "77.33109138808796"
      ]
     },
     "execution_count": 59,
     "metadata": {},
     "output_type": "execute_result"
    }
   ],
   "source": [
    "r2_score(y_test, pred)*100"
   ]
  },
  {
   "cell_type": "markdown",
   "id": "7e484eab",
   "metadata": {},
   "source": [
    "## SVM Regression"
   ]
  },
  {
   "cell_type": "code",
   "execution_count": 60,
   "id": "d95a9355",
   "metadata": {},
   "outputs": [
    {
     "name": "stderr",
     "output_type": "stream",
     "text": [
      "C:\\Users\\anish\\anaconda\\lib\\site-packages\\sklearn\\utils\\validation.py:993: DataConversionWarning: A column-vector y was passed when a 1d array was expected. Please change the shape of y to (n_samples, ), for example using ravel().\n",
      "  y = column_or_1d(y, warn=True)\n"
     ]
    },
    {
     "data": {
      "text/plain": [
       "SVR()"
      ]
     },
     "execution_count": 60,
     "metadata": {},
     "output_type": "execute_result"
    }
   ],
   "source": [
    "from sklearn.svm import SVR\n",
    "regressor = SVR(kernel = 'rbf')\n",
    "regressor.fit(X_train, y_train)"
   ]
  },
  {
   "cell_type": "code",
   "execution_count": 61,
   "id": "6f76b4a1",
   "metadata": {},
   "outputs": [],
   "source": [
    "y_pred2 = regressor.predict(X_test)\n"
   ]
  },
  {
   "cell_type": "code",
   "execution_count": 62,
   "id": "0af0e5c9",
   "metadata": {},
   "outputs": [
    {
     "data": {
      "text/plain": [
       "75.5031485953394"
      ]
     },
     "execution_count": 62,
     "metadata": {},
     "output_type": "execute_result"
    }
   ],
   "source": [
    "r2_score(y_test,y_pred2)*100"
   ]
  },
  {
   "cell_type": "markdown",
   "id": "dc13eced",
   "metadata": {},
   "source": [
    "## ANN Regression"
   ]
  },
  {
   "cell_type": "code",
   "execution_count": 63,
   "id": "73450a8d",
   "metadata": {},
   "outputs": [
    {
     "name": "stdout",
     "output_type": "stream",
     "text": [
      "Requirement already satisfied: tensorflow-gpu in c:\\users\\anish\\anaconda\\lib\\site-packages (2.9.1)\n",
      "Requirement already satisfied: gast<=0.4.0,>=0.2.1 in c:\\users\\anish\\anaconda\\lib\\site-packages (from tensorflow-gpu) (0.4.0)\n",
      "Requirement already satisfied: libclang>=13.0.0 in c:\\users\\anish\\anaconda\\lib\\site-packages (from tensorflow-gpu) (14.0.1)\n",
      "Requirement already satisfied: h5py>=2.9.0 in c:\\users\\anish\\anaconda\\lib\\site-packages (from tensorflow-gpu) (3.6.0)\n",
      "Requirement already satisfied: tensorflow-estimator<2.10.0,>=2.9.0rc0 in c:\\users\\anish\\anaconda\\lib\\site-packages (from tensorflow-gpu) (2.9.0)\n",
      "Requirement already satisfied: typing-extensions>=3.6.6 in c:\\users\\anish\\appdata\\roaming\\python\\python39\\site-packages (from tensorflow-gpu) (3.10.0.0)\n",
      "Requirement already satisfied: numpy>=1.20 in c:\\users\\anish\\anaconda\\lib\\site-packages (from tensorflow-gpu) (1.21.5)\n",
      "Requirement already satisfied: termcolor>=1.1.0 in c:\\users\\anish\\anaconda\\lib\\site-packages (from tensorflow-gpu) (1.1.0)\n",
      "Requirement already satisfied: keras<2.10.0,>=2.9.0rc0 in c:\\users\\anish\\anaconda\\lib\\site-packages (from tensorflow-gpu) (2.9.0)\n",
      "Requirement already satisfied: google-pasta>=0.1.1 in c:\\users\\anish\\anaconda\\lib\\site-packages (from tensorflow-gpu) (0.2.0)\n",
      "Requirement already satisfied: flatbuffers<2,>=1.12 in c:\\users\\anish\\anaconda\\lib\\site-packages (from tensorflow-gpu) (1.12)\n",
      "Requirement already satisfied: wrapt>=1.11.0 in c:\\users\\anish\\anaconda\\lib\\site-packages (from tensorflow-gpu) (1.12.1)\n",
      "Requirement already satisfied: packaging in c:\\users\\anish\\anaconda\\lib\\site-packages (from tensorflow-gpu) (21.3)\n",
      "Requirement already satisfied: grpcio<2.0,>=1.24.3 in c:\\users\\anish\\anaconda\\lib\\site-packages (from tensorflow-gpu) (1.42.0)\n",
      "Requirement already satisfied: six>=1.12.0 in c:\\users\\anish\\anaconda\\lib\\site-packages (from tensorflow-gpu) (1.16.0)\n",
      "Requirement already satisfied: astunparse>=1.6.0 in c:\\users\\anish\\anaconda\\lib\\site-packages (from tensorflow-gpu) (1.6.3)\n",
      "Requirement already satisfied: keras-preprocessing>=1.1.1 in c:\\users\\anish\\anaconda\\lib\\site-packages (from tensorflow-gpu) (1.1.2)\n",
      "Requirement already satisfied: tensorflow-io-gcs-filesystem>=0.23.1 in c:\\users\\anish\\anaconda\\lib\\site-packages (from tensorflow-gpu) (0.26.0)\n",
      "Requirement already satisfied: absl-py>=1.0.0 in c:\\users\\anish\\anaconda\\lib\\site-packages (from tensorflow-gpu) (1.1.0)\n",
      "Requirement already satisfied: protobuf<3.20,>=3.9.2 in c:\\users\\anish\\anaconda\\lib\\site-packages (from tensorflow-gpu) (3.19.1)\n",
      "Requirement already satisfied: tensorboard<2.10,>=2.9 in c:\\users\\anish\\anaconda\\lib\\site-packages (from tensorflow-gpu) (2.9.1)\n",
      "Requirement already satisfied: setuptools in c:\\users\\anish\\anaconda\\lib\\site-packages (from tensorflow-gpu) (61.2.0)\n",
      "Requirement already satisfied: opt-einsum>=2.3.2 in c:\\users\\anish\\anaconda\\lib\\site-packages (from tensorflow-gpu) (3.3.0)\n",
      "Requirement already satisfied: wheel<1.0,>=0.23.0 in c:\\users\\anish\\anaconda\\lib\\site-packages (from astunparse>=1.6.0->tensorflow-gpu) (0.37.1)\n",
      "Requirement already satisfied: markdown>=2.6.8 in c:\\users\\anish\\anaconda\\lib\\site-packages (from tensorboard<2.10,>=2.9->tensorflow-gpu) (3.3.4)\n",
      "Requirement already satisfied: google-auth<3,>=1.6.3 in c:\\users\\anish\\anaconda\\lib\\site-packages (from tensorboard<2.10,>=2.9->tensorflow-gpu) (1.33.0)\n",
      "Requirement already satisfied: werkzeug>=1.0.1 in c:\\users\\anish\\appdata\\roaming\\python\\python39\\site-packages (from tensorboard<2.10,>=2.9->tensorflow-gpu) (1.0.1)\n",
      "Requirement already satisfied: google-auth-oauthlib<0.5,>=0.4.1 in c:\\users\\anish\\anaconda\\lib\\site-packages (from tensorboard<2.10,>=2.9->tensorflow-gpu) (0.4.6)\n",
      "Requirement already satisfied: requests<3,>=2.21.0 in c:\\users\\anish\\appdata\\roaming\\python\\python39\\site-packages (from tensorboard<2.10,>=2.9->tensorflow-gpu) (2.25.1)\n",
      "Requirement already satisfied: tensorboard-data-server<0.7.0,>=0.6.0 in c:\\users\\anish\\anaconda\\lib\\site-packages (from tensorboard<2.10,>=2.9->tensorflow-gpu) (0.6.1)\n",
      "Requirement already satisfied: tensorboard-plugin-wit>=1.6.0 in c:\\users\\anish\\anaconda\\lib\\site-packages (from tensorboard<2.10,>=2.9->tensorflow-gpu) (1.8.1)\n",
      "Requirement already satisfied: cachetools<5.0,>=2.0.0 in c:\\users\\anish\\anaconda\\lib\\site-packages (from google-auth<3,>=1.6.3->tensorboard<2.10,>=2.9->tensorflow-gpu) (4.2.2)\n",
      "Requirement already satisfied: rsa<5,>=3.1.4 in c:\\users\\anish\\anaconda\\lib\\site-packages (from google-auth<3,>=1.6.3->tensorboard<2.10,>=2.9->tensorflow-gpu) (4.7.2)\n",
      "Requirement already satisfied: pyasn1-modules>=0.2.1 in c:\\users\\anish\\anaconda\\lib\\site-packages (from google-auth<3,>=1.6.3->tensorboard<2.10,>=2.9->tensorflow-gpu) (0.2.8)\n",
      "Requirement already satisfied: requests-oauthlib>=0.7.0 in c:\\users\\anish\\anaconda\\lib\\site-packages (from google-auth-oauthlib<0.5,>=0.4.1->tensorboard<2.10,>=2.9->tensorflow-gpu) (1.3.1)\n",
      "Requirement already satisfied: pyasn1<0.5.0,>=0.4.6 in c:\\users\\anish\\anaconda\\lib\\site-packages (from pyasn1-modules>=0.2.1->google-auth<3,>=1.6.3->tensorboard<2.10,>=2.9->tensorflow-gpu) (0.4.8)\n",
      "Requirement already satisfied: urllib3<1.27,>=1.21.1 in c:\\users\\anish\\anaconda\\lib\\site-packages (from requests<3,>=2.21.0->tensorboard<2.10,>=2.9->tensorflow-gpu) (1.26.9)\n",
      "Requirement already satisfied: certifi>=2017.4.17 in c:\\users\\anish\\anaconda\\lib\\site-packages (from requests<3,>=2.21.0->tensorboard<2.10,>=2.9->tensorflow-gpu) (2021.10.8)\n",
      "Requirement already satisfied: chardet<5,>=3.0.2 in c:\\users\\anish\\anaconda\\lib\\site-packages (from requests<3,>=2.21.0->tensorboard<2.10,>=2.9->tensorflow-gpu) (4.0.0)\n",
      "Requirement already satisfied: idna<3,>=2.5 in c:\\users\\anish\\appdata\\roaming\\python\\python39\\site-packages (from requests<3,>=2.21.0->tensorboard<2.10,>=2.9->tensorflow-gpu) (2.10)\n",
      "Requirement already satisfied: oauthlib>=3.0.0 in c:\\users\\anish\\anaconda\\lib\\site-packages (from requests-oauthlib>=0.7.0->google-auth-oauthlib<0.5,>=0.4.1->tensorboard<2.10,>=2.9->tensorflow-gpu) (3.2.0)\n",
      "Requirement already satisfied: pyparsing!=3.0.5,>=2.0.2 in c:\\users\\anish\\anaconda\\lib\\site-packages (from packaging->tensorflow-gpu) (3.0.4)\n"
     ]
    }
   ],
   "source": [
    "!pip install tensorflow-gpu"
   ]
  },
  {
   "cell_type": "code",
   "execution_count": 64,
   "id": "6e449bd0",
   "metadata": {},
   "outputs": [
    {
     "name": "stdout",
     "output_type": "stream",
     "text": [
      "2.9.1\n"
     ]
    }
   ],
   "source": [
    "import tensorflow as tf\n",
    "print(tf.__version__)\n"
   ]
  },
  {
   "cell_type": "code",
   "execution_count": 65,
   "id": "bf6891bc",
   "metadata": {},
   "outputs": [],
   "source": [
    "from tensorflow.keras.models import Sequential #Helps to create Forward and backward propogation\n",
    "from tensorflow.keras.layers import Dense #Helps to create neurons in ANN\n",
    "from tensorflow.keras.layers import LeakyReLU,PReLU,ELU #activation functions\n",
    "from tensorflow.keras.layers import Dropout #Regularization Parameters"
   ]
  },
  {
   "cell_type": "code",
   "execution_count": 66,
   "id": "42177096",
   "metadata": {},
   "outputs": [
    {
     "name": "stdout",
     "output_type": "stream",
     "text": [
      "Model: \"sequential\"\n",
      "_________________________________________________________________\n",
      " Layer (type)                Output Shape              Param #   \n",
      "=================================================================\n",
      " dense (Dense)               (None, 128)               1152      \n",
      "                                                                 \n",
      " dense_1 (Dense)             (None, 256)               33024     \n",
      "                                                                 \n",
      " dense_2 (Dense)             (None, 256)               65792     \n",
      "                                                                 \n",
      " dense_3 (Dense)             (None, 256)               65792     \n",
      "                                                                 \n",
      " dense_4 (Dense)             (None, 1)                 257       \n",
      "                                                                 \n",
      "=================================================================\n",
      "Total params: 166,017\n",
      "Trainable params: 166,017\n",
      "Non-trainable params: 0\n",
      "_________________________________________________________________\n",
      "Epoch 1/35\n",
      "2161/2161 [==============================] - 6s 3ms/step - loss: 2.9832 - mean_absolute_error: 2.9832 - val_loss: 2.8642 - val_mean_absolute_error: 2.8642\n",
      "Epoch 2/35\n",
      "2161/2161 [==============================] - 6s 3ms/step - loss: 2.7878 - mean_absolute_error: 2.7878 - val_loss: 2.8704 - val_mean_absolute_error: 2.8704\n",
      "Epoch 3/35\n",
      "2161/2161 [==============================] - 5s 3ms/step - loss: 2.7582 - mean_absolute_error: 2.7582 - val_loss: 2.7015 - val_mean_absolute_error: 2.7015\n",
      "Epoch 4/35\n",
      "2161/2161 [==============================] - 6s 3ms/step - loss: 2.7250 - mean_absolute_error: 2.7250 - val_loss: 2.7095 - val_mean_absolute_error: 2.7095\n",
      "Epoch 5/35\n",
      "2161/2161 [==============================] - 6s 3ms/step - loss: 2.7213 - mean_absolute_error: 2.7213 - val_loss: 2.7253 - val_mean_absolute_error: 2.7253\n",
      "Epoch 6/35\n",
      "2161/2161 [==============================] - 6s 3ms/step - loss: 2.7090 - mean_absolute_error: 2.7090 - val_loss: 2.7279 - val_mean_absolute_error: 2.7279\n",
      "Epoch 7/35\n",
      "2161/2161 [==============================] - 7s 3ms/step - loss: 2.6946 - mean_absolute_error: 2.6946 - val_loss: 2.6312 - val_mean_absolute_error: 2.6312\n",
      "Epoch 8/35\n",
      "2161/2161 [==============================] - 6s 3ms/step - loss: 2.6841 - mean_absolute_error: 2.6841 - val_loss: 2.6947 - val_mean_absolute_error: 2.6947\n",
      "Epoch 9/35\n",
      "2161/2161 [==============================] - 6s 3ms/step - loss: 2.6836 - mean_absolute_error: 2.6836 - val_loss: 2.7174 - val_mean_absolute_error: 2.7174\n",
      "Epoch 10/35\n",
      "2161/2161 [==============================] - 6s 3ms/step - loss: 2.6716 - mean_absolute_error: 2.6716 - val_loss: 2.7128 - val_mean_absolute_error: 2.7128\n",
      "Epoch 11/35\n",
      "2161/2161 [==============================] - 6s 3ms/step - loss: 2.6641 - mean_absolute_error: 2.6641 - val_loss: 2.6540 - val_mean_absolute_error: 2.6540\n",
      "Epoch 12/35\n",
      "2161/2161 [==============================] - 6s 3ms/step - loss: 2.6655 - mean_absolute_error: 2.6655 - val_loss: 2.6606 - val_mean_absolute_error: 2.6606\n",
      "Epoch 13/35\n",
      "2161/2161 [==============================] - 6s 3ms/step - loss: 2.6576 - mean_absolute_error: 2.6576 - val_loss: 2.6747 - val_mean_absolute_error: 2.6747\n",
      "Epoch 14/35\n",
      "2161/2161 [==============================] - 6s 3ms/step - loss: 2.6535 - mean_absolute_error: 2.6535 - val_loss: 2.6879 - val_mean_absolute_error: 2.6879\n",
      "Epoch 15/35\n",
      "2161/2161 [==============================] - 6s 3ms/step - loss: 2.6521 - mean_absolute_error: 2.6521 - val_loss: 2.6198 - val_mean_absolute_error: 2.6198\n",
      "Epoch 16/35\n",
      "2161/2161 [==============================] - 6s 3ms/step - loss: 2.6489 - mean_absolute_error: 2.6489 - val_loss: 2.6351 - val_mean_absolute_error: 2.6351\n",
      "Epoch 17/35\n",
      "2161/2161 [==============================] - 6s 3ms/step - loss: 2.6485 - mean_absolute_error: 2.6485 - val_loss: 2.7087 - val_mean_absolute_error: 2.7087\n",
      "Epoch 18/35\n",
      "2161/2161 [==============================] - 6s 3ms/step - loss: 2.6475 - mean_absolute_error: 2.6475 - val_loss: 2.6492 - val_mean_absolute_error: 2.6492\n",
      "Epoch 19/35\n",
      "2161/2161 [==============================] - 6s 3ms/step - loss: 2.6441 - mean_absolute_error: 2.6441 - val_loss: 2.6597 - val_mean_absolute_error: 2.6597\n",
      "Epoch 20/35\n",
      "2161/2161 [==============================] - 6s 3ms/step - loss: 2.6419 - mean_absolute_error: 2.6419 - val_loss: 2.6340 - val_mean_absolute_error: 2.6340\n",
      "Epoch 21/35\n",
      "2161/2161 [==============================] - 6s 3ms/step - loss: 2.6387 - mean_absolute_error: 2.6387 - val_loss: 2.6281 - val_mean_absolute_error: 2.6281\n",
      "Epoch 22/35\n",
      "2161/2161 [==============================] - 6s 3ms/step - loss: 2.6328 - mean_absolute_error: 2.6328 - val_loss: 2.6716 - val_mean_absolute_error: 2.6716\n",
      "Epoch 23/35\n",
      "2161/2161 [==============================] - 6s 3ms/step - loss: 2.6315 - mean_absolute_error: 2.6315 - val_loss: 2.7245 - val_mean_absolute_error: 2.7245\n",
      "Epoch 24/35\n",
      "2161/2161 [==============================] - 6s 3ms/step - loss: 2.6282 - mean_absolute_error: 2.6282 - val_loss: 2.8014 - val_mean_absolute_error: 2.8014\n",
      "Epoch 25/35\n",
      "2161/2161 [==============================] - 6s 3ms/step - loss: 2.6267 - mean_absolute_error: 2.6267 - val_loss: 2.6624 - val_mean_absolute_error: 2.6624\n",
      "Epoch 26/35\n",
      "2161/2161 [==============================] - 6s 3ms/step - loss: 2.6275 - mean_absolute_error: 2.6275 - val_loss: 2.6215 - val_mean_absolute_error: 2.6215\n",
      "Epoch 27/35\n",
      "2161/2161 [==============================] - 6s 3ms/step - loss: 2.6231 - mean_absolute_error: 2.6231 - val_loss: 2.6587 - val_mean_absolute_error: 2.6587\n",
      "Epoch 28/35\n",
      "2161/2161 [==============================] - 6s 3ms/step - loss: 2.6228 - mean_absolute_error: 2.6228 - val_loss: 2.6360 - val_mean_absolute_error: 2.6360\n",
      "Epoch 29/35\n",
      "2161/2161 [==============================] - 6s 3ms/step - loss: 2.6186 - mean_absolute_error: 2.6186 - val_loss: 2.6347 - val_mean_absolute_error: 2.6347\n",
      "Epoch 30/35\n",
      "2161/2161 [==============================] - 6s 3ms/step - loss: 2.6183 - mean_absolute_error: 2.6183 - val_loss: 2.6656 - val_mean_absolute_error: 2.6656\n",
      "Epoch 31/35\n",
      "2161/2161 [==============================] - 6s 3ms/step - loss: 2.6160 - mean_absolute_error: 2.6160 - val_loss: 2.6375 - val_mean_absolute_error: 2.6375\n",
      "Epoch 32/35\n",
      "2161/2161 [==============================] - 6s 3ms/step - loss: 2.6143 - mean_absolute_error: 2.6143 - val_loss: 2.6296 - val_mean_absolute_error: 2.6296\n",
      "Epoch 33/35\n",
      "2161/2161 [==============================] - 6s 3ms/step - loss: 2.6150 - mean_absolute_error: 2.6150 - val_loss: 2.6653 - val_mean_absolute_error: 2.6653\n",
      "Epoch 34/35\n",
      "2161/2161 [==============================] - 6s 3ms/step - loss: 2.6061 - mean_absolute_error: 2.6061 - val_loss: 2.6735 - val_mean_absolute_error: 2.6735\n",
      "Epoch 35/35\n",
      "2161/2161 [==============================] - 6s 3ms/step - loss: 2.6100 - mean_absolute_error: 2.6100 - val_loss: 2.6517 - val_mean_absolute_error: 2.6517\n"
     ]
    }
   ],
   "source": [
    "NN_model = Sequential()\n",
    "\n",
    "# The Input Layer :\n",
    "NN_model.add(Dense(128, kernel_initializer='normal',input_dim = X_train.shape[1], activation='relu'))\n",
    "\n",
    "# The Hidden Layers :\n",
    "NN_model.add(Dense(256, kernel_initializer='normal',activation='relu'))\n",
    "NN_model.add(Dense(256, kernel_initializer='normal',activation='relu'))\n",
    "NN_model.add(Dense(256, kernel_initializer='normal',activation='relu'))\n",
    "\n",
    "# The Output Layer :\n",
    "NN_model.add(Dense(1, kernel_initializer='normal',activation='linear'))\n",
    "\n",
    "# Compile the network :\n",
    "NN_model.compile(loss='mean_absolute_error', optimizer='adam', metrics=['mean_absolute_error'])\n",
    "NN_model.summary()\n",
    "\n",
    "# Fitting the ANN to the Training set\n",
    "model_history=NN_model.fit(X_train, y_train,validation_split=0.33, batch_size = 10, epochs = 35)"
   ]
  },
  {
   "cell_type": "code",
   "execution_count": 67,
   "id": "72469b3a",
   "metadata": {},
   "outputs": [
    {
     "name": "stdout",
     "output_type": "stream",
     "text": [
      "497/497 [==============================] - 1s 1ms/step\n"
     ]
    }
   ],
   "source": [
    "predict=NN_model.predict(X_test)"
   ]
  },
  {
   "cell_type": "code",
   "execution_count": 68,
   "id": "4bbc3439",
   "metadata": {},
   "outputs": [
    {
     "data": {
      "text/plain": [
       "75.80416851627531"
      ]
     },
     "execution_count": 68,
     "metadata": {},
     "output_type": "execute_result"
    }
   ],
   "source": [
    "r2_score(y_test,predict)*100"
   ]
  },
  {
   "cell_type": "code",
   "execution_count": null,
   "id": "b2898e34",
   "metadata": {},
   "outputs": [],
   "source": []
  }
 ],
 "metadata": {
  "kernelspec": {
   "display_name": "Python 3 (ipykernel)",
   "language": "python",
   "name": "python3"
  },
  "language_info": {
   "codemirror_mode": {
    "name": "ipython",
    "version": 3
   },
   "file_extension": ".py",
   "mimetype": "text/x-python",
   "name": "python",
   "nbconvert_exporter": "python",
   "pygments_lexer": "ipython3",
   "version": "3.9.12"
  }
 },
 "nbformat": 4,
 "nbformat_minor": 5
}
