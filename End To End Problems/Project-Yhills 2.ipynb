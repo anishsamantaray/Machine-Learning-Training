{
 "cells": [
  {
   "cell_type": "markdown",
   "id": "81fb29a8",
   "metadata": {},
   "source": [
    "## Problem statement: Predict whether the person is vaccinated or not\n",
    "\n",
    "If the person has recieved either one of the vaccines or both the vaccines are predicted with the help of following attributes"
   ]
  },
  {
   "cell_type": "code",
   "execution_count": 1,
   "id": "f5864bb6",
   "metadata": {},
   "outputs": [],
   "source": [
    "import numpy as np\n",
    "import pandas as pd\n",
    "import matplotlib.pyplot as plt\n",
    "import seaborn as sns\n",
    "%matplotlib inline"
   ]
  },
  {
   "cell_type": "code",
   "execution_count": 2,
   "id": "b077b660",
   "metadata": {},
   "outputs": [],
   "source": [
    "df=pd.read_csv(\"C:/Users/anish/Downloads/archive1/H1N1_Flu_Vaccines.csv\")"
   ]
  },
  {
   "cell_type": "code",
   "execution_count": 3,
   "id": "0f62c678",
   "metadata": {},
   "outputs": [
    {
     "data": {
      "text/html": [
       "<div>\n",
       "<style scoped>\n",
       "    .dataframe tbody tr th:only-of-type {\n",
       "        vertical-align: middle;\n",
       "    }\n",
       "\n",
       "    .dataframe tbody tr th {\n",
       "        vertical-align: top;\n",
       "    }\n",
       "\n",
       "    .dataframe thead th {\n",
       "        text-align: right;\n",
       "    }\n",
       "</style>\n",
       "<table border=\"1\" class=\"dataframe\">\n",
       "  <thead>\n",
       "    <tr style=\"text-align: right;\">\n",
       "      <th></th>\n",
       "      <th>respondent_id</th>\n",
       "      <th>h1n1_concern</th>\n",
       "      <th>h1n1_knowledge</th>\n",
       "      <th>behavioral_antiviral_meds</th>\n",
       "      <th>behavioral_avoidance</th>\n",
       "      <th>behavioral_face_mask</th>\n",
       "      <th>behavioral_wash_hands</th>\n",
       "      <th>behavioral_large_gatherings</th>\n",
       "      <th>behavioral_outside_home</th>\n",
       "      <th>behavioral_touch_face</th>\n",
       "      <th>...</th>\n",
       "      <th>rent_or_own</th>\n",
       "      <th>employment_status</th>\n",
       "      <th>hhs_geo_region</th>\n",
       "      <th>census_msa</th>\n",
       "      <th>household_adults</th>\n",
       "      <th>household_children</th>\n",
       "      <th>employment_industry</th>\n",
       "      <th>employment_occupation</th>\n",
       "      <th>h1n1_vaccine</th>\n",
       "      <th>seasonal_vaccine</th>\n",
       "    </tr>\n",
       "  </thead>\n",
       "  <tbody>\n",
       "    <tr>\n",
       "      <th>0</th>\n",
       "      <td>0</td>\n",
       "      <td>1.0</td>\n",
       "      <td>0.0</td>\n",
       "      <td>0.0</td>\n",
       "      <td>0.0</td>\n",
       "      <td>0.0</td>\n",
       "      <td>0.0</td>\n",
       "      <td>0.0</td>\n",
       "      <td>1.0</td>\n",
       "      <td>1.0</td>\n",
       "      <td>...</td>\n",
       "      <td>Own</td>\n",
       "      <td>Not in Labor Force</td>\n",
       "      <td>oxchjgsf</td>\n",
       "      <td>Non-MSA</td>\n",
       "      <td>0.0</td>\n",
       "      <td>0.0</td>\n",
       "      <td>NaN</td>\n",
       "      <td>NaN</td>\n",
       "      <td>0</td>\n",
       "      <td>0</td>\n",
       "    </tr>\n",
       "    <tr>\n",
       "      <th>1</th>\n",
       "      <td>1</td>\n",
       "      <td>3.0</td>\n",
       "      <td>2.0</td>\n",
       "      <td>0.0</td>\n",
       "      <td>1.0</td>\n",
       "      <td>0.0</td>\n",
       "      <td>1.0</td>\n",
       "      <td>0.0</td>\n",
       "      <td>1.0</td>\n",
       "      <td>1.0</td>\n",
       "      <td>...</td>\n",
       "      <td>Rent</td>\n",
       "      <td>Employed</td>\n",
       "      <td>bhuqouqj</td>\n",
       "      <td>MSA, Not Principle  City</td>\n",
       "      <td>0.0</td>\n",
       "      <td>0.0</td>\n",
       "      <td>pxcmvdjn</td>\n",
       "      <td>xgwztkwe</td>\n",
       "      <td>0</td>\n",
       "      <td>1</td>\n",
       "    </tr>\n",
       "  </tbody>\n",
       "</table>\n",
       "<p>2 rows × 38 columns</p>\n",
       "</div>"
      ],
      "text/plain": [
       "   respondent_id  h1n1_concern  h1n1_knowledge  behavioral_antiviral_meds  \\\n",
       "0              0           1.0             0.0                        0.0   \n",
       "1              1           3.0             2.0                        0.0   \n",
       "\n",
       "   behavioral_avoidance  behavioral_face_mask  behavioral_wash_hands  \\\n",
       "0                   0.0                   0.0                    0.0   \n",
       "1                   1.0                   0.0                    1.0   \n",
       "\n",
       "   behavioral_large_gatherings  behavioral_outside_home  \\\n",
       "0                          0.0                      1.0   \n",
       "1                          0.0                      1.0   \n",
       "\n",
       "   behavioral_touch_face  ...  rent_or_own   employment_status  \\\n",
       "0                    1.0  ...          Own  Not in Labor Force   \n",
       "1                    1.0  ...         Rent            Employed   \n",
       "\n",
       "   hhs_geo_region                census_msa  household_adults  \\\n",
       "0        oxchjgsf                   Non-MSA               0.0   \n",
       "1        bhuqouqj  MSA, Not Principle  City               0.0   \n",
       "\n",
       "   household_children  employment_industry  employment_occupation  \\\n",
       "0                 0.0                  NaN                    NaN   \n",
       "1                 0.0             pxcmvdjn               xgwztkwe   \n",
       "\n",
       "   h1n1_vaccine  seasonal_vaccine  \n",
       "0             0                 0  \n",
       "1             0                 1  \n",
       "\n",
       "[2 rows x 38 columns]"
      ]
     },
     "execution_count": 3,
     "metadata": {},
     "output_type": "execute_result"
    }
   ],
   "source": [
    "df.head(2)"
   ]
  },
  {
   "cell_type": "code",
   "execution_count": 4,
   "id": "0b2455ad",
   "metadata": {},
   "outputs": [
    {
     "name": "stdout",
     "output_type": "stream",
     "text": [
      "<class 'pandas.core.frame.DataFrame'>\n",
      "RangeIndex: 26707 entries, 0 to 26706\n",
      "Data columns (total 38 columns):\n",
      " #   Column                       Non-Null Count  Dtype  \n",
      "---  ------                       --------------  -----  \n",
      " 0   respondent_id                26707 non-null  int64  \n",
      " 1   h1n1_concern                 26615 non-null  float64\n",
      " 2   h1n1_knowledge               26591 non-null  float64\n",
      " 3   behavioral_antiviral_meds    26636 non-null  float64\n",
      " 4   behavioral_avoidance         26499 non-null  float64\n",
      " 5   behavioral_face_mask         26688 non-null  float64\n",
      " 6   behavioral_wash_hands        26665 non-null  float64\n",
      " 7   behavioral_large_gatherings  26620 non-null  float64\n",
      " 8   behavioral_outside_home      26625 non-null  float64\n",
      " 9   behavioral_touch_face        26579 non-null  float64\n",
      " 10  doctor_recc_h1n1             24547 non-null  float64\n",
      " 11  doctor_recc_seasonal         24547 non-null  float64\n",
      " 12  chronic_med_condition        25736 non-null  float64\n",
      " 13  child_under_6_months         25887 non-null  float64\n",
      " 14  health_worker                25903 non-null  float64\n",
      " 15  health_insurance             14433 non-null  float64\n",
      " 16  opinion_h1n1_vacc_effective  26316 non-null  float64\n",
      " 17  opinion_h1n1_risk            26319 non-null  float64\n",
      " 18  opinion_h1n1_sick_from_vacc  26312 non-null  float64\n",
      " 19  opinion_seas_vacc_effective  26245 non-null  float64\n",
      " 20  opinion_seas_risk            26193 non-null  float64\n",
      " 21  opinion_seas_sick_from_vacc  26170 non-null  float64\n",
      " 22  age_group                    26707 non-null  object \n",
      " 23  education                    25300 non-null  object \n",
      " 24  race                         26707 non-null  object \n",
      " 25  sex                          26707 non-null  object \n",
      " 26  income_poverty               22284 non-null  object \n",
      " 27  marital_status               25299 non-null  object \n",
      " 28  rent_or_own                  24665 non-null  object \n",
      " 29  employment_status            25244 non-null  object \n",
      " 30  hhs_geo_region               26707 non-null  object \n",
      " 31  census_msa                   26707 non-null  object \n",
      " 32  household_adults             26458 non-null  float64\n",
      " 33  household_children           26458 non-null  float64\n",
      " 34  employment_industry          13377 non-null  object \n",
      " 35  employment_occupation        13237 non-null  object \n",
      " 36  h1n1_vaccine                 26707 non-null  int64  \n",
      " 37  seasonal_vaccine             26707 non-null  int64  \n",
      "dtypes: float64(23), int64(3), object(12)\n",
      "memory usage: 7.7+ MB\n"
     ]
    }
   ],
   "source": [
    "df.info()"
   ]
  },
  {
   "cell_type": "code",
   "execution_count": 5,
   "id": "59c6078c",
   "metadata": {},
   "outputs": [
    {
     "data": {
      "text/plain": [
       "respondent_id                      0\n",
       "h1n1_concern                      92\n",
       "h1n1_knowledge                   116\n",
       "behavioral_antiviral_meds         71\n",
       "behavioral_avoidance             208\n",
       "behavioral_face_mask              19\n",
       "behavioral_wash_hands             42\n",
       "behavioral_large_gatherings       87\n",
       "behavioral_outside_home           82\n",
       "behavioral_touch_face            128\n",
       "doctor_recc_h1n1                2160\n",
       "doctor_recc_seasonal            2160\n",
       "chronic_med_condition            971\n",
       "child_under_6_months             820\n",
       "health_worker                    804\n",
       "health_insurance               12274\n",
       "opinion_h1n1_vacc_effective      391\n",
       "opinion_h1n1_risk                388\n",
       "opinion_h1n1_sick_from_vacc      395\n",
       "opinion_seas_vacc_effective      462\n",
       "opinion_seas_risk                514\n",
       "opinion_seas_sick_from_vacc      537\n",
       "age_group                          0\n",
       "education                       1407\n",
       "race                               0\n",
       "sex                                0\n",
       "income_poverty                  4423\n",
       "marital_status                  1408\n",
       "rent_or_own                     2042\n",
       "employment_status               1463\n",
       "hhs_geo_region                     0\n",
       "census_msa                         0\n",
       "household_adults                 249\n",
       "household_children               249\n",
       "employment_industry            13330\n",
       "employment_occupation          13470\n",
       "h1n1_vaccine                       0\n",
       "seasonal_vaccine                   0\n",
       "dtype: int64"
      ]
     },
     "execution_count": 5,
     "metadata": {},
     "output_type": "execute_result"
    }
   ],
   "source": [
    "df.isnull().sum()"
   ]
  },
  {
   "cell_type": "markdown",
   "id": "3daebfad",
   "metadata": {},
   "source": [
    "## Feature 1"
   ]
  },
  {
   "cell_type": "code",
   "execution_count": 6,
   "id": "a8c9354e",
   "metadata": {},
   "outputs": [],
   "source": [
    "df.drop(\"respondent_id\",axis=1,inplace=True)"
   ]
  },
  {
   "cell_type": "markdown",
   "id": "8fbc9139",
   "metadata": {},
   "source": [
    "## Feature 2"
   ]
  },
  {
   "cell_type": "code",
   "execution_count": 7,
   "id": "51e5cab2",
   "metadata": {},
   "outputs": [
    {
     "data": {
      "text/plain": [
       "array([ 1.,  3.,  2.,  0., nan])"
      ]
     },
     "execution_count": 7,
     "metadata": {},
     "output_type": "execute_result"
    }
   ],
   "source": [
    "df['h1n1_concern'].unique()"
   ]
  },
  {
   "cell_type": "code",
   "execution_count": 8,
   "id": "d79ffca4",
   "metadata": {},
   "outputs": [],
   "source": [
    "df['h1n1_concern']=df['h1n1_concern'].fillna(df['h1n1_concern'].mode()[0])"
   ]
  },
  {
   "cell_type": "code",
   "execution_count": 9,
   "id": "6b4ba66d",
   "metadata": {},
   "outputs": [],
   "source": [
    "df['h1n1_concern']=df['h1n1_concern'].astype(int)"
   ]
  },
  {
   "cell_type": "code",
   "execution_count": 10,
   "id": "de2df7d0",
   "metadata": {},
   "outputs": [
    {
     "data": {
      "text/plain": [
       "array([1, 3, 2, 0])"
      ]
     },
     "execution_count": 10,
     "metadata": {},
     "output_type": "execute_result"
    }
   ],
   "source": [
    "df['h1n1_concern'].unique()"
   ]
  },
  {
   "cell_type": "markdown",
   "id": "95c6b1aa",
   "metadata": {},
   "source": [
    "## Feature 3"
   ]
  },
  {
   "cell_type": "code",
   "execution_count": 11,
   "id": "afd0c3ca",
   "metadata": {},
   "outputs": [
    {
     "data": {
      "text/plain": [
       "array([ 0.,  2.,  1., nan])"
      ]
     },
     "execution_count": 11,
     "metadata": {},
     "output_type": "execute_result"
    }
   ],
   "source": [
    "df['h1n1_knowledge'].unique()"
   ]
  },
  {
   "cell_type": "code",
   "execution_count": 12,
   "id": "fed95aa2",
   "metadata": {},
   "outputs": [],
   "source": [
    "df['h1n1_knowledge']=df['h1n1_knowledge'].fillna(df['h1n1_knowledge'].mode()[0])"
   ]
  },
  {
   "cell_type": "code",
   "execution_count": 13,
   "id": "41bedaca",
   "metadata": {},
   "outputs": [],
   "source": [
    "df['h1n1_knowledge']=df['h1n1_knowledge'].astype(int)"
   ]
  },
  {
   "cell_type": "code",
   "execution_count": 14,
   "id": "e4d02a98",
   "metadata": {},
   "outputs": [
    {
     "data": {
      "text/plain": [
       "array([0, 2, 1])"
      ]
     },
     "execution_count": 14,
     "metadata": {},
     "output_type": "execute_result"
    }
   ],
   "source": [
    "df['h1n1_knowledge'].unique()"
   ]
  },
  {
   "cell_type": "markdown",
   "id": "a10de4a1",
   "metadata": {},
   "source": [
    "## Feature 4"
   ]
  },
  {
   "cell_type": "code",
   "execution_count": 15,
   "id": "1dbb1648",
   "metadata": {},
   "outputs": [
    {
     "data": {
      "text/plain": [
       "array([ 0.,  1., nan])"
      ]
     },
     "execution_count": 15,
     "metadata": {},
     "output_type": "execute_result"
    }
   ],
   "source": [
    "df['behavioral_antiviral_meds'].unique()"
   ]
  },
  {
   "cell_type": "code",
   "execution_count": 16,
   "id": "4684da78",
   "metadata": {},
   "outputs": [],
   "source": [
    "df['behavioral_antiviral_meds']=df['behavioral_antiviral_meds'].fillna(df['behavioral_antiviral_meds'].mode()[0])"
   ]
  },
  {
   "cell_type": "code",
   "execution_count": 17,
   "id": "c69ce2a5",
   "metadata": {},
   "outputs": [],
   "source": [
    "df['behavioral_antiviral_meds']=df['behavioral_antiviral_meds'].astype(int)"
   ]
  },
  {
   "cell_type": "code",
   "execution_count": 18,
   "id": "34005e8a",
   "metadata": {},
   "outputs": [
    {
     "data": {
      "text/plain": [
       "array([0, 1])"
      ]
     },
     "execution_count": 18,
     "metadata": {},
     "output_type": "execute_result"
    }
   ],
   "source": [
    "df['behavioral_antiviral_meds'].unique()"
   ]
  },
  {
   "cell_type": "markdown",
   "id": "7f486d57",
   "metadata": {},
   "source": [
    "## Feature 5"
   ]
  },
  {
   "cell_type": "code",
   "execution_count": 19,
   "id": "6e1056d9",
   "metadata": {},
   "outputs": [
    {
     "data": {
      "text/plain": [
       "array([ 0.,  1., nan])"
      ]
     },
     "execution_count": 19,
     "metadata": {},
     "output_type": "execute_result"
    }
   ],
   "source": [
    "df['behavioral_avoidance'].unique()"
   ]
  },
  {
   "cell_type": "code",
   "execution_count": 20,
   "id": "2a82413a",
   "metadata": {},
   "outputs": [],
   "source": [
    "df['behavioral_avoidance']=df['behavioral_avoidance'].fillna(df['behavioral_avoidance'].mode()[0])"
   ]
  },
  {
   "cell_type": "code",
   "execution_count": 21,
   "id": "e289766c",
   "metadata": {},
   "outputs": [],
   "source": [
    "df['behavioral_avoidance']=df['behavioral_avoidance'].astype(int)"
   ]
  },
  {
   "cell_type": "code",
   "execution_count": 22,
   "id": "9f4777ea",
   "metadata": {},
   "outputs": [
    {
     "data": {
      "text/plain": [
       "array([0, 1])"
      ]
     },
     "execution_count": 22,
     "metadata": {},
     "output_type": "execute_result"
    }
   ],
   "source": [
    "df['behavioral_avoidance'].unique()"
   ]
  },
  {
   "cell_type": "code",
   "execution_count": 23,
   "id": "be884173",
   "metadata": {},
   "outputs": [
    {
     "name": "stdout",
     "output_type": "stream",
     "text": [
      "<class 'pandas.core.frame.DataFrame'>\n",
      "RangeIndex: 26707 entries, 0 to 26706\n",
      "Data columns (total 37 columns):\n",
      " #   Column                       Non-Null Count  Dtype  \n",
      "---  ------                       --------------  -----  \n",
      " 0   h1n1_concern                 26707 non-null  int32  \n",
      " 1   h1n1_knowledge               26707 non-null  int32  \n",
      " 2   behavioral_antiviral_meds    26707 non-null  int32  \n",
      " 3   behavioral_avoidance         26707 non-null  int32  \n",
      " 4   behavioral_face_mask         26688 non-null  float64\n",
      " 5   behavioral_wash_hands        26665 non-null  float64\n",
      " 6   behavioral_large_gatherings  26620 non-null  float64\n",
      " 7   behavioral_outside_home      26625 non-null  float64\n",
      " 8   behavioral_touch_face        26579 non-null  float64\n",
      " 9   doctor_recc_h1n1             24547 non-null  float64\n",
      " 10  doctor_recc_seasonal         24547 non-null  float64\n",
      " 11  chronic_med_condition        25736 non-null  float64\n",
      " 12  child_under_6_months         25887 non-null  float64\n",
      " 13  health_worker                25903 non-null  float64\n",
      " 14  health_insurance             14433 non-null  float64\n",
      " 15  opinion_h1n1_vacc_effective  26316 non-null  float64\n",
      " 16  opinion_h1n1_risk            26319 non-null  float64\n",
      " 17  opinion_h1n1_sick_from_vacc  26312 non-null  float64\n",
      " 18  opinion_seas_vacc_effective  26245 non-null  float64\n",
      " 19  opinion_seas_risk            26193 non-null  float64\n",
      " 20  opinion_seas_sick_from_vacc  26170 non-null  float64\n",
      " 21  age_group                    26707 non-null  object \n",
      " 22  education                    25300 non-null  object \n",
      " 23  race                         26707 non-null  object \n",
      " 24  sex                          26707 non-null  object \n",
      " 25  income_poverty               22284 non-null  object \n",
      " 26  marital_status               25299 non-null  object \n",
      " 27  rent_or_own                  24665 non-null  object \n",
      " 28  employment_status            25244 non-null  object \n",
      " 29  hhs_geo_region               26707 non-null  object \n",
      " 30  census_msa                   26707 non-null  object \n",
      " 31  household_adults             26458 non-null  float64\n",
      " 32  household_children           26458 non-null  float64\n",
      " 33  employment_industry          13377 non-null  object \n",
      " 34  employment_occupation        13237 non-null  object \n",
      " 35  h1n1_vaccine                 26707 non-null  int64  \n",
      " 36  seasonal_vaccine             26707 non-null  int64  \n",
      "dtypes: float64(19), int32(4), int64(2), object(12)\n",
      "memory usage: 7.1+ MB\n"
     ]
    }
   ],
   "source": [
    "df.info()"
   ]
  },
  {
   "cell_type": "markdown",
   "id": "794f1882",
   "metadata": {},
   "source": [
    "## Feature 6"
   ]
  },
  {
   "cell_type": "code",
   "execution_count": 24,
   "id": "9da8bfb4",
   "metadata": {},
   "outputs": [
    {
     "data": {
      "text/plain": [
       "array([ 0.,  1., nan])"
      ]
     },
     "execution_count": 24,
     "metadata": {},
     "output_type": "execute_result"
    }
   ],
   "source": [
    "df['behavioral_face_mask'].unique()"
   ]
  },
  {
   "cell_type": "code",
   "execution_count": 25,
   "id": "00935069",
   "metadata": {},
   "outputs": [],
   "source": [
    "df['behavioral_face_mask']=df['behavioral_face_mask'].fillna(df['behavioral_face_mask'].mode()[0])"
   ]
  },
  {
   "cell_type": "code",
   "execution_count": 26,
   "id": "3f670871",
   "metadata": {},
   "outputs": [],
   "source": [
    "df['behavioral_face_mask']=df['behavioral_face_mask'].astype(int)"
   ]
  },
  {
   "cell_type": "code",
   "execution_count": 27,
   "id": "45439f6c",
   "metadata": {},
   "outputs": [
    {
     "data": {
      "text/plain": [
       "array([0, 1])"
      ]
     },
     "execution_count": 27,
     "metadata": {},
     "output_type": "execute_result"
    }
   ],
   "source": [
    "df['behavioral_face_mask'].unique()"
   ]
  },
  {
   "cell_type": "markdown",
   "id": "f30dc59d",
   "metadata": {},
   "source": [
    "## Feature 7"
   ]
  },
  {
   "cell_type": "code",
   "execution_count": 28,
   "id": "555a23f2",
   "metadata": {},
   "outputs": [
    {
     "data": {
      "text/plain": [
       "array([ 0.,  1., nan])"
      ]
     },
     "execution_count": 28,
     "metadata": {},
     "output_type": "execute_result"
    }
   ],
   "source": [
    "df['behavioral_wash_hands'].unique()"
   ]
  },
  {
   "cell_type": "code",
   "execution_count": 29,
   "id": "ab61672d",
   "metadata": {},
   "outputs": [],
   "source": [
    "df['behavioral_wash_hands']=df['behavioral_wash_hands'].fillna(df['behavioral_wash_hands'].mode()[0])"
   ]
  },
  {
   "cell_type": "code",
   "execution_count": 30,
   "id": "d0505e2a",
   "metadata": {},
   "outputs": [],
   "source": [
    "df['behavioral_wash_hands']=df['behavioral_wash_hands'].astype(int)"
   ]
  },
  {
   "cell_type": "code",
   "execution_count": 31,
   "id": "b6c84e53",
   "metadata": {},
   "outputs": [
    {
     "data": {
      "text/plain": [
       "array([0, 1])"
      ]
     },
     "execution_count": 31,
     "metadata": {},
     "output_type": "execute_result"
    }
   ],
   "source": [
    "df['behavioral_wash_hands'].unique()"
   ]
  },
  {
   "cell_type": "code",
   "execution_count": 32,
   "id": "e56a1c5f",
   "metadata": {},
   "outputs": [
    {
     "data": {
      "text/html": [
       "<div>\n",
       "<style scoped>\n",
       "    .dataframe tbody tr th:only-of-type {\n",
       "        vertical-align: middle;\n",
       "    }\n",
       "\n",
       "    .dataframe tbody tr th {\n",
       "        vertical-align: top;\n",
       "    }\n",
       "\n",
       "    .dataframe thead th {\n",
       "        text-align: right;\n",
       "    }\n",
       "</style>\n",
       "<table border=\"1\" class=\"dataframe\">\n",
       "  <thead>\n",
       "    <tr style=\"text-align: right;\">\n",
       "      <th></th>\n",
       "      <th>h1n1_concern</th>\n",
       "      <th>h1n1_knowledge</th>\n",
       "      <th>behavioral_antiviral_meds</th>\n",
       "      <th>behavioral_avoidance</th>\n",
       "      <th>behavioral_face_mask</th>\n",
       "      <th>behavioral_wash_hands</th>\n",
       "      <th>behavioral_large_gatherings</th>\n",
       "      <th>behavioral_outside_home</th>\n",
       "      <th>behavioral_touch_face</th>\n",
       "      <th>doctor_recc_h1n1</th>\n",
       "      <th>...</th>\n",
       "      <th>rent_or_own</th>\n",
       "      <th>employment_status</th>\n",
       "      <th>hhs_geo_region</th>\n",
       "      <th>census_msa</th>\n",
       "      <th>household_adults</th>\n",
       "      <th>household_children</th>\n",
       "      <th>employment_industry</th>\n",
       "      <th>employment_occupation</th>\n",
       "      <th>h1n1_vaccine</th>\n",
       "      <th>seasonal_vaccine</th>\n",
       "    </tr>\n",
       "  </thead>\n",
       "  <tbody>\n",
       "    <tr>\n",
       "      <th>0</th>\n",
       "      <td>1</td>\n",
       "      <td>0</td>\n",
       "      <td>0</td>\n",
       "      <td>0</td>\n",
       "      <td>0</td>\n",
       "      <td>0</td>\n",
       "      <td>0.0</td>\n",
       "      <td>1.0</td>\n",
       "      <td>1.0</td>\n",
       "      <td>0.0</td>\n",
       "      <td>...</td>\n",
       "      <td>Own</td>\n",
       "      <td>Not in Labor Force</td>\n",
       "      <td>oxchjgsf</td>\n",
       "      <td>Non-MSA</td>\n",
       "      <td>0.0</td>\n",
       "      <td>0.0</td>\n",
       "      <td>NaN</td>\n",
       "      <td>NaN</td>\n",
       "      <td>0</td>\n",
       "      <td>0</td>\n",
       "    </tr>\n",
       "    <tr>\n",
       "      <th>1</th>\n",
       "      <td>3</td>\n",
       "      <td>2</td>\n",
       "      <td>0</td>\n",
       "      <td>1</td>\n",
       "      <td>0</td>\n",
       "      <td>1</td>\n",
       "      <td>0.0</td>\n",
       "      <td>1.0</td>\n",
       "      <td>1.0</td>\n",
       "      <td>0.0</td>\n",
       "      <td>...</td>\n",
       "      <td>Rent</td>\n",
       "      <td>Employed</td>\n",
       "      <td>bhuqouqj</td>\n",
       "      <td>MSA, Not Principle  City</td>\n",
       "      <td>0.0</td>\n",
       "      <td>0.0</td>\n",
       "      <td>pxcmvdjn</td>\n",
       "      <td>xgwztkwe</td>\n",
       "      <td>0</td>\n",
       "      <td>1</td>\n",
       "    </tr>\n",
       "  </tbody>\n",
       "</table>\n",
       "<p>2 rows × 37 columns</p>\n",
       "</div>"
      ],
      "text/plain": [
       "   h1n1_concern  h1n1_knowledge  behavioral_antiviral_meds  \\\n",
       "0             1               0                          0   \n",
       "1             3               2                          0   \n",
       "\n",
       "   behavioral_avoidance  behavioral_face_mask  behavioral_wash_hands  \\\n",
       "0                     0                     0                      0   \n",
       "1                     1                     0                      1   \n",
       "\n",
       "   behavioral_large_gatherings  behavioral_outside_home  \\\n",
       "0                          0.0                      1.0   \n",
       "1                          0.0                      1.0   \n",
       "\n",
       "   behavioral_touch_face  doctor_recc_h1n1  ...  rent_or_own  \\\n",
       "0                    1.0               0.0  ...          Own   \n",
       "1                    1.0               0.0  ...         Rent   \n",
       "\n",
       "    employment_status  hhs_geo_region                census_msa  \\\n",
       "0  Not in Labor Force        oxchjgsf                   Non-MSA   \n",
       "1            Employed        bhuqouqj  MSA, Not Principle  City   \n",
       "\n",
       "   household_adults  household_children  employment_industry  \\\n",
       "0               0.0                 0.0                  NaN   \n",
       "1               0.0                 0.0             pxcmvdjn   \n",
       "\n",
       "   employment_occupation  h1n1_vaccine  seasonal_vaccine  \n",
       "0                    NaN             0                 0  \n",
       "1               xgwztkwe             0                 1  \n",
       "\n",
       "[2 rows x 37 columns]"
      ]
     },
     "execution_count": 32,
     "metadata": {},
     "output_type": "execute_result"
    }
   ],
   "source": [
    "df.head(2)"
   ]
  },
  {
   "cell_type": "code",
   "execution_count": 33,
   "id": "a2217226",
   "metadata": {},
   "outputs": [
    {
     "name": "stdout",
     "output_type": "stream",
     "text": [
      "<class 'pandas.core.frame.DataFrame'>\n",
      "RangeIndex: 26707 entries, 0 to 26706\n",
      "Data columns (total 37 columns):\n",
      " #   Column                       Non-Null Count  Dtype  \n",
      "---  ------                       --------------  -----  \n",
      " 0   h1n1_concern                 26707 non-null  int32  \n",
      " 1   h1n1_knowledge               26707 non-null  int32  \n",
      " 2   behavioral_antiviral_meds    26707 non-null  int32  \n",
      " 3   behavioral_avoidance         26707 non-null  int32  \n",
      " 4   behavioral_face_mask         26707 non-null  int32  \n",
      " 5   behavioral_wash_hands        26707 non-null  int32  \n",
      " 6   behavioral_large_gatherings  26620 non-null  float64\n",
      " 7   behavioral_outside_home      26625 non-null  float64\n",
      " 8   behavioral_touch_face        26579 non-null  float64\n",
      " 9   doctor_recc_h1n1             24547 non-null  float64\n",
      " 10  doctor_recc_seasonal         24547 non-null  float64\n",
      " 11  chronic_med_condition        25736 non-null  float64\n",
      " 12  child_under_6_months         25887 non-null  float64\n",
      " 13  health_worker                25903 non-null  float64\n",
      " 14  health_insurance             14433 non-null  float64\n",
      " 15  opinion_h1n1_vacc_effective  26316 non-null  float64\n",
      " 16  opinion_h1n1_risk            26319 non-null  float64\n",
      " 17  opinion_h1n1_sick_from_vacc  26312 non-null  float64\n",
      " 18  opinion_seas_vacc_effective  26245 non-null  float64\n",
      " 19  opinion_seas_risk            26193 non-null  float64\n",
      " 20  opinion_seas_sick_from_vacc  26170 non-null  float64\n",
      " 21  age_group                    26707 non-null  object \n",
      " 22  education                    25300 non-null  object \n",
      " 23  race                         26707 non-null  object \n",
      " 24  sex                          26707 non-null  object \n",
      " 25  income_poverty               22284 non-null  object \n",
      " 26  marital_status               25299 non-null  object \n",
      " 27  rent_or_own                  24665 non-null  object \n",
      " 28  employment_status            25244 non-null  object \n",
      " 29  hhs_geo_region               26707 non-null  object \n",
      " 30  census_msa                   26707 non-null  object \n",
      " 31  household_adults             26458 non-null  float64\n",
      " 32  household_children           26458 non-null  float64\n",
      " 33  employment_industry          13377 non-null  object \n",
      " 34  employment_occupation        13237 non-null  object \n",
      " 35  h1n1_vaccine                 26707 non-null  int64  \n",
      " 36  seasonal_vaccine             26707 non-null  int64  \n",
      "dtypes: float64(17), int32(6), int64(2), object(12)\n",
      "memory usage: 6.9+ MB\n"
     ]
    }
   ],
   "source": [
    "df.info()"
   ]
  },
  {
   "cell_type": "markdown",
   "id": "435db314",
   "metadata": {},
   "source": [
    "## Feature 8"
   ]
  },
  {
   "cell_type": "code",
   "execution_count": 34,
   "id": "8717d132",
   "metadata": {},
   "outputs": [
    {
     "data": {
      "text/plain": [
       "array([ 0.,  1., nan])"
      ]
     },
     "execution_count": 34,
     "metadata": {},
     "output_type": "execute_result"
    }
   ],
   "source": [
    "df['behavioral_large_gatherings'].unique()"
   ]
  },
  {
   "cell_type": "code",
   "execution_count": 35,
   "id": "9b72a8fe",
   "metadata": {},
   "outputs": [],
   "source": [
    "df['behavioral_large_gatherings']=df['behavioral_large_gatherings'].fillna(df['behavioral_large_gatherings'].mode()[0])"
   ]
  },
  {
   "cell_type": "code",
   "execution_count": 36,
   "id": "4336654c",
   "metadata": {},
   "outputs": [],
   "source": [
    "df['behavioral_large_gatherings']=df['behavioral_large_gatherings'].astype(int)"
   ]
  },
  {
   "cell_type": "code",
   "execution_count": 37,
   "id": "6e9b72c0",
   "metadata": {},
   "outputs": [
    {
     "data": {
      "text/plain": [
       "array([0, 1])"
      ]
     },
     "execution_count": 37,
     "metadata": {},
     "output_type": "execute_result"
    }
   ],
   "source": [
    "df['behavioral_large_gatherings'].unique()"
   ]
  },
  {
   "cell_type": "markdown",
   "id": "569e0f5d",
   "metadata": {},
   "source": [
    "## Feature 9"
   ]
  },
  {
   "cell_type": "code",
   "execution_count": 38,
   "id": "777f1d7e",
   "metadata": {},
   "outputs": [
    {
     "data": {
      "text/plain": [
       "array([ 1.,  0., nan])"
      ]
     },
     "execution_count": 38,
     "metadata": {},
     "output_type": "execute_result"
    }
   ],
   "source": [
    "df['behavioral_outside_home'].unique()"
   ]
  },
  {
   "cell_type": "code",
   "execution_count": 39,
   "id": "85295edf",
   "metadata": {},
   "outputs": [],
   "source": [
    "df['behavioral_outside_home']=df['behavioral_outside_home'].fillna(df['behavioral_outside_home'].mode()[0])"
   ]
  },
  {
   "cell_type": "code",
   "execution_count": 40,
   "id": "5a587889",
   "metadata": {},
   "outputs": [],
   "source": [
    "df['behavioral_outside_home']=df['behavioral_outside_home'].astype(int)"
   ]
  },
  {
   "cell_type": "code",
   "execution_count": 41,
   "id": "c330c0fa",
   "metadata": {},
   "outputs": [
    {
     "data": {
      "text/plain": [
       "array([1, 0])"
      ]
     },
     "execution_count": 41,
     "metadata": {},
     "output_type": "execute_result"
    }
   ],
   "source": [
    "df['behavioral_outside_home'].unique()"
   ]
  },
  {
   "cell_type": "markdown",
   "id": "22fe0944",
   "metadata": {},
   "source": [
    "## Feature 10"
   ]
  },
  {
   "cell_type": "code",
   "execution_count": 42,
   "id": "18b231c1",
   "metadata": {},
   "outputs": [
    {
     "data": {
      "text/plain": [
       "array([ 1.,  0., nan])"
      ]
     },
     "execution_count": 42,
     "metadata": {},
     "output_type": "execute_result"
    }
   ],
   "source": [
    "df['behavioral_touch_face'].unique()"
   ]
  },
  {
   "cell_type": "code",
   "execution_count": 43,
   "id": "05168b37",
   "metadata": {},
   "outputs": [],
   "source": [
    "df['behavioral_touch_face']=df['behavioral_touch_face'].fillna(df['behavioral_touch_face'].mode()[0])"
   ]
  },
  {
   "cell_type": "code",
   "execution_count": 44,
   "id": "eae68085",
   "metadata": {},
   "outputs": [],
   "source": [
    "df['behavioral_touch_face']=df['behavioral_touch_face'].astype(int)"
   ]
  },
  {
   "cell_type": "code",
   "execution_count": 45,
   "id": "a3d7b0f4",
   "metadata": {},
   "outputs": [
    {
     "data": {
      "text/plain": [
       "array([1, 0])"
      ]
     },
     "execution_count": 45,
     "metadata": {},
     "output_type": "execute_result"
    }
   ],
   "source": [
    "df['behavioral_touch_face'].unique()"
   ]
  },
  {
   "cell_type": "markdown",
   "id": "7d96a0ce",
   "metadata": {},
   "source": [
    "## Feature 11"
   ]
  },
  {
   "cell_type": "code",
   "execution_count": 46,
   "id": "99577868",
   "metadata": {},
   "outputs": [
    {
     "name": "stdout",
     "output_type": "stream",
     "text": [
      "<class 'pandas.core.frame.DataFrame'>\n",
      "RangeIndex: 26707 entries, 0 to 26706\n",
      "Data columns (total 37 columns):\n",
      " #   Column                       Non-Null Count  Dtype  \n",
      "---  ------                       --------------  -----  \n",
      " 0   h1n1_concern                 26707 non-null  int32  \n",
      " 1   h1n1_knowledge               26707 non-null  int32  \n",
      " 2   behavioral_antiviral_meds    26707 non-null  int32  \n",
      " 3   behavioral_avoidance         26707 non-null  int32  \n",
      " 4   behavioral_face_mask         26707 non-null  int32  \n",
      " 5   behavioral_wash_hands        26707 non-null  int32  \n",
      " 6   behavioral_large_gatherings  26707 non-null  int32  \n",
      " 7   behavioral_outside_home      26707 non-null  int32  \n",
      " 8   behavioral_touch_face        26707 non-null  int32  \n",
      " 9   doctor_recc_h1n1             24547 non-null  float64\n",
      " 10  doctor_recc_seasonal         24547 non-null  float64\n",
      " 11  chronic_med_condition        25736 non-null  float64\n",
      " 12  child_under_6_months         25887 non-null  float64\n",
      " 13  health_worker                25903 non-null  float64\n",
      " 14  health_insurance             14433 non-null  float64\n",
      " 15  opinion_h1n1_vacc_effective  26316 non-null  float64\n",
      " 16  opinion_h1n1_risk            26319 non-null  float64\n",
      " 17  opinion_h1n1_sick_from_vacc  26312 non-null  float64\n",
      " 18  opinion_seas_vacc_effective  26245 non-null  float64\n",
      " 19  opinion_seas_risk            26193 non-null  float64\n",
      " 20  opinion_seas_sick_from_vacc  26170 non-null  float64\n",
      " 21  age_group                    26707 non-null  object \n",
      " 22  education                    25300 non-null  object \n",
      " 23  race                         26707 non-null  object \n",
      " 24  sex                          26707 non-null  object \n",
      " 25  income_poverty               22284 non-null  object \n",
      " 26  marital_status               25299 non-null  object \n",
      " 27  rent_or_own                  24665 non-null  object \n",
      " 28  employment_status            25244 non-null  object \n",
      " 29  hhs_geo_region               26707 non-null  object \n",
      " 30  census_msa                   26707 non-null  object \n",
      " 31  household_adults             26458 non-null  float64\n",
      " 32  household_children           26458 non-null  float64\n",
      " 33  employment_industry          13377 non-null  object \n",
      " 34  employment_occupation        13237 non-null  object \n",
      " 35  h1n1_vaccine                 26707 non-null  int64  \n",
      " 36  seasonal_vaccine             26707 non-null  int64  \n",
      "dtypes: float64(14), int32(9), int64(2), object(12)\n",
      "memory usage: 6.6+ MB\n"
     ]
    }
   ],
   "source": [
    "df.info()"
   ]
  },
  {
   "cell_type": "code",
   "execution_count": 47,
   "id": "ba31e81d",
   "metadata": {},
   "outputs": [
    {
     "data": {
      "text/html": [
       "<div>\n",
       "<style scoped>\n",
       "    .dataframe tbody tr th:only-of-type {\n",
       "        vertical-align: middle;\n",
       "    }\n",
       "\n",
       "    .dataframe tbody tr th {\n",
       "        vertical-align: top;\n",
       "    }\n",
       "\n",
       "    .dataframe thead th {\n",
       "        text-align: right;\n",
       "    }\n",
       "</style>\n",
       "<table border=\"1\" class=\"dataframe\">\n",
       "  <thead>\n",
       "    <tr style=\"text-align: right;\">\n",
       "      <th></th>\n",
       "      <th>h1n1_concern</th>\n",
       "      <th>h1n1_knowledge</th>\n",
       "      <th>behavioral_antiviral_meds</th>\n",
       "      <th>behavioral_avoidance</th>\n",
       "      <th>behavioral_face_mask</th>\n",
       "      <th>behavioral_wash_hands</th>\n",
       "      <th>behavioral_large_gatherings</th>\n",
       "      <th>behavioral_outside_home</th>\n",
       "      <th>behavioral_touch_face</th>\n",
       "      <th>doctor_recc_h1n1</th>\n",
       "      <th>...</th>\n",
       "      <th>rent_or_own</th>\n",
       "      <th>employment_status</th>\n",
       "      <th>hhs_geo_region</th>\n",
       "      <th>census_msa</th>\n",
       "      <th>household_adults</th>\n",
       "      <th>household_children</th>\n",
       "      <th>employment_industry</th>\n",
       "      <th>employment_occupation</th>\n",
       "      <th>h1n1_vaccine</th>\n",
       "      <th>seasonal_vaccine</th>\n",
       "    </tr>\n",
       "  </thead>\n",
       "  <tbody>\n",
       "    <tr>\n",
       "      <th>0</th>\n",
       "      <td>1</td>\n",
       "      <td>0</td>\n",
       "      <td>0</td>\n",
       "      <td>0</td>\n",
       "      <td>0</td>\n",
       "      <td>0</td>\n",
       "      <td>0</td>\n",
       "      <td>1</td>\n",
       "      <td>1</td>\n",
       "      <td>0.0</td>\n",
       "      <td>...</td>\n",
       "      <td>Own</td>\n",
       "      <td>Not in Labor Force</td>\n",
       "      <td>oxchjgsf</td>\n",
       "      <td>Non-MSA</td>\n",
       "      <td>0.0</td>\n",
       "      <td>0.0</td>\n",
       "      <td>NaN</td>\n",
       "      <td>NaN</td>\n",
       "      <td>0</td>\n",
       "      <td>0</td>\n",
       "    </tr>\n",
       "    <tr>\n",
       "      <th>1</th>\n",
       "      <td>3</td>\n",
       "      <td>2</td>\n",
       "      <td>0</td>\n",
       "      <td>1</td>\n",
       "      <td>0</td>\n",
       "      <td>1</td>\n",
       "      <td>0</td>\n",
       "      <td>1</td>\n",
       "      <td>1</td>\n",
       "      <td>0.0</td>\n",
       "      <td>...</td>\n",
       "      <td>Rent</td>\n",
       "      <td>Employed</td>\n",
       "      <td>bhuqouqj</td>\n",
       "      <td>MSA, Not Principle  City</td>\n",
       "      <td>0.0</td>\n",
       "      <td>0.0</td>\n",
       "      <td>pxcmvdjn</td>\n",
       "      <td>xgwztkwe</td>\n",
       "      <td>0</td>\n",
       "      <td>1</td>\n",
       "    </tr>\n",
       "  </tbody>\n",
       "</table>\n",
       "<p>2 rows × 37 columns</p>\n",
       "</div>"
      ],
      "text/plain": [
       "   h1n1_concern  h1n1_knowledge  behavioral_antiviral_meds  \\\n",
       "0             1               0                          0   \n",
       "1             3               2                          0   \n",
       "\n",
       "   behavioral_avoidance  behavioral_face_mask  behavioral_wash_hands  \\\n",
       "0                     0                     0                      0   \n",
       "1                     1                     0                      1   \n",
       "\n",
       "   behavioral_large_gatherings  behavioral_outside_home  \\\n",
       "0                            0                        1   \n",
       "1                            0                        1   \n",
       "\n",
       "   behavioral_touch_face  doctor_recc_h1n1  ...  rent_or_own  \\\n",
       "0                      1               0.0  ...          Own   \n",
       "1                      1               0.0  ...         Rent   \n",
       "\n",
       "    employment_status  hhs_geo_region                census_msa  \\\n",
       "0  Not in Labor Force        oxchjgsf                   Non-MSA   \n",
       "1            Employed        bhuqouqj  MSA, Not Principle  City   \n",
       "\n",
       "   household_adults  household_children  employment_industry  \\\n",
       "0               0.0                 0.0                  NaN   \n",
       "1               0.0                 0.0             pxcmvdjn   \n",
       "\n",
       "   employment_occupation  h1n1_vaccine  seasonal_vaccine  \n",
       "0                    NaN             0                 0  \n",
       "1               xgwztkwe             0                 1  \n",
       "\n",
       "[2 rows x 37 columns]"
      ]
     },
     "execution_count": 47,
     "metadata": {},
     "output_type": "execute_result"
    }
   ],
   "source": [
    "df.head(2)"
   ]
  },
  {
   "cell_type": "code",
   "execution_count": 48,
   "id": "35f2546b",
   "metadata": {},
   "outputs": [
    {
     "data": {
      "text/plain": [
       "array([ 0., nan,  1.])"
      ]
     },
     "execution_count": 48,
     "metadata": {},
     "output_type": "execute_result"
    }
   ],
   "source": [
    "df['doctor_recc_h1n1'].unique()"
   ]
  },
  {
   "cell_type": "code",
   "execution_count": 49,
   "id": "b0622a4a",
   "metadata": {},
   "outputs": [],
   "source": [
    "df['doctor_recc_h1n1']=df['doctor_recc_h1n1'].fillna(df['doctor_recc_h1n1'].mode()[0])"
   ]
  },
  {
   "cell_type": "code",
   "execution_count": 50,
   "id": "3dfa2d7f",
   "metadata": {},
   "outputs": [],
   "source": [
    "df['doctor_recc_h1n1']=df['doctor_recc_h1n1'].astype(int)"
   ]
  },
  {
   "cell_type": "code",
   "execution_count": 51,
   "id": "eb5fedbc",
   "metadata": {},
   "outputs": [
    {
     "data": {
      "text/plain": [
       "array([0, 1])"
      ]
     },
     "execution_count": 51,
     "metadata": {},
     "output_type": "execute_result"
    }
   ],
   "source": [
    "df['doctor_recc_h1n1'].unique()"
   ]
  },
  {
   "cell_type": "markdown",
   "id": "24551c50",
   "metadata": {},
   "source": [
    "## Feature 12"
   ]
  },
  {
   "cell_type": "code",
   "execution_count": 52,
   "id": "da363166",
   "metadata": {},
   "outputs": [
    {
     "data": {
      "text/plain": [
       "array([ 0., nan,  1.])"
      ]
     },
     "execution_count": 52,
     "metadata": {},
     "output_type": "execute_result"
    }
   ],
   "source": [
    "df['doctor_recc_seasonal'].unique()"
   ]
  },
  {
   "cell_type": "code",
   "execution_count": 53,
   "id": "ae4e912c",
   "metadata": {},
   "outputs": [],
   "source": [
    "df['doctor_recc_seasonal']=df['doctor_recc_seasonal'].fillna(df['doctor_recc_seasonal'].mode()[0])"
   ]
  },
  {
   "cell_type": "code",
   "execution_count": 54,
   "id": "9a67f642",
   "metadata": {},
   "outputs": [],
   "source": [
    "df['doctor_recc_seasonal']=df['doctor_recc_seasonal'].astype(int)"
   ]
  },
  {
   "cell_type": "code",
   "execution_count": 55,
   "id": "51627536",
   "metadata": {},
   "outputs": [
    {
     "data": {
      "text/plain": [
       "array([0, 1])"
      ]
     },
     "execution_count": 55,
     "metadata": {},
     "output_type": "execute_result"
    }
   ],
   "source": [
    "df['doctor_recc_seasonal'].unique()"
   ]
  },
  {
   "cell_type": "markdown",
   "id": "7297d869",
   "metadata": {},
   "source": [
    "## Feature 13"
   ]
  },
  {
   "cell_type": "code",
   "execution_count": 56,
   "id": "a41e09d6",
   "metadata": {},
   "outputs": [
    {
     "data": {
      "text/plain": [
       "array([ 0.,  1., nan])"
      ]
     },
     "execution_count": 56,
     "metadata": {},
     "output_type": "execute_result"
    }
   ],
   "source": [
    "df['chronic_med_condition'].unique()"
   ]
  },
  {
   "cell_type": "code",
   "execution_count": 57,
   "id": "60e353ec",
   "metadata": {},
   "outputs": [],
   "source": [
    "df['chronic_med_condition']=df['chronic_med_condition'].fillna(df['chronic_med_condition'].mode()[0])"
   ]
  },
  {
   "cell_type": "code",
   "execution_count": 58,
   "id": "b00f97fb",
   "metadata": {},
   "outputs": [],
   "source": [
    "df['chronic_med_condition']=df['chronic_med_condition'].astype(int)"
   ]
  },
  {
   "cell_type": "code",
   "execution_count": 59,
   "id": "5e88d24e",
   "metadata": {},
   "outputs": [
    {
     "data": {
      "text/plain": [
       "array([0, 1])"
      ]
     },
     "execution_count": 59,
     "metadata": {},
     "output_type": "execute_result"
    }
   ],
   "source": [
    "df['chronic_med_condition'].unique()"
   ]
  },
  {
   "cell_type": "markdown",
   "id": "ecc93d00",
   "metadata": {},
   "source": [
    "## Feature 14"
   ]
  },
  {
   "cell_type": "code",
   "execution_count": 60,
   "id": "e287767e",
   "metadata": {},
   "outputs": [
    {
     "data": {
      "text/plain": [
       "array([ 0.,  1., nan])"
      ]
     },
     "execution_count": 60,
     "metadata": {},
     "output_type": "execute_result"
    }
   ],
   "source": [
    "df['child_under_6_months'].unique()"
   ]
  },
  {
   "cell_type": "code",
   "execution_count": 61,
   "id": "2a50b897",
   "metadata": {},
   "outputs": [],
   "source": [
    "df['child_under_6_months']=df['child_under_6_months'].fillna(df['child_under_6_months'].mode()[0])"
   ]
  },
  {
   "cell_type": "code",
   "execution_count": 62,
   "id": "4e026077",
   "metadata": {},
   "outputs": [],
   "source": [
    "df['child_under_6_months']=df['child_under_6_months'].astype(int)"
   ]
  },
  {
   "cell_type": "code",
   "execution_count": 63,
   "id": "4d934872",
   "metadata": {},
   "outputs": [
    {
     "data": {
      "text/plain": [
       "array([0, 1])"
      ]
     },
     "execution_count": 63,
     "metadata": {},
     "output_type": "execute_result"
    }
   ],
   "source": [
    "df['child_under_6_months'].unique()"
   ]
  },
  {
   "cell_type": "markdown",
   "id": "d290a7ad",
   "metadata": {},
   "source": [
    "## Feature 15"
   ]
  },
  {
   "cell_type": "code",
   "execution_count": 64,
   "id": "29a153af",
   "metadata": {},
   "outputs": [
    {
     "data": {
      "text/plain": [
       "array([ 0.,  1., nan])"
      ]
     },
     "execution_count": 64,
     "metadata": {},
     "output_type": "execute_result"
    }
   ],
   "source": [
    "df['health_worker'].unique()"
   ]
  },
  {
   "cell_type": "code",
   "execution_count": 65,
   "id": "b74d45be",
   "metadata": {},
   "outputs": [],
   "source": [
    "df['health_worker']=df['health_worker'].fillna(df['health_worker'].mode()[0])"
   ]
  },
  {
   "cell_type": "code",
   "execution_count": 66,
   "id": "850aff96",
   "metadata": {},
   "outputs": [],
   "source": [
    "df['health_worker']=df['health_worker'].astype(int)"
   ]
  },
  {
   "cell_type": "code",
   "execution_count": 67,
   "id": "ef4a8cfc",
   "metadata": {},
   "outputs": [
    {
     "data": {
      "text/plain": [
       "array([0, 1])"
      ]
     },
     "execution_count": 67,
     "metadata": {},
     "output_type": "execute_result"
    }
   ],
   "source": [
    "df['health_worker'].unique()"
   ]
  },
  {
   "cell_type": "markdown",
   "id": "d6718cef",
   "metadata": {},
   "source": [
    "## Feature 16"
   ]
  },
  {
   "cell_type": "code",
   "execution_count": 68,
   "id": "f0750970",
   "metadata": {},
   "outputs": [
    {
     "data": {
      "text/plain": [
       "array([ 1., nan,  0.])"
      ]
     },
     "execution_count": 68,
     "metadata": {},
     "output_type": "execute_result"
    }
   ],
   "source": [
    "df['health_insurance'].unique()"
   ]
  },
  {
   "cell_type": "code",
   "execution_count": 69,
   "id": "d25a58e9",
   "metadata": {},
   "outputs": [],
   "source": [
    "df['health_insurance']=df['health_insurance'].fillna(df['health_insurance'].mode()[0])"
   ]
  },
  {
   "cell_type": "code",
   "execution_count": 70,
   "id": "8c0fde28",
   "metadata": {},
   "outputs": [],
   "source": [
    "df['health_insurance']=df['health_insurance'].astype(int)"
   ]
  },
  {
   "cell_type": "code",
   "execution_count": 71,
   "id": "1c70109a",
   "metadata": {},
   "outputs": [
    {
     "data": {
      "text/plain": [
       "array([1, 0])"
      ]
     },
     "execution_count": 71,
     "metadata": {},
     "output_type": "execute_result"
    }
   ],
   "source": [
    "df['health_insurance'].unique()"
   ]
  },
  {
   "cell_type": "markdown",
   "id": "db911703",
   "metadata": {},
   "source": [
    "## Feature 17"
   ]
  },
  {
   "cell_type": "code",
   "execution_count": 72,
   "id": "6c09e029",
   "metadata": {},
   "outputs": [
    {
     "data": {
      "text/plain": [
       "array([ 3.,  5.,  4.,  2.,  1., nan])"
      ]
     },
     "execution_count": 72,
     "metadata": {},
     "output_type": "execute_result"
    }
   ],
   "source": [
    "df['opinion_h1n1_vacc_effective'].unique()"
   ]
  },
  {
   "cell_type": "code",
   "execution_count": 73,
   "id": "d3348a28",
   "metadata": {},
   "outputs": [],
   "source": [
    "df['opinion_h1n1_vacc_effective']=df['opinion_h1n1_vacc_effective'].fillna(df['opinion_h1n1_vacc_effective'].mode()[0])"
   ]
  },
  {
   "cell_type": "code",
   "execution_count": 74,
   "id": "3e8845c9",
   "metadata": {},
   "outputs": [],
   "source": [
    "df['opinion_h1n1_vacc_effective']=df['opinion_h1n1_vacc_effective'].astype(int)"
   ]
  },
  {
   "cell_type": "code",
   "execution_count": 75,
   "id": "0ca719bf",
   "metadata": {},
   "outputs": [
    {
     "data": {
      "text/plain": [
       "array([3, 5, 4, 2, 1])"
      ]
     },
     "execution_count": 75,
     "metadata": {},
     "output_type": "execute_result"
    }
   ],
   "source": [
    "df['opinion_h1n1_vacc_effective'].unique()"
   ]
  },
  {
   "cell_type": "markdown",
   "id": "2cd01ea5",
   "metadata": {},
   "source": [
    "## Feature 18"
   ]
  },
  {
   "cell_type": "code",
   "execution_count": 76,
   "id": "43591432",
   "metadata": {},
   "outputs": [
    {
     "data": {
      "text/plain": [
       "array([ 1.,  4.,  3.,  2.,  5., nan])"
      ]
     },
     "execution_count": 76,
     "metadata": {},
     "output_type": "execute_result"
    }
   ],
   "source": [
    "df['opinion_h1n1_risk'].unique()"
   ]
  },
  {
   "cell_type": "code",
   "execution_count": 77,
   "id": "166bc59b",
   "metadata": {},
   "outputs": [],
   "source": [
    "df['opinion_h1n1_risk']=df['opinion_h1n1_risk'].fillna(df['opinion_h1n1_risk'].mode()[0])"
   ]
  },
  {
   "cell_type": "code",
   "execution_count": 78,
   "id": "80a8b6a9",
   "metadata": {},
   "outputs": [],
   "source": [
    "df['opinion_h1n1_risk']=df['opinion_h1n1_risk'].astype(int)"
   ]
  },
  {
   "cell_type": "code",
   "execution_count": 79,
   "id": "db5be87f",
   "metadata": {},
   "outputs": [
    {
     "data": {
      "text/plain": [
       "array([1, 4, 3, 2, 5])"
      ]
     },
     "execution_count": 79,
     "metadata": {},
     "output_type": "execute_result"
    }
   ],
   "source": [
    "df['opinion_h1n1_risk'].unique()"
   ]
  },
  {
   "cell_type": "code",
   "execution_count": 80,
   "id": "b44617ed",
   "metadata": {},
   "outputs": [
    {
     "name": "stdout",
     "output_type": "stream",
     "text": [
      "<class 'pandas.core.frame.DataFrame'>\n",
      "RangeIndex: 26707 entries, 0 to 26706\n",
      "Data columns (total 37 columns):\n",
      " #   Column                       Non-Null Count  Dtype  \n",
      "---  ------                       --------------  -----  \n",
      " 0   h1n1_concern                 26707 non-null  int32  \n",
      " 1   h1n1_knowledge               26707 non-null  int32  \n",
      " 2   behavioral_antiviral_meds    26707 non-null  int32  \n",
      " 3   behavioral_avoidance         26707 non-null  int32  \n",
      " 4   behavioral_face_mask         26707 non-null  int32  \n",
      " 5   behavioral_wash_hands        26707 non-null  int32  \n",
      " 6   behavioral_large_gatherings  26707 non-null  int32  \n",
      " 7   behavioral_outside_home      26707 non-null  int32  \n",
      " 8   behavioral_touch_face        26707 non-null  int32  \n",
      " 9   doctor_recc_h1n1             26707 non-null  int32  \n",
      " 10  doctor_recc_seasonal         26707 non-null  int32  \n",
      " 11  chronic_med_condition        26707 non-null  int32  \n",
      " 12  child_under_6_months         26707 non-null  int32  \n",
      " 13  health_worker                26707 non-null  int32  \n",
      " 14  health_insurance             26707 non-null  int32  \n",
      " 15  opinion_h1n1_vacc_effective  26707 non-null  int32  \n",
      " 16  opinion_h1n1_risk            26707 non-null  int32  \n",
      " 17  opinion_h1n1_sick_from_vacc  26312 non-null  float64\n",
      " 18  opinion_seas_vacc_effective  26245 non-null  float64\n",
      " 19  opinion_seas_risk            26193 non-null  float64\n",
      " 20  opinion_seas_sick_from_vacc  26170 non-null  float64\n",
      " 21  age_group                    26707 non-null  object \n",
      " 22  education                    25300 non-null  object \n",
      " 23  race                         26707 non-null  object \n",
      " 24  sex                          26707 non-null  object \n",
      " 25  income_poverty               22284 non-null  object \n",
      " 26  marital_status               25299 non-null  object \n",
      " 27  rent_or_own                  24665 non-null  object \n",
      " 28  employment_status            25244 non-null  object \n",
      " 29  hhs_geo_region               26707 non-null  object \n",
      " 30  census_msa                   26707 non-null  object \n",
      " 31  household_adults             26458 non-null  float64\n",
      " 32  household_children           26458 non-null  float64\n",
      " 33  employment_industry          13377 non-null  object \n",
      " 34  employment_occupation        13237 non-null  object \n",
      " 35  h1n1_vaccine                 26707 non-null  int64  \n",
      " 36  seasonal_vaccine             26707 non-null  int64  \n",
      "dtypes: float64(6), int32(17), int64(2), object(12)\n",
      "memory usage: 5.8+ MB\n"
     ]
    }
   ],
   "source": [
    "df.info()"
   ]
  },
  {
   "cell_type": "markdown",
   "id": "5052a220",
   "metadata": {},
   "source": [
    "## Feature 19"
   ]
  },
  {
   "cell_type": "code",
   "execution_count": 81,
   "id": "e518dbda",
   "metadata": {},
   "outputs": [
    {
     "data": {
      "text/plain": [
       "array([ 2.,  4.,  1.,  5.,  3., nan])"
      ]
     },
     "execution_count": 81,
     "metadata": {},
     "output_type": "execute_result"
    }
   ],
   "source": [
    "df['opinion_h1n1_sick_from_vacc'].unique()"
   ]
  },
  {
   "cell_type": "code",
   "execution_count": 82,
   "id": "689a5bfe",
   "metadata": {},
   "outputs": [],
   "source": [
    "df['opinion_h1n1_sick_from_vacc']=df['opinion_h1n1_sick_from_vacc'].fillna(df['opinion_h1n1_sick_from_vacc'].mode()[0])"
   ]
  },
  {
   "cell_type": "code",
   "execution_count": 83,
   "id": "6832e57c",
   "metadata": {},
   "outputs": [],
   "source": [
    "df['opinion_h1n1_sick_from_vacc']=df['opinion_h1n1_sick_from_vacc'].astype(int)"
   ]
  },
  {
   "cell_type": "code",
   "execution_count": 84,
   "id": "3edaa3b7",
   "metadata": {},
   "outputs": [
    {
     "data": {
      "text/plain": [
       "array([2, 4, 1, 5, 3])"
      ]
     },
     "execution_count": 84,
     "metadata": {},
     "output_type": "execute_result"
    }
   ],
   "source": [
    "df['opinion_h1n1_sick_from_vacc'].unique()"
   ]
  },
  {
   "cell_type": "markdown",
   "id": "1e834d41",
   "metadata": {},
   "source": [
    "## Feature 20"
   ]
  },
  {
   "cell_type": "code",
   "execution_count": 85,
   "id": "a24d9e28",
   "metadata": {},
   "outputs": [
    {
     "data": {
      "text/plain": [
       "array([ 2.,  4.,  5.,  3.,  1., nan])"
      ]
     },
     "execution_count": 85,
     "metadata": {},
     "output_type": "execute_result"
    }
   ],
   "source": [
    "df['opinion_seas_vacc_effective'].unique()"
   ]
  },
  {
   "cell_type": "code",
   "execution_count": 86,
   "id": "8494c2da",
   "metadata": {},
   "outputs": [],
   "source": [
    "df['opinion_seas_vacc_effective']=df['opinion_seas_vacc_effective'].fillna(df['opinion_seas_vacc_effective'].mode()[0])"
   ]
  },
  {
   "cell_type": "code",
   "execution_count": 87,
   "id": "ddfc365f",
   "metadata": {},
   "outputs": [],
   "source": [
    "df['opinion_seas_vacc_effective']=df['opinion_seas_vacc_effective'].astype(int)"
   ]
  },
  {
   "cell_type": "code",
   "execution_count": 88,
   "id": "6c827bf0",
   "metadata": {},
   "outputs": [
    {
     "data": {
      "text/plain": [
       "array([2, 4, 5, 3, 1])"
      ]
     },
     "execution_count": 88,
     "metadata": {},
     "output_type": "execute_result"
    }
   ],
   "source": [
    "df['opinion_seas_vacc_effective'].unique()"
   ]
  },
  {
   "cell_type": "markdown",
   "id": "6189dfc8",
   "metadata": {},
   "source": [
    "## Featurev 21"
   ]
  },
  {
   "cell_type": "code",
   "execution_count": 89,
   "id": "c9565a33",
   "metadata": {},
   "outputs": [
    {
     "data": {
      "text/plain": [
       "array([ 1.,  2.,  4.,  3.,  5., nan])"
      ]
     },
     "execution_count": 89,
     "metadata": {},
     "output_type": "execute_result"
    }
   ],
   "source": [
    "df['opinion_seas_risk'].unique()"
   ]
  },
  {
   "cell_type": "code",
   "execution_count": 90,
   "id": "b9292aba",
   "metadata": {},
   "outputs": [],
   "source": [
    "df['opinion_seas_risk']=df['opinion_seas_risk'].fillna(df['opinion_seas_risk'].mode()[0])"
   ]
  },
  {
   "cell_type": "code",
   "execution_count": 91,
   "id": "fae2dd2c",
   "metadata": {},
   "outputs": [],
   "source": [
    "df['opinion_seas_risk']=df['opinion_seas_risk'].astype(int)"
   ]
  },
  {
   "cell_type": "code",
   "execution_count": 92,
   "id": "df54b8b7",
   "metadata": {},
   "outputs": [
    {
     "data": {
      "text/plain": [
       "array([1, 2, 4, 3, 5])"
      ]
     },
     "execution_count": 92,
     "metadata": {},
     "output_type": "execute_result"
    }
   ],
   "source": [
    "df['opinion_seas_risk'].unique()"
   ]
  },
  {
   "cell_type": "markdown",
   "id": "e994c48e",
   "metadata": {},
   "source": [
    "## Feature 22"
   ]
  },
  {
   "cell_type": "code",
   "execution_count": 93,
   "id": "10598e80",
   "metadata": {},
   "outputs": [
    {
     "data": {
      "text/plain": [
       "array([ 2.,  4.,  1.,  5., nan,  3.])"
      ]
     },
     "execution_count": 93,
     "metadata": {},
     "output_type": "execute_result"
    }
   ],
   "source": [
    "df['opinion_seas_sick_from_vacc'].unique()"
   ]
  },
  {
   "cell_type": "code",
   "execution_count": 94,
   "id": "ae68a1d3",
   "metadata": {},
   "outputs": [],
   "source": [
    "df['opinion_seas_sick_from_vacc']=df['opinion_seas_sick_from_vacc'].fillna(df['opinion_seas_sick_from_vacc'].mode()[0])"
   ]
  },
  {
   "cell_type": "code",
   "execution_count": 95,
   "id": "9586754a",
   "metadata": {},
   "outputs": [],
   "source": [
    "df['opinion_seas_sick_from_vacc']=df['opinion_seas_sick_from_vacc'].astype(int)"
   ]
  },
  {
   "cell_type": "code",
   "execution_count": 96,
   "id": "af8fe158",
   "metadata": {},
   "outputs": [
    {
     "data": {
      "text/plain": [
       "array([2, 4, 1, 5, 3])"
      ]
     },
     "execution_count": 96,
     "metadata": {},
     "output_type": "execute_result"
    }
   ],
   "source": [
    "df['opinion_seas_sick_from_vacc'].unique()"
   ]
  },
  {
   "cell_type": "markdown",
   "id": "7f12f26f",
   "metadata": {},
   "source": [
    "## Feature 23"
   ]
  },
  {
   "cell_type": "code",
   "execution_count": 97,
   "id": "9e7ab618",
   "metadata": {},
   "outputs": [
    {
     "data": {
      "text/plain": [
       "array(['55 - 64 Years', '35 - 44 Years', '18 - 34 Years', '65+ Years',\n",
       "       '45 - 54 Years'], dtype=object)"
      ]
     },
     "execution_count": 97,
     "metadata": {},
     "output_type": "execute_result"
    }
   ],
   "source": [
    "df['age_group'].unique()"
   ]
  },
  {
   "cell_type": "code",
   "execution_count": 98,
   "id": "c3f198bc",
   "metadata": {},
   "outputs": [
    {
     "name": "stdout",
     "output_type": "stream",
     "text": [
      "<class 'pandas.core.frame.DataFrame'>\n",
      "RangeIndex: 26707 entries, 0 to 26706\n",
      "Data columns (total 37 columns):\n",
      " #   Column                       Non-Null Count  Dtype  \n",
      "---  ------                       --------------  -----  \n",
      " 0   h1n1_concern                 26707 non-null  int32  \n",
      " 1   h1n1_knowledge               26707 non-null  int32  \n",
      " 2   behavioral_antiviral_meds    26707 non-null  int32  \n",
      " 3   behavioral_avoidance         26707 non-null  int32  \n",
      " 4   behavioral_face_mask         26707 non-null  int32  \n",
      " 5   behavioral_wash_hands        26707 non-null  int32  \n",
      " 6   behavioral_large_gatherings  26707 non-null  int32  \n",
      " 7   behavioral_outside_home      26707 non-null  int32  \n",
      " 8   behavioral_touch_face        26707 non-null  int32  \n",
      " 9   doctor_recc_h1n1             26707 non-null  int32  \n",
      " 10  doctor_recc_seasonal         26707 non-null  int32  \n",
      " 11  chronic_med_condition        26707 non-null  int32  \n",
      " 12  child_under_6_months         26707 non-null  int32  \n",
      " 13  health_worker                26707 non-null  int32  \n",
      " 14  health_insurance             26707 non-null  int32  \n",
      " 15  opinion_h1n1_vacc_effective  26707 non-null  int32  \n",
      " 16  opinion_h1n1_risk            26707 non-null  int32  \n",
      " 17  opinion_h1n1_sick_from_vacc  26707 non-null  int32  \n",
      " 18  opinion_seas_vacc_effective  26707 non-null  int32  \n",
      " 19  opinion_seas_risk            26707 non-null  int32  \n",
      " 20  opinion_seas_sick_from_vacc  26707 non-null  int32  \n",
      " 21  age_group                    26707 non-null  object \n",
      " 22  education                    25300 non-null  object \n",
      " 23  race                         26707 non-null  object \n",
      " 24  sex                          26707 non-null  object \n",
      " 25  income_poverty               22284 non-null  object \n",
      " 26  marital_status               25299 non-null  object \n",
      " 27  rent_or_own                  24665 non-null  object \n",
      " 28  employment_status            25244 non-null  object \n",
      " 29  hhs_geo_region               26707 non-null  object \n",
      " 30  census_msa                   26707 non-null  object \n",
      " 31  household_adults             26458 non-null  float64\n",
      " 32  household_children           26458 non-null  float64\n",
      " 33  employment_industry          13377 non-null  object \n",
      " 34  employment_occupation        13237 non-null  object \n",
      " 35  h1n1_vaccine                 26707 non-null  int64  \n",
      " 36  seasonal_vaccine             26707 non-null  int64  \n",
      "dtypes: float64(2), int32(21), int64(2), object(12)\n",
      "memory usage: 5.4+ MB\n"
     ]
    }
   ],
   "source": [
    "df.info()"
   ]
  },
  {
   "cell_type": "code",
   "execution_count": 99,
   "id": "0235d7ae",
   "metadata": {},
   "outputs": [
    {
     "data": {
      "text/plain": [
       "h1n1_concern                       0\n",
       "h1n1_knowledge                     0\n",
       "behavioral_antiviral_meds          0\n",
       "behavioral_avoidance               0\n",
       "behavioral_face_mask               0\n",
       "behavioral_wash_hands              0\n",
       "behavioral_large_gatherings        0\n",
       "behavioral_outside_home            0\n",
       "behavioral_touch_face              0\n",
       "doctor_recc_h1n1                   0\n",
       "doctor_recc_seasonal               0\n",
       "chronic_med_condition              0\n",
       "child_under_6_months               0\n",
       "health_worker                      0\n",
       "health_insurance                   0\n",
       "opinion_h1n1_vacc_effective        0\n",
       "opinion_h1n1_risk                  0\n",
       "opinion_h1n1_sick_from_vacc        0\n",
       "opinion_seas_vacc_effective        0\n",
       "opinion_seas_risk                  0\n",
       "opinion_seas_sick_from_vacc        0\n",
       "age_group                          0\n",
       "education                       1407\n",
       "race                               0\n",
       "sex                                0\n",
       "income_poverty                  4423\n",
       "marital_status                  1408\n",
       "rent_or_own                     2042\n",
       "employment_status               1463\n",
       "hhs_geo_region                     0\n",
       "census_msa                         0\n",
       "household_adults                 249\n",
       "household_children               249\n",
       "employment_industry            13330\n",
       "employment_occupation          13470\n",
       "h1n1_vaccine                       0\n",
       "seasonal_vaccine                   0\n",
       "dtype: int64"
      ]
     },
     "execution_count": 99,
     "metadata": {},
     "output_type": "execute_result"
    }
   ],
   "source": [
    "df.isnull().sum()"
   ]
  },
  {
   "cell_type": "code",
   "execution_count": 100,
   "id": "77e8b567",
   "metadata": {},
   "outputs": [],
   "source": [
    "df['age_group']=df['age_group'].map({'18 - 34 Years':0, '35 - 44 Years':1,'45 - 54 Years':2,'55 - 64 Years':3,'65+ Years':4})\n"
   ]
  },
  {
   "cell_type": "code",
   "execution_count": 101,
   "id": "f843dd2c",
   "metadata": {},
   "outputs": [
    {
     "name": "stdout",
     "output_type": "stream",
     "text": [
      "<class 'pandas.core.frame.DataFrame'>\n",
      "RangeIndex: 26707 entries, 0 to 26706\n",
      "Data columns (total 37 columns):\n",
      " #   Column                       Non-Null Count  Dtype  \n",
      "---  ------                       --------------  -----  \n",
      " 0   h1n1_concern                 26707 non-null  int32  \n",
      " 1   h1n1_knowledge               26707 non-null  int32  \n",
      " 2   behavioral_antiviral_meds    26707 non-null  int32  \n",
      " 3   behavioral_avoidance         26707 non-null  int32  \n",
      " 4   behavioral_face_mask         26707 non-null  int32  \n",
      " 5   behavioral_wash_hands        26707 non-null  int32  \n",
      " 6   behavioral_large_gatherings  26707 non-null  int32  \n",
      " 7   behavioral_outside_home      26707 non-null  int32  \n",
      " 8   behavioral_touch_face        26707 non-null  int32  \n",
      " 9   doctor_recc_h1n1             26707 non-null  int32  \n",
      " 10  doctor_recc_seasonal         26707 non-null  int32  \n",
      " 11  chronic_med_condition        26707 non-null  int32  \n",
      " 12  child_under_6_months         26707 non-null  int32  \n",
      " 13  health_worker                26707 non-null  int32  \n",
      " 14  health_insurance             26707 non-null  int32  \n",
      " 15  opinion_h1n1_vacc_effective  26707 non-null  int32  \n",
      " 16  opinion_h1n1_risk            26707 non-null  int32  \n",
      " 17  opinion_h1n1_sick_from_vacc  26707 non-null  int32  \n",
      " 18  opinion_seas_vacc_effective  26707 non-null  int32  \n",
      " 19  opinion_seas_risk            26707 non-null  int32  \n",
      " 20  opinion_seas_sick_from_vacc  26707 non-null  int32  \n",
      " 21  age_group                    26707 non-null  int64  \n",
      " 22  education                    25300 non-null  object \n",
      " 23  race                         26707 non-null  object \n",
      " 24  sex                          26707 non-null  object \n",
      " 25  income_poverty               22284 non-null  object \n",
      " 26  marital_status               25299 non-null  object \n",
      " 27  rent_or_own                  24665 non-null  object \n",
      " 28  employment_status            25244 non-null  object \n",
      " 29  hhs_geo_region               26707 non-null  object \n",
      " 30  census_msa                   26707 non-null  object \n",
      " 31  household_adults             26458 non-null  float64\n",
      " 32  household_children           26458 non-null  float64\n",
      " 33  employment_industry          13377 non-null  object \n",
      " 34  employment_occupation        13237 non-null  object \n",
      " 35  h1n1_vaccine                 26707 non-null  int64  \n",
      " 36  seasonal_vaccine             26707 non-null  int64  \n",
      "dtypes: float64(2), int32(21), int64(3), object(11)\n",
      "memory usage: 5.4+ MB\n"
     ]
    }
   ],
   "source": [
    "df.info()"
   ]
  },
  {
   "cell_type": "markdown",
   "id": "a926614f",
   "metadata": {},
   "source": [
    "## Feature 24"
   ]
  },
  {
   "cell_type": "code",
   "execution_count": 102,
   "id": "ed69d001",
   "metadata": {},
   "outputs": [
    {
     "data": {
      "text/plain": [
       "array(['< 12 Years', '12 Years', 'College Graduate', 'Some College', nan],\n",
       "      dtype=object)"
      ]
     },
     "execution_count": 102,
     "metadata": {},
     "output_type": "execute_result"
    }
   ],
   "source": [
    "df['education'].unique()"
   ]
  },
  {
   "cell_type": "code",
   "execution_count": 103,
   "id": "97ad456b",
   "metadata": {},
   "outputs": [],
   "source": [
    "df['education']=df['education'].fillna(df['education'].mode()[0])"
   ]
  },
  {
   "cell_type": "code",
   "execution_count": 104,
   "id": "2f9a1d7d",
   "metadata": {},
   "outputs": [],
   "source": [
    "#label encoding\n",
    "\n",
    "from sklearn.preprocessing import LabelEncoder\n",
    "\n",
    "labelencoder=LabelEncoder()\n",
    "df[\"education\"]=labelencoder.fit_transform(df[\"education\"])"
   ]
  },
  {
   "cell_type": "code",
   "execution_count": 105,
   "id": "c3aec08b",
   "metadata": {},
   "outputs": [
    {
     "data": {
      "text/plain": [
       "array([1, 0, 2, 3])"
      ]
     },
     "execution_count": 105,
     "metadata": {},
     "output_type": "execute_result"
    }
   ],
   "source": [
    "df['education'].unique()"
   ]
  },
  {
   "cell_type": "code",
   "execution_count": 106,
   "id": "08446a36",
   "metadata": {},
   "outputs": [
    {
     "name": "stdout",
     "output_type": "stream",
     "text": [
      "<class 'pandas.core.frame.DataFrame'>\n",
      "RangeIndex: 26707 entries, 0 to 26706\n",
      "Data columns (total 37 columns):\n",
      " #   Column                       Non-Null Count  Dtype  \n",
      "---  ------                       --------------  -----  \n",
      " 0   h1n1_concern                 26707 non-null  int32  \n",
      " 1   h1n1_knowledge               26707 non-null  int32  \n",
      " 2   behavioral_antiviral_meds    26707 non-null  int32  \n",
      " 3   behavioral_avoidance         26707 non-null  int32  \n",
      " 4   behavioral_face_mask         26707 non-null  int32  \n",
      " 5   behavioral_wash_hands        26707 non-null  int32  \n",
      " 6   behavioral_large_gatherings  26707 non-null  int32  \n",
      " 7   behavioral_outside_home      26707 non-null  int32  \n",
      " 8   behavioral_touch_face        26707 non-null  int32  \n",
      " 9   doctor_recc_h1n1             26707 non-null  int32  \n",
      " 10  doctor_recc_seasonal         26707 non-null  int32  \n",
      " 11  chronic_med_condition        26707 non-null  int32  \n",
      " 12  child_under_6_months         26707 non-null  int32  \n",
      " 13  health_worker                26707 non-null  int32  \n",
      " 14  health_insurance             26707 non-null  int32  \n",
      " 15  opinion_h1n1_vacc_effective  26707 non-null  int32  \n",
      " 16  opinion_h1n1_risk            26707 non-null  int32  \n",
      " 17  opinion_h1n1_sick_from_vacc  26707 non-null  int32  \n",
      " 18  opinion_seas_vacc_effective  26707 non-null  int32  \n",
      " 19  opinion_seas_risk            26707 non-null  int32  \n",
      " 20  opinion_seas_sick_from_vacc  26707 non-null  int32  \n",
      " 21  age_group                    26707 non-null  int64  \n",
      " 22  education                    26707 non-null  int32  \n",
      " 23  race                         26707 non-null  object \n",
      " 24  sex                          26707 non-null  object \n",
      " 25  income_poverty               22284 non-null  object \n",
      " 26  marital_status               25299 non-null  object \n",
      " 27  rent_or_own                  24665 non-null  object \n",
      " 28  employment_status            25244 non-null  object \n",
      " 29  hhs_geo_region               26707 non-null  object \n",
      " 30  census_msa                   26707 non-null  object \n",
      " 31  household_adults             26458 non-null  float64\n",
      " 32  household_children           26458 non-null  float64\n",
      " 33  employment_industry          13377 non-null  object \n",
      " 34  employment_occupation        13237 non-null  object \n",
      " 35  h1n1_vaccine                 26707 non-null  int64  \n",
      " 36  seasonal_vaccine             26707 non-null  int64  \n",
      "dtypes: float64(2), int32(22), int64(3), object(10)\n",
      "memory usage: 5.3+ MB\n"
     ]
    }
   ],
   "source": [
    "df.info()"
   ]
  },
  {
   "cell_type": "markdown",
   "id": "2c6b39a0",
   "metadata": {},
   "source": [
    "## Feature 25"
   ]
  },
  {
   "cell_type": "code",
   "execution_count": 107,
   "id": "1be9e30c",
   "metadata": {},
   "outputs": [
    {
     "data": {
      "text/plain": [
       "array(['White', 'Black', 'Other or Multiple', 'Hispanic'], dtype=object)"
      ]
     },
     "execution_count": 107,
     "metadata": {},
     "output_type": "execute_result"
    }
   ],
   "source": [
    "df['race'].unique()"
   ]
  },
  {
   "cell_type": "code",
   "execution_count": 108,
   "id": "372f6b28",
   "metadata": {},
   "outputs": [],
   "source": [
    "df[\"race\"]=labelencoder.fit_transform(df[\"race\"])"
   ]
  },
  {
   "cell_type": "code",
   "execution_count": 109,
   "id": "71ce5ef1",
   "metadata": {},
   "outputs": [
    {
     "data": {
      "text/plain": [
       "array([3, 0, 2, 1])"
      ]
     },
     "execution_count": 109,
     "metadata": {},
     "output_type": "execute_result"
    }
   ],
   "source": [
    "df['race'].unique()"
   ]
  },
  {
   "cell_type": "markdown",
   "id": "afb1428f",
   "metadata": {},
   "source": [
    "## Feature 26"
   ]
  },
  {
   "cell_type": "code",
   "execution_count": 110,
   "id": "a39efd87",
   "metadata": {},
   "outputs": [],
   "source": [
    "df[\"sex\"]=labelencoder.fit_transform(df[\"sex\"])"
   ]
  },
  {
   "cell_type": "code",
   "execution_count": 111,
   "id": "0b1864cd",
   "metadata": {},
   "outputs": [
    {
     "name": "stdout",
     "output_type": "stream",
     "text": [
      "<class 'pandas.core.frame.DataFrame'>\n",
      "RangeIndex: 26707 entries, 0 to 26706\n",
      "Data columns (total 37 columns):\n",
      " #   Column                       Non-Null Count  Dtype  \n",
      "---  ------                       --------------  -----  \n",
      " 0   h1n1_concern                 26707 non-null  int32  \n",
      " 1   h1n1_knowledge               26707 non-null  int32  \n",
      " 2   behavioral_antiviral_meds    26707 non-null  int32  \n",
      " 3   behavioral_avoidance         26707 non-null  int32  \n",
      " 4   behavioral_face_mask         26707 non-null  int32  \n",
      " 5   behavioral_wash_hands        26707 non-null  int32  \n",
      " 6   behavioral_large_gatherings  26707 non-null  int32  \n",
      " 7   behavioral_outside_home      26707 non-null  int32  \n",
      " 8   behavioral_touch_face        26707 non-null  int32  \n",
      " 9   doctor_recc_h1n1             26707 non-null  int32  \n",
      " 10  doctor_recc_seasonal         26707 non-null  int32  \n",
      " 11  chronic_med_condition        26707 non-null  int32  \n",
      " 12  child_under_6_months         26707 non-null  int32  \n",
      " 13  health_worker                26707 non-null  int32  \n",
      " 14  health_insurance             26707 non-null  int32  \n",
      " 15  opinion_h1n1_vacc_effective  26707 non-null  int32  \n",
      " 16  opinion_h1n1_risk            26707 non-null  int32  \n",
      " 17  opinion_h1n1_sick_from_vacc  26707 non-null  int32  \n",
      " 18  opinion_seas_vacc_effective  26707 non-null  int32  \n",
      " 19  opinion_seas_risk            26707 non-null  int32  \n",
      " 20  opinion_seas_sick_from_vacc  26707 non-null  int32  \n",
      " 21  age_group                    26707 non-null  int64  \n",
      " 22  education                    26707 non-null  int32  \n",
      " 23  race                         26707 non-null  int32  \n",
      " 24  sex                          26707 non-null  int32  \n",
      " 25  income_poverty               22284 non-null  object \n",
      " 26  marital_status               25299 non-null  object \n",
      " 27  rent_or_own                  24665 non-null  object \n",
      " 28  employment_status            25244 non-null  object \n",
      " 29  hhs_geo_region               26707 non-null  object \n",
      " 30  census_msa                   26707 non-null  object \n",
      " 31  household_adults             26458 non-null  float64\n",
      " 32  household_children           26458 non-null  float64\n",
      " 33  employment_industry          13377 non-null  object \n",
      " 34  employment_occupation        13237 non-null  object \n",
      " 35  h1n1_vaccine                 26707 non-null  int64  \n",
      " 36  seasonal_vaccine             26707 non-null  int64  \n",
      "dtypes: float64(2), int32(24), int64(3), object(8)\n",
      "memory usage: 5.1+ MB\n"
     ]
    }
   ],
   "source": [
    "df.info()"
   ]
  },
  {
   "cell_type": "markdown",
   "id": "44968fe4",
   "metadata": {},
   "source": [
    "## Featutre 27"
   ]
  },
  {
   "cell_type": "code",
   "execution_count": 112,
   "id": "32af53a1",
   "metadata": {},
   "outputs": [
    {
     "data": {
      "text/plain": [
       "array(['Below Poverty', '<= $75,000, Above Poverty', '> $75,000', nan],\n",
       "      dtype=object)"
      ]
     },
     "execution_count": 112,
     "metadata": {},
     "output_type": "execute_result"
    }
   ],
   "source": [
    "df['income_poverty'].unique()"
   ]
  },
  {
   "cell_type": "code",
   "execution_count": 113,
   "id": "84d11a09",
   "metadata": {},
   "outputs": [],
   "source": [
    "df['income_poverty']=df['income_poverty'].fillna(df['income_poverty'].mode()[0])"
   ]
  },
  {
   "cell_type": "code",
   "execution_count": 114,
   "id": "fe5ff566",
   "metadata": {},
   "outputs": [],
   "source": [
    "df[\"income_poverty\"]=labelencoder.fit_transform(df[\"income_poverty\"])"
   ]
  },
  {
   "cell_type": "markdown",
   "id": "8850b949",
   "metadata": {},
   "source": [
    "## Feature 28"
   ]
  },
  {
   "cell_type": "code",
   "execution_count": 115,
   "id": "e32d8666",
   "metadata": {},
   "outputs": [
    {
     "data": {
      "text/plain": [
       "array(['Not Married', 'Married', nan], dtype=object)"
      ]
     },
     "execution_count": 115,
     "metadata": {},
     "output_type": "execute_result"
    }
   ],
   "source": [
    "df['marital_status'].unique()"
   ]
  },
  {
   "cell_type": "code",
   "execution_count": 116,
   "id": "277da3ae",
   "metadata": {},
   "outputs": [],
   "source": [
    "df['marital_status']=df['marital_status'].fillna(df['marital_status'].mode()[0])"
   ]
  },
  {
   "cell_type": "code",
   "execution_count": 117,
   "id": "4cc7c641",
   "metadata": {},
   "outputs": [],
   "source": [
    "df[\"marital_status\"]=labelencoder.fit_transform(df[\"marital_status\"])"
   ]
  },
  {
   "cell_type": "markdown",
   "id": "39498dcf",
   "metadata": {},
   "source": [
    "## Feature 29"
   ]
  },
  {
   "cell_type": "code",
   "execution_count": 118,
   "id": "56b4fc4f",
   "metadata": {},
   "outputs": [
    {
     "data": {
      "text/plain": [
       "array(['Own', 'Rent', nan], dtype=object)"
      ]
     },
     "execution_count": 118,
     "metadata": {},
     "output_type": "execute_result"
    }
   ],
   "source": [
    "df['rent_or_own'].unique()"
   ]
  },
  {
   "cell_type": "code",
   "execution_count": 119,
   "id": "d584d3aa",
   "metadata": {},
   "outputs": [],
   "source": [
    "df['rent_or_own']=df['rent_or_own'].fillna(df['rent_or_own'].mode()[0])"
   ]
  },
  {
   "cell_type": "code",
   "execution_count": 120,
   "id": "b9143ea6",
   "metadata": {},
   "outputs": [],
   "source": [
    "df[\"rent_or_own\"]=labelencoder.fit_transform(df[\"rent_or_own\"])"
   ]
  },
  {
   "cell_type": "markdown",
   "id": "27646187",
   "metadata": {},
   "source": [
    "## Feature 29"
   ]
  },
  {
   "cell_type": "code",
   "execution_count": 121,
   "id": "deaf2d0e",
   "metadata": {},
   "outputs": [
    {
     "name": "stdout",
     "output_type": "stream",
     "text": [
      "<class 'pandas.core.frame.DataFrame'>\n",
      "RangeIndex: 26707 entries, 0 to 26706\n",
      "Data columns (total 37 columns):\n",
      " #   Column                       Non-Null Count  Dtype  \n",
      "---  ------                       --------------  -----  \n",
      " 0   h1n1_concern                 26707 non-null  int32  \n",
      " 1   h1n1_knowledge               26707 non-null  int32  \n",
      " 2   behavioral_antiviral_meds    26707 non-null  int32  \n",
      " 3   behavioral_avoidance         26707 non-null  int32  \n",
      " 4   behavioral_face_mask         26707 non-null  int32  \n",
      " 5   behavioral_wash_hands        26707 non-null  int32  \n",
      " 6   behavioral_large_gatherings  26707 non-null  int32  \n",
      " 7   behavioral_outside_home      26707 non-null  int32  \n",
      " 8   behavioral_touch_face        26707 non-null  int32  \n",
      " 9   doctor_recc_h1n1             26707 non-null  int32  \n",
      " 10  doctor_recc_seasonal         26707 non-null  int32  \n",
      " 11  chronic_med_condition        26707 non-null  int32  \n",
      " 12  child_under_6_months         26707 non-null  int32  \n",
      " 13  health_worker                26707 non-null  int32  \n",
      " 14  health_insurance             26707 non-null  int32  \n",
      " 15  opinion_h1n1_vacc_effective  26707 non-null  int32  \n",
      " 16  opinion_h1n1_risk            26707 non-null  int32  \n",
      " 17  opinion_h1n1_sick_from_vacc  26707 non-null  int32  \n",
      " 18  opinion_seas_vacc_effective  26707 non-null  int32  \n",
      " 19  opinion_seas_risk            26707 non-null  int32  \n",
      " 20  opinion_seas_sick_from_vacc  26707 non-null  int32  \n",
      " 21  age_group                    26707 non-null  int64  \n",
      " 22  education                    26707 non-null  int32  \n",
      " 23  race                         26707 non-null  int32  \n",
      " 24  sex                          26707 non-null  int32  \n",
      " 25  income_poverty               26707 non-null  int32  \n",
      " 26  marital_status               26707 non-null  int32  \n",
      " 27  rent_or_own                  26707 non-null  int32  \n",
      " 28  employment_status            25244 non-null  object \n",
      " 29  hhs_geo_region               26707 non-null  object \n",
      " 30  census_msa                   26707 non-null  object \n",
      " 31  household_adults             26458 non-null  float64\n",
      " 32  household_children           26458 non-null  float64\n",
      " 33  employment_industry          13377 non-null  object \n",
      " 34  employment_occupation        13237 non-null  object \n",
      " 35  h1n1_vaccine                 26707 non-null  int64  \n",
      " 36  seasonal_vaccine             26707 non-null  int64  \n",
      "dtypes: float64(2), int32(27), int64(3), object(5)\n",
      "memory usage: 4.8+ MB\n"
     ]
    }
   ],
   "source": [
    "df.info()"
   ]
  },
  {
   "cell_type": "code",
   "execution_count": 122,
   "id": "c142af9d",
   "metadata": {},
   "outputs": [
    {
     "data": {
      "text/plain": [
       "array(['Not in Labor Force', 'Employed', 'Unemployed', nan], dtype=object)"
      ]
     },
     "execution_count": 122,
     "metadata": {},
     "output_type": "execute_result"
    }
   ],
   "source": [
    "df['employment_status'].unique()"
   ]
  },
  {
   "cell_type": "code",
   "execution_count": 123,
   "id": "06441e8b",
   "metadata": {},
   "outputs": [],
   "source": [
    "df['employment_status']=df['employment_status'].fillna(df['employment_status'].mode()[0])"
   ]
  },
  {
   "cell_type": "code",
   "execution_count": 124,
   "id": "7c6025d2",
   "metadata": {},
   "outputs": [],
   "source": [
    "df[\"employment_status\"]=labelencoder.fit_transform(df[\"employment_status\"])"
   ]
  },
  {
   "cell_type": "markdown",
   "id": "fed53b05",
   "metadata": {},
   "source": [
    "## Feature 30"
   ]
  },
  {
   "cell_type": "code",
   "execution_count": 125,
   "id": "27b5aa7a",
   "metadata": {},
   "outputs": [
    {
     "data": {
      "text/plain": [
       "array(['oxchjgsf', 'bhuqouqj', 'qufhixun', 'lrircsnp', 'atmpeygn',\n",
       "       'lzgpxyit', 'fpwskwrf', 'mlyzmhmf', 'dqpwygqj', 'kbazzjca'],\n",
       "      dtype=object)"
      ]
     },
     "execution_count": 125,
     "metadata": {},
     "output_type": "execute_result"
    }
   ],
   "source": [
    "df['hhs_geo_region'].unique()"
   ]
  },
  {
   "cell_type": "code",
   "execution_count": 126,
   "id": "f0c24c03",
   "metadata": {},
   "outputs": [],
   "source": [
    "df[\"hhs_geo_region\"]=labelencoder.fit_transform(df[\"hhs_geo_region\"])"
   ]
  },
  {
   "cell_type": "markdown",
   "id": "3fd7f18f",
   "metadata": {},
   "source": [
    "## Feature 31"
   ]
  },
  {
   "cell_type": "code",
   "execution_count": 127,
   "id": "8c46f686",
   "metadata": {},
   "outputs": [
    {
     "data": {
      "text/plain": [
       "array(['Non-MSA', 'MSA, Not Principle  City', 'MSA, Principle City'],\n",
       "      dtype=object)"
      ]
     },
     "execution_count": 127,
     "metadata": {},
     "output_type": "execute_result"
    }
   ],
   "source": [
    "df['census_msa'].unique()"
   ]
  },
  {
   "cell_type": "code",
   "execution_count": 128,
   "id": "fa5a8a93",
   "metadata": {},
   "outputs": [],
   "source": [
    "df[\"census_msa\"]=labelencoder.fit_transform(df[\"census_msa\"])"
   ]
  },
  {
   "cell_type": "markdown",
   "id": "2b14aa0d",
   "metadata": {},
   "source": [
    "## Feature 32"
   ]
  },
  {
   "cell_type": "code",
   "execution_count": 129,
   "id": "7dd029a5",
   "metadata": {},
   "outputs": [
    {
     "data": {
      "text/plain": [
       "array([ 0.,  2.,  1.,  3., nan])"
      ]
     },
     "execution_count": 129,
     "metadata": {},
     "output_type": "execute_result"
    }
   ],
   "source": [
    "df['household_adults'].unique()"
   ]
  },
  {
   "cell_type": "code",
   "execution_count": 130,
   "id": "f008a404",
   "metadata": {},
   "outputs": [],
   "source": [
    "df['household_adults']=df['household_adults'].fillna(df['household_adults'].mode()[0])"
   ]
  },
  {
   "cell_type": "code",
   "execution_count": 131,
   "id": "fa8d73c8",
   "metadata": {},
   "outputs": [],
   "source": [
    "df['household_adults']=df['household_adults'].astype(int)"
   ]
  },
  {
   "cell_type": "code",
   "execution_count": 132,
   "id": "c04f4a04",
   "metadata": {},
   "outputs": [
    {
     "data": {
      "text/plain": [
       "array([0, 2, 1, 3])"
      ]
     },
     "execution_count": 132,
     "metadata": {},
     "output_type": "execute_result"
    }
   ],
   "source": [
    "df['household_adults'].unique()"
   ]
  },
  {
   "cell_type": "markdown",
   "id": "f68f8e1e",
   "metadata": {},
   "source": [
    "## Feature 33"
   ]
  },
  {
   "cell_type": "code",
   "execution_count": 133,
   "id": "fd931aac",
   "metadata": {},
   "outputs": [
    {
     "data": {
      "text/plain": [
       "array([ 0.,  3.,  2.,  1., nan])"
      ]
     },
     "execution_count": 133,
     "metadata": {},
     "output_type": "execute_result"
    }
   ],
   "source": [
    "df['household_children'].unique()"
   ]
  },
  {
   "cell_type": "code",
   "execution_count": 134,
   "id": "a67a71c2",
   "metadata": {},
   "outputs": [],
   "source": [
    "df['household_children']=df['household_children'].fillna(df['household_children'].mode()[0])"
   ]
  },
  {
   "cell_type": "code",
   "execution_count": 135,
   "id": "76c30395",
   "metadata": {},
   "outputs": [],
   "source": [
    "df['household_children']=df['household_children'].astype(int)"
   ]
  },
  {
   "cell_type": "code",
   "execution_count": 136,
   "id": "e3fe1004",
   "metadata": {},
   "outputs": [
    {
     "data": {
      "text/plain": [
       "array([0, 3, 2, 1])"
      ]
     },
     "execution_count": 136,
     "metadata": {},
     "output_type": "execute_result"
    }
   ],
   "source": [
    "df['household_children'].unique()"
   ]
  },
  {
   "cell_type": "markdown",
   "id": "6310a1a1",
   "metadata": {},
   "source": [
    "## Feature 34"
   ]
  },
  {
   "cell_type": "code",
   "execution_count": 137,
   "id": "05a7acc2",
   "metadata": {},
   "outputs": [
    {
     "data": {
      "text/plain": [
       "array([nan, 'pxcmvdjn', 'rucpziij', 'wxleyezf', 'saaquncn', 'xicduogh',\n",
       "       'ldnlellj', 'wlfvacwt', 'nduyfdeo', 'fcxhlnwr', 'vjjrobsf',\n",
       "       'arjwrbjb', 'atmlpfrs', 'msuufmds', 'xqicxuve', 'phxvnwax',\n",
       "       'dotnnunm', 'mfikgejo', 'cfqqtusy', 'mcubkhph', 'haxffmxo',\n",
       "       'qnlwzans'], dtype=object)"
      ]
     },
     "execution_count": 137,
     "metadata": {},
     "output_type": "execute_result"
    }
   ],
   "source": [
    "df['employment_industry'].unique()"
   ]
  },
  {
   "cell_type": "code",
   "execution_count": 138,
   "id": "2e0a2997",
   "metadata": {},
   "outputs": [],
   "source": [
    "df[\"employment_industry\"]=labelencoder.fit_transform(df[\"employment_industry\"])"
   ]
  },
  {
   "cell_type": "code",
   "execution_count": 139,
   "id": "499e0fbd",
   "metadata": {},
   "outputs": [
    {
     "name": "stdout",
     "output_type": "stream",
     "text": [
      "<class 'pandas.core.frame.DataFrame'>\n",
      "RangeIndex: 26707 entries, 0 to 26706\n",
      "Data columns (total 37 columns):\n",
      " #   Column                       Non-Null Count  Dtype \n",
      "---  ------                       --------------  ----- \n",
      " 0   h1n1_concern                 26707 non-null  int32 \n",
      " 1   h1n1_knowledge               26707 non-null  int32 \n",
      " 2   behavioral_antiviral_meds    26707 non-null  int32 \n",
      " 3   behavioral_avoidance         26707 non-null  int32 \n",
      " 4   behavioral_face_mask         26707 non-null  int32 \n",
      " 5   behavioral_wash_hands        26707 non-null  int32 \n",
      " 6   behavioral_large_gatherings  26707 non-null  int32 \n",
      " 7   behavioral_outside_home      26707 non-null  int32 \n",
      " 8   behavioral_touch_face        26707 non-null  int32 \n",
      " 9   doctor_recc_h1n1             26707 non-null  int32 \n",
      " 10  doctor_recc_seasonal         26707 non-null  int32 \n",
      " 11  chronic_med_condition        26707 non-null  int32 \n",
      " 12  child_under_6_months         26707 non-null  int32 \n",
      " 13  health_worker                26707 non-null  int32 \n",
      " 14  health_insurance             26707 non-null  int32 \n",
      " 15  opinion_h1n1_vacc_effective  26707 non-null  int32 \n",
      " 16  opinion_h1n1_risk            26707 non-null  int32 \n",
      " 17  opinion_h1n1_sick_from_vacc  26707 non-null  int32 \n",
      " 18  opinion_seas_vacc_effective  26707 non-null  int32 \n",
      " 19  opinion_seas_risk            26707 non-null  int32 \n",
      " 20  opinion_seas_sick_from_vacc  26707 non-null  int32 \n",
      " 21  age_group                    26707 non-null  int64 \n",
      " 22  education                    26707 non-null  int32 \n",
      " 23  race                         26707 non-null  int32 \n",
      " 24  sex                          26707 non-null  int32 \n",
      " 25  income_poverty               26707 non-null  int32 \n",
      " 26  marital_status               26707 non-null  int32 \n",
      " 27  rent_or_own                  26707 non-null  int32 \n",
      " 28  employment_status            26707 non-null  int32 \n",
      " 29  hhs_geo_region               26707 non-null  int32 \n",
      " 30  census_msa                   26707 non-null  int32 \n",
      " 31  household_adults             26707 non-null  int32 \n",
      " 32  household_children           26707 non-null  int32 \n",
      " 33  employment_industry          26707 non-null  int32 \n",
      " 34  employment_occupation        13237 non-null  object\n",
      " 35  h1n1_vaccine                 26707 non-null  int64 \n",
      " 36  seasonal_vaccine             26707 non-null  int64 \n",
      "dtypes: int32(33), int64(3), object(1)\n",
      "memory usage: 4.2+ MB\n"
     ]
    }
   ],
   "source": [
    "df.info()"
   ]
  },
  {
   "cell_type": "markdown",
   "id": "41d5d78c",
   "metadata": {},
   "source": [
    "## Feature 35"
   ]
  },
  {
   "cell_type": "code",
   "execution_count": 140,
   "id": "3156bec0",
   "metadata": {},
   "outputs": [
    {
     "data": {
      "text/plain": [
       "array([nan, 'xgwztkwe', 'xtkaffoo', 'emcorrxb', 'vlluhbov', 'xqwwgdyp',\n",
       "       'ccgxvspp', 'qxajmpny', 'kldqjyjy', 'mxkfnird', 'hfxkjkmi',\n",
       "       'bxpfxfdn', 'ukymxvdu', 'cmhcxjea', 'haliazsg', 'dlvbwzss',\n",
       "       'xzmlyyjv', 'oijqvulv', 'rcertsgn', 'tfqavkke', 'hodpvpew',\n",
       "       'uqqtjvyb', 'pvmttkik', 'dcjcmpih'], dtype=object)"
      ]
     },
     "execution_count": 140,
     "metadata": {},
     "output_type": "execute_result"
    }
   ],
   "source": [
    "df['employment_occupation'].unique()"
   ]
  },
  {
   "cell_type": "code",
   "execution_count": 141,
   "id": "d820ee8c",
   "metadata": {},
   "outputs": [],
   "source": [
    "df['employment_occupation']=df['employment_occupation'].fillna(df['employment_occupation'].mode()[0])"
   ]
  },
  {
   "cell_type": "code",
   "execution_count": 142,
   "id": "df0bc8f7",
   "metadata": {},
   "outputs": [],
   "source": [
    "df[\"employment_occupation\"]=labelencoder.fit_transform(df[\"employment_occupation\"])"
   ]
  },
  {
   "cell_type": "markdown",
   "id": "471b3b97",
   "metadata": {},
   "source": [
    "# Prediction of H1N1 Vaccine"
   ]
  },
  {
   "cell_type": "code",
   "execution_count": 143,
   "id": "d2fd6a82",
   "metadata": {},
   "outputs": [],
   "source": [
    "X=df.drop('h1n1_vaccine',axis=1)"
   ]
  },
  {
   "cell_type": "code",
   "execution_count": 144,
   "id": "aec38d94",
   "metadata": {},
   "outputs": [],
   "source": [
    "y=df['h1n1_vaccine']"
   ]
  },
  {
   "cell_type": "code",
   "execution_count": 145,
   "id": "29b97a30",
   "metadata": {},
   "outputs": [],
   "source": [
    "from sklearn.model_selection import train_test_split\n",
    "X_train, X_test, y_train, y_test = train_test_split(X, y, test_size=0.33, random_state=42)"
   ]
  },
  {
   "cell_type": "code",
   "execution_count": 146,
   "id": "f8d65434",
   "metadata": {},
   "outputs": [],
   "source": [
    "from sklearn.preprocessing import StandardScaler\n",
    "sc=StandardScaler()\n",
    "X_train=sc.fit_transform(X_train)\n",
    "X_test=sc.fit_transform(X_test)"
   ]
  },
  {
   "cell_type": "markdown",
   "id": "e46c9061",
   "metadata": {},
   "source": [
    "## Logistic Regression Model"
   ]
  },
  {
   "cell_type": "code",
   "execution_count": 147,
   "id": "11adb02d",
   "metadata": {},
   "outputs": [],
   "source": [
    "from sklearn.linear_model import LogisticRegression\n",
    "logModel=LogisticRegression(solver='lbfgs', max_iter=1000000,dual=False)"
   ]
  },
  {
   "cell_type": "code",
   "execution_count": 148,
   "id": "e15350cb",
   "metadata": {},
   "outputs": [],
   "source": [
    "logModel.fit(X_train, y_train,)\n",
    "predictions = logModel.predict(X_test)"
   ]
  },
  {
   "cell_type": "code",
   "execution_count": 149,
   "id": "a8e02ba1",
   "metadata": {},
   "outputs": [
    {
     "data": {
      "text/plain": [
       "84.8763331064216"
      ]
     },
     "execution_count": 149,
     "metadata": {},
     "output_type": "execute_result"
    }
   ],
   "source": [
    "from sklearn.metrics import accuracy_score\n",
    "accuracy_score(y_test,predictions)*100"
   ]
  },
  {
   "cell_type": "markdown",
   "id": "2c6e85a5",
   "metadata": {},
   "source": [
    "## Naive bayes Model"
   ]
  },
  {
   "cell_type": "code",
   "execution_count": 150,
   "id": "affcacb4",
   "metadata": {},
   "outputs": [
    {
     "data": {
      "text/plain": [
       "array([0.78729112, 0.21270888])"
      ]
     },
     "execution_count": 150,
     "metadata": {},
     "output_type": "execute_result"
    }
   ],
   "source": [
    "from sklearn.naive_bayes import GaussianNB\n",
    "from sklearn.model_selection import train_test_split\n",
    "from sklearn.metrics import accuracy_score\n",
    "classifier= GaussianNB()\n",
    "classifier.fit(X_train, y_train)\n",
    "classifier.class_prior_"
   ]
  },
  {
   "cell_type": "code",
   "execution_count": 151,
   "id": "4e315171",
   "metadata": {},
   "outputs": [
    {
     "name": "stdout",
     "output_type": "stream",
     "text": [
      "78.60000000000001\n"
     ]
    }
   ],
   "source": [
    "predicts=classifier.predict(X_test)\n",
    "accuracy=round(accuracy_score(y_test,predicts),3)\n",
    "print(accuracy*100)"
   ]
  },
  {
   "cell_type": "markdown",
   "id": "43640ec4",
   "metadata": {},
   "source": [
    "## XGBoost Model"
   ]
  },
  {
   "cell_type": "code",
   "execution_count": 152,
   "id": "49371a6f",
   "metadata": {},
   "outputs": [],
   "source": [
    "from xgboost import XGBClassifier\n",
    "from sklearn.metrics import accuracy_score\n"
   ]
  },
  {
   "cell_type": "code",
   "execution_count": 153,
   "id": "46fee1d7",
   "metadata": {},
   "outputs": [],
   "source": [
    "model = XGBClassifier(eval_metric='mlogloss')"
   ]
  },
  {
   "cell_type": "code",
   "execution_count": 154,
   "id": "cccf8f42",
   "metadata": {},
   "outputs": [
    {
     "data": {
      "text/plain": [
       "XGBClassifier(base_score=0.5, booster='gbtree', callbacks=None,\n",
       "              colsample_bylevel=1, colsample_bynode=1, colsample_bytree=1,\n",
       "              early_stopping_rounds=None, enable_categorical=False,\n",
       "              eval_metric='mlogloss', gamma=0, gpu_id=-1,\n",
       "              grow_policy='depthwise', importance_type=None,\n",
       "              interaction_constraints='', learning_rate=0.300000012,\n",
       "              max_bin=256, max_cat_to_onehot=4, max_delta_step=0, max_depth=6,\n",
       "              max_leaves=0, min_child_weight=1, missing=nan,\n",
       "              monotone_constraints='()', n_estimators=100, n_jobs=0,\n",
       "              num_parallel_tree=1, predictor='auto', random_state=0,\n",
       "              reg_alpha=0, reg_lambda=1, ...)"
      ]
     },
     "execution_count": 154,
     "metadata": {},
     "output_type": "execute_result"
    }
   ],
   "source": [
    "model.fit(X_train, y_train)"
   ]
  },
  {
   "cell_type": "code",
   "execution_count": 155,
   "id": "0b3af697",
   "metadata": {},
   "outputs": [],
   "source": [
    "y_pred1 = model.predict(X_test)"
   ]
  },
  {
   "cell_type": "code",
   "execution_count": 156,
   "id": "3163936b",
   "metadata": {},
   "outputs": [
    {
     "name": "stdout",
     "output_type": "stream",
     "text": [
      "84.28636260494667\n"
     ]
    }
   ],
   "source": [
    "accuracy = accuracy_score(y_test, y_pred1)\n",
    "print(accuracy*100)"
   ]
  },
  {
   "cell_type": "markdown",
   "id": "c42e295a",
   "metadata": {},
   "source": [
    "## SVM Model"
   ]
  },
  {
   "cell_type": "code",
   "execution_count": 157,
   "id": "865f048c",
   "metadata": {},
   "outputs": [
    {
     "data": {
      "text/plain": [
       "SVC(kernel='linear')"
      ]
     },
     "execution_count": 157,
     "metadata": {},
     "output_type": "execute_result"
    }
   ],
   "source": [
    "from sklearn.svm import SVC  \n",
    "clf = SVC(kernel='linear') \n",
    "  \n",
    "#fitting x samples and y classes \n",
    "clf.fit(X_train, y_train) "
   ]
  },
  {
   "cell_type": "code",
   "execution_count": 158,
   "id": "8f3c85bb",
   "metadata": {},
   "outputs": [],
   "source": [
    "y_pred2=clf.predict(X_test)"
   ]
  },
  {
   "cell_type": "code",
   "execution_count": 159,
   "id": "7ff36c92",
   "metadata": {},
   "outputs": [
    {
     "name": "stdout",
     "output_type": "stream",
     "text": [
      "84.94440662582255\n"
     ]
    }
   ],
   "source": [
    "accuracy = accuracy_score(y_test, y_pred2)\n",
    "print(accuracy*100)"
   ]
  },
  {
   "cell_type": "markdown",
   "id": "c8a515a1",
   "metadata": {},
   "source": [
    "## Random Forest Model"
   ]
  },
  {
   "cell_type": "code",
   "execution_count": 160,
   "id": "f3f81d53",
   "metadata": {},
   "outputs": [],
   "source": [
    "from sklearn.ensemble import RandomForestClassifier\n",
    "clf = RandomForestClassifier(n_estimators = 100) \n",
    " \n",
    "# Training the model on the training dataset\n",
    "# fit function is used to train the model using the training sets as parameters\n",
    "clf.fit(X_train, y_train)\n",
    " \n",
    "# performing predictions on the test dataset\n",
    "y_pred = clf.predict(X_test)\n",
    " \n"
   ]
  },
  {
   "cell_type": "code",
   "execution_count": 161,
   "id": "419391a3",
   "metadata": {},
   "outputs": [
    {
     "name": "stdout",
     "output_type": "stream",
     "text": [
      "\n",
      "84.3884728840481\n"
     ]
    }
   ],
   "source": [
    "# metrics are used to find accuracy or error\n",
    "from sklearn import metrics \n",
    "print()\n",
    " \n",
    "# using metrics module for accuracy calculation\n",
    "print( metrics.accuracy_score(y_test, y_pred)*100)"
   ]
  },
  {
   "cell_type": "markdown",
   "id": "6e855f29",
   "metadata": {},
   "source": [
    "## D-Tree Model"
   ]
  },
  {
   "cell_type": "code",
   "execution_count": 162,
   "id": "c952c126",
   "metadata": {},
   "outputs": [],
   "source": [
    "from sklearn.tree import DecisionTreeClassifier\n",
    "from sklearn.metrics import accuracy_score\n",
    "from sklearn.metrics import classification_report"
   ]
  },
  {
   "cell_type": "code",
   "execution_count": 163,
   "id": "8bd9be77",
   "metadata": {},
   "outputs": [],
   "source": [
    "# Create Decision Tree classifer object\n",
    "clf = DecisionTreeClassifier()\n",
    "\n",
    "# Train Decision Tree Classifer\n",
    "clf = clf.fit(X_train,y_train)\n",
    "\n",
    "#Predict the response for test dataset\n",
    "y_pred3 = clf.predict(X_test)"
   ]
  },
  {
   "cell_type": "code",
   "execution_count": 164,
   "id": "a5a89af5",
   "metadata": {},
   "outputs": [
    {
     "name": "stdout",
     "output_type": "stream",
     "text": [
      "77.55842977081915\n"
     ]
    }
   ],
   "source": [
    "print(metrics.accuracy_score(y_test, y_pred3)*100)"
   ]
  },
  {
   "cell_type": "markdown",
   "id": "12e09553",
   "metadata": {},
   "source": [
    "# Prediction of Seasonal Vaccine"
   ]
  },
  {
   "cell_type": "code",
   "execution_count": 165,
   "id": "398d5c57",
   "metadata": {},
   "outputs": [],
   "source": [
    "X1=df.drop('seasonal_vaccine',axis=1)"
   ]
  },
  {
   "cell_type": "code",
   "execution_count": 166,
   "id": "427914df",
   "metadata": {},
   "outputs": [],
   "source": [
    "y1=df['seasonal_vaccine']"
   ]
  },
  {
   "cell_type": "code",
   "execution_count": 167,
   "id": "d73bb296",
   "metadata": {},
   "outputs": [],
   "source": [
    "from sklearn.model_selection import train_test_split\n",
    "X1_train, X1_test, y1_train, y1_test = train_test_split(X1, y1, test_size=0.33, random_state=42)"
   ]
  },
  {
   "cell_type": "code",
   "execution_count": 168,
   "id": "3a87fdb4",
   "metadata": {},
   "outputs": [],
   "source": [
    "from sklearn.preprocessing import StandardScaler\n",
    "sc=StandardScaler()\n",
    "X1_train=sc.fit_transform(X1_train)\n",
    "X1_test=sc.fit_transform(X1_test)"
   ]
  },
  {
   "cell_type": "markdown",
   "id": "73ec21c3",
   "metadata": {},
   "source": [
    "## Logistic Regression model"
   ]
  },
  {
   "cell_type": "code",
   "execution_count": 169,
   "id": "1c430771",
   "metadata": {},
   "outputs": [],
   "source": [
    "from sklearn.linear_model import LogisticRegression\n",
    "logModel=LogisticRegression(solver='lbfgs', max_iter=1000000,dual=False)"
   ]
  },
  {
   "cell_type": "code",
   "execution_count": 170,
   "id": "92d5ac8d",
   "metadata": {},
   "outputs": [],
   "source": [
    "logModel.fit(X1_train, y1_train,)\n",
    "predictions1 = logModel.predict(X1_test)"
   ]
  },
  {
   "cell_type": "code",
   "execution_count": 171,
   "id": "e9e686a7",
   "metadata": {},
   "outputs": [
    {
     "data": {
      "text/plain": [
       "80.2019514408895"
      ]
     },
     "execution_count": 171,
     "metadata": {},
     "output_type": "execute_result"
    }
   ],
   "source": [
    "from sklearn.metrics import accuracy_score\n",
    "accuracy_score(y1_test,predictions1)*100"
   ]
  },
  {
   "cell_type": "markdown",
   "id": "40daa8b7",
   "metadata": {},
   "source": [
    "## XGBoost Model"
   ]
  },
  {
   "cell_type": "code",
   "execution_count": 172,
   "id": "b5f51f2b",
   "metadata": {},
   "outputs": [],
   "source": [
    "from xgboost import XGBClassifier\n",
    "from sklearn.metrics import accuracy_score"
   ]
  },
  {
   "cell_type": "code",
   "execution_count": 173,
   "id": "d91431ee",
   "metadata": {},
   "outputs": [],
   "source": [
    "model = XGBClassifier(eval_metric='mlogloss')"
   ]
  },
  {
   "cell_type": "code",
   "execution_count": 174,
   "id": "c2964055",
   "metadata": {},
   "outputs": [
    {
     "data": {
      "text/plain": [
       "XGBClassifier(base_score=0.5, booster='gbtree', callbacks=None,\n",
       "              colsample_bylevel=1, colsample_bynode=1, colsample_bytree=1,\n",
       "              early_stopping_rounds=None, enable_categorical=False,\n",
       "              eval_metric='mlogloss', gamma=0, gpu_id=-1,\n",
       "              grow_policy='depthwise', importance_type=None,\n",
       "              interaction_constraints='', learning_rate=0.300000012,\n",
       "              max_bin=256, max_cat_to_onehot=4, max_delta_step=0, max_depth=6,\n",
       "              max_leaves=0, min_child_weight=1, missing=nan,\n",
       "              monotone_constraints='()', n_estimators=100, n_jobs=0,\n",
       "              num_parallel_tree=1, predictor='auto', random_state=0,\n",
       "              reg_alpha=0, reg_lambda=1, ...)"
      ]
     },
     "execution_count": 174,
     "metadata": {},
     "output_type": "execute_result"
    }
   ],
   "source": [
    "model.fit(X1_train, y1_train)"
   ]
  },
  {
   "cell_type": "code",
   "execution_count": 175,
   "id": "bb17bfb4",
   "metadata": {},
   "outputs": [],
   "source": [
    "y_pred5 = model.predict(X1_test)"
   ]
  },
  {
   "cell_type": "code",
   "execution_count": 176,
   "id": "ca6c522b",
   "metadata": {},
   "outputs": [
    {
     "name": "stdout",
     "output_type": "stream",
     "text": [
      "80.36078965282505\n"
     ]
    }
   ],
   "source": [
    "accuracy = accuracy_score(y1_test, y_pred5)\n",
    "print(accuracy*100)"
   ]
  },
  {
   "cell_type": "markdown",
   "id": "7745ea12",
   "metadata": {},
   "source": [
    "## SVM Model"
   ]
  },
  {
   "cell_type": "code",
   "execution_count": 177,
   "id": "9c824e6b",
   "metadata": {},
   "outputs": [
    {
     "data": {
      "text/plain": [
       "SVC(kernel='linear')"
      ]
     },
     "execution_count": 177,
     "metadata": {},
     "output_type": "execute_result"
    }
   ],
   "source": [
    "from sklearn.svm import SVC  \n",
    "clf = SVC(kernel='linear') \n",
    "  \n",
    "# fitting x samples and y classes \n",
    "clf.fit(X1_train, y1_train) "
   ]
  },
  {
   "cell_type": "code",
   "execution_count": 178,
   "id": "243aa6c5",
   "metadata": {},
   "outputs": [],
   "source": [
    "y_pred6=clf.predict(X1_test)"
   ]
  },
  {
   "cell_type": "code",
   "execution_count": 179,
   "id": "4fa4e2bd",
   "metadata": {},
   "outputs": [
    {
     "name": "stdout",
     "output_type": "stream",
     "text": [
      "80.19060585432267\n"
     ]
    }
   ],
   "source": [
    "accuracy = accuracy_score(y1_test, y_pred6)\n",
    "print(accuracy*100)"
   ]
  },
  {
   "cell_type": "markdown",
   "id": "544f59c5",
   "metadata": {},
   "source": [
    "## Random Forest Model"
   ]
  },
  {
   "cell_type": "code",
   "execution_count": 180,
   "id": "6b6b8dca",
   "metadata": {},
   "outputs": [],
   "source": [
    "from sklearn.ensemble import RandomForestClassifier\n",
    "clf = RandomForestClassifier(n_estimators = 100) \n",
    " \n",
    "# Training the model on the training dataset\n",
    "# fit function is used to train the model using the training sets as parameters\n",
    "clf.fit(X1_train, y1_train)\n",
    " \n",
    "# performing predictions on the test dataset\n",
    "y_pred7 = clf.predict(X1_test)\n",
    " "
   ]
  },
  {
   "cell_type": "code",
   "execution_count": 181,
   "id": "46bf51ef",
   "metadata": {},
   "outputs": [
    {
     "name": "stdout",
     "output_type": "stream",
     "text": [
      "\n",
      "80.16791468118902\n"
     ]
    }
   ],
   "source": [
    "# metrics are used to find accuracy or error\n",
    "from sklearn import metrics \n",
    "print()\n",
    " \n",
    "# using metrics module for accuracy calculation\n",
    "print( metrics.accuracy_score(y1_test, y_pred7)*100)"
   ]
  },
  {
   "cell_type": "markdown",
   "id": "8d0ce6ee",
   "metadata": {},
   "source": [
    "## Naive Bayes Model"
   ]
  },
  {
   "cell_type": "code",
   "execution_count": 182,
   "id": "88be11ce",
   "metadata": {},
   "outputs": [
    {
     "data": {
      "text/plain": [
       "array([0.53104566, 0.46895434])"
      ]
     },
     "execution_count": 182,
     "metadata": {},
     "output_type": "execute_result"
    }
   ],
   "source": [
    "from sklearn.naive_bayes import GaussianNB\n",
    "from sklearn.model_selection import train_test_split\n",
    "from sklearn.metrics import accuracy_score\n",
    "classifier= GaussianNB()\n",
    "classifier.fit(X1_train, y1_train)\n",
    "classifier.class_prior_"
   ]
  },
  {
   "cell_type": "code",
   "execution_count": 183,
   "id": "4e228d9b",
   "metadata": {},
   "outputs": [
    {
     "name": "stdout",
     "output_type": "stream",
     "text": [
      "76.1\n"
     ]
    }
   ],
   "source": [
    "predicts1=classifier.predict(X1_test)\n",
    "accuracy=round(accuracy_score(y1_test,predicts1),3)\n",
    "print(accuracy*100)"
   ]
  },
  {
   "cell_type": "code",
   "execution_count": 184,
   "id": "339df5b6",
   "metadata": {},
   "outputs": [],
   "source": [
    "df['both_vaccine']=df['h1n1_vaccine'] & df['seasonal_vaccine']"
   ]
  },
  {
   "cell_type": "code",
   "execution_count": 185,
   "id": "602c6a17",
   "metadata": {},
   "outputs": [
    {
     "name": "stdout",
     "output_type": "stream",
     "text": [
      "<class 'pandas.core.frame.DataFrame'>\n",
      "RangeIndex: 26707 entries, 0 to 26706\n",
      "Data columns (total 38 columns):\n",
      " #   Column                       Non-Null Count  Dtype\n",
      "---  ------                       --------------  -----\n",
      " 0   h1n1_concern                 26707 non-null  int32\n",
      " 1   h1n1_knowledge               26707 non-null  int32\n",
      " 2   behavioral_antiviral_meds    26707 non-null  int32\n",
      " 3   behavioral_avoidance         26707 non-null  int32\n",
      " 4   behavioral_face_mask         26707 non-null  int32\n",
      " 5   behavioral_wash_hands        26707 non-null  int32\n",
      " 6   behavioral_large_gatherings  26707 non-null  int32\n",
      " 7   behavioral_outside_home      26707 non-null  int32\n",
      " 8   behavioral_touch_face        26707 non-null  int32\n",
      " 9   doctor_recc_h1n1             26707 non-null  int32\n",
      " 10  doctor_recc_seasonal         26707 non-null  int32\n",
      " 11  chronic_med_condition        26707 non-null  int32\n",
      " 12  child_under_6_months         26707 non-null  int32\n",
      " 13  health_worker                26707 non-null  int32\n",
      " 14  health_insurance             26707 non-null  int32\n",
      " 15  opinion_h1n1_vacc_effective  26707 non-null  int32\n",
      " 16  opinion_h1n1_risk            26707 non-null  int32\n",
      " 17  opinion_h1n1_sick_from_vacc  26707 non-null  int32\n",
      " 18  opinion_seas_vacc_effective  26707 non-null  int32\n",
      " 19  opinion_seas_risk            26707 non-null  int32\n",
      " 20  opinion_seas_sick_from_vacc  26707 non-null  int32\n",
      " 21  age_group                    26707 non-null  int64\n",
      " 22  education                    26707 non-null  int32\n",
      " 23  race                         26707 non-null  int32\n",
      " 24  sex                          26707 non-null  int32\n",
      " 25  income_poverty               26707 non-null  int32\n",
      " 26  marital_status               26707 non-null  int32\n",
      " 27  rent_or_own                  26707 non-null  int32\n",
      " 28  employment_status            26707 non-null  int32\n",
      " 29  hhs_geo_region               26707 non-null  int32\n",
      " 30  census_msa                   26707 non-null  int32\n",
      " 31  household_adults             26707 non-null  int32\n",
      " 32  household_children           26707 non-null  int32\n",
      " 33  employment_industry          26707 non-null  int32\n",
      " 34  employment_occupation        26707 non-null  int32\n",
      " 35  h1n1_vaccine                 26707 non-null  int64\n",
      " 36  seasonal_vaccine             26707 non-null  int64\n",
      " 37  both_vaccine                 26707 non-null  int64\n",
      "dtypes: int32(34), int64(4)\n",
      "memory usage: 4.3 MB\n"
     ]
    }
   ],
   "source": [
    "df.info()"
   ]
  },
  {
   "cell_type": "code",
   "execution_count": 186,
   "id": "ea435d85",
   "metadata": {},
   "outputs": [
    {
     "data": {
      "text/html": [
       "<div>\n",
       "<style scoped>\n",
       "    .dataframe tbody tr th:only-of-type {\n",
       "        vertical-align: middle;\n",
       "    }\n",
       "\n",
       "    .dataframe tbody tr th {\n",
       "        vertical-align: top;\n",
       "    }\n",
       "\n",
       "    .dataframe thead th {\n",
       "        text-align: right;\n",
       "    }\n",
       "</style>\n",
       "<table border=\"1\" class=\"dataframe\">\n",
       "  <thead>\n",
       "    <tr style=\"text-align: right;\">\n",
       "      <th></th>\n",
       "      <th>h1n1_concern</th>\n",
       "      <th>h1n1_knowledge</th>\n",
       "      <th>behavioral_antiviral_meds</th>\n",
       "      <th>behavioral_avoidance</th>\n",
       "      <th>behavioral_face_mask</th>\n",
       "      <th>behavioral_wash_hands</th>\n",
       "      <th>behavioral_large_gatherings</th>\n",
       "      <th>behavioral_outside_home</th>\n",
       "      <th>behavioral_touch_face</th>\n",
       "      <th>doctor_recc_h1n1</th>\n",
       "      <th>...</th>\n",
       "      <th>employment_status</th>\n",
       "      <th>hhs_geo_region</th>\n",
       "      <th>census_msa</th>\n",
       "      <th>household_adults</th>\n",
       "      <th>household_children</th>\n",
       "      <th>employment_industry</th>\n",
       "      <th>employment_occupation</th>\n",
       "      <th>h1n1_vaccine</th>\n",
       "      <th>seasonal_vaccine</th>\n",
       "      <th>both_vaccine</th>\n",
       "    </tr>\n",
       "  </thead>\n",
       "  <tbody>\n",
       "    <tr>\n",
       "      <th>0</th>\n",
       "      <td>1</td>\n",
       "      <td>0</td>\n",
       "      <td>0</td>\n",
       "      <td>0</td>\n",
       "      <td>0</td>\n",
       "      <td>0</td>\n",
       "      <td>0</td>\n",
       "      <td>1</td>\n",
       "      <td>1</td>\n",
       "      <td>0</td>\n",
       "      <td>...</td>\n",
       "      <td>1</td>\n",
       "      <td>8</td>\n",
       "      <td>2</td>\n",
       "      <td>0</td>\n",
       "      <td>0</td>\n",
       "      <td>21</td>\n",
       "      <td>21</td>\n",
       "      <td>0</td>\n",
       "      <td>0</td>\n",
       "      <td>0</td>\n",
       "    </tr>\n",
       "    <tr>\n",
       "      <th>1</th>\n",
       "      <td>3</td>\n",
       "      <td>2</td>\n",
       "      <td>0</td>\n",
       "      <td>1</td>\n",
       "      <td>0</td>\n",
       "      <td>1</td>\n",
       "      <td>0</td>\n",
       "      <td>1</td>\n",
       "      <td>1</td>\n",
       "      <td>0</td>\n",
       "      <td>...</td>\n",
       "      <td>0</td>\n",
       "      <td>1</td>\n",
       "      <td>0</td>\n",
       "      <td>0</td>\n",
       "      <td>0</td>\n",
       "      <td>12</td>\n",
       "      <td>19</td>\n",
       "      <td>0</td>\n",
       "      <td>1</td>\n",
       "      <td>0</td>\n",
       "    </tr>\n",
       "    <tr>\n",
       "      <th>2</th>\n",
       "      <td>1</td>\n",
       "      <td>1</td>\n",
       "      <td>0</td>\n",
       "      <td>1</td>\n",
       "      <td>0</td>\n",
       "      <td>0</td>\n",
       "      <td>0</td>\n",
       "      <td>0</td>\n",
       "      <td>0</td>\n",
       "      <td>0</td>\n",
       "      <td>...</td>\n",
       "      <td>0</td>\n",
       "      <td>9</td>\n",
       "      <td>0</td>\n",
       "      <td>2</td>\n",
       "      <td>0</td>\n",
       "      <td>14</td>\n",
       "      <td>21</td>\n",
       "      <td>0</td>\n",
       "      <td>0</td>\n",
       "      <td>0</td>\n",
       "    </tr>\n",
       "    <tr>\n",
       "      <th>3</th>\n",
       "      <td>1</td>\n",
       "      <td>1</td>\n",
       "      <td>0</td>\n",
       "      <td>1</td>\n",
       "      <td>0</td>\n",
       "      <td>1</td>\n",
       "      <td>1</td>\n",
       "      <td>0</td>\n",
       "      <td>0</td>\n",
       "      <td>0</td>\n",
       "      <td>...</td>\n",
       "      <td>1</td>\n",
       "      <td>5</td>\n",
       "      <td>1</td>\n",
       "      <td>0</td>\n",
       "      <td>0</td>\n",
       "      <td>21</td>\n",
       "      <td>21</td>\n",
       "      <td>0</td>\n",
       "      <td>1</td>\n",
       "      <td>0</td>\n",
       "    </tr>\n",
       "    <tr>\n",
       "      <th>4</th>\n",
       "      <td>2</td>\n",
       "      <td>1</td>\n",
       "      <td>0</td>\n",
       "      <td>1</td>\n",
       "      <td>0</td>\n",
       "      <td>1</td>\n",
       "      <td>1</td>\n",
       "      <td>0</td>\n",
       "      <td>1</td>\n",
       "      <td>0</td>\n",
       "      <td>...</td>\n",
       "      <td>0</td>\n",
       "      <td>9</td>\n",
       "      <td>0</td>\n",
       "      <td>1</td>\n",
       "      <td>0</td>\n",
       "      <td>18</td>\n",
       "      <td>5</td>\n",
       "      <td>0</td>\n",
       "      <td>0</td>\n",
       "      <td>0</td>\n",
       "    </tr>\n",
       "  </tbody>\n",
       "</table>\n",
       "<p>5 rows × 38 columns</p>\n",
       "</div>"
      ],
      "text/plain": [
       "   h1n1_concern  h1n1_knowledge  behavioral_antiviral_meds  \\\n",
       "0             1               0                          0   \n",
       "1             3               2                          0   \n",
       "2             1               1                          0   \n",
       "3             1               1                          0   \n",
       "4             2               1                          0   \n",
       "\n",
       "   behavioral_avoidance  behavioral_face_mask  behavioral_wash_hands  \\\n",
       "0                     0                     0                      0   \n",
       "1                     1                     0                      1   \n",
       "2                     1                     0                      0   \n",
       "3                     1                     0                      1   \n",
       "4                     1                     0                      1   \n",
       "\n",
       "   behavioral_large_gatherings  behavioral_outside_home  \\\n",
       "0                            0                        1   \n",
       "1                            0                        1   \n",
       "2                            0                        0   \n",
       "3                            1                        0   \n",
       "4                            1                        0   \n",
       "\n",
       "   behavioral_touch_face  doctor_recc_h1n1  ...  employment_status  \\\n",
       "0                      1                 0  ...                  1   \n",
       "1                      1                 0  ...                  0   \n",
       "2                      0                 0  ...                  0   \n",
       "3                      0                 0  ...                  1   \n",
       "4                      1                 0  ...                  0   \n",
       "\n",
       "   hhs_geo_region  census_msa  household_adults  household_children  \\\n",
       "0               8           2                 0                   0   \n",
       "1               1           0                 0                   0   \n",
       "2               9           0                 2                   0   \n",
       "3               5           1                 0                   0   \n",
       "4               9           0                 1                   0   \n",
       "\n",
       "   employment_industry  employment_occupation  h1n1_vaccine  seasonal_vaccine  \\\n",
       "0                   21                     21             0                 0   \n",
       "1                   12                     19             0                 1   \n",
       "2                   14                     21             0                 0   \n",
       "3                   21                     21             0                 1   \n",
       "4                   18                      5             0                 0   \n",
       "\n",
       "   both_vaccine  \n",
       "0             0  \n",
       "1             0  \n",
       "2             0  \n",
       "3             0  \n",
       "4             0  \n",
       "\n",
       "[5 rows x 38 columns]"
      ]
     },
     "execution_count": 186,
     "metadata": {},
     "output_type": "execute_result"
    }
   ],
   "source": [
    "df.head(5)"
   ]
  },
  {
   "cell_type": "code",
   "execution_count": 187,
   "id": "11219ce5",
   "metadata": {},
   "outputs": [],
   "source": [
    "df1=df.drop('seasonal_vaccine',axis=1)"
   ]
  },
  {
   "cell_type": "code",
   "execution_count": 188,
   "id": "0ee386d9",
   "metadata": {},
   "outputs": [],
   "source": [
    "df1.drop('h1n1_vaccine',axis=1,inplace=True)"
   ]
  },
  {
   "cell_type": "code",
   "execution_count": 190,
   "id": "39542e20",
   "metadata": {},
   "outputs": [
    {
     "data": {
      "text/html": [
       "<div>\n",
       "<style scoped>\n",
       "    .dataframe tbody tr th:only-of-type {\n",
       "        vertical-align: middle;\n",
       "    }\n",
       "\n",
       "    .dataframe tbody tr th {\n",
       "        vertical-align: top;\n",
       "    }\n",
       "\n",
       "    .dataframe thead th {\n",
       "        text-align: right;\n",
       "    }\n",
       "</style>\n",
       "<table border=\"1\" class=\"dataframe\">\n",
       "  <thead>\n",
       "    <tr style=\"text-align: right;\">\n",
       "      <th></th>\n",
       "      <th>h1n1_concern</th>\n",
       "      <th>h1n1_knowledge</th>\n",
       "      <th>behavioral_antiviral_meds</th>\n",
       "      <th>behavioral_avoidance</th>\n",
       "      <th>behavioral_face_mask</th>\n",
       "      <th>behavioral_wash_hands</th>\n",
       "      <th>behavioral_large_gatherings</th>\n",
       "      <th>behavioral_outside_home</th>\n",
       "      <th>behavioral_touch_face</th>\n",
       "      <th>doctor_recc_h1n1</th>\n",
       "      <th>...</th>\n",
       "      <th>employment_status</th>\n",
       "      <th>hhs_geo_region</th>\n",
       "      <th>census_msa</th>\n",
       "      <th>household_adults</th>\n",
       "      <th>household_children</th>\n",
       "      <th>employment_industry</th>\n",
       "      <th>employment_occupation</th>\n",
       "      <th>h1n1_vaccine</th>\n",
       "      <th>seasonal_vaccine</th>\n",
       "      <th>both_vaccine</th>\n",
       "    </tr>\n",
       "  </thead>\n",
       "  <tbody>\n",
       "    <tr>\n",
       "      <th>0</th>\n",
       "      <td>1</td>\n",
       "      <td>0</td>\n",
       "      <td>0</td>\n",
       "      <td>0</td>\n",
       "      <td>0</td>\n",
       "      <td>0</td>\n",
       "      <td>0</td>\n",
       "      <td>1</td>\n",
       "      <td>1</td>\n",
       "      <td>0</td>\n",
       "      <td>...</td>\n",
       "      <td>1</td>\n",
       "      <td>8</td>\n",
       "      <td>2</td>\n",
       "      <td>0</td>\n",
       "      <td>0</td>\n",
       "      <td>21</td>\n",
       "      <td>21</td>\n",
       "      <td>0</td>\n",
       "      <td>0</td>\n",
       "      <td>0</td>\n",
       "    </tr>\n",
       "    <tr>\n",
       "      <th>1</th>\n",
       "      <td>3</td>\n",
       "      <td>2</td>\n",
       "      <td>0</td>\n",
       "      <td>1</td>\n",
       "      <td>0</td>\n",
       "      <td>1</td>\n",
       "      <td>0</td>\n",
       "      <td>1</td>\n",
       "      <td>1</td>\n",
       "      <td>0</td>\n",
       "      <td>...</td>\n",
       "      <td>0</td>\n",
       "      <td>1</td>\n",
       "      <td>0</td>\n",
       "      <td>0</td>\n",
       "      <td>0</td>\n",
       "      <td>12</td>\n",
       "      <td>19</td>\n",
       "      <td>0</td>\n",
       "      <td>1</td>\n",
       "      <td>0</td>\n",
       "    </tr>\n",
       "  </tbody>\n",
       "</table>\n",
       "<p>2 rows × 38 columns</p>\n",
       "</div>"
      ],
      "text/plain": [
       "   h1n1_concern  h1n1_knowledge  behavioral_antiviral_meds  \\\n",
       "0             1               0                          0   \n",
       "1             3               2                          0   \n",
       "\n",
       "   behavioral_avoidance  behavioral_face_mask  behavioral_wash_hands  \\\n",
       "0                     0                     0                      0   \n",
       "1                     1                     0                      1   \n",
       "\n",
       "   behavioral_large_gatherings  behavioral_outside_home  \\\n",
       "0                            0                        1   \n",
       "1                            0                        1   \n",
       "\n",
       "   behavioral_touch_face  doctor_recc_h1n1  ...  employment_status  \\\n",
       "0                      1                 0  ...                  1   \n",
       "1                      1                 0  ...                  0   \n",
       "\n",
       "   hhs_geo_region  census_msa  household_adults  household_children  \\\n",
       "0               8           2                 0                   0   \n",
       "1               1           0                 0                   0   \n",
       "\n",
       "   employment_industry  employment_occupation  h1n1_vaccine  seasonal_vaccine  \\\n",
       "0                   21                     21             0                 0   \n",
       "1                   12                     19             0                 1   \n",
       "\n",
       "   both_vaccine  \n",
       "0             0  \n",
       "1             0  \n",
       "\n",
       "[2 rows x 38 columns]"
      ]
     },
     "execution_count": 190,
     "metadata": {},
     "output_type": "execute_result"
    }
   ],
   "source": [
    "df.head(2)"
   ]
  },
  {
   "cell_type": "code",
   "execution_count": 191,
   "id": "014741ec",
   "metadata": {},
   "outputs": [
    {
     "data": {
      "text/html": [
       "<div>\n",
       "<style scoped>\n",
       "    .dataframe tbody tr th:only-of-type {\n",
       "        vertical-align: middle;\n",
       "    }\n",
       "\n",
       "    .dataframe tbody tr th {\n",
       "        vertical-align: top;\n",
       "    }\n",
       "\n",
       "    .dataframe thead th {\n",
       "        text-align: right;\n",
       "    }\n",
       "</style>\n",
       "<table border=\"1\" class=\"dataframe\">\n",
       "  <thead>\n",
       "    <tr style=\"text-align: right;\">\n",
       "      <th></th>\n",
       "      <th>h1n1_concern</th>\n",
       "      <th>h1n1_knowledge</th>\n",
       "      <th>behavioral_antiviral_meds</th>\n",
       "      <th>behavioral_avoidance</th>\n",
       "      <th>behavioral_face_mask</th>\n",
       "      <th>behavioral_wash_hands</th>\n",
       "      <th>behavioral_large_gatherings</th>\n",
       "      <th>behavioral_outside_home</th>\n",
       "      <th>behavioral_touch_face</th>\n",
       "      <th>doctor_recc_h1n1</th>\n",
       "      <th>...</th>\n",
       "      <th>marital_status</th>\n",
       "      <th>rent_or_own</th>\n",
       "      <th>employment_status</th>\n",
       "      <th>hhs_geo_region</th>\n",
       "      <th>census_msa</th>\n",
       "      <th>household_adults</th>\n",
       "      <th>household_children</th>\n",
       "      <th>employment_industry</th>\n",
       "      <th>employment_occupation</th>\n",
       "      <th>both_vaccine</th>\n",
       "    </tr>\n",
       "  </thead>\n",
       "  <tbody>\n",
       "    <tr>\n",
       "      <th>0</th>\n",
       "      <td>1</td>\n",
       "      <td>0</td>\n",
       "      <td>0</td>\n",
       "      <td>0</td>\n",
       "      <td>0</td>\n",
       "      <td>0</td>\n",
       "      <td>0</td>\n",
       "      <td>1</td>\n",
       "      <td>1</td>\n",
       "      <td>0</td>\n",
       "      <td>...</td>\n",
       "      <td>1</td>\n",
       "      <td>0</td>\n",
       "      <td>1</td>\n",
       "      <td>8</td>\n",
       "      <td>2</td>\n",
       "      <td>0</td>\n",
       "      <td>0</td>\n",
       "      <td>21</td>\n",
       "      <td>21</td>\n",
       "      <td>0</td>\n",
       "    </tr>\n",
       "    <tr>\n",
       "      <th>1</th>\n",
       "      <td>3</td>\n",
       "      <td>2</td>\n",
       "      <td>0</td>\n",
       "      <td>1</td>\n",
       "      <td>0</td>\n",
       "      <td>1</td>\n",
       "      <td>0</td>\n",
       "      <td>1</td>\n",
       "      <td>1</td>\n",
       "      <td>0</td>\n",
       "      <td>...</td>\n",
       "      <td>1</td>\n",
       "      <td>1</td>\n",
       "      <td>0</td>\n",
       "      <td>1</td>\n",
       "      <td>0</td>\n",
       "      <td>0</td>\n",
       "      <td>0</td>\n",
       "      <td>12</td>\n",
       "      <td>19</td>\n",
       "      <td>0</td>\n",
       "    </tr>\n",
       "  </tbody>\n",
       "</table>\n",
       "<p>2 rows × 36 columns</p>\n",
       "</div>"
      ],
      "text/plain": [
       "   h1n1_concern  h1n1_knowledge  behavioral_antiviral_meds  \\\n",
       "0             1               0                          0   \n",
       "1             3               2                          0   \n",
       "\n",
       "   behavioral_avoidance  behavioral_face_mask  behavioral_wash_hands  \\\n",
       "0                     0                     0                      0   \n",
       "1                     1                     0                      1   \n",
       "\n",
       "   behavioral_large_gatherings  behavioral_outside_home  \\\n",
       "0                            0                        1   \n",
       "1                            0                        1   \n",
       "\n",
       "   behavioral_touch_face  doctor_recc_h1n1  ...  marital_status  rent_or_own  \\\n",
       "0                      1                 0  ...               1            0   \n",
       "1                      1                 0  ...               1            1   \n",
       "\n",
       "   employment_status  hhs_geo_region  census_msa  household_adults  \\\n",
       "0                  1               8           2                 0   \n",
       "1                  0               1           0                 0   \n",
       "\n",
       "   household_children  employment_industry  employment_occupation  \\\n",
       "0                   0                   21                     21   \n",
       "1                   0                   12                     19   \n",
       "\n",
       "   both_vaccine  \n",
       "0             0  \n",
       "1             0  \n",
       "\n",
       "[2 rows x 36 columns]"
      ]
     },
     "execution_count": 191,
     "metadata": {},
     "output_type": "execute_result"
    }
   ],
   "source": [
    "df1.head(2)"
   ]
  },
  {
   "cell_type": "markdown",
   "id": "94bede31",
   "metadata": {},
   "source": [
    "# To predict if the ppl have taken both the vaccine"
   ]
  },
  {
   "cell_type": "code",
   "execution_count": 192,
   "id": "85b78add",
   "metadata": {},
   "outputs": [],
   "source": [
    "X=df1.drop('both_vaccine',axis=1)"
   ]
  },
  {
   "cell_type": "code",
   "execution_count": 193,
   "id": "d5da0df4",
   "metadata": {},
   "outputs": [],
   "source": [
    "y=df1['both_vaccine']"
   ]
  },
  {
   "cell_type": "code",
   "execution_count": 194,
   "id": "f33c20e8",
   "metadata": {},
   "outputs": [],
   "source": [
    "from sklearn.model_selection import train_test_split\n",
    "X_train, X_test, y_train, y_test = train_test_split(X, y, test_size=0.33, random_state=42)"
   ]
  },
  {
   "cell_type": "code",
   "execution_count": 195,
   "id": "ca013e87",
   "metadata": {},
   "outputs": [],
   "source": [
    "from sklearn.preprocessing import StandardScaler\n",
    "sc=StandardScaler()\n",
    "X_train=sc.fit_transform(X_train)\n",
    "X_test=sc.fit_transform(X_test)"
   ]
  },
  {
   "cell_type": "markdown",
   "id": "74eb02a1",
   "metadata": {},
   "source": [
    "## Logistic Regression Model"
   ]
  },
  {
   "cell_type": "code",
   "execution_count": 196,
   "id": "a874b178",
   "metadata": {},
   "outputs": [],
   "source": [
    "from sklearn.linear_model import LogisticRegression\n",
    "logModel=LogisticRegression(solver='lbfgs', max_iter=1000000,dual=False)"
   ]
  },
  {
   "cell_type": "code",
   "execution_count": 197,
   "id": "e2a3e377",
   "metadata": {},
   "outputs": [],
   "source": [
    "logModel.fit(X_train, y_train,)\n",
    "predictions = logModel.predict(X_test)"
   ]
  },
  {
   "cell_type": "code",
   "execution_count": 198,
   "id": "e72d1ce1",
   "metadata": {},
   "outputs": [
    {
     "data": {
      "text/plain": [
       "85.90878148400273"
      ]
     },
     "execution_count": 198,
     "metadata": {},
     "output_type": "execute_result"
    }
   ],
   "source": [
    "from sklearn.metrics import accuracy_score\n",
    "accuracy_score(y_test,predictions)*100"
   ]
  },
  {
   "cell_type": "markdown",
   "id": "1e3ec833",
   "metadata": {},
   "source": [
    "## Xgboost Model"
   ]
  },
  {
   "cell_type": "code",
   "execution_count": 199,
   "id": "d74f6b0d",
   "metadata": {},
   "outputs": [],
   "source": [
    "from xgboost import XGBClassifier\n",
    "from sklearn.metrics import accuracy_score"
   ]
  },
  {
   "cell_type": "code",
   "execution_count": 200,
   "id": "bb47fb79",
   "metadata": {},
   "outputs": [],
   "source": [
    "model = XGBClassifier(eval_metric='mlogloss')"
   ]
  },
  {
   "cell_type": "code",
   "execution_count": 201,
   "id": "902e70ad",
   "metadata": {},
   "outputs": [
    {
     "data": {
      "text/plain": [
       "XGBClassifier(base_score=0.5, booster='gbtree', callbacks=None,\n",
       "              colsample_bylevel=1, colsample_bynode=1, colsample_bytree=1,\n",
       "              early_stopping_rounds=None, enable_categorical=False,\n",
       "              eval_metric='mlogloss', gamma=0, gpu_id=-1,\n",
       "              grow_policy='depthwise', importance_type=None,\n",
       "              interaction_constraints='', learning_rate=0.300000012,\n",
       "              max_bin=256, max_cat_to_onehot=4, max_delta_step=0, max_depth=6,\n",
       "              max_leaves=0, min_child_weight=1, missing=nan,\n",
       "              monotone_constraints='()', n_estimators=100, n_jobs=0,\n",
       "              num_parallel_tree=1, predictor='auto', random_state=0,\n",
       "              reg_alpha=0, reg_lambda=1, ...)"
      ]
     },
     "execution_count": 201,
     "metadata": {},
     "output_type": "execute_result"
    }
   ],
   "source": [
    "model.fit(X_train, y_train)"
   ]
  },
  {
   "cell_type": "code",
   "execution_count": 202,
   "id": "2faed591",
   "metadata": {},
   "outputs": [],
   "source": [
    "y_pred = model.predict(X_test)"
   ]
  },
  {
   "cell_type": "code",
   "execution_count": 203,
   "id": "db5d306c",
   "metadata": {},
   "outputs": [
    {
     "name": "stdout",
     "output_type": "stream",
     "text": [
      "85.76128885863399\n"
     ]
    }
   ],
   "source": [
    "accuracy = accuracy_score(y_test, y_pred)\n",
    "print(accuracy*100)"
   ]
  },
  {
   "cell_type": "markdown",
   "id": "a6167520",
   "metadata": {},
   "source": [
    "## Random Forest Model"
   ]
  },
  {
   "cell_type": "code",
   "execution_count": 204,
   "id": "e2bc1fc5",
   "metadata": {},
   "outputs": [],
   "source": [
    "from sklearn.ensemble import RandomForestClassifier\n",
    "clf = RandomForestClassifier(n_estimators = 100) \n",
    " \n",
    "# Training the model on the training dataset\n",
    "# fit function is used to train the model using the training sets as parameters\n",
    "clf.fit(X_train, y_train)\n",
    " \n",
    "# performing predictions on the test dataset\n",
    "y_pred8 = clf.predict(X_test)\n",
    " "
   ]
  },
  {
   "cell_type": "code",
   "execution_count": 205,
   "id": "6bdd0e03",
   "metadata": {},
   "outputs": [
    {
     "name": "stdout",
     "output_type": "stream",
     "text": [
      "\n",
      "86.0335829362378\n"
     ]
    }
   ],
   "source": [
    "# metrics are used to find accuracy or error\n",
    "from sklearn import metrics \n",
    "print()\n",
    " \n",
    "# using metrics module for accuracy calculation\n",
    "print( metrics.accuracy_score(y_test, y_pred8)*100)"
   ]
  },
  {
   "cell_type": "markdown",
   "id": "edb2513f",
   "metadata": {},
   "source": [
    "## SVM Model"
   ]
  },
  {
   "cell_type": "code",
   "execution_count": 206,
   "id": "975feee2",
   "metadata": {},
   "outputs": [
    {
     "data": {
      "text/plain": [
       "SVC(kernel='linear')"
      ]
     },
     "execution_count": 206,
     "metadata": {},
     "output_type": "execute_result"
    }
   ],
   "source": [
    "from sklearn.svm import SVC  \n",
    "clf = SVC(kernel='linear') \n",
    "  \n",
    "#fitting x samples and y classes \n",
    "clf.fit(X_train, y_train) "
   ]
  },
  {
   "cell_type": "code",
   "execution_count": 207,
   "id": "237338d5",
   "metadata": {},
   "outputs": [],
   "source": [
    "y_pred9=clf.predict(X_test)"
   ]
  },
  {
   "cell_type": "code",
   "execution_count": 208,
   "id": "0bb1a5c5",
   "metadata": {},
   "outputs": [
    {
     "name": "stdout",
     "output_type": "stream",
     "text": [
      "85.62514181983208\n"
     ]
    }
   ],
   "source": [
    "accuracy = accuracy_score(y_test, y_pred9)\n",
    "print(accuracy*100)"
   ]
  },
  {
   "cell_type": "markdown",
   "id": "6a10e568",
   "metadata": {},
   "source": [
    "## Naive Baye's Model"
   ]
  },
  {
   "cell_type": "code",
   "execution_count": 209,
   "id": "d9fa07c1",
   "metadata": {},
   "outputs": [
    {
     "data": {
      "text/plain": [
       "array([0.82294752, 0.17705248])"
      ]
     },
     "execution_count": 209,
     "metadata": {},
     "output_type": "execute_result"
    }
   ],
   "source": [
    "from sklearn.naive_bayes import GaussianNB\n",
    "from sklearn.model_selection import train_test_split\n",
    "from sklearn.metrics import accuracy_score\n",
    "classifier= GaussianNB()\n",
    "classifier.fit(X_train, y_train)\n",
    "classifier.class_prior_"
   ]
  },
  {
   "cell_type": "code",
   "execution_count": 210,
   "id": "cb7194d8",
   "metadata": {},
   "outputs": [
    {
     "name": "stdout",
     "output_type": "stream",
     "text": [
      "79.2\n"
     ]
    }
   ],
   "source": [
    "predicts3=classifier.predict(X_test)\n",
    "accuracy=round(accuracy_score(y_test,predicts3),3)\n",
    "print(accuracy*100)"
   ]
  }
 ],
 "metadata": {
  "kernelspec": {
   "display_name": "Python 3 (ipykernel)",
   "language": "python",
   "name": "python3"
  },
  "language_info": {
   "codemirror_mode": {
    "name": "ipython",
    "version": 3
   },
   "file_extension": ".py",
   "mimetype": "text/x-python",
   "name": "python",
   "nbconvert_exporter": "python",
   "pygments_lexer": "ipython3",
   "version": "3.9.12"
  }
 },
 "nbformat": 4,
 "nbformat_minor": 5
}
