{
 "cells": [
  {
   "cell_type": "code",
   "execution_count": 1,
   "id": "f5864bb6",
   "metadata": {},
   "outputs": [],
   "source": [
    "import numpy as np\n",
    "import pandas as pd\n",
    "import matplotlib.pyplot as plt\n",
    "import seaborn as sns\n",
    "%matplotlib inline"
   ]
  },
  {
   "cell_type": "code",
   "execution_count": 2,
   "id": "b077b660",
   "metadata": {},
   "outputs": [],
   "source": [
    "df=pd.read_csv(\"C:/Users/anish/Downloads/archive1/H1N1_Flu_Vaccines.csv\")"
   ]
  },
  {
   "cell_type": "code",
   "execution_count": 3,
   "id": "0f62c678",
   "metadata": {},
   "outputs": [
    {
     "data": {
      "text/html": [
       "<div>\n",
       "<style scoped>\n",
       "    .dataframe tbody tr th:only-of-type {\n",
       "        vertical-align: middle;\n",
       "    }\n",
       "\n",
       "    .dataframe tbody tr th {\n",
       "        vertical-align: top;\n",
       "    }\n",
       "\n",
       "    .dataframe thead th {\n",
       "        text-align: right;\n",
       "    }\n",
       "</style>\n",
       "<table border=\"1\" class=\"dataframe\">\n",
       "  <thead>\n",
       "    <tr style=\"text-align: right;\">\n",
       "      <th></th>\n",
       "      <th>respondent_id</th>\n",
       "      <th>h1n1_concern</th>\n",
       "      <th>h1n1_knowledge</th>\n",
       "      <th>behavioral_antiviral_meds</th>\n",
       "      <th>behavioral_avoidance</th>\n",
       "      <th>behavioral_face_mask</th>\n",
       "      <th>behavioral_wash_hands</th>\n",
       "      <th>behavioral_large_gatherings</th>\n",
       "      <th>behavioral_outside_home</th>\n",
       "      <th>behavioral_touch_face</th>\n",
       "      <th>...</th>\n",
       "      <th>rent_or_own</th>\n",
       "      <th>employment_status</th>\n",
       "      <th>hhs_geo_region</th>\n",
       "      <th>census_msa</th>\n",
       "      <th>household_adults</th>\n",
       "      <th>household_children</th>\n",
       "      <th>employment_industry</th>\n",
       "      <th>employment_occupation</th>\n",
       "      <th>h1n1_vaccine</th>\n",
       "      <th>seasonal_vaccine</th>\n",
       "    </tr>\n",
       "  </thead>\n",
       "  <tbody>\n",
       "    <tr>\n",
       "      <th>0</th>\n",
       "      <td>0</td>\n",
       "      <td>1.0</td>\n",
       "      <td>0.0</td>\n",
       "      <td>0.0</td>\n",
       "      <td>0.0</td>\n",
       "      <td>0.0</td>\n",
       "      <td>0.0</td>\n",
       "      <td>0.0</td>\n",
       "      <td>1.0</td>\n",
       "      <td>1.0</td>\n",
       "      <td>...</td>\n",
       "      <td>Own</td>\n",
       "      <td>Not in Labor Force</td>\n",
       "      <td>oxchjgsf</td>\n",
       "      <td>Non-MSA</td>\n",
       "      <td>0.0</td>\n",
       "      <td>0.0</td>\n",
       "      <td>NaN</td>\n",
       "      <td>NaN</td>\n",
       "      <td>0</td>\n",
       "      <td>0</td>\n",
       "    </tr>\n",
       "    <tr>\n",
       "      <th>1</th>\n",
       "      <td>1</td>\n",
       "      <td>3.0</td>\n",
       "      <td>2.0</td>\n",
       "      <td>0.0</td>\n",
       "      <td>1.0</td>\n",
       "      <td>0.0</td>\n",
       "      <td>1.0</td>\n",
       "      <td>0.0</td>\n",
       "      <td>1.0</td>\n",
       "      <td>1.0</td>\n",
       "      <td>...</td>\n",
       "      <td>Rent</td>\n",
       "      <td>Employed</td>\n",
       "      <td>bhuqouqj</td>\n",
       "      <td>MSA, Not Principle  City</td>\n",
       "      <td>0.0</td>\n",
       "      <td>0.0</td>\n",
       "      <td>pxcmvdjn</td>\n",
       "      <td>xgwztkwe</td>\n",
       "      <td>0</td>\n",
       "      <td>1</td>\n",
       "    </tr>\n",
       "  </tbody>\n",
       "</table>\n",
       "<p>2 rows × 38 columns</p>\n",
       "</div>"
      ],
      "text/plain": [
       "   respondent_id  h1n1_concern  h1n1_knowledge  behavioral_antiviral_meds  \\\n",
       "0              0           1.0             0.0                        0.0   \n",
       "1              1           3.0             2.0                        0.0   \n",
       "\n",
       "   behavioral_avoidance  behavioral_face_mask  behavioral_wash_hands  \\\n",
       "0                   0.0                   0.0                    0.0   \n",
       "1                   1.0                   0.0                    1.0   \n",
       "\n",
       "   behavioral_large_gatherings  behavioral_outside_home  \\\n",
       "0                          0.0                      1.0   \n",
       "1                          0.0                      1.0   \n",
       "\n",
       "   behavioral_touch_face  ...  rent_or_own   employment_status  \\\n",
       "0                    1.0  ...          Own  Not in Labor Force   \n",
       "1                    1.0  ...         Rent            Employed   \n",
       "\n",
       "   hhs_geo_region                census_msa  household_adults  \\\n",
       "0        oxchjgsf                   Non-MSA               0.0   \n",
       "1        bhuqouqj  MSA, Not Principle  City               0.0   \n",
       "\n",
       "   household_children  employment_industry  employment_occupation  \\\n",
       "0                 0.0                  NaN                    NaN   \n",
       "1                 0.0             pxcmvdjn               xgwztkwe   \n",
       "\n",
       "   h1n1_vaccine  seasonal_vaccine  \n",
       "0             0                 0  \n",
       "1             0                 1  \n",
       "\n",
       "[2 rows x 38 columns]"
      ]
     },
     "execution_count": 3,
     "metadata": {},
     "output_type": "execute_result"
    }
   ],
   "source": [
    "df.head(2)"
   ]
  },
  {
   "cell_type": "code",
   "execution_count": 4,
   "id": "0b2455ad",
   "metadata": {},
   "outputs": [
    {
     "name": "stdout",
     "output_type": "stream",
     "text": [
      "<class 'pandas.core.frame.DataFrame'>\n",
      "RangeIndex: 26707 entries, 0 to 26706\n",
      "Data columns (total 38 columns):\n",
      " #   Column                       Non-Null Count  Dtype  \n",
      "---  ------                       --------------  -----  \n",
      " 0   respondent_id                26707 non-null  int64  \n",
      " 1   h1n1_concern                 26615 non-null  float64\n",
      " 2   h1n1_knowledge               26591 non-null  float64\n",
      " 3   behavioral_antiviral_meds    26636 non-null  float64\n",
      " 4   behavioral_avoidance         26499 non-null  float64\n",
      " 5   behavioral_face_mask         26688 non-null  float64\n",
      " 6   behavioral_wash_hands        26665 non-null  float64\n",
      " 7   behavioral_large_gatherings  26620 non-null  float64\n",
      " 8   behavioral_outside_home      26625 non-null  float64\n",
      " 9   behavioral_touch_face        26579 non-null  float64\n",
      " 10  doctor_recc_h1n1             24547 non-null  float64\n",
      " 11  doctor_recc_seasonal         24547 non-null  float64\n",
      " 12  chronic_med_condition        25736 non-null  float64\n",
      " 13  child_under_6_months         25887 non-null  float64\n",
      " 14  health_worker                25903 non-null  float64\n",
      " 15  health_insurance             14433 non-null  float64\n",
      " 16  opinion_h1n1_vacc_effective  26316 non-null  float64\n",
      " 17  opinion_h1n1_risk            26319 non-null  float64\n",
      " 18  opinion_h1n1_sick_from_vacc  26312 non-null  float64\n",
      " 19  opinion_seas_vacc_effective  26245 non-null  float64\n",
      " 20  opinion_seas_risk            26193 non-null  float64\n",
      " 21  opinion_seas_sick_from_vacc  26170 non-null  float64\n",
      " 22  age_group                    26707 non-null  object \n",
      " 23  education                    25300 non-null  object \n",
      " 24  race                         26707 non-null  object \n",
      " 25  sex                          26707 non-null  object \n",
      " 26  income_poverty               22284 non-null  object \n",
      " 27  marital_status               25299 non-null  object \n",
      " 28  rent_or_own                  24665 non-null  object \n",
      " 29  employment_status            25244 non-null  object \n",
      " 30  hhs_geo_region               26707 non-null  object \n",
      " 31  census_msa                   26707 non-null  object \n",
      " 32  household_adults             26458 non-null  float64\n",
      " 33  household_children           26458 non-null  float64\n",
      " 34  employment_industry          13377 non-null  object \n",
      " 35  employment_occupation        13237 non-null  object \n",
      " 36  h1n1_vaccine                 26707 non-null  int64  \n",
      " 37  seasonal_vaccine             26707 non-null  int64  \n",
      "dtypes: float64(23), int64(3), object(12)\n",
      "memory usage: 7.7+ MB\n"
     ]
    }
   ],
   "source": [
    "df.info()"
   ]
  },
  {
   "cell_type": "code",
   "execution_count": 5,
   "id": "59c6078c",
   "metadata": {},
   "outputs": [
    {
     "data": {
      "text/plain": [
       "respondent_id                      0\n",
       "h1n1_concern                      92\n",
       "h1n1_knowledge                   116\n",
       "behavioral_antiviral_meds         71\n",
       "behavioral_avoidance             208\n",
       "behavioral_face_mask              19\n",
       "behavioral_wash_hands             42\n",
       "behavioral_large_gatherings       87\n",
       "behavioral_outside_home           82\n",
       "behavioral_touch_face            128\n",
       "doctor_recc_h1n1                2160\n",
       "doctor_recc_seasonal            2160\n",
       "chronic_med_condition            971\n",
       "child_under_6_months             820\n",
       "health_worker                    804\n",
       "health_insurance               12274\n",
       "opinion_h1n1_vacc_effective      391\n",
       "opinion_h1n1_risk                388\n",
       "opinion_h1n1_sick_from_vacc      395\n",
       "opinion_seas_vacc_effective      462\n",
       "opinion_seas_risk                514\n",
       "opinion_seas_sick_from_vacc      537\n",
       "age_group                          0\n",
       "education                       1407\n",
       "race                               0\n",
       "sex                                0\n",
       "income_poverty                  4423\n",
       "marital_status                  1408\n",
       "rent_or_own                     2042\n",
       "employment_status               1463\n",
       "hhs_geo_region                     0\n",
       "census_msa                         0\n",
       "household_adults                 249\n",
       "household_children               249\n",
       "employment_industry            13330\n",
       "employment_occupation          13470\n",
       "h1n1_vaccine                       0\n",
       "seasonal_vaccine                   0\n",
       "dtype: int64"
      ]
     },
     "execution_count": 5,
     "metadata": {},
     "output_type": "execute_result"
    }
   ],
   "source": [
    "df.isnull().sum()"
   ]
  },
  {
   "cell_type": "markdown",
   "id": "3daebfad",
   "metadata": {},
   "source": [
    "## Feature 1"
   ]
  },
  {
   "cell_type": "code",
   "execution_count": 6,
   "id": "a8c9354e",
   "metadata": {},
   "outputs": [],
   "source": [
    "df.drop(\"respondent_id\",axis=1,inplace=True)"
   ]
  },
  {
   "cell_type": "markdown",
   "id": "8fbc9139",
   "metadata": {},
   "source": [
    "## Feature 2"
   ]
  },
  {
   "cell_type": "code",
   "execution_count": 7,
   "id": "51e5cab2",
   "metadata": {},
   "outputs": [
    {
     "data": {
      "text/plain": [
       "array([ 1.,  3.,  2.,  0., nan])"
      ]
     },
     "execution_count": 7,
     "metadata": {},
     "output_type": "execute_result"
    }
   ],
   "source": [
    "df['h1n1_concern'].unique()"
   ]
  },
  {
   "cell_type": "code",
   "execution_count": 8,
   "id": "d79ffca4",
   "metadata": {},
   "outputs": [],
   "source": [
    "df['h1n1_concern']=df['h1n1_concern'].fillna(df['h1n1_concern'].mode()[0])"
   ]
  },
  {
   "cell_type": "code",
   "execution_count": 9,
   "id": "6b4ba66d",
   "metadata": {},
   "outputs": [],
   "source": [
    "df['h1n1_concern']=df['h1n1_concern'].astype(int)"
   ]
  },
  {
   "cell_type": "code",
   "execution_count": 10,
   "id": "de2df7d0",
   "metadata": {},
   "outputs": [
    {
     "data": {
      "text/plain": [
       "array([1, 3, 2, 0])"
      ]
     },
     "execution_count": 10,
     "metadata": {},
     "output_type": "execute_result"
    }
   ],
   "source": [
    "df['h1n1_concern'].unique()"
   ]
  },
  {
   "cell_type": "markdown",
   "id": "95c6b1aa",
   "metadata": {},
   "source": [
    "## Feature 3"
   ]
  },
  {
   "cell_type": "code",
   "execution_count": 11,
   "id": "afd0c3ca",
   "metadata": {},
   "outputs": [
    {
     "data": {
      "text/plain": [
       "array([ 0.,  2.,  1., nan])"
      ]
     },
     "execution_count": 11,
     "metadata": {},
     "output_type": "execute_result"
    }
   ],
   "source": [
    "df['h1n1_knowledge'].unique()"
   ]
  },
  {
   "cell_type": "code",
   "execution_count": 12,
   "id": "fed95aa2",
   "metadata": {},
   "outputs": [],
   "source": [
    "df['h1n1_knowledge']=df['h1n1_knowledge'].fillna(df['h1n1_knowledge'].mode()[0])"
   ]
  },
  {
   "cell_type": "code",
   "execution_count": 13,
   "id": "41bedaca",
   "metadata": {},
   "outputs": [],
   "source": [
    "df['h1n1_knowledge']=df['h1n1_knowledge'].astype(int)"
   ]
  },
  {
   "cell_type": "code",
   "execution_count": 14,
   "id": "e4d02a98",
   "metadata": {},
   "outputs": [
    {
     "data": {
      "text/plain": [
       "array([0, 2, 1])"
      ]
     },
     "execution_count": 14,
     "metadata": {},
     "output_type": "execute_result"
    }
   ],
   "source": [
    "df['h1n1_knowledge'].unique()"
   ]
  },
  {
   "cell_type": "markdown",
   "id": "a10de4a1",
   "metadata": {},
   "source": [
    "## Feature 4"
   ]
  },
  {
   "cell_type": "code",
   "execution_count": 15,
   "id": "1dbb1648",
   "metadata": {},
   "outputs": [
    {
     "data": {
      "text/plain": [
       "array([ 0.,  1., nan])"
      ]
     },
     "execution_count": 15,
     "metadata": {},
     "output_type": "execute_result"
    }
   ],
   "source": [
    "df['behavioral_antiviral_meds'].unique()"
   ]
  },
  {
   "cell_type": "code",
   "execution_count": 16,
   "id": "4684da78",
   "metadata": {},
   "outputs": [],
   "source": [
    "df['behavioral_antiviral_meds']=df['behavioral_antiviral_meds'].fillna(df['behavioral_antiviral_meds'].mode()[0])"
   ]
  },
  {
   "cell_type": "code",
   "execution_count": 17,
   "id": "c69ce2a5",
   "metadata": {},
   "outputs": [],
   "source": [
    "df['behavioral_antiviral_meds']=df['behavioral_antiviral_meds'].astype(int)"
   ]
  },
  {
   "cell_type": "code",
   "execution_count": 18,
   "id": "34005e8a",
   "metadata": {},
   "outputs": [
    {
     "data": {
      "text/plain": [
       "array([0, 1])"
      ]
     },
     "execution_count": 18,
     "metadata": {},
     "output_type": "execute_result"
    }
   ],
   "source": [
    "df['behavioral_antiviral_meds'].unique()"
   ]
  },
  {
   "cell_type": "markdown",
   "id": "7f486d57",
   "metadata": {},
   "source": [
    "## Feature 5"
   ]
  },
  {
   "cell_type": "code",
   "execution_count": 19,
   "id": "6e1056d9",
   "metadata": {},
   "outputs": [
    {
     "data": {
      "text/plain": [
       "array([ 0.,  1., nan])"
      ]
     },
     "execution_count": 19,
     "metadata": {},
     "output_type": "execute_result"
    }
   ],
   "source": [
    "df['behavioral_avoidance'].unique()"
   ]
  },
  {
   "cell_type": "code",
   "execution_count": 20,
   "id": "2a82413a",
   "metadata": {},
   "outputs": [],
   "source": [
    "df['behavioral_avoidance']=df['behavioral_avoidance'].fillna(df['behavioral_avoidance'].mode()[0])"
   ]
  },
  {
   "cell_type": "code",
   "execution_count": 21,
   "id": "e289766c",
   "metadata": {},
   "outputs": [],
   "source": [
    "df['behavioral_avoidance']=df['behavioral_avoidance'].astype(int)"
   ]
  },
  {
   "cell_type": "code",
   "execution_count": 22,
   "id": "9f4777ea",
   "metadata": {},
   "outputs": [
    {
     "data": {
      "text/plain": [
       "array([0, 1])"
      ]
     },
     "execution_count": 22,
     "metadata": {},
     "output_type": "execute_result"
    }
   ],
   "source": [
    "df['behavioral_avoidance'].unique()"
   ]
  },
  {
   "cell_type": "code",
   "execution_count": 23,
   "id": "5ac0a4fe",
   "metadata": {},
   "outputs": [
    {
     "name": "stdout",
     "output_type": "stream",
     "text": [
      "<class 'pandas.core.frame.DataFrame'>\n",
      "RangeIndex: 26707 entries, 0 to 26706\n",
      "Data columns (total 37 columns):\n",
      " #   Column                       Non-Null Count  Dtype  \n",
      "---  ------                       --------------  -----  \n",
      " 0   h1n1_concern                 26707 non-null  int32  \n",
      " 1   h1n1_knowledge               26707 non-null  int32  \n",
      " 2   behavioral_antiviral_meds    26707 non-null  int32  \n",
      " 3   behavioral_avoidance         26707 non-null  int32  \n",
      " 4   behavioral_face_mask         26688 non-null  float64\n",
      " 5   behavioral_wash_hands        26665 non-null  float64\n",
      " 6   behavioral_large_gatherings  26620 non-null  float64\n",
      " 7   behavioral_outside_home      26625 non-null  float64\n",
      " 8   behavioral_touch_face        26579 non-null  float64\n",
      " 9   doctor_recc_h1n1             24547 non-null  float64\n",
      " 10  doctor_recc_seasonal         24547 non-null  float64\n",
      " 11  chronic_med_condition        25736 non-null  float64\n",
      " 12  child_under_6_months         25887 non-null  float64\n",
      " 13  health_worker                25903 non-null  float64\n",
      " 14  health_insurance             14433 non-null  float64\n",
      " 15  opinion_h1n1_vacc_effective  26316 non-null  float64\n",
      " 16  opinion_h1n1_risk            26319 non-null  float64\n",
      " 17  opinion_h1n1_sick_from_vacc  26312 non-null  float64\n",
      " 18  opinion_seas_vacc_effective  26245 non-null  float64\n",
      " 19  opinion_seas_risk            26193 non-null  float64\n",
      " 20  opinion_seas_sick_from_vacc  26170 non-null  float64\n",
      " 21  age_group                    26707 non-null  object \n",
      " 22  education                    25300 non-null  object \n",
      " 23  race                         26707 non-null  object \n",
      " 24  sex                          26707 non-null  object \n",
      " 25  income_poverty               22284 non-null  object \n",
      " 26  marital_status               25299 non-null  object \n",
      " 27  rent_or_own                  24665 non-null  object \n",
      " 28  employment_status            25244 non-null  object \n",
      " 29  hhs_geo_region               26707 non-null  object \n",
      " 30  census_msa                   26707 non-null  object \n",
      " 31  household_adults             26458 non-null  float64\n",
      " 32  household_children           26458 non-null  float64\n",
      " 33  employment_industry          13377 non-null  object \n",
      " 34  employment_occupation        13237 non-null  object \n",
      " 35  h1n1_vaccine                 26707 non-null  int64  \n",
      " 36  seasonal_vaccine             26707 non-null  int64  \n",
      "dtypes: float64(19), int32(4), int64(2), object(12)\n",
      "memory usage: 7.1+ MB\n"
     ]
    }
   ],
   "source": [
    "df.info()"
   ]
  },
  {
   "cell_type": "markdown",
   "id": "794f1882",
   "metadata": {},
   "source": [
    "## Feature 6"
   ]
  },
  {
   "cell_type": "code",
   "execution_count": 24,
   "id": "9da8bfb4",
   "metadata": {},
   "outputs": [
    {
     "data": {
      "text/plain": [
       "array([ 0.,  1., nan])"
      ]
     },
     "execution_count": 24,
     "metadata": {},
     "output_type": "execute_result"
    }
   ],
   "source": [
    "df['behavioral_face_mask'].unique()"
   ]
  },
  {
   "cell_type": "code",
   "execution_count": 25,
   "id": "5dbdfddc",
   "metadata": {},
   "outputs": [],
   "source": [
    "df['behavioral_face_mask']=df['behavioral_face_mask'].fillna(df['behavioral_face_mask'].mode()[0])"
   ]
  },
  {
   "cell_type": "code",
   "execution_count": 26,
   "id": "b498d26b",
   "metadata": {},
   "outputs": [],
   "source": [
    "df['behavioral_face_mask']=df['behavioral_face_mask'].astype(int)"
   ]
  },
  {
   "cell_type": "code",
   "execution_count": 27,
   "id": "2d6c9824",
   "metadata": {},
   "outputs": [
    {
     "data": {
      "text/plain": [
       "array([0, 1])"
      ]
     },
     "execution_count": 27,
     "metadata": {},
     "output_type": "execute_result"
    }
   ],
   "source": [
    "df['behavioral_face_mask'].unique()"
   ]
  },
  {
   "cell_type": "markdown",
   "id": "bec5e63f",
   "metadata": {},
   "source": [
    "## Feature 7"
   ]
  },
  {
   "cell_type": "code",
   "execution_count": 28,
   "id": "a745a7a1",
   "metadata": {},
   "outputs": [
    {
     "data": {
      "text/plain": [
       "array([ 0.,  1., nan])"
      ]
     },
     "execution_count": 28,
     "metadata": {},
     "output_type": "execute_result"
    }
   ],
   "source": [
    "df['behavioral_wash_hands'].unique()"
   ]
  },
  {
   "cell_type": "code",
   "execution_count": 29,
   "id": "b91d3338",
   "metadata": {},
   "outputs": [],
   "source": [
    "df['behavioral_wash_hands']=df['behavioral_wash_hands'].fillna(df['behavioral_wash_hands'].mode()[0])"
   ]
  },
  {
   "cell_type": "code",
   "execution_count": 30,
   "id": "4b3b90ca",
   "metadata": {},
   "outputs": [],
   "source": [
    "df['behavioral_wash_hands']=df['behavioral_wash_hands'].astype(int)"
   ]
  },
  {
   "cell_type": "code",
   "execution_count": 31,
   "id": "15e71830",
   "metadata": {},
   "outputs": [
    {
     "data": {
      "text/plain": [
       "array([0, 1])"
      ]
     },
     "execution_count": 31,
     "metadata": {},
     "output_type": "execute_result"
    }
   ],
   "source": [
    "df['behavioral_wash_hands'].unique()"
   ]
  },
  {
   "cell_type": "code",
   "execution_count": 32,
   "id": "08ab1966",
   "metadata": {},
   "outputs": [
    {
     "data": {
      "text/html": [
       "<div>\n",
       "<style scoped>\n",
       "    .dataframe tbody tr th:only-of-type {\n",
       "        vertical-align: middle;\n",
       "    }\n",
       "\n",
       "    .dataframe tbody tr th {\n",
       "        vertical-align: top;\n",
       "    }\n",
       "\n",
       "    .dataframe thead th {\n",
       "        text-align: right;\n",
       "    }\n",
       "</style>\n",
       "<table border=\"1\" class=\"dataframe\">\n",
       "  <thead>\n",
       "    <tr style=\"text-align: right;\">\n",
       "      <th></th>\n",
       "      <th>h1n1_concern</th>\n",
       "      <th>h1n1_knowledge</th>\n",
       "      <th>behavioral_antiviral_meds</th>\n",
       "      <th>behavioral_avoidance</th>\n",
       "      <th>behavioral_face_mask</th>\n",
       "      <th>behavioral_wash_hands</th>\n",
       "      <th>behavioral_large_gatherings</th>\n",
       "      <th>behavioral_outside_home</th>\n",
       "      <th>behavioral_touch_face</th>\n",
       "      <th>doctor_recc_h1n1</th>\n",
       "      <th>...</th>\n",
       "      <th>rent_or_own</th>\n",
       "      <th>employment_status</th>\n",
       "      <th>hhs_geo_region</th>\n",
       "      <th>census_msa</th>\n",
       "      <th>household_adults</th>\n",
       "      <th>household_children</th>\n",
       "      <th>employment_industry</th>\n",
       "      <th>employment_occupation</th>\n",
       "      <th>h1n1_vaccine</th>\n",
       "      <th>seasonal_vaccine</th>\n",
       "    </tr>\n",
       "  </thead>\n",
       "  <tbody>\n",
       "    <tr>\n",
       "      <th>0</th>\n",
       "      <td>1</td>\n",
       "      <td>0</td>\n",
       "      <td>0</td>\n",
       "      <td>0</td>\n",
       "      <td>0</td>\n",
       "      <td>0</td>\n",
       "      <td>0.0</td>\n",
       "      <td>1.0</td>\n",
       "      <td>1.0</td>\n",
       "      <td>0.0</td>\n",
       "      <td>...</td>\n",
       "      <td>Own</td>\n",
       "      <td>Not in Labor Force</td>\n",
       "      <td>oxchjgsf</td>\n",
       "      <td>Non-MSA</td>\n",
       "      <td>0.0</td>\n",
       "      <td>0.0</td>\n",
       "      <td>NaN</td>\n",
       "      <td>NaN</td>\n",
       "      <td>0</td>\n",
       "      <td>0</td>\n",
       "    </tr>\n",
       "    <tr>\n",
       "      <th>1</th>\n",
       "      <td>3</td>\n",
       "      <td>2</td>\n",
       "      <td>0</td>\n",
       "      <td>1</td>\n",
       "      <td>0</td>\n",
       "      <td>1</td>\n",
       "      <td>0.0</td>\n",
       "      <td>1.0</td>\n",
       "      <td>1.0</td>\n",
       "      <td>0.0</td>\n",
       "      <td>...</td>\n",
       "      <td>Rent</td>\n",
       "      <td>Employed</td>\n",
       "      <td>bhuqouqj</td>\n",
       "      <td>MSA, Not Principle  City</td>\n",
       "      <td>0.0</td>\n",
       "      <td>0.0</td>\n",
       "      <td>pxcmvdjn</td>\n",
       "      <td>xgwztkwe</td>\n",
       "      <td>0</td>\n",
       "      <td>1</td>\n",
       "    </tr>\n",
       "  </tbody>\n",
       "</table>\n",
       "<p>2 rows × 37 columns</p>\n",
       "</div>"
      ],
      "text/plain": [
       "   h1n1_concern  h1n1_knowledge  behavioral_antiviral_meds  \\\n",
       "0             1               0                          0   \n",
       "1             3               2                          0   \n",
       "\n",
       "   behavioral_avoidance  behavioral_face_mask  behavioral_wash_hands  \\\n",
       "0                     0                     0                      0   \n",
       "1                     1                     0                      1   \n",
       "\n",
       "   behavioral_large_gatherings  behavioral_outside_home  \\\n",
       "0                          0.0                      1.0   \n",
       "1                          0.0                      1.0   \n",
       "\n",
       "   behavioral_touch_face  doctor_recc_h1n1  ...  rent_or_own  \\\n",
       "0                    1.0               0.0  ...          Own   \n",
       "1                    1.0               0.0  ...         Rent   \n",
       "\n",
       "    employment_status  hhs_geo_region                census_msa  \\\n",
       "0  Not in Labor Force        oxchjgsf                   Non-MSA   \n",
       "1            Employed        bhuqouqj  MSA, Not Principle  City   \n",
       "\n",
       "   household_adults  household_children  employment_industry  \\\n",
       "0               0.0                 0.0                  NaN   \n",
       "1               0.0                 0.0             pxcmvdjn   \n",
       "\n",
       "   employment_occupation  h1n1_vaccine  seasonal_vaccine  \n",
       "0                    NaN             0                 0  \n",
       "1               xgwztkwe             0                 1  \n",
       "\n",
       "[2 rows x 37 columns]"
      ]
     },
     "execution_count": 32,
     "metadata": {},
     "output_type": "execute_result"
    }
   ],
   "source": [
    "df.head(2)"
   ]
  },
  {
   "cell_type": "code",
   "execution_count": 33,
   "id": "5739022d",
   "metadata": {},
   "outputs": [
    {
     "name": "stdout",
     "output_type": "stream",
     "text": [
      "<class 'pandas.core.frame.DataFrame'>\n",
      "RangeIndex: 26707 entries, 0 to 26706\n",
      "Data columns (total 37 columns):\n",
      " #   Column                       Non-Null Count  Dtype  \n",
      "---  ------                       --------------  -----  \n",
      " 0   h1n1_concern                 26707 non-null  int32  \n",
      " 1   h1n1_knowledge               26707 non-null  int32  \n",
      " 2   behavioral_antiviral_meds    26707 non-null  int32  \n",
      " 3   behavioral_avoidance         26707 non-null  int32  \n",
      " 4   behavioral_face_mask         26707 non-null  int32  \n",
      " 5   behavioral_wash_hands        26707 non-null  int32  \n",
      " 6   behavioral_large_gatherings  26620 non-null  float64\n",
      " 7   behavioral_outside_home      26625 non-null  float64\n",
      " 8   behavioral_touch_face        26579 non-null  float64\n",
      " 9   doctor_recc_h1n1             24547 non-null  float64\n",
      " 10  doctor_recc_seasonal         24547 non-null  float64\n",
      " 11  chronic_med_condition        25736 non-null  float64\n",
      " 12  child_under_6_months         25887 non-null  float64\n",
      " 13  health_worker                25903 non-null  float64\n",
      " 14  health_insurance             14433 non-null  float64\n",
      " 15  opinion_h1n1_vacc_effective  26316 non-null  float64\n",
      " 16  opinion_h1n1_risk            26319 non-null  float64\n",
      " 17  opinion_h1n1_sick_from_vacc  26312 non-null  float64\n",
      " 18  opinion_seas_vacc_effective  26245 non-null  float64\n",
      " 19  opinion_seas_risk            26193 non-null  float64\n",
      " 20  opinion_seas_sick_from_vacc  26170 non-null  float64\n",
      " 21  age_group                    26707 non-null  object \n",
      " 22  education                    25300 non-null  object \n",
      " 23  race                         26707 non-null  object \n",
      " 24  sex                          26707 non-null  object \n",
      " 25  income_poverty               22284 non-null  object \n",
      " 26  marital_status               25299 non-null  object \n",
      " 27  rent_or_own                  24665 non-null  object \n",
      " 28  employment_status            25244 non-null  object \n",
      " 29  hhs_geo_region               26707 non-null  object \n",
      " 30  census_msa                   26707 non-null  object \n",
      " 31  household_adults             26458 non-null  float64\n",
      " 32  household_children           26458 non-null  float64\n",
      " 33  employment_industry          13377 non-null  object \n",
      " 34  employment_occupation        13237 non-null  object \n",
      " 35  h1n1_vaccine                 26707 non-null  int64  \n",
      " 36  seasonal_vaccine             26707 non-null  int64  \n",
      "dtypes: float64(17), int32(6), int64(2), object(12)\n",
      "memory usage: 6.9+ MB\n"
     ]
    }
   ],
   "source": [
    "df.info()"
   ]
  },
  {
   "cell_type": "markdown",
   "id": "463e2ff6",
   "metadata": {},
   "source": [
    "## Feature 8"
   ]
  },
  {
   "cell_type": "code",
   "execution_count": 34,
   "id": "e8b86730",
   "metadata": {},
   "outputs": [
    {
     "data": {
      "text/plain": [
       "array([ 0.,  1., nan])"
      ]
     },
     "execution_count": 34,
     "metadata": {},
     "output_type": "execute_result"
    }
   ],
   "source": [
    "df['behavioral_large_gatherings'].unique()"
   ]
  },
  {
   "cell_type": "code",
   "execution_count": 35,
   "id": "625b13d3",
   "metadata": {},
   "outputs": [],
   "source": [
    "df['behavioral_large_gatherings']=df['behavioral_large_gatherings'].fillna(df['behavioral_large_gatherings'].mode()[0])"
   ]
  },
  {
   "cell_type": "code",
   "execution_count": 36,
   "id": "c55cc0a9",
   "metadata": {},
   "outputs": [],
   "source": [
    "df['behavioral_large_gatherings']=df['behavioral_large_gatherings'].astype(int)"
   ]
  },
  {
   "cell_type": "code",
   "execution_count": 37,
   "id": "254c3c8f",
   "metadata": {},
   "outputs": [
    {
     "data": {
      "text/plain": [
       "array([0, 1])"
      ]
     },
     "execution_count": 37,
     "metadata": {},
     "output_type": "execute_result"
    }
   ],
   "source": [
    "df['behavioral_large_gatherings'].unique()"
   ]
  },
  {
   "cell_type": "markdown",
   "id": "54e78a75",
   "metadata": {},
   "source": [
    "## Feature 9"
   ]
  },
  {
   "cell_type": "code",
   "execution_count": 38,
   "id": "43f7ebc6",
   "metadata": {},
   "outputs": [
    {
     "data": {
      "text/plain": [
       "array([ 1.,  0., nan])"
      ]
     },
     "execution_count": 38,
     "metadata": {},
     "output_type": "execute_result"
    }
   ],
   "source": [
    "df['behavioral_outside_home'].unique()"
   ]
  },
  {
   "cell_type": "code",
   "execution_count": 40,
   "id": "f05185e5",
   "metadata": {},
   "outputs": [],
   "source": [
    "df['behavioral_outside_home']=df['behavioral_outside_home'].fillna(df['behavioral_outside_home'].mode()[0])"
   ]
  },
  {
   "cell_type": "code",
   "execution_count": 41,
   "id": "f0e00dfc",
   "metadata": {},
   "outputs": [],
   "source": [
    "df['behavioral_outside_home']=df['behavioral_outside_home'].astype(int)"
   ]
  },
  {
   "cell_type": "code",
   "execution_count": 42,
   "id": "2eecccfe",
   "metadata": {},
   "outputs": [
    {
     "data": {
      "text/plain": [
       "array([1, 0])"
      ]
     },
     "execution_count": 42,
     "metadata": {},
     "output_type": "execute_result"
    }
   ],
   "source": [
    "df['behavioral_outside_home'].unique()"
   ]
  },
  {
   "cell_type": "markdown",
   "id": "7d411f49",
   "metadata": {},
   "source": [
    "## Feature 10"
   ]
  },
  {
   "cell_type": "code",
   "execution_count": 43,
   "id": "c715ceb7",
   "metadata": {},
   "outputs": [
    {
     "data": {
      "text/plain": [
       "array([ 1.,  0., nan])"
      ]
     },
     "execution_count": 43,
     "metadata": {},
     "output_type": "execute_result"
    }
   ],
   "source": [
    "df['behavioral_touch_face'].unique()"
   ]
  },
  {
   "cell_type": "code",
   "execution_count": 44,
   "id": "4d24ecf2",
   "metadata": {},
   "outputs": [],
   "source": [
    "df['behavioral_touch_face']=df['behavioral_touch_face'].fillna(df['behavioral_touch_face'].mode()[0])"
   ]
  },
  {
   "cell_type": "code",
   "execution_count": 45,
   "id": "1c508074",
   "metadata": {},
   "outputs": [],
   "source": [
    "df['behavioral_touch_face']=df['behavioral_touch_face'].astype(int)"
   ]
  },
  {
   "cell_type": "code",
   "execution_count": 46,
   "id": "9da83e9f",
   "metadata": {},
   "outputs": [
    {
     "data": {
      "text/plain": [
       "array([1, 0])"
      ]
     },
     "execution_count": 46,
     "metadata": {},
     "output_type": "execute_result"
    }
   ],
   "source": [
    "df['behavioral_touch_face'].unique()"
   ]
  },
  {
   "cell_type": "markdown",
   "id": "6cd2feeb",
   "metadata": {},
   "source": [
    "## Feature 11"
   ]
  },
  {
   "cell_type": "code",
   "execution_count": 47,
   "id": "383fe5f3",
   "metadata": {},
   "outputs": [
    {
     "name": "stdout",
     "output_type": "stream",
     "text": [
      "<class 'pandas.core.frame.DataFrame'>\n",
      "RangeIndex: 26707 entries, 0 to 26706\n",
      "Data columns (total 37 columns):\n",
      " #   Column                       Non-Null Count  Dtype  \n",
      "---  ------                       --------------  -----  \n",
      " 0   h1n1_concern                 26707 non-null  int32  \n",
      " 1   h1n1_knowledge               26707 non-null  int32  \n",
      " 2   behavioral_antiviral_meds    26707 non-null  int32  \n",
      " 3   behavioral_avoidance         26707 non-null  int32  \n",
      " 4   behavioral_face_mask         26707 non-null  int32  \n",
      " 5   behavioral_wash_hands        26707 non-null  int32  \n",
      " 6   behavioral_large_gatherings  26707 non-null  int32  \n",
      " 7   behavioral_outside_home      26707 non-null  int32  \n",
      " 8   behavioral_touch_face        26707 non-null  int32  \n",
      " 9   doctor_recc_h1n1             24547 non-null  float64\n",
      " 10  doctor_recc_seasonal         24547 non-null  float64\n",
      " 11  chronic_med_condition        25736 non-null  float64\n",
      " 12  child_under_6_months         25887 non-null  float64\n",
      " 13  health_worker                25903 non-null  float64\n",
      " 14  health_insurance             14433 non-null  float64\n",
      " 15  opinion_h1n1_vacc_effective  26316 non-null  float64\n",
      " 16  opinion_h1n1_risk            26319 non-null  float64\n",
      " 17  opinion_h1n1_sick_from_vacc  26312 non-null  float64\n",
      " 18  opinion_seas_vacc_effective  26245 non-null  float64\n",
      " 19  opinion_seas_risk            26193 non-null  float64\n",
      " 20  opinion_seas_sick_from_vacc  26170 non-null  float64\n",
      " 21  age_group                    26707 non-null  object \n",
      " 22  education                    25300 non-null  object \n",
      " 23  race                         26707 non-null  object \n",
      " 24  sex                          26707 non-null  object \n",
      " 25  income_poverty               22284 non-null  object \n",
      " 26  marital_status               25299 non-null  object \n",
      " 27  rent_or_own                  24665 non-null  object \n",
      " 28  employment_status            25244 non-null  object \n",
      " 29  hhs_geo_region               26707 non-null  object \n",
      " 30  census_msa                   26707 non-null  object \n",
      " 31  household_adults             26458 non-null  float64\n",
      " 32  household_children           26458 non-null  float64\n",
      " 33  employment_industry          13377 non-null  object \n",
      " 34  employment_occupation        13237 non-null  object \n",
      " 35  h1n1_vaccine                 26707 non-null  int64  \n",
      " 36  seasonal_vaccine             26707 non-null  int64  \n",
      "dtypes: float64(14), int32(9), int64(2), object(12)\n",
      "memory usage: 6.6+ MB\n"
     ]
    }
   ],
   "source": [
    "df.info()"
   ]
  },
  {
   "cell_type": "code",
   "execution_count": 48,
   "id": "edf607c5",
   "metadata": {},
   "outputs": [
    {
     "data": {
      "text/html": [
       "<div>\n",
       "<style scoped>\n",
       "    .dataframe tbody tr th:only-of-type {\n",
       "        vertical-align: middle;\n",
       "    }\n",
       "\n",
       "    .dataframe tbody tr th {\n",
       "        vertical-align: top;\n",
       "    }\n",
       "\n",
       "    .dataframe thead th {\n",
       "        text-align: right;\n",
       "    }\n",
       "</style>\n",
       "<table border=\"1\" class=\"dataframe\">\n",
       "  <thead>\n",
       "    <tr style=\"text-align: right;\">\n",
       "      <th></th>\n",
       "      <th>h1n1_concern</th>\n",
       "      <th>h1n1_knowledge</th>\n",
       "      <th>behavioral_antiviral_meds</th>\n",
       "      <th>behavioral_avoidance</th>\n",
       "      <th>behavioral_face_mask</th>\n",
       "      <th>behavioral_wash_hands</th>\n",
       "      <th>behavioral_large_gatherings</th>\n",
       "      <th>behavioral_outside_home</th>\n",
       "      <th>behavioral_touch_face</th>\n",
       "      <th>doctor_recc_h1n1</th>\n",
       "      <th>...</th>\n",
       "      <th>rent_or_own</th>\n",
       "      <th>employment_status</th>\n",
       "      <th>hhs_geo_region</th>\n",
       "      <th>census_msa</th>\n",
       "      <th>household_adults</th>\n",
       "      <th>household_children</th>\n",
       "      <th>employment_industry</th>\n",
       "      <th>employment_occupation</th>\n",
       "      <th>h1n1_vaccine</th>\n",
       "      <th>seasonal_vaccine</th>\n",
       "    </tr>\n",
       "  </thead>\n",
       "  <tbody>\n",
       "    <tr>\n",
       "      <th>0</th>\n",
       "      <td>1</td>\n",
       "      <td>0</td>\n",
       "      <td>0</td>\n",
       "      <td>0</td>\n",
       "      <td>0</td>\n",
       "      <td>0</td>\n",
       "      <td>0</td>\n",
       "      <td>1</td>\n",
       "      <td>1</td>\n",
       "      <td>0.0</td>\n",
       "      <td>...</td>\n",
       "      <td>Own</td>\n",
       "      <td>Not in Labor Force</td>\n",
       "      <td>oxchjgsf</td>\n",
       "      <td>Non-MSA</td>\n",
       "      <td>0.0</td>\n",
       "      <td>0.0</td>\n",
       "      <td>NaN</td>\n",
       "      <td>NaN</td>\n",
       "      <td>0</td>\n",
       "      <td>0</td>\n",
       "    </tr>\n",
       "    <tr>\n",
       "      <th>1</th>\n",
       "      <td>3</td>\n",
       "      <td>2</td>\n",
       "      <td>0</td>\n",
       "      <td>1</td>\n",
       "      <td>0</td>\n",
       "      <td>1</td>\n",
       "      <td>0</td>\n",
       "      <td>1</td>\n",
       "      <td>1</td>\n",
       "      <td>0.0</td>\n",
       "      <td>...</td>\n",
       "      <td>Rent</td>\n",
       "      <td>Employed</td>\n",
       "      <td>bhuqouqj</td>\n",
       "      <td>MSA, Not Principle  City</td>\n",
       "      <td>0.0</td>\n",
       "      <td>0.0</td>\n",
       "      <td>pxcmvdjn</td>\n",
       "      <td>xgwztkwe</td>\n",
       "      <td>0</td>\n",
       "      <td>1</td>\n",
       "    </tr>\n",
       "  </tbody>\n",
       "</table>\n",
       "<p>2 rows × 37 columns</p>\n",
       "</div>"
      ],
      "text/plain": [
       "   h1n1_concern  h1n1_knowledge  behavioral_antiviral_meds  \\\n",
       "0             1               0                          0   \n",
       "1             3               2                          0   \n",
       "\n",
       "   behavioral_avoidance  behavioral_face_mask  behavioral_wash_hands  \\\n",
       "0                     0                     0                      0   \n",
       "1                     1                     0                      1   \n",
       "\n",
       "   behavioral_large_gatherings  behavioral_outside_home  \\\n",
       "0                            0                        1   \n",
       "1                            0                        1   \n",
       "\n",
       "   behavioral_touch_face  doctor_recc_h1n1  ...  rent_or_own  \\\n",
       "0                      1               0.0  ...          Own   \n",
       "1                      1               0.0  ...         Rent   \n",
       "\n",
       "    employment_status  hhs_geo_region                census_msa  \\\n",
       "0  Not in Labor Force        oxchjgsf                   Non-MSA   \n",
       "1            Employed        bhuqouqj  MSA, Not Principle  City   \n",
       "\n",
       "   household_adults  household_children  employment_industry  \\\n",
       "0               0.0                 0.0                  NaN   \n",
       "1               0.0                 0.0             pxcmvdjn   \n",
       "\n",
       "   employment_occupation  h1n1_vaccine  seasonal_vaccine  \n",
       "0                    NaN             0                 0  \n",
       "1               xgwztkwe             0                 1  \n",
       "\n",
       "[2 rows x 37 columns]"
      ]
     },
     "execution_count": 48,
     "metadata": {},
     "output_type": "execute_result"
    }
   ],
   "source": [
    "df.head(2)"
   ]
  },
  {
   "cell_type": "code",
   "execution_count": 49,
   "id": "4c2c9e1e",
   "metadata": {},
   "outputs": [
    {
     "data": {
      "text/plain": [
       "array([ 0., nan,  1.])"
      ]
     },
     "execution_count": 49,
     "metadata": {},
     "output_type": "execute_result"
    }
   ],
   "source": [
    "df['doctor_recc_h1n1'].unique()"
   ]
  },
  {
   "cell_type": "code",
   "execution_count": 50,
   "id": "2ce79f69",
   "metadata": {},
   "outputs": [],
   "source": [
    "df['doctor_recc_h1n1']=df['doctor_recc_h1n1'].fillna(df['doctor_recc_h1n1'].mode()[0])"
   ]
  },
  {
   "cell_type": "code",
   "execution_count": 51,
   "id": "944f302d",
   "metadata": {},
   "outputs": [],
   "source": [
    "df['doctor_recc_h1n1']=df['doctor_recc_h1n1'].astype(int)"
   ]
  },
  {
   "cell_type": "code",
   "execution_count": 52,
   "id": "2d80a1c0",
   "metadata": {},
   "outputs": [
    {
     "data": {
      "text/plain": [
       "array([0, 1])"
      ]
     },
     "execution_count": 52,
     "metadata": {},
     "output_type": "execute_result"
    }
   ],
   "source": [
    "df['doctor_recc_h1n1'].unique()"
   ]
  },
  {
   "cell_type": "markdown",
   "id": "567983ee",
   "metadata": {},
   "source": [
    "## Feature 12"
   ]
  },
  {
   "cell_type": "code",
   "execution_count": 53,
   "id": "bc20e80e",
   "metadata": {},
   "outputs": [
    {
     "data": {
      "text/plain": [
       "array([ 0., nan,  1.])"
      ]
     },
     "execution_count": 53,
     "metadata": {},
     "output_type": "execute_result"
    }
   ],
   "source": [
    "df['doctor_recc_seasonal'].unique()"
   ]
  },
  {
   "cell_type": "code",
   "execution_count": 54,
   "id": "0204f490",
   "metadata": {},
   "outputs": [],
   "source": [
    "df['doctor_recc_seasonal']=df['doctor_recc_seasonal'].fillna(df['doctor_recc_seasonal'].mode()[0])"
   ]
  },
  {
   "cell_type": "code",
   "execution_count": 55,
   "id": "2b9a76af",
   "metadata": {},
   "outputs": [],
   "source": [
    "df['doctor_recc_seasonal']=df['doctor_recc_seasonal'].astype(int)"
   ]
  },
  {
   "cell_type": "code",
   "execution_count": 56,
   "id": "22ad9703",
   "metadata": {},
   "outputs": [
    {
     "data": {
      "text/plain": [
       "array([0, 1])"
      ]
     },
     "execution_count": 56,
     "metadata": {},
     "output_type": "execute_result"
    }
   ],
   "source": [
    "df['doctor_recc_seasonal'].unique()"
   ]
  },
  {
   "cell_type": "markdown",
   "id": "fce71b8f",
   "metadata": {},
   "source": [
    "## Feature 13"
   ]
  },
  {
   "cell_type": "code",
   "execution_count": 57,
   "id": "f4e1241f",
   "metadata": {},
   "outputs": [
    {
     "data": {
      "text/plain": [
       "array([ 0.,  1., nan])"
      ]
     },
     "execution_count": 57,
     "metadata": {},
     "output_type": "execute_result"
    }
   ],
   "source": [
    "df['chronic_med_condition'].unique()"
   ]
  },
  {
   "cell_type": "code",
   "execution_count": 58,
   "id": "7f9c1510",
   "metadata": {},
   "outputs": [],
   "source": [
    "df['chronic_med_condition']=df['chronic_med_condition'].fillna(df['chronic_med_condition'].mode()[0])"
   ]
  },
  {
   "cell_type": "code",
   "execution_count": 59,
   "id": "a3d5f3e9",
   "metadata": {},
   "outputs": [],
   "source": [
    "df['chronic_med_condition']=df['chronic_med_condition'].astype(int)"
   ]
  },
  {
   "cell_type": "code",
   "execution_count": 60,
   "id": "391197e1",
   "metadata": {},
   "outputs": [
    {
     "data": {
      "text/plain": [
       "array([0, 1])"
      ]
     },
     "execution_count": 60,
     "metadata": {},
     "output_type": "execute_result"
    }
   ],
   "source": [
    "df['chronic_med_condition'].unique()"
   ]
  },
  {
   "cell_type": "markdown",
   "id": "e8424695",
   "metadata": {},
   "source": [
    "## Feature 14"
   ]
  },
  {
   "cell_type": "code",
   "execution_count": 61,
   "id": "73f5504b",
   "metadata": {},
   "outputs": [
    {
     "data": {
      "text/plain": [
       "array([ 0.,  1., nan])"
      ]
     },
     "execution_count": 61,
     "metadata": {},
     "output_type": "execute_result"
    }
   ],
   "source": [
    "df['child_under_6_months'].unique()"
   ]
  },
  {
   "cell_type": "code",
   "execution_count": 62,
   "id": "88536b5e",
   "metadata": {},
   "outputs": [],
   "source": [
    "df['child_under_6_months']=df['child_under_6_months'].fillna(df['child_under_6_months'].mode()[0])"
   ]
  },
  {
   "cell_type": "code",
   "execution_count": 63,
   "id": "3eee19f3",
   "metadata": {},
   "outputs": [],
   "source": [
    "df['child_under_6_months']=df['child_under_6_months'].astype(int)"
   ]
  },
  {
   "cell_type": "code",
   "execution_count": 64,
   "id": "bd727b7a",
   "metadata": {},
   "outputs": [
    {
     "data": {
      "text/plain": [
       "array([0, 1])"
      ]
     },
     "execution_count": 64,
     "metadata": {},
     "output_type": "execute_result"
    }
   ],
   "source": [
    "df['child_under_6_months'].unique()"
   ]
  },
  {
   "cell_type": "markdown",
   "id": "cc3d51b5",
   "metadata": {},
   "source": [
    "## Feature 15"
   ]
  },
  {
   "cell_type": "code",
   "execution_count": 65,
   "id": "2ed6b910",
   "metadata": {},
   "outputs": [
    {
     "data": {
      "text/plain": [
       "array([ 0.,  1., nan])"
      ]
     },
     "execution_count": 65,
     "metadata": {},
     "output_type": "execute_result"
    }
   ],
   "source": [
    "df['health_worker'].unique()"
   ]
  },
  {
   "cell_type": "code",
   "execution_count": 66,
   "id": "dcc8a52f",
   "metadata": {},
   "outputs": [],
   "source": [
    "df['health_worker']=df['health_worker'].fillna(df['health_worker'].mode()[0])"
   ]
  },
  {
   "cell_type": "code",
   "execution_count": 67,
   "id": "2562060b",
   "metadata": {},
   "outputs": [],
   "source": [
    "df['health_worker']=df['health_worker'].astype(int)"
   ]
  },
  {
   "cell_type": "code",
   "execution_count": 68,
   "id": "e911a7e7",
   "metadata": {},
   "outputs": [
    {
     "data": {
      "text/plain": [
       "array([0, 1])"
      ]
     },
     "execution_count": 68,
     "metadata": {},
     "output_type": "execute_result"
    }
   ],
   "source": [
    "df['health_worker'].unique()"
   ]
  },
  {
   "cell_type": "markdown",
   "id": "0f858997",
   "metadata": {},
   "source": [
    "## Feature 16"
   ]
  },
  {
   "cell_type": "code",
   "execution_count": 69,
   "id": "557ecc72",
   "metadata": {},
   "outputs": [
    {
     "data": {
      "text/plain": [
       "array([ 1., nan,  0.])"
      ]
     },
     "execution_count": 69,
     "metadata": {},
     "output_type": "execute_result"
    }
   ],
   "source": [
    "df['health_insurance'].unique()"
   ]
  },
  {
   "cell_type": "code",
   "execution_count": 70,
   "id": "9bda08ee",
   "metadata": {},
   "outputs": [],
   "source": [
    "df['health_insurance']=df['health_insurance'].fillna(df['health_insurance'].mode()[0])"
   ]
  },
  {
   "cell_type": "code",
   "execution_count": 71,
   "id": "9fbb2cf4",
   "metadata": {},
   "outputs": [],
   "source": [
    "df['health_insurance']=df['health_insurance'].astype(int)"
   ]
  },
  {
   "cell_type": "code",
   "execution_count": 72,
   "id": "ce1dbc4f",
   "metadata": {},
   "outputs": [
    {
     "data": {
      "text/plain": [
       "array([1, 0])"
      ]
     },
     "execution_count": 72,
     "metadata": {},
     "output_type": "execute_result"
    }
   ],
   "source": [
    "df['health_insurance'].unique()"
   ]
  },
  {
   "cell_type": "markdown",
   "id": "c38fa1f6",
   "metadata": {},
   "source": [
    "## Feature 17"
   ]
  },
  {
   "cell_type": "code",
   "execution_count": 73,
   "id": "cc0e3469",
   "metadata": {},
   "outputs": [
    {
     "data": {
      "text/plain": [
       "array([ 3.,  5.,  4.,  2.,  1., nan])"
      ]
     },
     "execution_count": 73,
     "metadata": {},
     "output_type": "execute_result"
    }
   ],
   "source": [
    "df['opinion_h1n1_vacc_effective'].unique()"
   ]
  },
  {
   "cell_type": "code",
   "execution_count": 74,
   "id": "c7240d56",
   "metadata": {},
   "outputs": [],
   "source": [
    "df['opinion_h1n1_vacc_effective']=df['opinion_h1n1_vacc_effective'].fillna(df['opinion_h1n1_vacc_effective'].mode()[0])"
   ]
  },
  {
   "cell_type": "code",
   "execution_count": 75,
   "id": "6f27755c",
   "metadata": {},
   "outputs": [],
   "source": [
    "df['opinion_h1n1_vacc_effective']=df['opinion_h1n1_vacc_effective'].astype(int)"
   ]
  },
  {
   "cell_type": "code",
   "execution_count": 76,
   "id": "5ed3e6ca",
   "metadata": {},
   "outputs": [
    {
     "data": {
      "text/plain": [
       "array([3, 5, 4, 2, 1])"
      ]
     },
     "execution_count": 76,
     "metadata": {},
     "output_type": "execute_result"
    }
   ],
   "source": [
    "df['opinion_h1n1_vacc_effective'].unique()"
   ]
  },
  {
   "cell_type": "markdown",
   "id": "50b34007",
   "metadata": {},
   "source": [
    "## Feature 18"
   ]
  },
  {
   "cell_type": "code",
   "execution_count": 78,
   "id": "69776e17",
   "metadata": {},
   "outputs": [
    {
     "data": {
      "text/plain": [
       "array([ 1.,  4.,  3.,  2.,  5., nan])"
      ]
     },
     "execution_count": 78,
     "metadata": {},
     "output_type": "execute_result"
    }
   ],
   "source": [
    "df['opinion_h1n1_risk'].unique()"
   ]
  },
  {
   "cell_type": "code",
   "execution_count": 79,
   "id": "7453a9a5",
   "metadata": {},
   "outputs": [],
   "source": [
    "df['opinion_h1n1_risk']=df['opinion_h1n1_risk'].fillna(df['opinion_h1n1_risk'].mode()[0])"
   ]
  },
  {
   "cell_type": "code",
   "execution_count": 80,
   "id": "77ea591e",
   "metadata": {},
   "outputs": [],
   "source": [
    "df['opinion_h1n1_risk']=df['opinion_h1n1_risk'].astype(int)"
   ]
  },
  {
   "cell_type": "code",
   "execution_count": 81,
   "id": "6fe23ae2",
   "metadata": {},
   "outputs": [
    {
     "data": {
      "text/plain": [
       "array([1, 4, 3, 2, 5])"
      ]
     },
     "execution_count": 81,
     "metadata": {},
     "output_type": "execute_result"
    }
   ],
   "source": [
    "df['opinion_h1n1_risk'].unique()"
   ]
  },
  {
   "cell_type": "code",
   "execution_count": 82,
   "id": "55ec998e",
   "metadata": {},
   "outputs": [
    {
     "name": "stdout",
     "output_type": "stream",
     "text": [
      "<class 'pandas.core.frame.DataFrame'>\n",
      "RangeIndex: 26707 entries, 0 to 26706\n",
      "Data columns (total 37 columns):\n",
      " #   Column                       Non-Null Count  Dtype  \n",
      "---  ------                       --------------  -----  \n",
      " 0   h1n1_concern                 26707 non-null  int32  \n",
      " 1   h1n1_knowledge               26707 non-null  int32  \n",
      " 2   behavioral_antiviral_meds    26707 non-null  int32  \n",
      " 3   behavioral_avoidance         26707 non-null  int32  \n",
      " 4   behavioral_face_mask         26707 non-null  int32  \n",
      " 5   behavioral_wash_hands        26707 non-null  int32  \n",
      " 6   behavioral_large_gatherings  26707 non-null  int32  \n",
      " 7   behavioral_outside_home      26707 non-null  int32  \n",
      " 8   behavioral_touch_face        26707 non-null  int32  \n",
      " 9   doctor_recc_h1n1             26707 non-null  int32  \n",
      " 10  doctor_recc_seasonal         26707 non-null  int32  \n",
      " 11  chronic_med_condition        26707 non-null  int32  \n",
      " 12  child_under_6_months         26707 non-null  int32  \n",
      " 13  health_worker                26707 non-null  int32  \n",
      " 14  health_insurance             26707 non-null  int32  \n",
      " 15  opinion_h1n1_vacc_effective  26707 non-null  int32  \n",
      " 16  opinion_h1n1_risk            26707 non-null  int32  \n",
      " 17  opinion_h1n1_sick_from_vacc  26312 non-null  float64\n",
      " 18  opinion_seas_vacc_effective  26245 non-null  float64\n",
      " 19  opinion_seas_risk            26193 non-null  float64\n",
      " 20  opinion_seas_sick_from_vacc  26170 non-null  float64\n",
      " 21  age_group                    26707 non-null  object \n",
      " 22  education                    25300 non-null  object \n",
      " 23  race                         26707 non-null  object \n",
      " 24  sex                          26707 non-null  object \n",
      " 25  income_poverty               22284 non-null  object \n",
      " 26  marital_status               25299 non-null  object \n",
      " 27  rent_or_own                  24665 non-null  object \n",
      " 28  employment_status            25244 non-null  object \n",
      " 29  hhs_geo_region               26707 non-null  object \n",
      " 30  census_msa                   26707 non-null  object \n",
      " 31  household_adults             26458 non-null  float64\n",
      " 32  household_children           26458 non-null  float64\n",
      " 33  employment_industry          13377 non-null  object \n",
      " 34  employment_occupation        13237 non-null  object \n",
      " 35  h1n1_vaccine                 26707 non-null  int64  \n",
      " 36  seasonal_vaccine             26707 non-null  int64  \n",
      "dtypes: float64(6), int32(17), int64(2), object(12)\n",
      "memory usage: 5.8+ MB\n"
     ]
    }
   ],
   "source": [
    "df.info()"
   ]
  },
  {
   "cell_type": "markdown",
   "id": "65161ef4",
   "metadata": {},
   "source": [
    "## Feature 19"
   ]
  },
  {
   "cell_type": "code",
   "execution_count": 83,
   "id": "fb7cd08c",
   "metadata": {},
   "outputs": [
    {
     "data": {
      "text/plain": [
       "array([ 2.,  4.,  1.,  5.,  3., nan])"
      ]
     },
     "execution_count": 83,
     "metadata": {},
     "output_type": "execute_result"
    }
   ],
   "source": [
    "df['opinion_h1n1_sick_from_vacc'].unique()"
   ]
  },
  {
   "cell_type": "code",
   "execution_count": 84,
   "id": "21ff407b",
   "metadata": {},
   "outputs": [],
   "source": [
    "df['opinion_h1n1_sick_from_vacc']=df['opinion_h1n1_sick_from_vacc'].fillna(df['opinion_h1n1_sick_from_vacc'].mode()[0])"
   ]
  },
  {
   "cell_type": "code",
   "execution_count": 85,
   "id": "12ecc66c",
   "metadata": {},
   "outputs": [],
   "source": [
    "df['opinion_h1n1_sick_from_vacc']=df['opinion_h1n1_sick_from_vacc'].astype(int)"
   ]
  },
  {
   "cell_type": "code",
   "execution_count": 86,
   "id": "a221ee5d",
   "metadata": {},
   "outputs": [
    {
     "data": {
      "text/plain": [
       "array([2, 4, 1, 5, 3])"
      ]
     },
     "execution_count": 86,
     "metadata": {},
     "output_type": "execute_result"
    }
   ],
   "source": [
    "df['opinion_h1n1_sick_from_vacc'].unique()"
   ]
  },
  {
   "cell_type": "markdown",
   "id": "35406ab5",
   "metadata": {},
   "source": [
    "## Feature 20"
   ]
  },
  {
   "cell_type": "code",
   "execution_count": 87,
   "id": "0e5ff91e",
   "metadata": {},
   "outputs": [
    {
     "data": {
      "text/plain": [
       "array([ 2.,  4.,  5.,  3.,  1., nan])"
      ]
     },
     "execution_count": 87,
     "metadata": {},
     "output_type": "execute_result"
    }
   ],
   "source": [
    "df['opinion_seas_vacc_effective'].unique()"
   ]
  },
  {
   "cell_type": "code",
   "execution_count": 88,
   "id": "265238a9",
   "metadata": {},
   "outputs": [],
   "source": [
    "df['opinion_seas_vacc_effective']=df['opinion_seas_vacc_effective'].fillna(df['opinion_seas_vacc_effective'].mode()[0])"
   ]
  },
  {
   "cell_type": "code",
   "execution_count": 89,
   "id": "1c36fcd8",
   "metadata": {},
   "outputs": [],
   "source": [
    "df['opinion_seas_vacc_effective']=df['opinion_seas_vacc_effective'].astype(int)"
   ]
  },
  {
   "cell_type": "code",
   "execution_count": 90,
   "id": "90af8616",
   "metadata": {},
   "outputs": [
    {
     "data": {
      "text/plain": [
       "array([2, 4, 5, 3, 1])"
      ]
     },
     "execution_count": 90,
     "metadata": {},
     "output_type": "execute_result"
    }
   ],
   "source": [
    "df['opinion_seas_vacc_effective'].unique()"
   ]
  },
  {
   "cell_type": "markdown",
   "id": "a7162b39",
   "metadata": {},
   "source": [
    "## Featurev 21"
   ]
  },
  {
   "cell_type": "code",
   "execution_count": 91,
   "id": "bd84f52f",
   "metadata": {},
   "outputs": [
    {
     "data": {
      "text/plain": [
       "array([ 1.,  2.,  4.,  3.,  5., nan])"
      ]
     },
     "execution_count": 91,
     "metadata": {},
     "output_type": "execute_result"
    }
   ],
   "source": [
    "df['opinion_seas_risk'].unique()"
   ]
  },
  {
   "cell_type": "code",
   "execution_count": 92,
   "id": "77683a8c",
   "metadata": {},
   "outputs": [],
   "source": [
    "df['opinion_seas_risk']=df['opinion_seas_risk'].fillna(df['opinion_seas_risk'].mode()[0])"
   ]
  },
  {
   "cell_type": "code",
   "execution_count": 93,
   "id": "15b8dcc5",
   "metadata": {},
   "outputs": [],
   "source": [
    "df['opinion_seas_risk']=df['opinion_seas_risk'].astype(int)"
   ]
  },
  {
   "cell_type": "code",
   "execution_count": 94,
   "id": "222c8dfc",
   "metadata": {},
   "outputs": [
    {
     "data": {
      "text/plain": [
       "array([1, 2, 4, 3, 5])"
      ]
     },
     "execution_count": 94,
     "metadata": {},
     "output_type": "execute_result"
    }
   ],
   "source": [
    "df['opinion_seas_risk'].unique()"
   ]
  },
  {
   "cell_type": "markdown",
   "id": "0dcfc3c1",
   "metadata": {},
   "source": [
    "## Feature 22"
   ]
  },
  {
   "cell_type": "code",
   "execution_count": 95,
   "id": "6a21dbea",
   "metadata": {},
   "outputs": [
    {
     "data": {
      "text/plain": [
       "array([ 2.,  4.,  1.,  5., nan,  3.])"
      ]
     },
     "execution_count": 95,
     "metadata": {},
     "output_type": "execute_result"
    }
   ],
   "source": [
    "df['opinion_seas_sick_from_vacc'].unique()"
   ]
  },
  {
   "cell_type": "code",
   "execution_count": 96,
   "id": "fca470b2",
   "metadata": {},
   "outputs": [],
   "source": [
    "df['opinion_seas_sick_from_vacc']=df['opinion_seas_sick_from_vacc'].fillna(df['opinion_seas_sick_from_vacc'].mode()[0])"
   ]
  },
  {
   "cell_type": "code",
   "execution_count": 97,
   "id": "c8a21095",
   "metadata": {},
   "outputs": [],
   "source": [
    "df['opinion_seas_sick_from_vacc']=df['opinion_seas_sick_from_vacc'].astype(int)"
   ]
  },
  {
   "cell_type": "code",
   "execution_count": 98,
   "id": "3698c261",
   "metadata": {},
   "outputs": [
    {
     "data": {
      "text/plain": [
       "array([2, 4, 1, 5, 3])"
      ]
     },
     "execution_count": 98,
     "metadata": {},
     "output_type": "execute_result"
    }
   ],
   "source": [
    "df['opinion_seas_sick_from_vacc'].unique()"
   ]
  },
  {
   "cell_type": "markdown",
   "id": "224c656b",
   "metadata": {},
   "source": [
    "## Feature 23"
   ]
  },
  {
   "cell_type": "code",
   "execution_count": 100,
   "id": "2b9f565f",
   "metadata": {},
   "outputs": [
    {
     "data": {
      "text/plain": [
       "array(['55 - 64 Years', '35 - 44 Years', '18 - 34 Years', '65+ Years',\n",
       "       '45 - 54 Years'], dtype=object)"
      ]
     },
     "execution_count": 100,
     "metadata": {},
     "output_type": "execute_result"
    }
   ],
   "source": [
    "df['age_group'].unique()"
   ]
  },
  {
   "cell_type": "code",
   "execution_count": 101,
   "id": "1ee92433",
   "metadata": {},
   "outputs": [
    {
     "name": "stdout",
     "output_type": "stream",
     "text": [
      "<class 'pandas.core.frame.DataFrame'>\n",
      "RangeIndex: 26707 entries, 0 to 26706\n",
      "Data columns (total 37 columns):\n",
      " #   Column                       Non-Null Count  Dtype  \n",
      "---  ------                       --------------  -----  \n",
      " 0   h1n1_concern                 26707 non-null  int32  \n",
      " 1   h1n1_knowledge               26707 non-null  int32  \n",
      " 2   behavioral_antiviral_meds    26707 non-null  int32  \n",
      " 3   behavioral_avoidance         26707 non-null  int32  \n",
      " 4   behavioral_face_mask         26707 non-null  int32  \n",
      " 5   behavioral_wash_hands        26707 non-null  int32  \n",
      " 6   behavioral_large_gatherings  26707 non-null  int32  \n",
      " 7   behavioral_outside_home      26707 non-null  int32  \n",
      " 8   behavioral_touch_face        26707 non-null  int32  \n",
      " 9   doctor_recc_h1n1             26707 non-null  int32  \n",
      " 10  doctor_recc_seasonal         26707 non-null  int32  \n",
      " 11  chronic_med_condition        26707 non-null  int32  \n",
      " 12  child_under_6_months         26707 non-null  int32  \n",
      " 13  health_worker                26707 non-null  int32  \n",
      " 14  health_insurance             26707 non-null  int32  \n",
      " 15  opinion_h1n1_vacc_effective  26707 non-null  int32  \n",
      " 16  opinion_h1n1_risk            26707 non-null  int32  \n",
      " 17  opinion_h1n1_sick_from_vacc  26707 non-null  int32  \n",
      " 18  opinion_seas_vacc_effective  26707 non-null  int32  \n",
      " 19  opinion_seas_risk            26707 non-null  int32  \n",
      " 20  opinion_seas_sick_from_vacc  26707 non-null  int32  \n",
      " 21  age_group                    26707 non-null  object \n",
      " 22  education                    25300 non-null  object \n",
      " 23  race                         26707 non-null  object \n",
      " 24  sex                          26707 non-null  object \n",
      " 25  income_poverty               22284 non-null  object \n",
      " 26  marital_status               25299 non-null  object \n",
      " 27  rent_or_own                  24665 non-null  object \n",
      " 28  employment_status            25244 non-null  object \n",
      " 29  hhs_geo_region               26707 non-null  object \n",
      " 30  census_msa                   26707 non-null  object \n",
      " 31  household_adults             26458 non-null  float64\n",
      " 32  household_children           26458 non-null  float64\n",
      " 33  employment_industry          13377 non-null  object \n",
      " 34  employment_occupation        13237 non-null  object \n",
      " 35  h1n1_vaccine                 26707 non-null  int64  \n",
      " 36  seasonal_vaccine             26707 non-null  int64  \n",
      "dtypes: float64(2), int32(21), int64(2), object(12)\n",
      "memory usage: 5.4+ MB\n"
     ]
    }
   ],
   "source": [
    "df.info()"
   ]
  },
  {
   "cell_type": "code",
   "execution_count": 102,
   "id": "a4898818",
   "metadata": {},
   "outputs": [
    {
     "data": {
      "text/plain": [
       "h1n1_concern                       0\n",
       "h1n1_knowledge                     0\n",
       "behavioral_antiviral_meds          0\n",
       "behavioral_avoidance               0\n",
       "behavioral_face_mask               0\n",
       "behavioral_wash_hands              0\n",
       "behavioral_large_gatherings        0\n",
       "behavioral_outside_home            0\n",
       "behavioral_touch_face              0\n",
       "doctor_recc_h1n1                   0\n",
       "doctor_recc_seasonal               0\n",
       "chronic_med_condition              0\n",
       "child_under_6_months               0\n",
       "health_worker                      0\n",
       "health_insurance                   0\n",
       "opinion_h1n1_vacc_effective        0\n",
       "opinion_h1n1_risk                  0\n",
       "opinion_h1n1_sick_from_vacc        0\n",
       "opinion_seas_vacc_effective        0\n",
       "opinion_seas_risk                  0\n",
       "opinion_seas_sick_from_vacc        0\n",
       "age_group                          0\n",
       "education                       1407\n",
       "race                               0\n",
       "sex                                0\n",
       "income_poverty                  4423\n",
       "marital_status                  1408\n",
       "rent_or_own                     2042\n",
       "employment_status               1463\n",
       "hhs_geo_region                     0\n",
       "census_msa                         0\n",
       "household_adults                 249\n",
       "household_children               249\n",
       "employment_industry            13330\n",
       "employment_occupation          13470\n",
       "h1n1_vaccine                       0\n",
       "seasonal_vaccine                   0\n",
       "dtype: int64"
      ]
     },
     "execution_count": 102,
     "metadata": {},
     "output_type": "execute_result"
    }
   ],
   "source": [
    "df.isnull().sum()"
   ]
  },
  {
   "cell_type": "code",
   "execution_count": 103,
   "id": "86917532",
   "metadata": {},
   "outputs": [],
   "source": [
    "df['age_group']=df['age_group'].map({'18 - 34 Years':0, '35 - 44 Years':1,'45 - 54 Years':2,'55 - 64 Years':3,'65+ Years':4})\n"
   ]
  },
  {
   "cell_type": "code",
   "execution_count": 104,
   "id": "0b5c42fd",
   "metadata": {},
   "outputs": [
    {
     "name": "stdout",
     "output_type": "stream",
     "text": [
      "<class 'pandas.core.frame.DataFrame'>\n",
      "RangeIndex: 26707 entries, 0 to 26706\n",
      "Data columns (total 37 columns):\n",
      " #   Column                       Non-Null Count  Dtype  \n",
      "---  ------                       --------------  -----  \n",
      " 0   h1n1_concern                 26707 non-null  int32  \n",
      " 1   h1n1_knowledge               26707 non-null  int32  \n",
      " 2   behavioral_antiviral_meds    26707 non-null  int32  \n",
      " 3   behavioral_avoidance         26707 non-null  int32  \n",
      " 4   behavioral_face_mask         26707 non-null  int32  \n",
      " 5   behavioral_wash_hands        26707 non-null  int32  \n",
      " 6   behavioral_large_gatherings  26707 non-null  int32  \n",
      " 7   behavioral_outside_home      26707 non-null  int32  \n",
      " 8   behavioral_touch_face        26707 non-null  int32  \n",
      " 9   doctor_recc_h1n1             26707 non-null  int32  \n",
      " 10  doctor_recc_seasonal         26707 non-null  int32  \n",
      " 11  chronic_med_condition        26707 non-null  int32  \n",
      " 12  child_under_6_months         26707 non-null  int32  \n",
      " 13  health_worker                26707 non-null  int32  \n",
      " 14  health_insurance             26707 non-null  int32  \n",
      " 15  opinion_h1n1_vacc_effective  26707 non-null  int32  \n",
      " 16  opinion_h1n1_risk            26707 non-null  int32  \n",
      " 17  opinion_h1n1_sick_from_vacc  26707 non-null  int32  \n",
      " 18  opinion_seas_vacc_effective  26707 non-null  int32  \n",
      " 19  opinion_seas_risk            26707 non-null  int32  \n",
      " 20  opinion_seas_sick_from_vacc  26707 non-null  int32  \n",
      " 21  age_group                    26707 non-null  int64  \n",
      " 22  education                    25300 non-null  object \n",
      " 23  race                         26707 non-null  object \n",
      " 24  sex                          26707 non-null  object \n",
      " 25  income_poverty               22284 non-null  object \n",
      " 26  marital_status               25299 non-null  object \n",
      " 27  rent_or_own                  24665 non-null  object \n",
      " 28  employment_status            25244 non-null  object \n",
      " 29  hhs_geo_region               26707 non-null  object \n",
      " 30  census_msa                   26707 non-null  object \n",
      " 31  household_adults             26458 non-null  float64\n",
      " 32  household_children           26458 non-null  float64\n",
      " 33  employment_industry          13377 non-null  object \n",
      " 34  employment_occupation        13237 non-null  object \n",
      " 35  h1n1_vaccine                 26707 non-null  int64  \n",
      " 36  seasonal_vaccine             26707 non-null  int64  \n",
      "dtypes: float64(2), int32(21), int64(3), object(11)\n",
      "memory usage: 5.4+ MB\n"
     ]
    }
   ],
   "source": [
    "df.info()"
   ]
  },
  {
   "cell_type": "markdown",
   "id": "7ec291ab",
   "metadata": {},
   "source": [
    "## Feature 24"
   ]
  },
  {
   "cell_type": "code",
   "execution_count": 105,
   "id": "14bc7d1a",
   "metadata": {},
   "outputs": [
    {
     "data": {
      "text/plain": [
       "array(['< 12 Years', '12 Years', 'College Graduate', 'Some College', nan],\n",
       "      dtype=object)"
      ]
     },
     "execution_count": 105,
     "metadata": {},
     "output_type": "execute_result"
    }
   ],
   "source": [
    "df['education'].unique()"
   ]
  },
  {
   "cell_type": "code",
   "execution_count": 106,
   "id": "7959a98a",
   "metadata": {},
   "outputs": [],
   "source": [
    "df['education']=df['education'].fillna(df['education'].mode()[0])"
   ]
  },
  {
   "cell_type": "code",
   "execution_count": 107,
   "id": "dea196c9",
   "metadata": {},
   "outputs": [],
   "source": [
    "#label encoding\n",
    "\n",
    "from sklearn.preprocessing import LabelEncoder\n",
    "\n",
    "labelencoder=LabelEncoder()\n",
    "df[\"education\"]=labelencoder.fit_transform(df[\"education\"])"
   ]
  },
  {
   "cell_type": "code",
   "execution_count": 108,
   "id": "b2da7b64",
   "metadata": {},
   "outputs": [
    {
     "data": {
      "text/plain": [
       "array([1, 0, 2, 3])"
      ]
     },
     "execution_count": 108,
     "metadata": {},
     "output_type": "execute_result"
    }
   ],
   "source": [
    "df['education'].unique()"
   ]
  },
  {
   "cell_type": "code",
   "execution_count": 109,
   "id": "baec0754",
   "metadata": {},
   "outputs": [
    {
     "name": "stdout",
     "output_type": "stream",
     "text": [
      "<class 'pandas.core.frame.DataFrame'>\n",
      "RangeIndex: 26707 entries, 0 to 26706\n",
      "Data columns (total 37 columns):\n",
      " #   Column                       Non-Null Count  Dtype  \n",
      "---  ------                       --------------  -----  \n",
      " 0   h1n1_concern                 26707 non-null  int32  \n",
      " 1   h1n1_knowledge               26707 non-null  int32  \n",
      " 2   behavioral_antiviral_meds    26707 non-null  int32  \n",
      " 3   behavioral_avoidance         26707 non-null  int32  \n",
      " 4   behavioral_face_mask         26707 non-null  int32  \n",
      " 5   behavioral_wash_hands        26707 non-null  int32  \n",
      " 6   behavioral_large_gatherings  26707 non-null  int32  \n",
      " 7   behavioral_outside_home      26707 non-null  int32  \n",
      " 8   behavioral_touch_face        26707 non-null  int32  \n",
      " 9   doctor_recc_h1n1             26707 non-null  int32  \n",
      " 10  doctor_recc_seasonal         26707 non-null  int32  \n",
      " 11  chronic_med_condition        26707 non-null  int32  \n",
      " 12  child_under_6_months         26707 non-null  int32  \n",
      " 13  health_worker                26707 non-null  int32  \n",
      " 14  health_insurance             26707 non-null  int32  \n",
      " 15  opinion_h1n1_vacc_effective  26707 non-null  int32  \n",
      " 16  opinion_h1n1_risk            26707 non-null  int32  \n",
      " 17  opinion_h1n1_sick_from_vacc  26707 non-null  int32  \n",
      " 18  opinion_seas_vacc_effective  26707 non-null  int32  \n",
      " 19  opinion_seas_risk            26707 non-null  int32  \n",
      " 20  opinion_seas_sick_from_vacc  26707 non-null  int32  \n",
      " 21  age_group                    26707 non-null  int64  \n",
      " 22  education                    26707 non-null  int32  \n",
      " 23  race                         26707 non-null  object \n",
      " 24  sex                          26707 non-null  object \n",
      " 25  income_poverty               22284 non-null  object \n",
      " 26  marital_status               25299 non-null  object \n",
      " 27  rent_or_own                  24665 non-null  object \n",
      " 28  employment_status            25244 non-null  object \n",
      " 29  hhs_geo_region               26707 non-null  object \n",
      " 30  census_msa                   26707 non-null  object \n",
      " 31  household_adults             26458 non-null  float64\n",
      " 32  household_children           26458 non-null  float64\n",
      " 33  employment_industry          13377 non-null  object \n",
      " 34  employment_occupation        13237 non-null  object \n",
      " 35  h1n1_vaccine                 26707 non-null  int64  \n",
      " 36  seasonal_vaccine             26707 non-null  int64  \n",
      "dtypes: float64(2), int32(22), int64(3), object(10)\n",
      "memory usage: 5.3+ MB\n"
     ]
    }
   ],
   "source": [
    "df.info()"
   ]
  },
  {
   "cell_type": "markdown",
   "id": "28e9e7a8",
   "metadata": {},
   "source": [
    "## Feature 25"
   ]
  },
  {
   "cell_type": "code",
   "execution_count": 110,
   "id": "794a4d06",
   "metadata": {},
   "outputs": [
    {
     "data": {
      "text/plain": [
       "array(['White', 'Black', 'Other or Multiple', 'Hispanic'], dtype=object)"
      ]
     },
     "execution_count": 110,
     "metadata": {},
     "output_type": "execute_result"
    }
   ],
   "source": [
    "df['race'].unique()"
   ]
  },
  {
   "cell_type": "code",
   "execution_count": 111,
   "id": "78cae4c7",
   "metadata": {},
   "outputs": [],
   "source": [
    "df[\"race\"]=labelencoder.fit_transform(df[\"race\"])"
   ]
  },
  {
   "cell_type": "code",
   "execution_count": 112,
   "id": "4e919190",
   "metadata": {},
   "outputs": [
    {
     "data": {
      "text/plain": [
       "array([3, 0, 2, 1])"
      ]
     },
     "execution_count": 112,
     "metadata": {},
     "output_type": "execute_result"
    }
   ],
   "source": [
    "df['race'].unique()"
   ]
  },
  {
   "cell_type": "markdown",
   "id": "8c99ccc4",
   "metadata": {},
   "source": [
    "## Feature 26"
   ]
  },
  {
   "cell_type": "code",
   "execution_count": 113,
   "id": "c788bb87",
   "metadata": {},
   "outputs": [],
   "source": [
    "df[\"sex\"]=labelencoder.fit_transform(df[\"sex\"])"
   ]
  },
  {
   "cell_type": "code",
   "execution_count": 114,
   "id": "03e05cb8",
   "metadata": {},
   "outputs": [
    {
     "name": "stdout",
     "output_type": "stream",
     "text": [
      "<class 'pandas.core.frame.DataFrame'>\n",
      "RangeIndex: 26707 entries, 0 to 26706\n",
      "Data columns (total 37 columns):\n",
      " #   Column                       Non-Null Count  Dtype  \n",
      "---  ------                       --------------  -----  \n",
      " 0   h1n1_concern                 26707 non-null  int32  \n",
      " 1   h1n1_knowledge               26707 non-null  int32  \n",
      " 2   behavioral_antiviral_meds    26707 non-null  int32  \n",
      " 3   behavioral_avoidance         26707 non-null  int32  \n",
      " 4   behavioral_face_mask         26707 non-null  int32  \n",
      " 5   behavioral_wash_hands        26707 non-null  int32  \n",
      " 6   behavioral_large_gatherings  26707 non-null  int32  \n",
      " 7   behavioral_outside_home      26707 non-null  int32  \n",
      " 8   behavioral_touch_face        26707 non-null  int32  \n",
      " 9   doctor_recc_h1n1             26707 non-null  int32  \n",
      " 10  doctor_recc_seasonal         26707 non-null  int32  \n",
      " 11  chronic_med_condition        26707 non-null  int32  \n",
      " 12  child_under_6_months         26707 non-null  int32  \n",
      " 13  health_worker                26707 non-null  int32  \n",
      " 14  health_insurance             26707 non-null  int32  \n",
      " 15  opinion_h1n1_vacc_effective  26707 non-null  int32  \n",
      " 16  opinion_h1n1_risk            26707 non-null  int32  \n",
      " 17  opinion_h1n1_sick_from_vacc  26707 non-null  int32  \n",
      " 18  opinion_seas_vacc_effective  26707 non-null  int32  \n",
      " 19  opinion_seas_risk            26707 non-null  int32  \n",
      " 20  opinion_seas_sick_from_vacc  26707 non-null  int32  \n",
      " 21  age_group                    26707 non-null  int64  \n",
      " 22  education                    26707 non-null  int32  \n",
      " 23  race                         26707 non-null  int32  \n",
      " 24  sex                          26707 non-null  int32  \n",
      " 25  income_poverty               22284 non-null  object \n",
      " 26  marital_status               25299 non-null  object \n",
      " 27  rent_or_own                  24665 non-null  object \n",
      " 28  employment_status            25244 non-null  object \n",
      " 29  hhs_geo_region               26707 non-null  object \n",
      " 30  census_msa                   26707 non-null  object \n",
      " 31  household_adults             26458 non-null  float64\n",
      " 32  household_children           26458 non-null  float64\n",
      " 33  employment_industry          13377 non-null  object \n",
      " 34  employment_occupation        13237 non-null  object \n",
      " 35  h1n1_vaccine                 26707 non-null  int64  \n",
      " 36  seasonal_vaccine             26707 non-null  int64  \n",
      "dtypes: float64(2), int32(24), int64(3), object(8)\n",
      "memory usage: 5.1+ MB\n"
     ]
    }
   ],
   "source": [
    "df.info()"
   ]
  },
  {
   "cell_type": "markdown",
   "id": "f9c02ee1",
   "metadata": {},
   "source": [
    "## Featutre 27"
   ]
  },
  {
   "cell_type": "code",
   "execution_count": 115,
   "id": "8d8e6ad2",
   "metadata": {},
   "outputs": [
    {
     "data": {
      "text/plain": [
       "array(['Below Poverty', '<= $75,000, Above Poverty', '> $75,000', nan],\n",
       "      dtype=object)"
      ]
     },
     "execution_count": 115,
     "metadata": {},
     "output_type": "execute_result"
    }
   ],
   "source": [
    "df['income_poverty'].unique()"
   ]
  },
  {
   "cell_type": "code",
   "execution_count": 116,
   "id": "73659353",
   "metadata": {},
   "outputs": [],
   "source": [
    "df['income_poverty']=df['income_poverty'].fillna(df['income_poverty'].mode()[0])"
   ]
  },
  {
   "cell_type": "code",
   "execution_count": 117,
   "id": "93c8af2a",
   "metadata": {},
   "outputs": [],
   "source": [
    "df[\"income_poverty\"]=labelencoder.fit_transform(df[\"income_poverty\"])"
   ]
  },
  {
   "cell_type": "markdown",
   "id": "6fa5683b",
   "metadata": {},
   "source": [
    "## Feature 28"
   ]
  },
  {
   "cell_type": "code",
   "execution_count": 118,
   "id": "85d19abd",
   "metadata": {},
   "outputs": [
    {
     "data": {
      "text/plain": [
       "array(['Not Married', 'Married', nan], dtype=object)"
      ]
     },
     "execution_count": 118,
     "metadata": {},
     "output_type": "execute_result"
    }
   ],
   "source": [
    "df['marital_status'].unique()"
   ]
  },
  {
   "cell_type": "code",
   "execution_count": 119,
   "id": "7daa2822",
   "metadata": {},
   "outputs": [],
   "source": [
    "df['marital_status']=df['marital_status'].fillna(df['marital_status'].mode()[0])"
   ]
  },
  {
   "cell_type": "code",
   "execution_count": 120,
   "id": "d0c4753f",
   "metadata": {},
   "outputs": [],
   "source": [
    "df[\"marital_status\"]=labelencoder.fit_transform(df[\"marital_status\"])"
   ]
  },
  {
   "cell_type": "markdown",
   "id": "8198865b",
   "metadata": {},
   "source": [
    "## Feature 29"
   ]
  },
  {
   "cell_type": "code",
   "execution_count": 121,
   "id": "20b104c6",
   "metadata": {},
   "outputs": [
    {
     "data": {
      "text/plain": [
       "array(['Own', 'Rent', nan], dtype=object)"
      ]
     },
     "execution_count": 121,
     "metadata": {},
     "output_type": "execute_result"
    }
   ],
   "source": [
    "df['rent_or_own'].unique()"
   ]
  },
  {
   "cell_type": "code",
   "execution_count": 122,
   "id": "923c1520",
   "metadata": {},
   "outputs": [],
   "source": [
    "df['rent_or_own']=df['rent_or_own'].fillna(df['rent_or_own'].mode()[0])"
   ]
  },
  {
   "cell_type": "code",
   "execution_count": 123,
   "id": "fe786c18",
   "metadata": {},
   "outputs": [],
   "source": [
    "df[\"rent_or_own\"]=labelencoder.fit_transform(df[\"rent_or_own\"])"
   ]
  },
  {
   "cell_type": "markdown",
   "id": "31120ab6",
   "metadata": {},
   "source": [
    "## Feature 29"
   ]
  },
  {
   "cell_type": "code",
   "execution_count": 124,
   "id": "c21f6e10",
   "metadata": {},
   "outputs": [
    {
     "name": "stdout",
     "output_type": "stream",
     "text": [
      "<class 'pandas.core.frame.DataFrame'>\n",
      "RangeIndex: 26707 entries, 0 to 26706\n",
      "Data columns (total 37 columns):\n",
      " #   Column                       Non-Null Count  Dtype  \n",
      "---  ------                       --------------  -----  \n",
      " 0   h1n1_concern                 26707 non-null  int32  \n",
      " 1   h1n1_knowledge               26707 non-null  int32  \n",
      " 2   behavioral_antiviral_meds    26707 non-null  int32  \n",
      " 3   behavioral_avoidance         26707 non-null  int32  \n",
      " 4   behavioral_face_mask         26707 non-null  int32  \n",
      " 5   behavioral_wash_hands        26707 non-null  int32  \n",
      " 6   behavioral_large_gatherings  26707 non-null  int32  \n",
      " 7   behavioral_outside_home      26707 non-null  int32  \n",
      " 8   behavioral_touch_face        26707 non-null  int32  \n",
      " 9   doctor_recc_h1n1             26707 non-null  int32  \n",
      " 10  doctor_recc_seasonal         26707 non-null  int32  \n",
      " 11  chronic_med_condition        26707 non-null  int32  \n",
      " 12  child_under_6_months         26707 non-null  int32  \n",
      " 13  health_worker                26707 non-null  int32  \n",
      " 14  health_insurance             26707 non-null  int32  \n",
      " 15  opinion_h1n1_vacc_effective  26707 non-null  int32  \n",
      " 16  opinion_h1n1_risk            26707 non-null  int32  \n",
      " 17  opinion_h1n1_sick_from_vacc  26707 non-null  int32  \n",
      " 18  opinion_seas_vacc_effective  26707 non-null  int32  \n",
      " 19  opinion_seas_risk            26707 non-null  int32  \n",
      " 20  opinion_seas_sick_from_vacc  26707 non-null  int32  \n",
      " 21  age_group                    26707 non-null  int64  \n",
      " 22  education                    26707 non-null  int32  \n",
      " 23  race                         26707 non-null  int32  \n",
      " 24  sex                          26707 non-null  int32  \n",
      " 25  income_poverty               26707 non-null  int32  \n",
      " 26  marital_status               26707 non-null  int32  \n",
      " 27  rent_or_own                  26707 non-null  int32  \n",
      " 28  employment_status            25244 non-null  object \n",
      " 29  hhs_geo_region               26707 non-null  object \n",
      " 30  census_msa                   26707 non-null  object \n",
      " 31  household_adults             26458 non-null  float64\n",
      " 32  household_children           26458 non-null  float64\n",
      " 33  employment_industry          13377 non-null  object \n",
      " 34  employment_occupation        13237 non-null  object \n",
      " 35  h1n1_vaccine                 26707 non-null  int64  \n",
      " 36  seasonal_vaccine             26707 non-null  int64  \n",
      "dtypes: float64(2), int32(27), int64(3), object(5)\n",
      "memory usage: 4.8+ MB\n"
     ]
    }
   ],
   "source": [
    "df.info()"
   ]
  },
  {
   "cell_type": "code",
   "execution_count": 125,
   "id": "78007ee1",
   "metadata": {},
   "outputs": [
    {
     "data": {
      "text/plain": [
       "array(['Not in Labor Force', 'Employed', 'Unemployed', nan], dtype=object)"
      ]
     },
     "execution_count": 125,
     "metadata": {},
     "output_type": "execute_result"
    }
   ],
   "source": [
    "df['employment_status'].unique()"
   ]
  },
  {
   "cell_type": "code",
   "execution_count": 126,
   "id": "1666ef40",
   "metadata": {},
   "outputs": [],
   "source": [
    "df['employment_status']=df['employment_status'].fillna(df['employment_status'].mode()[0])"
   ]
  },
  {
   "cell_type": "code",
   "execution_count": 127,
   "id": "ef5f4e1b",
   "metadata": {},
   "outputs": [],
   "source": [
    "df[\"employment_status\"]=labelencoder.fit_transform(df[\"employment_status\"])"
   ]
  },
  {
   "cell_type": "markdown",
   "id": "f3fa672b",
   "metadata": {},
   "source": [
    "## Feature 30"
   ]
  },
  {
   "cell_type": "code",
   "execution_count": 128,
   "id": "c3c1dad2",
   "metadata": {},
   "outputs": [
    {
     "data": {
      "text/plain": [
       "array(['oxchjgsf', 'bhuqouqj', 'qufhixun', 'lrircsnp', 'atmpeygn',\n",
       "       'lzgpxyit', 'fpwskwrf', 'mlyzmhmf', 'dqpwygqj', 'kbazzjca'],\n",
       "      dtype=object)"
      ]
     },
     "execution_count": 128,
     "metadata": {},
     "output_type": "execute_result"
    }
   ],
   "source": [
    "df['hhs_geo_region'].unique()"
   ]
  },
  {
   "cell_type": "code",
   "execution_count": 129,
   "id": "271b50c2",
   "metadata": {},
   "outputs": [],
   "source": [
    "df[\"hhs_geo_region\"]=labelencoder.fit_transform(df[\"hhs_geo_region\"])"
   ]
  },
  {
   "cell_type": "markdown",
   "id": "cb873feb",
   "metadata": {},
   "source": [
    "## Feature 31"
   ]
  },
  {
   "cell_type": "code",
   "execution_count": 130,
   "id": "f242b96e",
   "metadata": {},
   "outputs": [
    {
     "data": {
      "text/plain": [
       "array(['Non-MSA', 'MSA, Not Principle  City', 'MSA, Principle City'],\n",
       "      dtype=object)"
      ]
     },
     "execution_count": 130,
     "metadata": {},
     "output_type": "execute_result"
    }
   ],
   "source": [
    "df['census_msa'].unique()"
   ]
  },
  {
   "cell_type": "code",
   "execution_count": 131,
   "id": "318d637d",
   "metadata": {},
   "outputs": [],
   "source": [
    "df[\"census_msa\"]=labelencoder.fit_transform(df[\"census_msa\"])"
   ]
  },
  {
   "cell_type": "markdown",
   "id": "88d98028",
   "metadata": {},
   "source": [
    "## Feature 32"
   ]
  },
  {
   "cell_type": "code",
   "execution_count": 132,
   "id": "4ba8c59d",
   "metadata": {},
   "outputs": [
    {
     "data": {
      "text/plain": [
       "array([ 0.,  2.,  1.,  3., nan])"
      ]
     },
     "execution_count": 132,
     "metadata": {},
     "output_type": "execute_result"
    }
   ],
   "source": [
    "df['household_adults'].unique()"
   ]
  },
  {
   "cell_type": "code",
   "execution_count": 133,
   "id": "37cbef30",
   "metadata": {},
   "outputs": [],
   "source": [
    "df['household_adults']=df['household_adults'].fillna(df['household_adults'].mode()[0])"
   ]
  },
  {
   "cell_type": "code",
   "execution_count": 134,
   "id": "5bf1db5b",
   "metadata": {},
   "outputs": [],
   "source": [
    "df['household_adults']=df['household_adults'].astype(int)"
   ]
  },
  {
   "cell_type": "code",
   "execution_count": 135,
   "id": "a7e2c767",
   "metadata": {},
   "outputs": [
    {
     "data": {
      "text/plain": [
       "array([0, 2, 1, 3])"
      ]
     },
     "execution_count": 135,
     "metadata": {},
     "output_type": "execute_result"
    }
   ],
   "source": [
    "df['household_adults'].unique()"
   ]
  },
  {
   "cell_type": "markdown",
   "id": "37be330f",
   "metadata": {},
   "source": [
    "## Feature 33"
   ]
  },
  {
   "cell_type": "code",
   "execution_count": 136,
   "id": "802cec87",
   "metadata": {},
   "outputs": [
    {
     "data": {
      "text/plain": [
       "array([ 0.,  3.,  2.,  1., nan])"
      ]
     },
     "execution_count": 136,
     "metadata": {},
     "output_type": "execute_result"
    }
   ],
   "source": [
    "df['household_children'].unique()"
   ]
  },
  {
   "cell_type": "code",
   "execution_count": 137,
   "id": "970dc3a6",
   "metadata": {},
   "outputs": [],
   "source": [
    "df['household_children']=df['household_children'].fillna(df['household_children'].mode()[0])"
   ]
  },
  {
   "cell_type": "code",
   "execution_count": 138,
   "id": "cdf95f03",
   "metadata": {},
   "outputs": [],
   "source": [
    "df['household_children']=df['household_children'].astype(int)"
   ]
  },
  {
   "cell_type": "code",
   "execution_count": 139,
   "id": "964a8aa1",
   "metadata": {},
   "outputs": [
    {
     "data": {
      "text/plain": [
       "array([0, 3, 2, 1])"
      ]
     },
     "execution_count": 139,
     "metadata": {},
     "output_type": "execute_result"
    }
   ],
   "source": [
    "df['household_children'].unique()"
   ]
  },
  {
   "cell_type": "markdown",
   "id": "ab249bee",
   "metadata": {},
   "source": [
    "## Feature 34"
   ]
  },
  {
   "cell_type": "code",
   "execution_count": 140,
   "id": "ab9df4f1",
   "metadata": {},
   "outputs": [
    {
     "data": {
      "text/plain": [
       "array([nan, 'pxcmvdjn', 'rucpziij', 'wxleyezf', 'saaquncn', 'xicduogh',\n",
       "       'ldnlellj', 'wlfvacwt', 'nduyfdeo', 'fcxhlnwr', 'vjjrobsf',\n",
       "       'arjwrbjb', 'atmlpfrs', 'msuufmds', 'xqicxuve', 'phxvnwax',\n",
       "       'dotnnunm', 'mfikgejo', 'cfqqtusy', 'mcubkhph', 'haxffmxo',\n",
       "       'qnlwzans'], dtype=object)"
      ]
     },
     "execution_count": 140,
     "metadata": {},
     "output_type": "execute_result"
    }
   ],
   "source": [
    "df['employment_industry'].unique()"
   ]
  },
  {
   "cell_type": "code",
   "execution_count": 141,
   "id": "f718cdc7",
   "metadata": {},
   "outputs": [],
   "source": [
    "df[\"employment_industry\"]=labelencoder.fit_transform(df[\"employment_industry\"])"
   ]
  },
  {
   "cell_type": "code",
   "execution_count": 142,
   "id": "4d6325e1",
   "metadata": {},
   "outputs": [
    {
     "name": "stdout",
     "output_type": "stream",
     "text": [
      "<class 'pandas.core.frame.DataFrame'>\n",
      "RangeIndex: 26707 entries, 0 to 26706\n",
      "Data columns (total 37 columns):\n",
      " #   Column                       Non-Null Count  Dtype \n",
      "---  ------                       --------------  ----- \n",
      " 0   h1n1_concern                 26707 non-null  int32 \n",
      " 1   h1n1_knowledge               26707 non-null  int32 \n",
      " 2   behavioral_antiviral_meds    26707 non-null  int32 \n",
      " 3   behavioral_avoidance         26707 non-null  int32 \n",
      " 4   behavioral_face_mask         26707 non-null  int32 \n",
      " 5   behavioral_wash_hands        26707 non-null  int32 \n",
      " 6   behavioral_large_gatherings  26707 non-null  int32 \n",
      " 7   behavioral_outside_home      26707 non-null  int32 \n",
      " 8   behavioral_touch_face        26707 non-null  int32 \n",
      " 9   doctor_recc_h1n1             26707 non-null  int32 \n",
      " 10  doctor_recc_seasonal         26707 non-null  int32 \n",
      " 11  chronic_med_condition        26707 non-null  int32 \n",
      " 12  child_under_6_months         26707 non-null  int32 \n",
      " 13  health_worker                26707 non-null  int32 \n",
      " 14  health_insurance             26707 non-null  int32 \n",
      " 15  opinion_h1n1_vacc_effective  26707 non-null  int32 \n",
      " 16  opinion_h1n1_risk            26707 non-null  int32 \n",
      " 17  opinion_h1n1_sick_from_vacc  26707 non-null  int32 \n",
      " 18  opinion_seas_vacc_effective  26707 non-null  int32 \n",
      " 19  opinion_seas_risk            26707 non-null  int32 \n",
      " 20  opinion_seas_sick_from_vacc  26707 non-null  int32 \n",
      " 21  age_group                    26707 non-null  int64 \n",
      " 22  education                    26707 non-null  int32 \n",
      " 23  race                         26707 non-null  int32 \n",
      " 24  sex                          26707 non-null  int32 \n",
      " 25  income_poverty               26707 non-null  int32 \n",
      " 26  marital_status               26707 non-null  int32 \n",
      " 27  rent_or_own                  26707 non-null  int32 \n",
      " 28  employment_status            26707 non-null  int32 \n",
      " 29  hhs_geo_region               26707 non-null  int32 \n",
      " 30  census_msa                   26707 non-null  int32 \n",
      " 31  household_adults             26707 non-null  int32 \n",
      " 32  household_children           26707 non-null  int32 \n",
      " 33  employment_industry          26707 non-null  int32 \n",
      " 34  employment_occupation        13237 non-null  object\n",
      " 35  h1n1_vaccine                 26707 non-null  int64 \n",
      " 36  seasonal_vaccine             26707 non-null  int64 \n",
      "dtypes: int32(33), int64(3), object(1)\n",
      "memory usage: 4.2+ MB\n"
     ]
    }
   ],
   "source": [
    "df.info()"
   ]
  },
  {
   "cell_type": "markdown",
   "id": "d5ebd37a",
   "metadata": {},
   "source": [
    "## Feature 35"
   ]
  },
  {
   "cell_type": "code",
   "execution_count": 143,
   "id": "4baaf1a5",
   "metadata": {},
   "outputs": [
    {
     "data": {
      "text/plain": [
       "array([nan, 'xgwztkwe', 'xtkaffoo', 'emcorrxb', 'vlluhbov', 'xqwwgdyp',\n",
       "       'ccgxvspp', 'qxajmpny', 'kldqjyjy', 'mxkfnird', 'hfxkjkmi',\n",
       "       'bxpfxfdn', 'ukymxvdu', 'cmhcxjea', 'haliazsg', 'dlvbwzss',\n",
       "       'xzmlyyjv', 'oijqvulv', 'rcertsgn', 'tfqavkke', 'hodpvpew',\n",
       "       'uqqtjvyb', 'pvmttkik', 'dcjcmpih'], dtype=object)"
      ]
     },
     "execution_count": 143,
     "metadata": {},
     "output_type": "execute_result"
    }
   ],
   "source": [
    "df['employment_occupation'].unique()"
   ]
  },
  {
   "cell_type": "code",
   "execution_count": 144,
   "id": "dd70ef94",
   "metadata": {},
   "outputs": [],
   "source": [
    "df['employment_occupation']=df['employment_occupation'].fillna(df['employment_occupation'].mode()[0])"
   ]
  },
  {
   "cell_type": "code",
   "execution_count": 145,
   "id": "7339672b",
   "metadata": {},
   "outputs": [],
   "source": [
    "df[\"employment_occupation\"]=labelencoder.fit_transform(df[\"employment_occupation\"])"
   ]
  },
  {
   "cell_type": "code",
   "execution_count": 147,
   "id": "dad28f18",
   "metadata": {},
   "outputs": [],
   "source": [
    "X=df.drop('h1n1_vaccine',axis=1)"
   ]
  },
  {
   "cell_type": "code",
   "execution_count": 149,
   "id": "9b155d18",
   "metadata": {},
   "outputs": [],
   "source": [
    "y=df['h1n1_vaccine']"
   ]
  },
  {
   "cell_type": "code",
   "execution_count": 150,
   "id": "777b3eda",
   "metadata": {},
   "outputs": [],
   "source": [
    "from sklearn.model_selection import train_test_split\n",
    "X_train, X_test, y_train, y_test = train_test_split(X, y, test_size=0.33, random_state=42)"
   ]
  },
  {
   "cell_type": "code",
   "execution_count": 151,
   "id": "d3912ec8",
   "metadata": {},
   "outputs": [],
   "source": [
    "from sklearn.preprocessing import StandardScaler\n",
    "sc=StandardScaler()\n",
    "X_train=sc.fit_transform(X_train)\n",
    "X_test=sc.fit_transform(X_test)"
   ]
  },
  {
   "cell_type": "markdown",
   "id": "76c43d93",
   "metadata": {},
   "source": [
    "## Logistic Regression Model"
   ]
  },
  {
   "cell_type": "code",
   "execution_count": 152,
   "id": "f2ab9608",
   "metadata": {},
   "outputs": [],
   "source": [
    "from sklearn.linear_model import LogisticRegression\n",
    "logModel=LogisticRegression(solver='lbfgs', max_iter=1000000,dual=False)"
   ]
  },
  {
   "cell_type": "code",
   "execution_count": 153,
   "id": "e6f52d4e",
   "metadata": {},
   "outputs": [],
   "source": [
    "logModel.fit(X_train, y_train,)\n",
    "predictions = logModel.predict(X_test)"
   ]
  },
  {
   "cell_type": "code",
   "execution_count": 154,
   "id": "e4f3a509",
   "metadata": {},
   "outputs": [
    {
     "data": {
      "text/plain": [
       "84.8763331064216"
      ]
     },
     "execution_count": 154,
     "metadata": {},
     "output_type": "execute_result"
    }
   ],
   "source": [
    "from sklearn.metrics import accuracy_score\n",
    "accuracy_score(y_test,predictions)*100"
   ]
  },
  {
   "cell_type": "markdown",
   "id": "a5921355",
   "metadata": {},
   "source": [
    "## Naive bayes Model"
   ]
  },
  {
   "cell_type": "code",
   "execution_count": 155,
   "id": "082d8c1e",
   "metadata": {},
   "outputs": [
    {
     "data": {
      "text/plain": [
       "array([0.78729112, 0.21270888])"
      ]
     },
     "execution_count": 155,
     "metadata": {},
     "output_type": "execute_result"
    }
   ],
   "source": [
    "from sklearn.naive_bayes import GaussianNB\n",
    "from sklearn.model_selection import train_test_split\n",
    "from sklearn.metrics import accuracy_score\n",
    "classifier= GaussianNB()\n",
    "classifier.fit(X_train, y_train)\n",
    "classifier.class_prior_"
   ]
  },
  {
   "cell_type": "code",
   "execution_count": 159,
   "id": "8f7f4375",
   "metadata": {},
   "outputs": [
    {
     "name": "stdout",
     "output_type": "stream",
     "text": [
      "78.60000000000001\n"
     ]
    }
   ],
   "source": [
    "predicts=classifier.predict(X_test)\n",
    "accuracy=round(accuracy_score(y_test,predicts),3)\n",
    "print(accuracy*100)"
   ]
  },
  {
   "cell_type": "markdown",
   "id": "4e844f85",
   "metadata": {},
   "source": [
    "## XGBoost Model"
   ]
  },
  {
   "cell_type": "code",
   "execution_count": 160,
   "id": "28d4a809",
   "metadata": {},
   "outputs": [],
   "source": [
    "from xgboost import XGBClassifier\n",
    "from sklearn.model_selection import train_test_split\n",
    "from sklearn.metrics import accuracy_score\n",
    "from sklearn.datasets import load_wine"
   ]
  },
  {
   "cell_type": "code",
   "execution_count": 161,
   "id": "d712b566",
   "metadata": {},
   "outputs": [],
   "source": [
    "model = XGBClassifier(eval_metric='mlogloss')"
   ]
  },
  {
   "cell_type": "code",
   "execution_count": 162,
   "id": "4eb52708",
   "metadata": {},
   "outputs": [
    {
     "data": {
      "text/plain": [
       "XGBClassifier(base_score=0.5, booster='gbtree', callbacks=None,\n",
       "              colsample_bylevel=1, colsample_bynode=1, colsample_bytree=1,\n",
       "              early_stopping_rounds=None, enable_categorical=False,\n",
       "              eval_metric='mlogloss', gamma=0, gpu_id=-1,\n",
       "              grow_policy='depthwise', importance_type=None,\n",
       "              interaction_constraints='', learning_rate=0.300000012,\n",
       "              max_bin=256, max_cat_to_onehot=4, max_delta_step=0, max_depth=6,\n",
       "              max_leaves=0, min_child_weight=1, missing=nan,\n",
       "              monotone_constraints='()', n_estimators=100, n_jobs=0,\n",
       "              num_parallel_tree=1, predictor='auto', random_state=0,\n",
       "              reg_alpha=0, reg_lambda=1, ...)"
      ]
     },
     "execution_count": 162,
     "metadata": {},
     "output_type": "execute_result"
    }
   ],
   "source": [
    "model.fit(X_train, y_train)"
   ]
  },
  {
   "cell_type": "code",
   "execution_count": 163,
   "id": "8458e92e",
   "metadata": {},
   "outputs": [],
   "source": [
    "y_pred1 = model.predict(X_test)"
   ]
  },
  {
   "cell_type": "code",
   "execution_count": 165,
   "id": "9708474a",
   "metadata": {},
   "outputs": [
    {
     "name": "stdout",
     "output_type": "stream",
     "text": [
      "84.28636260494667\n"
     ]
    }
   ],
   "source": [
    "accuracy = accuracy_score(y_test, y_pred1)\n",
    "print(accuracy*100)"
   ]
  },
  {
   "cell_type": "markdown",
   "id": "2529d9d0",
   "metadata": {},
   "source": [
    "## SVM Model"
   ]
  },
  {
   "cell_type": "code",
   "execution_count": 166,
   "id": "770057ad",
   "metadata": {},
   "outputs": [
    {
     "data": {
      "text/plain": [
       "SVC(kernel='linear')"
      ]
     },
     "execution_count": 166,
     "metadata": {},
     "output_type": "execute_result"
    }
   ],
   "source": [
    "from sklearn.svm import SVC  \n",
    "clf = SVC(kernel='linear') \n",
    "  \n",
    "# fitting x samples and y classes \n",
    "clf.fit(X_train, y_train) "
   ]
  },
  {
   "cell_type": "code",
   "execution_count": 167,
   "id": "57f90b69",
   "metadata": {},
   "outputs": [],
   "source": [
    "y_pred2=clf.predict(X_test)"
   ]
  },
  {
   "cell_type": "code",
   "execution_count": 168,
   "id": "fb7d172c",
   "metadata": {},
   "outputs": [
    {
     "name": "stdout",
     "output_type": "stream",
     "text": [
      "84.94440662582255\n"
     ]
    }
   ],
   "source": [
    "accuracy = accuracy_score(y_test, y_pred2)\n",
    "print(accuracy*100)"
   ]
  },
  {
   "cell_type": "markdown",
   "id": "3c32a2dd",
   "metadata": {},
   "source": [
    "## Random Forest Model"
   ]
  },
  {
   "cell_type": "code",
   "execution_count": 169,
   "id": "84377501",
   "metadata": {},
   "outputs": [],
   "source": [
    "from sklearn.ensemble import RandomForestClassifier\n",
    "clf = RandomForestClassifier(n_estimators = 100) \n",
    " \n",
    "# Training the model on the training dataset\n",
    "# fit function is used to train the model using the training sets as parameters\n",
    "clf.fit(X_train, y_train)\n",
    " \n",
    "# performing predictions on the test dataset\n",
    "y_pred = clf.predict(X_test)\n",
    " \n"
   ]
  },
  {
   "cell_type": "code",
   "execution_count": 175,
   "id": "607061a0",
   "metadata": {},
   "outputs": [
    {
     "name": "stdout",
     "output_type": "stream",
     "text": [
      "\n",
      "84.53596550941683\n"
     ]
    }
   ],
   "source": [
    "# metrics are used to find accuracy or error\n",
    "from sklearn import metrics \n",
    "print()\n",
    " \n",
    "# using metrics module for accuracy calculation\n",
    "print( metrics.accuracy_score(y_test, y_pred)*100)"
   ]
  },
  {
   "cell_type": "markdown",
   "id": "cf2e8383",
   "metadata": {},
   "source": [
    "## D-Tree Model"
   ]
  },
  {
   "cell_type": "code",
   "execution_count": 171,
   "id": "884ad201",
   "metadata": {},
   "outputs": [],
   "source": [
    "from sklearn.tree import DecisionTreeClassifier\n",
    "from sklearn.metrics import accuracy_score\n",
    "from sklearn.metrics import classification_report"
   ]
  },
  {
   "cell_type": "code",
   "execution_count": 172,
   "id": "2412549f",
   "metadata": {},
   "outputs": [],
   "source": [
    "# Create Decision Tree classifer object\n",
    "clf = DecisionTreeClassifier()\n",
    "\n",
    "# Train Decision Tree Classifer\n",
    "clf = clf.fit(X_train,y_train)\n",
    "\n",
    "#Predict the response for test dataset\n",
    "y_pred3 = clf.predict(X_test)"
   ]
  },
  {
   "cell_type": "code",
   "execution_count": 176,
   "id": "d0792e50",
   "metadata": {},
   "outputs": [
    {
     "name": "stdout",
     "output_type": "stream",
     "text": [
      "77.79668708872248\n"
     ]
    }
   ],
   "source": [
    "print(metrics.accuracy_score(y_test, y_pred3)*100)"
   ]
  },
  {
   "cell_type": "code",
   "execution_count": null,
   "id": "f79eb2a5",
   "metadata": {},
   "outputs": [],
   "source": []
  }
 ],
 "metadata": {
  "kernelspec": {
   "display_name": "Python 3 (ipykernel)",
   "language": "python",
   "name": "python3"
  },
  "language_info": {
   "codemirror_mode": {
    "name": "ipython",
    "version": 3
   },
   "file_extension": ".py",
   "mimetype": "text/x-python",
   "name": "python",
   "nbconvert_exporter": "python",
   "pygments_lexer": "ipython3",
   "version": "3.9.12"
  }
 },
 "nbformat": 4,
 "nbformat_minor": 5
}
