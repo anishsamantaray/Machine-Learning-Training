{
 "cells": [
  {
   "cell_type": "markdown",
   "id": "466037f5",
   "metadata": {},
   "source": [
    "## Basic Python "
   ]
  },
  {
   "cell_type": "code",
   "execution_count": 1,
   "id": "5833863c",
   "metadata": {},
   "outputs": [
    {
     "name": "stdout",
     "output_type": "stream",
     "text": [
      "Hello World\n"
     ]
    }
   ],
   "source": [
    "print(\"Hello World\")"
   ]
  },
  {
   "cell_type": "markdown",
   "id": "ee4f33f5",
   "metadata": {},
   "source": [
    "## Data Types"
   ]
  },
  {
   "cell_type": "code",
   "execution_count": 2,
   "id": "f6d2bf99",
   "metadata": {},
   "outputs": [
    {
     "data": {
      "text/plain": [
       "int"
      ]
     },
     "execution_count": 2,
     "metadata": {},
     "output_type": "execute_result"
    }
   ],
   "source": [
    "x=10\n",
    "type(x)"
   ]
  },
  {
   "cell_type": "code",
   "execution_count": 3,
   "id": "6d6bdc96",
   "metadata": {},
   "outputs": [
    {
     "data": {
      "text/plain": [
       "float"
      ]
     },
     "execution_count": 3,
     "metadata": {},
     "output_type": "execute_result"
    }
   ],
   "source": [
    "x=10.5\n",
    "type(x)"
   ]
  },
  {
   "cell_type": "code",
   "execution_count": 4,
   "id": "cb1c4033",
   "metadata": {},
   "outputs": [
    {
     "data": {
      "text/plain": [
       "float"
      ]
     },
     "execution_count": 4,
     "metadata": {},
     "output_type": "execute_result"
    }
   ],
   "source": [
    "x=10/5\n",
    "type(x)"
   ]
  },
  {
   "cell_type": "code",
   "execution_count": 5,
   "id": "022b97ef",
   "metadata": {},
   "outputs": [
    {
     "data": {
      "text/plain": [
       "int"
      ]
     },
     "execution_count": 5,
     "metadata": {},
     "output_type": "execute_result"
    }
   ],
   "source": [
    "x=10*5\n",
    "type(x)"
   ]
  },
  {
   "cell_type": "code",
   "execution_count": 6,
   "id": "9a37b53a",
   "metadata": {},
   "outputs": [
    {
     "data": {
      "text/plain": [
       "str"
      ]
     },
     "execution_count": 6,
     "metadata": {},
     "output_type": "execute_result"
    }
   ],
   "source": [
    "x=\"Hello\"\n",
    "type(x)"
   ]
  },
  {
   "cell_type": "code",
   "execution_count": 9,
   "id": "7e7471ce",
   "metadata": {},
   "outputs": [
    {
     "data": {
      "text/plain": [
       "complex"
      ]
     },
     "execution_count": 9,
     "metadata": {},
     "output_type": "execute_result"
    }
   ],
   "source": [
    "x=1-2j\n",
    "type(x)"
   ]
  },
  {
   "cell_type": "code",
   "execution_count": 7,
   "id": "0d88e4e7",
   "metadata": {},
   "outputs": [
    {
     "data": {
      "text/plain": [
       "bool"
      ]
     },
     "execution_count": 7,
     "metadata": {},
     "output_type": "execute_result"
    }
   ],
   "source": [
    "x=True\n",
    "type(x)"
   ]
  },
  {
   "cell_type": "markdown",
   "id": "48ce859a",
   "metadata": {},
   "source": [
    "## shortcut keys"
   ]
  },
  {
   "cell_type": "code",
   "execution_count": 8,
   "id": "f5abbbc9",
   "metadata": {},
   "outputs": [],
   "source": [
    "##### shift+Enter  ->Run\n",
    "##### Enter a cell above ->a\n",
    "##### Enter a cell below ->b\n",
    "#####  Delete a cell -> x   or press d twice\n",
    "##### Headings -> M"
   ]
  },
  {
   "cell_type": "markdown",
   "id": "e25a0d3f",
   "metadata": {},
   "source": [
    "## Lists"
   ]
  },
  {
   "cell_type": "code",
   "execution_count": 14,
   "id": "12bc951c",
   "metadata": {},
   "outputs": [
    {
     "data": {
      "text/plain": [
       "['apple', 'bananas', 4, (1+2j), True]"
      ]
     },
     "execution_count": 14,
     "metadata": {},
     "output_type": "execute_result"
    }
   ],
   "source": [
    "x=[\"apple\",\"bananas\",4,1+2j,True]#example of list\n",
    "type(x)\n",
    "x"
   ]
  },
  {
   "cell_type": "code",
   "execution_count": null,
   "id": "d5bc11ce",
   "metadata": {},
   "outputs": [],
   "source": [
    "# Properties Of list\n",
    "# 1.Allows heterogenous items\n",
    "# 2.Index Starts From 0\n",
    "# 3.Mutable using index\n",
    "#4. []"
   ]
  },
  {
   "cell_type": "code",
   "execution_count": 16,
   "id": "7fbb5b34",
   "metadata": {},
   "outputs": [
    {
     "data": {
      "text/plain": [
       "['bananas', 4]"
      ]
     },
     "execution_count": 16,
     "metadata": {},
     "output_type": "execute_result"
    }
   ],
   "source": [
    "x[1:3] #slicing the data using array[x,y], so elements printed will be {array[x],...array[y-1]}"
   ]
  },
  {
   "cell_type": "code",
   "execution_count": 17,
   "id": "40af46e1",
   "metadata": {},
   "outputs": [
    {
     "data": {
      "text/plain": [
       "[4, (1+2j), True]"
      ]
     },
     "execution_count": 17,
     "metadata": {},
     "output_type": "execute_result"
    }
   ],
   "source": [
    "x[2:] #if y is not specified then it goes till the last element"
   ]
  },
  {
   "cell_type": "code",
   "execution_count": 18,
   "id": "fc17d8dd",
   "metadata": {},
   "outputs": [
    {
     "data": {
      "text/plain": [
       "['apple', 'bananas', 4]"
      ]
     },
     "execution_count": 18,
     "metadata": {},
     "output_type": "execute_result"
    }
   ],
   "source": [
    "x[:3]"
   ]
  },
  {
   "cell_type": "code",
   "execution_count": 19,
   "id": "36238827",
   "metadata": {},
   "outputs": [
    {
     "data": {
      "text/plain": [
       "(1+2j)"
      ]
     },
     "execution_count": 19,
     "metadata": {},
     "output_type": "execute_result"
    }
   ],
   "source": [
    "x[-2]# The 0th index starts from right and last element is the leftmost element"
   ]
  },
  {
   "cell_type": "code",
   "execution_count": 22,
   "id": "064ee357",
   "metadata": {},
   "outputs": [
    {
     "data": {
      "text/plain": [
       "['apple', 'bananas', (1+2j)]"
      ]
     },
     "execution_count": 22,
     "metadata": {},
     "output_type": "execute_result"
    }
   ],
   "source": [
    "del(x[2]) #deleting an element in the list\n",
    "x"
   ]
  },
  {
   "cell_type": "code",
   "execution_count": 24,
   "id": "42ed78a4",
   "metadata": {},
   "outputs": [
    {
     "data": {
      "text/plain": [
       "['apple', 'bananas', (1+2j), 4]"
      ]
     },
     "execution_count": 24,
     "metadata": {},
     "output_type": "execute_result"
    }
   ],
   "source": [
    "x.append(4) #appending in the list\n",
    "x\n",
    "#similar properties of list\n",
    "#1.appennd\n",
    "#2.pop(deleting the last element)\n",
    "#3.count(counts the no. of occurance of an element)\n",
    "#4.2 arrays can be added its called concatenation\n",
    "#5.sort(the list is sorted)\n",
    "#6.reverse(the list is reversed)\n",
    "#7index(to find the index of a element)\n",
    "#8insert (to insert at a particular poition)example:array.insert(1,\"abc\")."
   ]
  },
  {
   "cell_type": "code",
   "execution_count": 26,
   "id": "1913e397",
   "metadata": {},
   "outputs": [
    {
     "data": {
      "text/plain": [
       "4"
      ]
     },
     "execution_count": 26,
     "metadata": {},
     "output_type": "execute_result"
    }
   ],
   "source": [
    "len(x)#to give length of the list"
   ]
  },
  {
   "cell_type": "markdown",
   "id": "408907fa",
   "metadata": {},
   "source": [
    "## Tupples"
   ]
  },
  {
   "cell_type": "code",
   "execution_count": 27,
   "id": "93401743",
   "metadata": {},
   "outputs": [
    {
     "data": {
      "text/plain": [
       "('apple', 'bananas', 4, (1+2j), True)"
      ]
     },
     "execution_count": 27,
     "metadata": {},
     "output_type": "execute_result"
    }
   ],
   "source": [
    "x=(\"apple\",\"bananas\",4,1+2j,True)#example of list\n",
    "type(x)\n",
    "x"
   ]
  },
  {
   "cell_type": "code",
   "execution_count": 28,
   "id": "0c5075cf",
   "metadata": {},
   "outputs": [],
   "source": [
    "# Properties Of Tupple\n",
    "# 1.Allows heterogenous items\n",
    "# 2.Index Starts From 0\n",
    "# 3.Immutable \n",
    "#4. ()"
   ]
  },
  {
   "cell_type": "code",
   "execution_count": 38,
   "id": "2ea0b613",
   "metadata": {},
   "outputs": [],
   "source": [
    "#similar properties of Tupple\n",
    "#3.count(counts the no. of occurance of an element)\n",
    "#4.2 arrays can be added its called concatenation\n",
    "#7index(to find the index of a element)"
   ]
  },
  {
   "cell_type": "markdown",
   "id": "354efc88",
   "metadata": {},
   "source": [
    "## Sets"
   ]
  },
  {
   "cell_type": "code",
   "execution_count": 40,
   "id": "d027c41c",
   "metadata": {},
   "outputs": [
    {
     "data": {
      "text/plain": [
       "{(1+2j), 4, True, 'apple', 'bananas'}"
      ]
     },
     "execution_count": 40,
     "metadata": {},
     "output_type": "execute_result"
    }
   ],
   "source": [
    "x={\"apple\",\"bananas\",4,1+2j,True}\n",
    "x"
   ]
  },
  {
   "cell_type": "code",
   "execution_count": 41,
   "id": "9afba310",
   "metadata": {},
   "outputs": [],
   "source": [
    "# Properties Of sets\n",
    "# 1.Allows heterogenous items\n",
    "# 2.No Index, elements cant be accesed with index\n",
    "# 3.mutable \n",
    "#4. {}"
   ]
  },
  {
   "cell_type": "code",
   "execution_count": 42,
   "id": "63900454",
   "metadata": {},
   "outputs": [],
   "source": [
    "#similar properties of set\n",
    "#1.appennd\n",
    "#2.pop(deleting the last element)\n",
    "#3.count(counts the no. of occurance of an element)\n",
    "#4.2 arrays can be added its called concatenation\n",
    "#5.sort(the list is sorted)\n",
    "#6.reverse(the list is reversed)\n",
    "#8insert (to insert at a particular poition)example:array.insert(1,\"abc\")."
   ]
  },
  {
   "cell_type": "markdown",
   "id": "1cc4d92e",
   "metadata": {},
   "source": [
    "## Dictionary is similar to object in Javascript"
   ]
  },
  {
   "cell_type": "markdown",
   "id": "b33a22d1",
   "metadata": {},
   "source": [
    "  ##                                      ** End of Data Structures in Python **"
   ]
  },
  {
   "cell_type": "markdown",
   "id": "da526fa2",
   "metadata": {},
   "source": [
    "## Python essential syntax"
   ]
  },
  {
   "cell_type": "code",
   "execution_count": null,
   "id": "0805e152",
   "metadata": {},
   "outputs": [],
   "source": [
    "a=int(input()) #to take the input in int data type, if no data type is mentioned its string"
   ]
  },
  {
   "cell_type": "code",
   "execution_count": null,
   "id": "320955fd",
   "metadata": {},
   "outputs": [],
   "source": [
    "if(a>10 & a==20)#if else statement syntax (conditionals)\n",
    "{\n",
    "    print(\"good\")\n",
    "}\n",
    "else\n",
    "{\n",
    "    print(\"bad\")\n",
    "}"
   ]
  },
  {
   "cell_type": "code",
   "execution_count": null,
   "id": "628f7b63",
   "metadata": {},
   "outputs": [],
   "source": [
    "for i in n:#for loop\n",
    "    print(i)"
   ]
  },
  {
   "cell_type": "code",
   "execution_count": null,
   "id": "f09e02f9",
   "metadata": {},
   "outputs": [],
   "source": [
    "while(a>10):#while loop\n",
    "    {\n",
    "        print(a)\n",
    "        a++\n",
    "    }"
   ]
  },
  {
   "cell_type": "code",
   "execution_count": null,
   "id": "69861ce5",
   "metadata": {},
   "outputs": [],
   "source": [
    "def printer(message):\n",
    "    print(message)"
   ]
  },
  {
   "cell_type": "code",
   "execution_count": null,
   "id": "13d446ef",
   "metadata": {},
   "outputs": [],
   "source": []
  }
 ],
 "metadata": {
  "kernelspec": {
   "display_name": "Python 3 (ipykernel)",
   "language": "python",
   "name": "python3"
  },
  "language_info": {
   "codemirror_mode": {
    "name": "ipython",
    "version": 3
   },
   "file_extension": ".py",
   "mimetype": "text/x-python",
   "name": "python",
   "nbconvert_exporter": "python",
   "pygments_lexer": "ipython3",
   "version": "3.9.12"
  }
 },
 "nbformat": 4,
 "nbformat_minor": 5
}
